{
 "cells": [
  {
   "cell_type": "code",
   "execution_count": 49,
   "id": "aa2e686e",
   "metadata": {},
   "outputs": [],
   "source": [
    "import pandas as pd\n",
    "import numpy as np\n",
    "import matplotlib.pyplot as plt\n",
    "from sklearn import datasets\n",
    "from sklearn.model_selection import train_test_split"
   ]
  },
  {
   "cell_type": "markdown",
   "id": "93cd7475",
   "metadata": {},
   "source": [
    "## Things to look for each dataset\n",
    "1. Cervical Cancer Dataset - looking to see if we can classify if the person has cancer or not based on their characteristics)\n",
    "2. Wine Dataset - looking to see if we can classify the class of the wine based on its attributes\n",
    "3. Breast Cancer Dataset - looking to see if we can classify if the culture is malignant or benign (2 or 4) based on the attributes"
   ]
  },
  {
   "cell_type": "code",
   "execution_count": 488,
   "id": "e3282ed1",
   "metadata": {},
   "outputs": [
    {
     "data": {
      "text/html": [
       "<div>\n",
       "<style scoped>\n",
       "    .dataframe tbody tr th:only-of-type {\n",
       "        vertical-align: middle;\n",
       "    }\n",
       "\n",
       "    .dataframe tbody tr th {\n",
       "        vertical-align: top;\n",
       "    }\n",
       "\n",
       "    .dataframe thead th {\n",
       "        text-align: right;\n",
       "    }\n",
       "</style>\n",
       "<table border=\"1\" class=\"dataframe\">\n",
       "  <thead>\n",
       "    <tr style=\"text-align: right;\">\n",
       "      <th></th>\n",
       "      <th>behavior_sexualRisk</th>\n",
       "      <th>behavior_eating</th>\n",
       "      <th>behavior_personalHygine</th>\n",
       "      <th>intention_aggregation</th>\n",
       "      <th>intention_commitment</th>\n",
       "      <th>attitude_consistency</th>\n",
       "      <th>attitude_spontaneity</th>\n",
       "      <th>norm_significantPerson</th>\n",
       "      <th>norm_fulfillment</th>\n",
       "      <th>perception_vulnerability</th>\n",
       "      <th>perception_severity</th>\n",
       "      <th>motivation_strength</th>\n",
       "      <th>motivation_willingness</th>\n",
       "      <th>socialSupport_emotionality</th>\n",
       "      <th>socialSupport_appreciation</th>\n",
       "      <th>socialSupport_instrumental</th>\n",
       "      <th>empowerment_knowledge</th>\n",
       "      <th>empowerment_abilities</th>\n",
       "      <th>empowerment_desires</th>\n",
       "      <th>ca_cervix</th>\n",
       "    </tr>\n",
       "  </thead>\n",
       "  <tbody>\n",
       "    <tr>\n",
       "      <th>0</th>\n",
       "      <td>10</td>\n",
       "      <td>13</td>\n",
       "      <td>12</td>\n",
       "      <td>4</td>\n",
       "      <td>7</td>\n",
       "      <td>9</td>\n",
       "      <td>10</td>\n",
       "      <td>1</td>\n",
       "      <td>8</td>\n",
       "      <td>7</td>\n",
       "      <td>3</td>\n",
       "      <td>14</td>\n",
       "      <td>8</td>\n",
       "      <td>5</td>\n",
       "      <td>7</td>\n",
       "      <td>12</td>\n",
       "      <td>12</td>\n",
       "      <td>11</td>\n",
       "      <td>8</td>\n",
       "      <td>1</td>\n",
       "    </tr>\n",
       "    <tr>\n",
       "      <th>1</th>\n",
       "      <td>10</td>\n",
       "      <td>11</td>\n",
       "      <td>11</td>\n",
       "      <td>10</td>\n",
       "      <td>14</td>\n",
       "      <td>7</td>\n",
       "      <td>7</td>\n",
       "      <td>5</td>\n",
       "      <td>5</td>\n",
       "      <td>4</td>\n",
       "      <td>2</td>\n",
       "      <td>15</td>\n",
       "      <td>13</td>\n",
       "      <td>7</td>\n",
       "      <td>6</td>\n",
       "      <td>5</td>\n",
       "      <td>5</td>\n",
       "      <td>4</td>\n",
       "      <td>4</td>\n",
       "      <td>1</td>\n",
       "    </tr>\n",
       "    <tr>\n",
       "      <th>2</th>\n",
       "      <td>10</td>\n",
       "      <td>15</td>\n",
       "      <td>3</td>\n",
       "      <td>2</td>\n",
       "      <td>14</td>\n",
       "      <td>8</td>\n",
       "      <td>10</td>\n",
       "      <td>1</td>\n",
       "      <td>4</td>\n",
       "      <td>7</td>\n",
       "      <td>2</td>\n",
       "      <td>7</td>\n",
       "      <td>3</td>\n",
       "      <td>3</td>\n",
       "      <td>6</td>\n",
       "      <td>11</td>\n",
       "      <td>3</td>\n",
       "      <td>3</td>\n",
       "      <td>15</td>\n",
       "      <td>1</td>\n",
       "    </tr>\n",
       "    <tr>\n",
       "      <th>3</th>\n",
       "      <td>10</td>\n",
       "      <td>11</td>\n",
       "      <td>10</td>\n",
       "      <td>10</td>\n",
       "      <td>15</td>\n",
       "      <td>7</td>\n",
       "      <td>7</td>\n",
       "      <td>1</td>\n",
       "      <td>5</td>\n",
       "      <td>4</td>\n",
       "      <td>2</td>\n",
       "      <td>15</td>\n",
       "      <td>13</td>\n",
       "      <td>7</td>\n",
       "      <td>4</td>\n",
       "      <td>4</td>\n",
       "      <td>4</td>\n",
       "      <td>4</td>\n",
       "      <td>4</td>\n",
       "      <td>1</td>\n",
       "    </tr>\n",
       "    <tr>\n",
       "      <th>4</th>\n",
       "      <td>8</td>\n",
       "      <td>11</td>\n",
       "      <td>7</td>\n",
       "      <td>8</td>\n",
       "      <td>10</td>\n",
       "      <td>7</td>\n",
       "      <td>8</td>\n",
       "      <td>1</td>\n",
       "      <td>5</td>\n",
       "      <td>3</td>\n",
       "      <td>2</td>\n",
       "      <td>15</td>\n",
       "      <td>5</td>\n",
       "      <td>3</td>\n",
       "      <td>6</td>\n",
       "      <td>12</td>\n",
       "      <td>5</td>\n",
       "      <td>4</td>\n",
       "      <td>7</td>\n",
       "      <td>1</td>\n",
       "    </tr>\n",
       "    <tr>\n",
       "      <th>...</th>\n",
       "      <td>...</td>\n",
       "      <td>...</td>\n",
       "      <td>...</td>\n",
       "      <td>...</td>\n",
       "      <td>...</td>\n",
       "      <td>...</td>\n",
       "      <td>...</td>\n",
       "      <td>...</td>\n",
       "      <td>...</td>\n",
       "      <td>...</td>\n",
       "      <td>...</td>\n",
       "      <td>...</td>\n",
       "      <td>...</td>\n",
       "      <td>...</td>\n",
       "      <td>...</td>\n",
       "      <td>...</td>\n",
       "      <td>...</td>\n",
       "      <td>...</td>\n",
       "      <td>...</td>\n",
       "      <td>...</td>\n",
       "    </tr>\n",
       "    <tr>\n",
       "      <th>67</th>\n",
       "      <td>10</td>\n",
       "      <td>14</td>\n",
       "      <td>14</td>\n",
       "      <td>10</td>\n",
       "      <td>15</td>\n",
       "      <td>6</td>\n",
       "      <td>7</td>\n",
       "      <td>5</td>\n",
       "      <td>15</td>\n",
       "      <td>14</td>\n",
       "      <td>10</td>\n",
       "      <td>15</td>\n",
       "      <td>13</td>\n",
       "      <td>9</td>\n",
       "      <td>8</td>\n",
       "      <td>12</td>\n",
       "      <td>12</td>\n",
       "      <td>11</td>\n",
       "      <td>9</td>\n",
       "      <td>0</td>\n",
       "    </tr>\n",
       "    <tr>\n",
       "      <th>68</th>\n",
       "      <td>10</td>\n",
       "      <td>12</td>\n",
       "      <td>15</td>\n",
       "      <td>10</td>\n",
       "      <td>15</td>\n",
       "      <td>8</td>\n",
       "      <td>8</td>\n",
       "      <td>5</td>\n",
       "      <td>15</td>\n",
       "      <td>14</td>\n",
       "      <td>8</td>\n",
       "      <td>12</td>\n",
       "      <td>14</td>\n",
       "      <td>11</td>\n",
       "      <td>7</td>\n",
       "      <td>13</td>\n",
       "      <td>15</td>\n",
       "      <td>11</td>\n",
       "      <td>14</td>\n",
       "      <td>0</td>\n",
       "    </tr>\n",
       "    <tr>\n",
       "      <th>69</th>\n",
       "      <td>10</td>\n",
       "      <td>8</td>\n",
       "      <td>11</td>\n",
       "      <td>6</td>\n",
       "      <td>10</td>\n",
       "      <td>6</td>\n",
       "      <td>4</td>\n",
       "      <td>3</td>\n",
       "      <td>13</td>\n",
       "      <td>9</td>\n",
       "      <td>8</td>\n",
       "      <td>14</td>\n",
       "      <td>12</td>\n",
       "      <td>9</td>\n",
       "      <td>7</td>\n",
       "      <td>11</td>\n",
       "      <td>12</td>\n",
       "      <td>10</td>\n",
       "      <td>10</td>\n",
       "      <td>0</td>\n",
       "    </tr>\n",
       "    <tr>\n",
       "      <th>70</th>\n",
       "      <td>9</td>\n",
       "      <td>12</td>\n",
       "      <td>13</td>\n",
       "      <td>10</td>\n",
       "      <td>13</td>\n",
       "      <td>6</td>\n",
       "      <td>6</td>\n",
       "      <td>5</td>\n",
       "      <td>14</td>\n",
       "      <td>13</td>\n",
       "      <td>10</td>\n",
       "      <td>13</td>\n",
       "      <td>12</td>\n",
       "      <td>11</td>\n",
       "      <td>8</td>\n",
       "      <td>12</td>\n",
       "      <td>11</td>\n",
       "      <td>13</td>\n",
       "      <td>15</td>\n",
       "      <td>0</td>\n",
       "    </tr>\n",
       "    <tr>\n",
       "      <th>71</th>\n",
       "      <td>10</td>\n",
       "      <td>14</td>\n",
       "      <td>14</td>\n",
       "      <td>6</td>\n",
       "      <td>12</td>\n",
       "      <td>7</td>\n",
       "      <td>8</td>\n",
       "      <td>5</td>\n",
       "      <td>15</td>\n",
       "      <td>12</td>\n",
       "      <td>10</td>\n",
       "      <td>10</td>\n",
       "      <td>13</td>\n",
       "      <td>11</td>\n",
       "      <td>9</td>\n",
       "      <td>14</td>\n",
       "      <td>13</td>\n",
       "      <td>15</td>\n",
       "      <td>15</td>\n",
       "      <td>0</td>\n",
       "    </tr>\n",
       "  </tbody>\n",
       "</table>\n",
       "<p>72 rows × 20 columns</p>\n",
       "</div>"
      ],
      "text/plain": [
       "    behavior_sexualRisk  behavior_eating  behavior_personalHygine  \\\n",
       "0                    10               13                       12   \n",
       "1                    10               11                       11   \n",
       "2                    10               15                        3   \n",
       "3                    10               11                       10   \n",
       "4                     8               11                        7   \n",
       "..                  ...              ...                      ...   \n",
       "67                   10               14                       14   \n",
       "68                   10               12                       15   \n",
       "69                   10                8                       11   \n",
       "70                    9               12                       13   \n",
       "71                   10               14                       14   \n",
       "\n",
       "    intention_aggregation  intention_commitment  attitude_consistency  \\\n",
       "0                       4                     7                     9   \n",
       "1                      10                    14                     7   \n",
       "2                       2                    14                     8   \n",
       "3                      10                    15                     7   \n",
       "4                       8                    10                     7   \n",
       "..                    ...                   ...                   ...   \n",
       "67                     10                    15                     6   \n",
       "68                     10                    15                     8   \n",
       "69                      6                    10                     6   \n",
       "70                     10                    13                     6   \n",
       "71                      6                    12                     7   \n",
       "\n",
       "    attitude_spontaneity  norm_significantPerson  norm_fulfillment  \\\n",
       "0                     10                       1                 8   \n",
       "1                      7                       5                 5   \n",
       "2                     10                       1                 4   \n",
       "3                      7                       1                 5   \n",
       "4                      8                       1                 5   \n",
       "..                   ...                     ...               ...   \n",
       "67                     7                       5                15   \n",
       "68                     8                       5                15   \n",
       "69                     4                       3                13   \n",
       "70                     6                       5                14   \n",
       "71                     8                       5                15   \n",
       "\n",
       "    perception_vulnerability  perception_severity  motivation_strength  \\\n",
       "0                          7                    3                   14   \n",
       "1                          4                    2                   15   \n",
       "2                          7                    2                    7   \n",
       "3                          4                    2                   15   \n",
       "4                          3                    2                   15   \n",
       "..                       ...                  ...                  ...   \n",
       "67                        14                   10                   15   \n",
       "68                        14                    8                   12   \n",
       "69                         9                    8                   14   \n",
       "70                        13                   10                   13   \n",
       "71                        12                   10                   10   \n",
       "\n",
       "    motivation_willingness  socialSupport_emotionality  \\\n",
       "0                        8                           5   \n",
       "1                       13                           7   \n",
       "2                        3                           3   \n",
       "3                       13                           7   \n",
       "4                        5                           3   \n",
       "..                     ...                         ...   \n",
       "67                      13                           9   \n",
       "68                      14                          11   \n",
       "69                      12                           9   \n",
       "70                      12                          11   \n",
       "71                      13                          11   \n",
       "\n",
       "    socialSupport_appreciation  socialSupport_instrumental  \\\n",
       "0                            7                          12   \n",
       "1                            6                           5   \n",
       "2                            6                          11   \n",
       "3                            4                           4   \n",
       "4                            6                          12   \n",
       "..                         ...                         ...   \n",
       "67                           8                          12   \n",
       "68                           7                          13   \n",
       "69                           7                          11   \n",
       "70                           8                          12   \n",
       "71                           9                          14   \n",
       "\n",
       "    empowerment_knowledge  empowerment_abilities  empowerment_desires  \\\n",
       "0                      12                     11                    8   \n",
       "1                       5                      4                    4   \n",
       "2                       3                      3                   15   \n",
       "3                       4                      4                    4   \n",
       "4                       5                      4                    7   \n",
       "..                    ...                    ...                  ...   \n",
       "67                     12                     11                    9   \n",
       "68                     15                     11                   14   \n",
       "69                     12                     10                   10   \n",
       "70                     11                     13                   15   \n",
       "71                     13                     15                   15   \n",
       "\n",
       "    ca_cervix  \n",
       "0           1  \n",
       "1           1  \n",
       "2           1  \n",
       "3           1  \n",
       "4           1  \n",
       "..        ...  \n",
       "67          0  \n",
       "68          0  \n",
       "69          0  \n",
       "70          0  \n",
       "71          0  \n",
       "\n",
       "[72 rows x 20 columns]"
      ]
     },
     "execution_count": 488,
     "metadata": {},
     "output_type": "execute_result"
    }
   ],
   "source": [
    "cervical_cancer = pd.read_csv(\"sobar-72.csv\")\n",
    "cervical_cancer"
   ]
  },
  {
   "cell_type": "code",
   "execution_count": 382,
   "id": "e0f39f75",
   "metadata": {},
   "outputs": [
    {
     "data": {
      "text/html": [
       "<div>\n",
       "<style scoped>\n",
       "    .dataframe tbody tr th:only-of-type {\n",
       "        vertical-align: middle;\n",
       "    }\n",
       "\n",
       "    .dataframe tbody tr th {\n",
       "        vertical-align: top;\n",
       "    }\n",
       "\n",
       "    .dataframe thead th {\n",
       "        text-align: right;\n",
       "    }\n",
       "</style>\n",
       "<table border=\"1\" class=\"dataframe\">\n",
       "  <thead>\n",
       "    <tr style=\"text-align: right;\">\n",
       "      <th></th>\n",
       "      <th>class</th>\n",
       "      <th>alcohol</th>\n",
       "      <th>malic acid</th>\n",
       "      <th>ash</th>\n",
       "      <th>alcalinity of ash</th>\n",
       "      <th>magnesium</th>\n",
       "      <th>total phenols</th>\n",
       "      <th>flavanoids</th>\n",
       "      <th>nonflavanoid phenols</th>\n",
       "      <th>proanthocyanins</th>\n",
       "      <th>color intensity</th>\n",
       "      <th>hue</th>\n",
       "      <th>OD280/OD315 of diluted wines</th>\n",
       "      <th>proline</th>\n",
       "    </tr>\n",
       "  </thead>\n",
       "  <tbody>\n",
       "    <tr>\n",
       "      <th>0</th>\n",
       "      <td>1</td>\n",
       "      <td>14.23</td>\n",
       "      <td>1.71</td>\n",
       "      <td>2.43</td>\n",
       "      <td>15.6</td>\n",
       "      <td>127</td>\n",
       "      <td>2.80</td>\n",
       "      <td>3.06</td>\n",
       "      <td>0.28</td>\n",
       "      <td>2.29</td>\n",
       "      <td>5.64</td>\n",
       "      <td>1.04</td>\n",
       "      <td>3.92</td>\n",
       "      <td>1065</td>\n",
       "    </tr>\n",
       "    <tr>\n",
       "      <th>1</th>\n",
       "      <td>1</td>\n",
       "      <td>13.20</td>\n",
       "      <td>1.78</td>\n",
       "      <td>2.14</td>\n",
       "      <td>11.2</td>\n",
       "      <td>100</td>\n",
       "      <td>2.65</td>\n",
       "      <td>2.76</td>\n",
       "      <td>0.26</td>\n",
       "      <td>1.28</td>\n",
       "      <td>4.38</td>\n",
       "      <td>1.05</td>\n",
       "      <td>3.40</td>\n",
       "      <td>1050</td>\n",
       "    </tr>\n",
       "    <tr>\n",
       "      <th>2</th>\n",
       "      <td>1</td>\n",
       "      <td>13.16</td>\n",
       "      <td>2.36</td>\n",
       "      <td>2.67</td>\n",
       "      <td>18.6</td>\n",
       "      <td>101</td>\n",
       "      <td>2.80</td>\n",
       "      <td>3.24</td>\n",
       "      <td>0.30</td>\n",
       "      <td>2.81</td>\n",
       "      <td>5.68</td>\n",
       "      <td>1.03</td>\n",
       "      <td>3.17</td>\n",
       "      <td>1185</td>\n",
       "    </tr>\n",
       "    <tr>\n",
       "      <th>3</th>\n",
       "      <td>1</td>\n",
       "      <td>14.37</td>\n",
       "      <td>1.95</td>\n",
       "      <td>2.50</td>\n",
       "      <td>16.8</td>\n",
       "      <td>113</td>\n",
       "      <td>3.85</td>\n",
       "      <td>3.49</td>\n",
       "      <td>0.24</td>\n",
       "      <td>2.18</td>\n",
       "      <td>7.80</td>\n",
       "      <td>0.86</td>\n",
       "      <td>3.45</td>\n",
       "      <td>1480</td>\n",
       "    </tr>\n",
       "    <tr>\n",
       "      <th>4</th>\n",
       "      <td>1</td>\n",
       "      <td>13.24</td>\n",
       "      <td>2.59</td>\n",
       "      <td>2.87</td>\n",
       "      <td>21.0</td>\n",
       "      <td>118</td>\n",
       "      <td>2.80</td>\n",
       "      <td>2.69</td>\n",
       "      <td>0.39</td>\n",
       "      <td>1.82</td>\n",
       "      <td>4.32</td>\n",
       "      <td>1.04</td>\n",
       "      <td>2.93</td>\n",
       "      <td>735</td>\n",
       "    </tr>\n",
       "    <tr>\n",
       "      <th>...</th>\n",
       "      <td>...</td>\n",
       "      <td>...</td>\n",
       "      <td>...</td>\n",
       "      <td>...</td>\n",
       "      <td>...</td>\n",
       "      <td>...</td>\n",
       "      <td>...</td>\n",
       "      <td>...</td>\n",
       "      <td>...</td>\n",
       "      <td>...</td>\n",
       "      <td>...</td>\n",
       "      <td>...</td>\n",
       "      <td>...</td>\n",
       "      <td>...</td>\n",
       "    </tr>\n",
       "    <tr>\n",
       "      <th>173</th>\n",
       "      <td>3</td>\n",
       "      <td>13.71</td>\n",
       "      <td>5.65</td>\n",
       "      <td>2.45</td>\n",
       "      <td>20.5</td>\n",
       "      <td>95</td>\n",
       "      <td>1.68</td>\n",
       "      <td>0.61</td>\n",
       "      <td>0.52</td>\n",
       "      <td>1.06</td>\n",
       "      <td>7.70</td>\n",
       "      <td>0.64</td>\n",
       "      <td>1.74</td>\n",
       "      <td>740</td>\n",
       "    </tr>\n",
       "    <tr>\n",
       "      <th>174</th>\n",
       "      <td>3</td>\n",
       "      <td>13.40</td>\n",
       "      <td>3.91</td>\n",
       "      <td>2.48</td>\n",
       "      <td>23.0</td>\n",
       "      <td>102</td>\n",
       "      <td>1.80</td>\n",
       "      <td>0.75</td>\n",
       "      <td>0.43</td>\n",
       "      <td>1.41</td>\n",
       "      <td>7.30</td>\n",
       "      <td>0.70</td>\n",
       "      <td>1.56</td>\n",
       "      <td>750</td>\n",
       "    </tr>\n",
       "    <tr>\n",
       "      <th>175</th>\n",
       "      <td>3</td>\n",
       "      <td>13.27</td>\n",
       "      <td>4.28</td>\n",
       "      <td>2.26</td>\n",
       "      <td>20.0</td>\n",
       "      <td>120</td>\n",
       "      <td>1.59</td>\n",
       "      <td>0.69</td>\n",
       "      <td>0.43</td>\n",
       "      <td>1.35</td>\n",
       "      <td>10.20</td>\n",
       "      <td>0.59</td>\n",
       "      <td>1.56</td>\n",
       "      <td>835</td>\n",
       "    </tr>\n",
       "    <tr>\n",
       "      <th>176</th>\n",
       "      <td>3</td>\n",
       "      <td>13.17</td>\n",
       "      <td>2.59</td>\n",
       "      <td>2.37</td>\n",
       "      <td>20.0</td>\n",
       "      <td>120</td>\n",
       "      <td>1.65</td>\n",
       "      <td>0.68</td>\n",
       "      <td>0.53</td>\n",
       "      <td>1.46</td>\n",
       "      <td>9.30</td>\n",
       "      <td>0.60</td>\n",
       "      <td>1.62</td>\n",
       "      <td>840</td>\n",
       "    </tr>\n",
       "    <tr>\n",
       "      <th>177</th>\n",
       "      <td>3</td>\n",
       "      <td>14.13</td>\n",
       "      <td>4.10</td>\n",
       "      <td>2.74</td>\n",
       "      <td>24.5</td>\n",
       "      <td>96</td>\n",
       "      <td>2.05</td>\n",
       "      <td>0.76</td>\n",
       "      <td>0.56</td>\n",
       "      <td>1.35</td>\n",
       "      <td>9.20</td>\n",
       "      <td>0.61</td>\n",
       "      <td>1.60</td>\n",
       "      <td>560</td>\n",
       "    </tr>\n",
       "  </tbody>\n",
       "</table>\n",
       "<p>178 rows × 14 columns</p>\n",
       "</div>"
      ],
      "text/plain": [
       "     class  alcohol  malic acid   ash  alcalinity of ash  magnesium  \\\n",
       "0        1    14.23        1.71  2.43               15.6        127   \n",
       "1        1    13.20        1.78  2.14               11.2        100   \n",
       "2        1    13.16        2.36  2.67               18.6        101   \n",
       "3        1    14.37        1.95  2.50               16.8        113   \n",
       "4        1    13.24        2.59  2.87               21.0        118   \n",
       "..     ...      ...         ...   ...                ...        ...   \n",
       "173      3    13.71        5.65  2.45               20.5         95   \n",
       "174      3    13.40        3.91  2.48               23.0        102   \n",
       "175      3    13.27        4.28  2.26               20.0        120   \n",
       "176      3    13.17        2.59  2.37               20.0        120   \n",
       "177      3    14.13        4.10  2.74               24.5         96   \n",
       "\n",
       "     total phenols  flavanoids  nonflavanoid phenols  proanthocyanins  \\\n",
       "0             2.80        3.06                  0.28             2.29   \n",
       "1             2.65        2.76                  0.26             1.28   \n",
       "2             2.80        3.24                  0.30             2.81   \n",
       "3             3.85        3.49                  0.24             2.18   \n",
       "4             2.80        2.69                  0.39             1.82   \n",
       "..             ...         ...                   ...              ...   \n",
       "173           1.68        0.61                  0.52             1.06   \n",
       "174           1.80        0.75                  0.43             1.41   \n",
       "175           1.59        0.69                  0.43             1.35   \n",
       "176           1.65        0.68                  0.53             1.46   \n",
       "177           2.05        0.76                  0.56             1.35   \n",
       "\n",
       "     color intensity   hue  OD280/OD315 of diluted wines  proline  \n",
       "0               5.64  1.04                          3.92     1065  \n",
       "1               4.38  1.05                          3.40     1050  \n",
       "2               5.68  1.03                          3.17     1185  \n",
       "3               7.80  0.86                          3.45     1480  \n",
       "4               4.32  1.04                          2.93      735  \n",
       "..               ...   ...                           ...      ...  \n",
       "173             7.70  0.64                          1.74      740  \n",
       "174             7.30  0.70                          1.56      750  \n",
       "175            10.20  0.59                          1.56      835  \n",
       "176             9.30  0.60                          1.62      840  \n",
       "177             9.20  0.61                          1.60      560  \n",
       "\n",
       "[178 rows x 14 columns]"
      ]
     },
     "execution_count": 382,
     "metadata": {},
     "output_type": "execute_result"
    }
   ],
   "source": [
    "wine_df = pd.read_csv(\"wine/wine.data\", names = [\"class\", \"alcohol\", \"malic acid\", \"ash\", \"alcalinity of ash\", \"magnesium\", \n",
    "                                                 \"total phenols\", \"flavanoids\", \"nonflavanoid phenols\", \"proanthocyanins\",\n",
    "                                                 \"color intensity\", \"hue\", \"OD280/OD315 of diluted wines\", \"proline\"])\n",
    "wine_df = wine_df.reset_index()\n",
    "wine_df = wine_df.drop(wine_df.columns[0], axis = 1)\n",
    "wine_df"
   ]
  },
  {
   "cell_type": "code",
   "execution_count": 145,
   "id": "010c6297",
   "metadata": {},
   "outputs": [
    {
     "data": {
      "text/html": [
       "<div>\n",
       "<style scoped>\n",
       "    .dataframe tbody tr th:only-of-type {\n",
       "        vertical-align: middle;\n",
       "    }\n",
       "\n",
       "    .dataframe tbody tr th {\n",
       "        vertical-align: top;\n",
       "    }\n",
       "\n",
       "    .dataframe thead th {\n",
       "        text-align: right;\n",
       "    }\n",
       "</style>\n",
       "<table border=\"1\" class=\"dataframe\">\n",
       "  <thead>\n",
       "    <tr style=\"text-align: right;\">\n",
       "      <th></th>\n",
       "      <th>Sample code number</th>\n",
       "      <th>Clump Thickness</th>\n",
       "      <th>Uniformity of Cell Size</th>\n",
       "      <th>Uniformity of Cell Shape</th>\n",
       "      <th>Marginal Adhesion</th>\n",
       "      <th>Single Epithelial Cell Size</th>\n",
       "      <th>Bare Nuclei</th>\n",
       "      <th>Bland Chromatin</th>\n",
       "      <th>Normal Nucleoli</th>\n",
       "      <th>Mitoses</th>\n",
       "      <th>Class</th>\n",
       "    </tr>\n",
       "  </thead>\n",
       "  <tbody>\n",
       "    <tr>\n",
       "      <th>0</th>\n",
       "      <td>1000025</td>\n",
       "      <td>5</td>\n",
       "      <td>1</td>\n",
       "      <td>1</td>\n",
       "      <td>1</td>\n",
       "      <td>2</td>\n",
       "      <td>1</td>\n",
       "      <td>3</td>\n",
       "      <td>1</td>\n",
       "      <td>1</td>\n",
       "      <td>2</td>\n",
       "    </tr>\n",
       "    <tr>\n",
       "      <th>1</th>\n",
       "      <td>1002945</td>\n",
       "      <td>5</td>\n",
       "      <td>4</td>\n",
       "      <td>4</td>\n",
       "      <td>5</td>\n",
       "      <td>7</td>\n",
       "      <td>10</td>\n",
       "      <td>3</td>\n",
       "      <td>2</td>\n",
       "      <td>1</td>\n",
       "      <td>2</td>\n",
       "    </tr>\n",
       "    <tr>\n",
       "      <th>2</th>\n",
       "      <td>1015425</td>\n",
       "      <td>3</td>\n",
       "      <td>1</td>\n",
       "      <td>1</td>\n",
       "      <td>1</td>\n",
       "      <td>2</td>\n",
       "      <td>2</td>\n",
       "      <td>3</td>\n",
       "      <td>1</td>\n",
       "      <td>1</td>\n",
       "      <td>2</td>\n",
       "    </tr>\n",
       "    <tr>\n",
       "      <th>3</th>\n",
       "      <td>1016277</td>\n",
       "      <td>6</td>\n",
       "      <td>8</td>\n",
       "      <td>8</td>\n",
       "      <td>1</td>\n",
       "      <td>3</td>\n",
       "      <td>4</td>\n",
       "      <td>3</td>\n",
       "      <td>7</td>\n",
       "      <td>1</td>\n",
       "      <td>2</td>\n",
       "    </tr>\n",
       "    <tr>\n",
       "      <th>4</th>\n",
       "      <td>1017023</td>\n",
       "      <td>4</td>\n",
       "      <td>1</td>\n",
       "      <td>1</td>\n",
       "      <td>3</td>\n",
       "      <td>2</td>\n",
       "      <td>1</td>\n",
       "      <td>3</td>\n",
       "      <td>1</td>\n",
       "      <td>1</td>\n",
       "      <td>2</td>\n",
       "    </tr>\n",
       "    <tr>\n",
       "      <th>...</th>\n",
       "      <td>...</td>\n",
       "      <td>...</td>\n",
       "      <td>...</td>\n",
       "      <td>...</td>\n",
       "      <td>...</td>\n",
       "      <td>...</td>\n",
       "      <td>...</td>\n",
       "      <td>...</td>\n",
       "      <td>...</td>\n",
       "      <td>...</td>\n",
       "      <td>...</td>\n",
       "    </tr>\n",
       "    <tr>\n",
       "      <th>694</th>\n",
       "      <td>776715</td>\n",
       "      <td>3</td>\n",
       "      <td>1</td>\n",
       "      <td>1</td>\n",
       "      <td>1</td>\n",
       "      <td>3</td>\n",
       "      <td>2</td>\n",
       "      <td>1</td>\n",
       "      <td>1</td>\n",
       "      <td>1</td>\n",
       "      <td>2</td>\n",
       "    </tr>\n",
       "    <tr>\n",
       "      <th>695</th>\n",
       "      <td>841769</td>\n",
       "      <td>2</td>\n",
       "      <td>1</td>\n",
       "      <td>1</td>\n",
       "      <td>1</td>\n",
       "      <td>2</td>\n",
       "      <td>1</td>\n",
       "      <td>1</td>\n",
       "      <td>1</td>\n",
       "      <td>1</td>\n",
       "      <td>2</td>\n",
       "    </tr>\n",
       "    <tr>\n",
       "      <th>696</th>\n",
       "      <td>888820</td>\n",
       "      <td>5</td>\n",
       "      <td>10</td>\n",
       "      <td>10</td>\n",
       "      <td>3</td>\n",
       "      <td>7</td>\n",
       "      <td>3</td>\n",
       "      <td>8</td>\n",
       "      <td>10</td>\n",
       "      <td>2</td>\n",
       "      <td>4</td>\n",
       "    </tr>\n",
       "    <tr>\n",
       "      <th>697</th>\n",
       "      <td>897471</td>\n",
       "      <td>4</td>\n",
       "      <td>8</td>\n",
       "      <td>6</td>\n",
       "      <td>4</td>\n",
       "      <td>3</td>\n",
       "      <td>4</td>\n",
       "      <td>10</td>\n",
       "      <td>6</td>\n",
       "      <td>1</td>\n",
       "      <td>4</td>\n",
       "    </tr>\n",
       "    <tr>\n",
       "      <th>698</th>\n",
       "      <td>897471</td>\n",
       "      <td>4</td>\n",
       "      <td>8</td>\n",
       "      <td>8</td>\n",
       "      <td>5</td>\n",
       "      <td>4</td>\n",
       "      <td>5</td>\n",
       "      <td>10</td>\n",
       "      <td>4</td>\n",
       "      <td>1</td>\n",
       "      <td>4</td>\n",
       "    </tr>\n",
       "  </tbody>\n",
       "</table>\n",
       "<p>699 rows × 11 columns</p>\n",
       "</div>"
      ],
      "text/plain": [
       "     Sample code number  Clump Thickness  Uniformity of Cell Size  \\\n",
       "0               1000025                5                        1   \n",
       "1               1002945                5                        4   \n",
       "2               1015425                3                        1   \n",
       "3               1016277                6                        8   \n",
       "4               1017023                4                        1   \n",
       "..                  ...              ...                      ...   \n",
       "694              776715                3                        1   \n",
       "695              841769                2                        1   \n",
       "696              888820                5                       10   \n",
       "697              897471                4                        8   \n",
       "698              897471                4                        8   \n",
       "\n",
       "     Uniformity of Cell Shape  Marginal Adhesion  Single Epithelial Cell Size  \\\n",
       "0                           1                  1                            2   \n",
       "1                           4                  5                            7   \n",
       "2                           1                  1                            2   \n",
       "3                           8                  1                            3   \n",
       "4                           1                  3                            2   \n",
       "..                        ...                ...                          ...   \n",
       "694                         1                  1                            3   \n",
       "695                         1                  1                            2   \n",
       "696                        10                  3                            7   \n",
       "697                         6                  4                            3   \n",
       "698                         8                  5                            4   \n",
       "\n",
       "    Bare Nuclei  Bland Chromatin  Normal Nucleoli  Mitoses  Class  \n",
       "0             1                3                1        1      2  \n",
       "1            10                3                2        1      2  \n",
       "2             2                3                1        1      2  \n",
       "3             4                3                7        1      2  \n",
       "4             1                3                1        1      2  \n",
       "..          ...              ...              ...      ...    ...  \n",
       "694           2                1                1        1      2  \n",
       "695           1                1                1        1      2  \n",
       "696           3                8               10        2      4  \n",
       "697           4               10                6        1      4  \n",
       "698           5               10                4        1      4  \n",
       "\n",
       "[699 rows x 11 columns]"
      ]
     },
     "execution_count": 145,
     "metadata": {},
     "output_type": "execute_result"
    }
   ],
   "source": [
    "breast_cancer_df = pd.read_csv(\"breast+cancer+wisconsin+original/breast-cancer-wisconsin.data\", \n",
    "                       names = [\"Sample code number\", \"Clump Thickness\", \"Uniformity of Cell Size\", \n",
    "                                \"Uniformity of Cell Shape\", \"Marginal Adhesion\", \n",
    "                                \"Single Epithelial Cell Size\", \"Bare Nuclei\", \"Bland Chromatin\", \n",
    "                                \"Normal Nucleoli\", \"Mitoses\", \"Class\"])\n",
    "breast_cancer_df"
   ]
  },
  {
   "cell_type": "code",
   "execution_count": 146,
   "id": "4a980647",
   "metadata": {},
   "outputs": [
    {
     "data": {
      "text/html": [
       "<div>\n",
       "<style scoped>\n",
       "    .dataframe tbody tr th:only-of-type {\n",
       "        vertical-align: middle;\n",
       "    }\n",
       "\n",
       "    .dataframe tbody tr th {\n",
       "        vertical-align: top;\n",
       "    }\n",
       "\n",
       "    .dataframe thead th {\n",
       "        text-align: right;\n",
       "    }\n",
       "</style>\n",
       "<table border=\"1\" class=\"dataframe\">\n",
       "  <thead>\n",
       "    <tr style=\"text-align: right;\">\n",
       "      <th></th>\n",
       "      <th>Sample code number</th>\n",
       "      <th>Clump Thickness</th>\n",
       "      <th>Uniformity of Cell Size</th>\n",
       "      <th>Uniformity of Cell Shape</th>\n",
       "      <th>Marginal Adhesion</th>\n",
       "      <th>Single Epithelial Cell Size</th>\n",
       "      <th>Bare Nuclei</th>\n",
       "      <th>Bland Chromatin</th>\n",
       "      <th>Normal Nucleoli</th>\n",
       "      <th>Mitoses</th>\n",
       "      <th>Class</th>\n",
       "    </tr>\n",
       "  </thead>\n",
       "  <tbody>\n",
       "    <tr>\n",
       "      <th>0</th>\n",
       "      <td>1000025</td>\n",
       "      <td>5</td>\n",
       "      <td>1</td>\n",
       "      <td>1</td>\n",
       "      <td>1</td>\n",
       "      <td>2</td>\n",
       "      <td>1</td>\n",
       "      <td>3</td>\n",
       "      <td>1</td>\n",
       "      <td>1</td>\n",
       "      <td>2</td>\n",
       "    </tr>\n",
       "    <tr>\n",
       "      <th>1</th>\n",
       "      <td>1002945</td>\n",
       "      <td>5</td>\n",
       "      <td>4</td>\n",
       "      <td>4</td>\n",
       "      <td>5</td>\n",
       "      <td>7</td>\n",
       "      <td>10</td>\n",
       "      <td>3</td>\n",
       "      <td>2</td>\n",
       "      <td>1</td>\n",
       "      <td>2</td>\n",
       "    </tr>\n",
       "    <tr>\n",
       "      <th>2</th>\n",
       "      <td>1015425</td>\n",
       "      <td>3</td>\n",
       "      <td>1</td>\n",
       "      <td>1</td>\n",
       "      <td>1</td>\n",
       "      <td>2</td>\n",
       "      <td>2</td>\n",
       "      <td>3</td>\n",
       "      <td>1</td>\n",
       "      <td>1</td>\n",
       "      <td>2</td>\n",
       "    </tr>\n",
       "    <tr>\n",
       "      <th>3</th>\n",
       "      <td>1016277</td>\n",
       "      <td>6</td>\n",
       "      <td>8</td>\n",
       "      <td>8</td>\n",
       "      <td>1</td>\n",
       "      <td>3</td>\n",
       "      <td>4</td>\n",
       "      <td>3</td>\n",
       "      <td>7</td>\n",
       "      <td>1</td>\n",
       "      <td>2</td>\n",
       "    </tr>\n",
       "    <tr>\n",
       "      <th>4</th>\n",
       "      <td>1017023</td>\n",
       "      <td>4</td>\n",
       "      <td>1</td>\n",
       "      <td>1</td>\n",
       "      <td>3</td>\n",
       "      <td>2</td>\n",
       "      <td>1</td>\n",
       "      <td>3</td>\n",
       "      <td>1</td>\n",
       "      <td>1</td>\n",
       "      <td>2</td>\n",
       "    </tr>\n",
       "    <tr>\n",
       "      <th>...</th>\n",
       "      <td>...</td>\n",
       "      <td>...</td>\n",
       "      <td>...</td>\n",
       "      <td>...</td>\n",
       "      <td>...</td>\n",
       "      <td>...</td>\n",
       "      <td>...</td>\n",
       "      <td>...</td>\n",
       "      <td>...</td>\n",
       "      <td>...</td>\n",
       "      <td>...</td>\n",
       "    </tr>\n",
       "    <tr>\n",
       "      <th>694</th>\n",
       "      <td>776715</td>\n",
       "      <td>3</td>\n",
       "      <td>1</td>\n",
       "      <td>1</td>\n",
       "      <td>1</td>\n",
       "      <td>3</td>\n",
       "      <td>2</td>\n",
       "      <td>1</td>\n",
       "      <td>1</td>\n",
       "      <td>1</td>\n",
       "      <td>2</td>\n",
       "    </tr>\n",
       "    <tr>\n",
       "      <th>695</th>\n",
       "      <td>841769</td>\n",
       "      <td>2</td>\n",
       "      <td>1</td>\n",
       "      <td>1</td>\n",
       "      <td>1</td>\n",
       "      <td>2</td>\n",
       "      <td>1</td>\n",
       "      <td>1</td>\n",
       "      <td>1</td>\n",
       "      <td>1</td>\n",
       "      <td>2</td>\n",
       "    </tr>\n",
       "    <tr>\n",
       "      <th>696</th>\n",
       "      <td>888820</td>\n",
       "      <td>5</td>\n",
       "      <td>10</td>\n",
       "      <td>10</td>\n",
       "      <td>3</td>\n",
       "      <td>7</td>\n",
       "      <td>3</td>\n",
       "      <td>8</td>\n",
       "      <td>10</td>\n",
       "      <td>2</td>\n",
       "      <td>4</td>\n",
       "    </tr>\n",
       "    <tr>\n",
       "      <th>697</th>\n",
       "      <td>897471</td>\n",
       "      <td>4</td>\n",
       "      <td>8</td>\n",
       "      <td>6</td>\n",
       "      <td>4</td>\n",
       "      <td>3</td>\n",
       "      <td>4</td>\n",
       "      <td>10</td>\n",
       "      <td>6</td>\n",
       "      <td>1</td>\n",
       "      <td>4</td>\n",
       "    </tr>\n",
       "    <tr>\n",
       "      <th>698</th>\n",
       "      <td>897471</td>\n",
       "      <td>4</td>\n",
       "      <td>8</td>\n",
       "      <td>8</td>\n",
       "      <td>5</td>\n",
       "      <td>4</td>\n",
       "      <td>5</td>\n",
       "      <td>10</td>\n",
       "      <td>4</td>\n",
       "      <td>1</td>\n",
       "      <td>4</td>\n",
       "    </tr>\n",
       "  </tbody>\n",
       "</table>\n",
       "<p>683 rows × 11 columns</p>\n",
       "</div>"
      ],
      "text/plain": [
       "     Sample code number  Clump Thickness  Uniformity of Cell Size  \\\n",
       "0               1000025                5                        1   \n",
       "1               1002945                5                        4   \n",
       "2               1015425                3                        1   \n",
       "3               1016277                6                        8   \n",
       "4               1017023                4                        1   \n",
       "..                  ...              ...                      ...   \n",
       "694              776715                3                        1   \n",
       "695              841769                2                        1   \n",
       "696              888820                5                       10   \n",
       "697              897471                4                        8   \n",
       "698              897471                4                        8   \n",
       "\n",
       "     Uniformity of Cell Shape  Marginal Adhesion  Single Epithelial Cell Size  \\\n",
       "0                           1                  1                            2   \n",
       "1                           4                  5                            7   \n",
       "2                           1                  1                            2   \n",
       "3                           8                  1                            3   \n",
       "4                           1                  3                            2   \n",
       "..                        ...                ...                          ...   \n",
       "694                         1                  1                            3   \n",
       "695                         1                  1                            2   \n",
       "696                        10                  3                            7   \n",
       "697                         6                  4                            3   \n",
       "698                         8                  5                            4   \n",
       "\n",
       "    Bare Nuclei  Bland Chromatin  Normal Nucleoli  Mitoses  Class  \n",
       "0             1                3                1        1      2  \n",
       "1            10                3                2        1      2  \n",
       "2             2                3                1        1      2  \n",
       "3             4                3                7        1      2  \n",
       "4             1                3                1        1      2  \n",
       "..          ...              ...              ...      ...    ...  \n",
       "694           2                1                1        1      2  \n",
       "695           1                1                1        1      2  \n",
       "696           3                8               10        2      4  \n",
       "697           4               10                6        1      4  \n",
       "698           5               10                4        1      4  \n",
       "\n",
       "[683 rows x 11 columns]"
      ]
     },
     "execution_count": 146,
     "metadata": {},
     "output_type": "execute_result"
    }
   ],
   "source": [
    "breast_cancer = breast_cancer_df[breast_cancer_df['Bare Nuclei'] != '?']\n",
    "breast_cancer"
   ]
  },
  {
   "cell_type": "code",
   "execution_count": 174,
   "id": "1cdfb100",
   "metadata": {},
   "outputs": [
    {
     "data": {
      "text/plain": [
       "3"
      ]
     },
     "execution_count": 174,
     "metadata": {},
     "output_type": "execute_result"
    }
   ],
   "source": [
    "wine_df['class'].iloc(0)[173]"
   ]
  },
  {
   "cell_type": "markdown",
   "id": "ff58a94a",
   "metadata": {},
   "source": [
    "# Logistic Regression - Wine Dataset - 50/50, 80/20, 20/80"
   ]
  },
  {
   "cell_type": "markdown",
   "id": "49816583",
   "metadata": {},
   "source": [
    "### Round 1: 20/80 Split for Train and Test - Trial 1"
   ]
  },
  {
   "cell_type": "code",
   "execution_count": 261,
   "id": "25292613",
   "metadata": {},
   "outputs": [],
   "source": [
    "# wine = datasets.load_wine()\n",
    "# wine_X = wine.data\n",
    "# wine_Y = (wine.target > 1.5).reshape(-1,1).astype(float)\n",
    "# X_and_Y = np.hstack((wine_X, wine_Y))     \n",
    "# np.random.seed(1)             \n",
    "# np.random.shuffle(X_and_Y)     \n",
    "\n",
    "# print(wine_X.shape)\n",
    "# print(wine_Y.shape)\n",
    "# print(X_and_Y[0])      "
   ]
  },
  {
   "cell_type": "code",
   "execution_count": 262,
   "id": "4f3fcd22",
   "metadata": {},
   "outputs": [
    {
     "data": {
      "text/html": [
       "<div>\n",
       "<style scoped>\n",
       "    .dataframe tbody tr th:only-of-type {\n",
       "        vertical-align: middle;\n",
       "    }\n",
       "\n",
       "    .dataframe tbody tr th {\n",
       "        vertical-align: top;\n",
       "    }\n",
       "\n",
       "    .dataframe thead th {\n",
       "        text-align: right;\n",
       "    }\n",
       "</style>\n",
       "<table border=\"1\" class=\"dataframe\">\n",
       "  <thead>\n",
       "    <tr style=\"text-align: right;\">\n",
       "      <th></th>\n",
       "      <th>class</th>\n",
       "      <th>alcohol</th>\n",
       "      <th>malic acid</th>\n",
       "      <th>ash</th>\n",
       "      <th>alcalinity of ash</th>\n",
       "      <th>magnesium</th>\n",
       "      <th>total phenols</th>\n",
       "      <th>flavanoids</th>\n",
       "      <th>nonflavanoid phenols</th>\n",
       "      <th>proanthocyanins</th>\n",
       "      <th>color intensity</th>\n",
       "      <th>hue</th>\n",
       "      <th>OD280/OD315 of diluted wines</th>\n",
       "      <th>proline</th>\n",
       "    </tr>\n",
       "  </thead>\n",
       "  <tbody>\n",
       "    <tr>\n",
       "      <th>0</th>\n",
       "      <td>1</td>\n",
       "      <td>14.23</td>\n",
       "      <td>1.71</td>\n",
       "      <td>2.43</td>\n",
       "      <td>15.6</td>\n",
       "      <td>127</td>\n",
       "      <td>2.80</td>\n",
       "      <td>3.06</td>\n",
       "      <td>0.28</td>\n",
       "      <td>2.29</td>\n",
       "      <td>5.64</td>\n",
       "      <td>1.04</td>\n",
       "      <td>3.92</td>\n",
       "      <td>1065</td>\n",
       "    </tr>\n",
       "    <tr>\n",
       "      <th>1</th>\n",
       "      <td>1</td>\n",
       "      <td>13.20</td>\n",
       "      <td>1.78</td>\n",
       "      <td>2.14</td>\n",
       "      <td>11.2</td>\n",
       "      <td>100</td>\n",
       "      <td>2.65</td>\n",
       "      <td>2.76</td>\n",
       "      <td>0.26</td>\n",
       "      <td>1.28</td>\n",
       "      <td>4.38</td>\n",
       "      <td>1.05</td>\n",
       "      <td>3.40</td>\n",
       "      <td>1050</td>\n",
       "    </tr>\n",
       "    <tr>\n",
       "      <th>2</th>\n",
       "      <td>1</td>\n",
       "      <td>13.16</td>\n",
       "      <td>2.36</td>\n",
       "      <td>2.67</td>\n",
       "      <td>18.6</td>\n",
       "      <td>101</td>\n",
       "      <td>2.80</td>\n",
       "      <td>3.24</td>\n",
       "      <td>0.30</td>\n",
       "      <td>2.81</td>\n",
       "      <td>5.68</td>\n",
       "      <td>1.03</td>\n",
       "      <td>3.17</td>\n",
       "      <td>1185</td>\n",
       "    </tr>\n",
       "    <tr>\n",
       "      <th>3</th>\n",
       "      <td>1</td>\n",
       "      <td>14.37</td>\n",
       "      <td>1.95</td>\n",
       "      <td>2.50</td>\n",
       "      <td>16.8</td>\n",
       "      <td>113</td>\n",
       "      <td>3.85</td>\n",
       "      <td>3.49</td>\n",
       "      <td>0.24</td>\n",
       "      <td>2.18</td>\n",
       "      <td>7.80</td>\n",
       "      <td>0.86</td>\n",
       "      <td>3.45</td>\n",
       "      <td>1480</td>\n",
       "    </tr>\n",
       "    <tr>\n",
       "      <th>4</th>\n",
       "      <td>1</td>\n",
       "      <td>13.24</td>\n",
       "      <td>2.59</td>\n",
       "      <td>2.87</td>\n",
       "      <td>21.0</td>\n",
       "      <td>118</td>\n",
       "      <td>2.80</td>\n",
       "      <td>2.69</td>\n",
       "      <td>0.39</td>\n",
       "      <td>1.82</td>\n",
       "      <td>4.32</td>\n",
       "      <td>1.04</td>\n",
       "      <td>2.93</td>\n",
       "      <td>735</td>\n",
       "    </tr>\n",
       "    <tr>\n",
       "      <th>...</th>\n",
       "      <td>...</td>\n",
       "      <td>...</td>\n",
       "      <td>...</td>\n",
       "      <td>...</td>\n",
       "      <td>...</td>\n",
       "      <td>...</td>\n",
       "      <td>...</td>\n",
       "      <td>...</td>\n",
       "      <td>...</td>\n",
       "      <td>...</td>\n",
       "      <td>...</td>\n",
       "      <td>...</td>\n",
       "      <td>...</td>\n",
       "      <td>...</td>\n",
       "    </tr>\n",
       "    <tr>\n",
       "      <th>125</th>\n",
       "      <td>2</td>\n",
       "      <td>12.07</td>\n",
       "      <td>2.16</td>\n",
       "      <td>2.17</td>\n",
       "      <td>21.0</td>\n",
       "      <td>85</td>\n",
       "      <td>2.60</td>\n",
       "      <td>2.65</td>\n",
       "      <td>0.37</td>\n",
       "      <td>1.35</td>\n",
       "      <td>2.76</td>\n",
       "      <td>0.86</td>\n",
       "      <td>3.28</td>\n",
       "      <td>378</td>\n",
       "    </tr>\n",
       "    <tr>\n",
       "      <th>126</th>\n",
       "      <td>2</td>\n",
       "      <td>12.43</td>\n",
       "      <td>1.53</td>\n",
       "      <td>2.29</td>\n",
       "      <td>21.5</td>\n",
       "      <td>86</td>\n",
       "      <td>2.74</td>\n",
       "      <td>3.15</td>\n",
       "      <td>0.39</td>\n",
       "      <td>1.77</td>\n",
       "      <td>3.94</td>\n",
       "      <td>0.69</td>\n",
       "      <td>2.84</td>\n",
       "      <td>352</td>\n",
       "    </tr>\n",
       "    <tr>\n",
       "      <th>127</th>\n",
       "      <td>2</td>\n",
       "      <td>11.79</td>\n",
       "      <td>2.13</td>\n",
       "      <td>2.78</td>\n",
       "      <td>28.5</td>\n",
       "      <td>92</td>\n",
       "      <td>2.13</td>\n",
       "      <td>2.24</td>\n",
       "      <td>0.58</td>\n",
       "      <td>1.76</td>\n",
       "      <td>3.00</td>\n",
       "      <td>0.97</td>\n",
       "      <td>2.44</td>\n",
       "      <td>466</td>\n",
       "    </tr>\n",
       "    <tr>\n",
       "      <th>128</th>\n",
       "      <td>2</td>\n",
       "      <td>12.37</td>\n",
       "      <td>1.63</td>\n",
       "      <td>2.30</td>\n",
       "      <td>24.5</td>\n",
       "      <td>88</td>\n",
       "      <td>2.22</td>\n",
       "      <td>2.45</td>\n",
       "      <td>0.40</td>\n",
       "      <td>1.90</td>\n",
       "      <td>2.12</td>\n",
       "      <td>0.89</td>\n",
       "      <td>2.78</td>\n",
       "      <td>342</td>\n",
       "    </tr>\n",
       "    <tr>\n",
       "      <th>129</th>\n",
       "      <td>2</td>\n",
       "      <td>12.04</td>\n",
       "      <td>4.30</td>\n",
       "      <td>2.38</td>\n",
       "      <td>22.0</td>\n",
       "      <td>80</td>\n",
       "      <td>2.10</td>\n",
       "      <td>1.75</td>\n",
       "      <td>0.42</td>\n",
       "      <td>1.35</td>\n",
       "      <td>2.60</td>\n",
       "      <td>0.79</td>\n",
       "      <td>2.57</td>\n",
       "      <td>580</td>\n",
       "    </tr>\n",
       "  </tbody>\n",
       "</table>\n",
       "<p>130 rows × 14 columns</p>\n",
       "</div>"
      ],
      "text/plain": [
       "     class  alcohol  malic acid   ash  alcalinity of ash  magnesium  \\\n",
       "0        1    14.23        1.71  2.43               15.6        127   \n",
       "1        1    13.20        1.78  2.14               11.2        100   \n",
       "2        1    13.16        2.36  2.67               18.6        101   \n",
       "3        1    14.37        1.95  2.50               16.8        113   \n",
       "4        1    13.24        2.59  2.87               21.0        118   \n",
       "..     ...      ...         ...   ...                ...        ...   \n",
       "125      2    12.07        2.16  2.17               21.0         85   \n",
       "126      2    12.43        1.53  2.29               21.5         86   \n",
       "127      2    11.79        2.13  2.78               28.5         92   \n",
       "128      2    12.37        1.63  2.30               24.5         88   \n",
       "129      2    12.04        4.30  2.38               22.0         80   \n",
       "\n",
       "     total phenols  flavanoids  nonflavanoid phenols  proanthocyanins  \\\n",
       "0             2.80        3.06                  0.28             2.29   \n",
       "1             2.65        2.76                  0.26             1.28   \n",
       "2             2.80        3.24                  0.30             2.81   \n",
       "3             3.85        3.49                  0.24             2.18   \n",
       "4             2.80        2.69                  0.39             1.82   \n",
       "..             ...         ...                   ...              ...   \n",
       "125           2.60        2.65                  0.37             1.35   \n",
       "126           2.74        3.15                  0.39             1.77   \n",
       "127           2.13        2.24                  0.58             1.76   \n",
       "128           2.22        2.45                  0.40             1.90   \n",
       "129           2.10        1.75                  0.42             1.35   \n",
       "\n",
       "     color intensity   hue  OD280/OD315 of diluted wines  proline  \n",
       "0               5.64  1.04                          3.92     1065  \n",
       "1               4.38  1.05                          3.40     1050  \n",
       "2               5.68  1.03                          3.17     1185  \n",
       "3               7.80  0.86                          3.45     1480  \n",
       "4               4.32  1.04                          2.93      735  \n",
       "..               ...   ...                           ...      ...  \n",
       "125             2.76  0.86                          3.28      378  \n",
       "126             3.94  0.69                          2.84      352  \n",
       "127             3.00  0.97                          2.44      466  \n",
       "128             2.12  0.89                          2.78      342  \n",
       "129             2.60  0.79                          2.57      580  \n",
       "\n",
       "[130 rows x 14 columns]"
      ]
     },
     "execution_count": 262,
     "metadata": {},
     "output_type": "execute_result"
    }
   ],
   "source": [
    "wine_df = wine_df[wine_df['class'] != 3]\n",
    "wine_df"
   ]
  },
  {
   "cell_type": "code",
   "execution_count": 263,
   "id": "e3d5bf92",
   "metadata": {
    "scrolled": false
   },
   "outputs": [
    {
     "data": {
      "text/html": [
       "<div>\n",
       "<style scoped>\n",
       "    .dataframe tbody tr th:only-of-type {\n",
       "        vertical-align: middle;\n",
       "    }\n",
       "\n",
       "    .dataframe tbody tr th {\n",
       "        vertical-align: top;\n",
       "    }\n",
       "\n",
       "    .dataframe thead th {\n",
       "        text-align: right;\n",
       "    }\n",
       "</style>\n",
       "<table border=\"1\" class=\"dataframe\">\n",
       "  <thead>\n",
       "    <tr style=\"text-align: right;\">\n",
       "      <th></th>\n",
       "      <th>class</th>\n",
       "      <th>alcohol</th>\n",
       "      <th>malic acid</th>\n",
       "      <th>ash</th>\n",
       "      <th>alcalinity of ash</th>\n",
       "      <th>magnesium</th>\n",
       "      <th>total phenols</th>\n",
       "      <th>flavanoids</th>\n",
       "      <th>nonflavanoid phenols</th>\n",
       "      <th>proanthocyanins</th>\n",
       "      <th>color intensity</th>\n",
       "      <th>hue</th>\n",
       "      <th>OD280/OD315 of diluted wines</th>\n",
       "      <th>proline</th>\n",
       "    </tr>\n",
       "  </thead>\n",
       "  <tbody>\n",
       "    <tr>\n",
       "      <th>0</th>\n",
       "      <td>2</td>\n",
       "      <td>12.08</td>\n",
       "      <td>2.08</td>\n",
       "      <td>1.70</td>\n",
       "      <td>17.5</td>\n",
       "      <td>97</td>\n",
       "      <td>2.23</td>\n",
       "      <td>2.17</td>\n",
       "      <td>0.26</td>\n",
       "      <td>1.40</td>\n",
       "      <td>3.30</td>\n",
       "      <td>1.270</td>\n",
       "      <td>2.96</td>\n",
       "      <td>710</td>\n",
       "    </tr>\n",
       "    <tr>\n",
       "      <th>1</th>\n",
       "      <td>1</td>\n",
       "      <td>13.83</td>\n",
       "      <td>1.57</td>\n",
       "      <td>2.62</td>\n",
       "      <td>20.0</td>\n",
       "      <td>115</td>\n",
       "      <td>2.95</td>\n",
       "      <td>3.40</td>\n",
       "      <td>0.40</td>\n",
       "      <td>1.72</td>\n",
       "      <td>6.60</td>\n",
       "      <td>1.130</td>\n",
       "      <td>2.57</td>\n",
       "      <td>1130</td>\n",
       "    </tr>\n",
       "    <tr>\n",
       "      <th>2</th>\n",
       "      <td>2</td>\n",
       "      <td>12.69</td>\n",
       "      <td>1.53</td>\n",
       "      <td>2.26</td>\n",
       "      <td>20.7</td>\n",
       "      <td>80</td>\n",
       "      <td>1.38</td>\n",
       "      <td>1.46</td>\n",
       "      <td>0.58</td>\n",
       "      <td>1.62</td>\n",
       "      <td>3.05</td>\n",
       "      <td>0.960</td>\n",
       "      <td>2.06</td>\n",
       "      <td>495</td>\n",
       "    </tr>\n",
       "    <tr>\n",
       "      <th>3</th>\n",
       "      <td>2</td>\n",
       "      <td>12.42</td>\n",
       "      <td>4.43</td>\n",
       "      <td>2.73</td>\n",
       "      <td>26.5</td>\n",
       "      <td>102</td>\n",
       "      <td>2.20</td>\n",
       "      <td>2.13</td>\n",
       "      <td>0.43</td>\n",
       "      <td>1.71</td>\n",
       "      <td>2.08</td>\n",
       "      <td>0.920</td>\n",
       "      <td>3.12</td>\n",
       "      <td>365</td>\n",
       "    </tr>\n",
       "    <tr>\n",
       "      <th>4</th>\n",
       "      <td>2</td>\n",
       "      <td>12.25</td>\n",
       "      <td>1.73</td>\n",
       "      <td>2.12</td>\n",
       "      <td>19.0</td>\n",
       "      <td>80</td>\n",
       "      <td>1.65</td>\n",
       "      <td>2.03</td>\n",
       "      <td>0.37</td>\n",
       "      <td>1.63</td>\n",
       "      <td>3.40</td>\n",
       "      <td>1.000</td>\n",
       "      <td>3.17</td>\n",
       "      <td>510</td>\n",
       "    </tr>\n",
       "    <tr>\n",
       "      <th>...</th>\n",
       "      <td>...</td>\n",
       "      <td>...</td>\n",
       "      <td>...</td>\n",
       "      <td>...</td>\n",
       "      <td>...</td>\n",
       "      <td>...</td>\n",
       "      <td>...</td>\n",
       "      <td>...</td>\n",
       "      <td>...</td>\n",
       "      <td>...</td>\n",
       "      <td>...</td>\n",
       "      <td>...</td>\n",
       "      <td>...</td>\n",
       "      <td>...</td>\n",
       "    </tr>\n",
       "    <tr>\n",
       "      <th>125</th>\n",
       "      <td>2</td>\n",
       "      <td>12.08</td>\n",
       "      <td>1.39</td>\n",
       "      <td>2.50</td>\n",
       "      <td>22.5</td>\n",
       "      <td>84</td>\n",
       "      <td>2.56</td>\n",
       "      <td>2.29</td>\n",
       "      <td>0.43</td>\n",
       "      <td>1.04</td>\n",
       "      <td>2.90</td>\n",
       "      <td>0.930</td>\n",
       "      <td>3.19</td>\n",
       "      <td>385</td>\n",
       "    </tr>\n",
       "    <tr>\n",
       "      <th>126</th>\n",
       "      <td>2</td>\n",
       "      <td>12.64</td>\n",
       "      <td>1.36</td>\n",
       "      <td>2.02</td>\n",
       "      <td>16.8</td>\n",
       "      <td>100</td>\n",
       "      <td>2.02</td>\n",
       "      <td>1.41</td>\n",
       "      <td>0.53</td>\n",
       "      <td>0.62</td>\n",
       "      <td>5.75</td>\n",
       "      <td>0.980</td>\n",
       "      <td>1.59</td>\n",
       "      <td>450</td>\n",
       "    </tr>\n",
       "    <tr>\n",
       "      <th>127</th>\n",
       "      <td>1</td>\n",
       "      <td>13.50</td>\n",
       "      <td>1.81</td>\n",
       "      <td>2.61</td>\n",
       "      <td>20.0</td>\n",
       "      <td>96</td>\n",
       "      <td>2.53</td>\n",
       "      <td>2.61</td>\n",
       "      <td>0.28</td>\n",
       "      <td>1.66</td>\n",
       "      <td>3.52</td>\n",
       "      <td>1.120</td>\n",
       "      <td>3.82</td>\n",
       "      <td>845</td>\n",
       "    </tr>\n",
       "    <tr>\n",
       "      <th>128</th>\n",
       "      <td>1</td>\n",
       "      <td>13.51</td>\n",
       "      <td>1.80</td>\n",
       "      <td>2.65</td>\n",
       "      <td>19.0</td>\n",
       "      <td>110</td>\n",
       "      <td>2.35</td>\n",
       "      <td>2.53</td>\n",
       "      <td>0.29</td>\n",
       "      <td>1.54</td>\n",
       "      <td>4.20</td>\n",
       "      <td>1.100</td>\n",
       "      <td>2.87</td>\n",
       "      <td>1095</td>\n",
       "    </tr>\n",
       "    <tr>\n",
       "      <th>129</th>\n",
       "      <td>2</td>\n",
       "      <td>12.29</td>\n",
       "      <td>1.61</td>\n",
       "      <td>2.21</td>\n",
       "      <td>20.4</td>\n",
       "      <td>103</td>\n",
       "      <td>1.10</td>\n",
       "      <td>1.02</td>\n",
       "      <td>0.37</td>\n",
       "      <td>1.46</td>\n",
       "      <td>3.05</td>\n",
       "      <td>0.906</td>\n",
       "      <td>1.82</td>\n",
       "      <td>870</td>\n",
       "    </tr>\n",
       "  </tbody>\n",
       "</table>\n",
       "<p>130 rows × 14 columns</p>\n",
       "</div>"
      ],
      "text/plain": [
       "     class  alcohol  malic acid   ash  alcalinity of ash  magnesium  \\\n",
       "0        2    12.08        2.08  1.70               17.5         97   \n",
       "1        1    13.83        1.57  2.62               20.0        115   \n",
       "2        2    12.69        1.53  2.26               20.7         80   \n",
       "3        2    12.42        4.43  2.73               26.5        102   \n",
       "4        2    12.25        1.73  2.12               19.0         80   \n",
       "..     ...      ...         ...   ...                ...        ...   \n",
       "125      2    12.08        1.39  2.50               22.5         84   \n",
       "126      2    12.64        1.36  2.02               16.8        100   \n",
       "127      1    13.50        1.81  2.61               20.0         96   \n",
       "128      1    13.51        1.80  2.65               19.0        110   \n",
       "129      2    12.29        1.61  2.21               20.4        103   \n",
       "\n",
       "     total phenols  flavanoids  nonflavanoid phenols  proanthocyanins  \\\n",
       "0             2.23        2.17                  0.26             1.40   \n",
       "1             2.95        3.40                  0.40             1.72   \n",
       "2             1.38        1.46                  0.58             1.62   \n",
       "3             2.20        2.13                  0.43             1.71   \n",
       "4             1.65        2.03                  0.37             1.63   \n",
       "..             ...         ...                   ...              ...   \n",
       "125           2.56        2.29                  0.43             1.04   \n",
       "126           2.02        1.41                  0.53             0.62   \n",
       "127           2.53        2.61                  0.28             1.66   \n",
       "128           2.35        2.53                  0.29             1.54   \n",
       "129           1.10        1.02                  0.37             1.46   \n",
       "\n",
       "     color intensity    hue  OD280/OD315 of diluted wines  proline  \n",
       "0               3.30  1.270                          2.96      710  \n",
       "1               6.60  1.130                          2.57     1130  \n",
       "2               3.05  0.960                          2.06      495  \n",
       "3               2.08  0.920                          3.12      365  \n",
       "4               3.40  1.000                          3.17      510  \n",
       "..               ...    ...                           ...      ...  \n",
       "125             2.90  0.930                          3.19      385  \n",
       "126             5.75  0.980                          1.59      450  \n",
       "127             3.52  1.120                          3.82      845  \n",
       "128             4.20  1.100                          2.87     1095  \n",
       "129             3.05  0.906                          1.82      870  \n",
       "\n",
       "[130 rows x 14 columns]"
      ]
     },
     "execution_count": 263,
     "metadata": {},
     "output_type": "execute_result"
    }
   ],
   "source": [
    "wine_df_shuffle = wine_df.sample(frac = 1).reset_index(drop = True)\n",
    "wine_df_shuffle"
   ]
  },
  {
   "cell_type": "code",
   "execution_count": 290,
   "id": "798dcca1",
   "metadata": {},
   "outputs": [],
   "source": [
    "wine_X = wine_df_shuffle[wine_df_shuffle.columns[1:]].to_numpy()\n",
    "wine_Y = wine_df_shuffle[wine_df_shuffle.columns[0]].to_numpy()"
   ]
  },
  {
   "cell_type": "code",
   "execution_count": 297,
   "id": "81ef17c5",
   "metadata": {},
   "outputs": [],
   "source": [
    "#Test, train, and validation sets\n",
    "X_train, X_test, y_train, y_test = train_test_split(wine_X, wine_Y, test_size=0.2, random_state=42)"
   ]
  },
  {
   "cell_type": "code",
   "execution_count": 298,
   "id": "7e4d2941",
   "metadata": {},
   "outputs": [],
   "source": [
    "#Classifier - imports\n",
    "from sklearn.linear_model import LogisticRegression\n",
    "from sklearn.model_selection import GridSearchCV\n",
    "from sklearn.pipeline import make_pipeline\n",
    "from sklearn.preprocessing import StandardScaler"
   ]
  },
  {
   "cell_type": "code",
   "execution_count": 299,
   "id": "f8017bdf",
   "metadata": {
    "scrolled": false
   },
   "outputs": [
    {
     "name": "stdout",
     "output_type": "stream",
     "text": [
      "training score for best hyperparameter 0.9566597653554175\n",
      "test score for best hyperparameter 0.922689075630252\n"
     ]
    },
    {
     "data": {
      "text/html": [
       "<style>#sk-container-id-20 {color: black;}#sk-container-id-20 pre{padding: 0;}#sk-container-id-20 div.sk-toggleable {background-color: white;}#sk-container-id-20 label.sk-toggleable__label {cursor: pointer;display: block;width: 100%;margin-bottom: 0;padding: 0.3em;box-sizing: border-box;text-align: center;}#sk-container-id-20 label.sk-toggleable__label-arrow:before {content: \"▸\";float: left;margin-right: 0.25em;color: #696969;}#sk-container-id-20 label.sk-toggleable__label-arrow:hover:before {color: black;}#sk-container-id-20 div.sk-estimator:hover label.sk-toggleable__label-arrow:before {color: black;}#sk-container-id-20 div.sk-toggleable__content {max-height: 0;max-width: 0;overflow: hidden;text-align: left;background-color: #f0f8ff;}#sk-container-id-20 div.sk-toggleable__content pre {margin: 0.2em;color: black;border-radius: 0.25em;background-color: #f0f8ff;}#sk-container-id-20 input.sk-toggleable__control:checked~div.sk-toggleable__content {max-height: 200px;max-width: 100%;overflow: auto;}#sk-container-id-20 input.sk-toggleable__control:checked~label.sk-toggleable__label-arrow:before {content: \"▾\";}#sk-container-id-20 div.sk-estimator input.sk-toggleable__control:checked~label.sk-toggleable__label {background-color: #d4ebff;}#sk-container-id-20 div.sk-label input.sk-toggleable__control:checked~label.sk-toggleable__label {background-color: #d4ebff;}#sk-container-id-20 input.sk-hidden--visually {border: 0;clip: rect(1px 1px 1px 1px);clip: rect(1px, 1px, 1px, 1px);height: 1px;margin: -1px;overflow: hidden;padding: 0;position: absolute;width: 1px;}#sk-container-id-20 div.sk-estimator {font-family: monospace;background-color: #f0f8ff;border: 1px dotted black;border-radius: 0.25em;box-sizing: border-box;margin-bottom: 0.5em;}#sk-container-id-20 div.sk-estimator:hover {background-color: #d4ebff;}#sk-container-id-20 div.sk-parallel-item::after {content: \"\";width: 100%;border-bottom: 1px solid gray;flex-grow: 1;}#sk-container-id-20 div.sk-label:hover label.sk-toggleable__label {background-color: #d4ebff;}#sk-container-id-20 div.sk-serial::before {content: \"\";position: absolute;border-left: 1px solid gray;box-sizing: border-box;top: 0;bottom: 0;left: 50%;z-index: 0;}#sk-container-id-20 div.sk-serial {display: flex;flex-direction: column;align-items: center;background-color: white;padding-right: 0.2em;padding-left: 0.2em;position: relative;}#sk-container-id-20 div.sk-item {position: relative;z-index: 1;}#sk-container-id-20 div.sk-parallel {display: flex;align-items: stretch;justify-content: center;background-color: white;position: relative;}#sk-container-id-20 div.sk-item::before, #sk-container-id-20 div.sk-parallel-item::before {content: \"\";position: absolute;border-left: 1px solid gray;box-sizing: border-box;top: 0;bottom: 0;left: 50%;z-index: -1;}#sk-container-id-20 div.sk-parallel-item {display: flex;flex-direction: column;z-index: 1;position: relative;background-color: white;}#sk-container-id-20 div.sk-parallel-item:first-child::after {align-self: flex-end;width: 50%;}#sk-container-id-20 div.sk-parallel-item:last-child::after {align-self: flex-start;width: 50%;}#sk-container-id-20 div.sk-parallel-item:only-child::after {width: 0;}#sk-container-id-20 div.sk-dashed-wrapped {border: 1px dashed gray;margin: 0 0.4em 0.5em 0.4em;box-sizing: border-box;padding-bottom: 0.4em;background-color: white;}#sk-container-id-20 div.sk-label label {font-family: monospace;font-weight: bold;display: inline-block;line-height: 1.2em;}#sk-container-id-20 div.sk-label-container {text-align: center;}#sk-container-id-20 div.sk-container {/* jupyter's `normalize.less` sets `[hidden] { display: none; }` but bootstrap.min.css set `[hidden] { display: none !important; }` so we also need the `!important` here to be able to override the default hidden behavior on the sphinx rendered scikit-learn.org. See: https://github.com/scikit-learn/scikit-learn/issues/21755 */display: inline-block !important;position: relative;}#sk-container-id-20 div.sk-text-repr-fallback {display: none;}</style><div id=\"sk-container-id-20\" class=\"sk-top-container\"><div class=\"sk-text-repr-fallback\"><pre>LogisticRegression(C=1, class_weight=&#x27;balanced&#x27;)</pre><b>In a Jupyter environment, please rerun this cell to show the HTML representation or trust the notebook. <br />On GitHub, the HTML representation is unable to render, please try loading this page with nbviewer.org.</b></div><div class=\"sk-container\" hidden><div class=\"sk-item\"><div class=\"sk-estimator sk-toggleable\"><input class=\"sk-toggleable__control sk-hidden--visually\" id=\"sk-estimator-id-24\" type=\"checkbox\" checked><label for=\"sk-estimator-id-24\" class=\"sk-toggleable__label sk-toggleable__label-arrow\">LogisticRegression</label><div class=\"sk-toggleable__content\"><pre>LogisticRegression(C=1, class_weight=&#x27;balanced&#x27;)</pre></div></div></div></div></div>"
      ],
      "text/plain": [
       "LogisticRegression(C=1, class_weight='balanced')"
      ]
     },
     "execution_count": 299,
     "metadata": {},
     "output_type": "execute_result"
    }
   ],
   "source": [
    "#training classifier\n",
    "params = {'C' : [0.001, 0.01, 0.1, 1], 'solver' : ['lbfgs', 'liblinear', 'newton-cg']}\n",
    "\n",
    "# have to scale data you ran into an error\n",
    "scaler = StandardScaler()\n",
    "scaler.fit(X_train)\n",
    "X_train_new = scaler.transform(X_train)\n",
    "\n",
    "# call classifier and get the best hyper parameter for this case - combinations of above params\n",
    "classifier = LogisticRegression(class_weight = 'balanced')\n",
    "class_hyper_tune = GridSearchCV(classifier, param_grid = params, cv = 3, return_train_score = True)\n",
    "class_hyper_tune.fit(X_train_new, y_train)\n",
    "print(\"training score for best hyperparameter \" + str(class_hyper_tune.cv_results_.get('mean_train_score')[0]))\n",
    "print(\"test score for best hyperparameter \" + str(class_hyper_tune.cv_results_.get('mean_test_score')[0]))\n",
    "class_hyper_tune.best_estimator_\n",
    "\n",
    "#call classifier and get the best hyper parameter for this case - trial 2\n",
    "# classifier1 = LogisticRegression(solver = 'liblinear', class_weight = 'balanced')\n",
    "# class_hyper_tune1 = GridSearchCV(classifier1, param_grid = params_C, cv = 3, return_train_score = True)\n",
    "# class_hyper_tune1.fit(X_train_new, y_train)\n",
    "# print(class_hyper_tune1.cv_results_.get('mean_train_score'))\n",
    "# print(class_hyper_tune1.cv_results_.get('mean_test_score'))\n",
    "# class_hyper_tune1.best_estimator_\n",
    "\n",
    "# #call classifier and get the best hyper parameter for this case - trail 3\n",
    "# classifier2 = LogisticRegression(solver = 'liblinear', class_weight = 'balanced')\n",
    "# class_hyper_tune2 = GridSearchCV(classifier2, param_grid = params_C, cv = 3, return_train_score = True)\n",
    "# class_hyper_tune2.fit(X_train_new, y_train)\n",
    "# print(class_hyper_tune1.cv_results_.get('mean_train_score'))\n",
    "# print(class_hyper_tune1.cv_results_.get('mean_test_score'))\n",
    "# class_hyper_tune1.best_estimator_"
   ]
  },
  {
   "cell_type": "code",
   "execution_count": 425,
   "id": "43483e86",
   "metadata": {},
   "outputs": [
    {
     "name": "stderr",
     "output_type": "stream",
     "text": [
      "/Users/shreyamusini/opt/anaconda3/lib/python3.9/site-packages/sklearn/linear_model/_logistic.py:460: ConvergenceWarning: lbfgs failed to converge (status=1):\n",
      "STOP: TOTAL NO. of ITERATIONS REACHED LIMIT.\n",
      "\n",
      "Increase the number of iterations (max_iter) or scale the data as shown in:\n",
      "    https://scikit-learn.org/stable/modules/preprocessing.html\n",
      "Please also refer to the documentation for alternative solver options:\n",
      "    https://scikit-learn.org/stable/modules/linear_model.html#logistic-regression\n",
      "  n_iter_i = _check_optimize_result(\n"
     ]
    },
    {
     "data": {
      "text/plain": [
       "1.0"
      ]
     },
     "execution_count": 425,
     "metadata": {},
     "output_type": "execute_result"
    }
   ],
   "source": [
    "#train data\n",
    "classifier_tuned = LogisticRegression(C = 1, class_weight = 'balanced')\n",
    "classifier_tuned.fit(X_train, y_train)\n",
    "classifier_tuned.score(X_test, y_test)"
   ]
  },
  {
   "cell_type": "code",
   "execution_count": null,
   "id": "b0b72ba4",
   "metadata": {},
   "outputs": [],
   "source": []
  },
  {
   "cell_type": "code",
   "execution_count": 665,
   "id": "6e22f884",
   "metadata": {},
   "outputs": [
    {
     "data": {
      "text/plain": [
       "0.9519230769230769"
      ]
     },
     "execution_count": 665,
     "metadata": {},
     "output_type": "execute_result"
    }
   ],
   "source": [
    "classifier_tuned.score(X_train, y_train)"
   ]
  },
  {
   "cell_type": "code",
   "execution_count": 428,
   "id": "b665d152",
   "metadata": {
    "scrolled": false
   },
   "outputs": [
    {
     "name": "stderr",
     "output_type": "stream",
     "text": [
      "/Users/shreyamusini/opt/anaconda3/lib/python3.9/site-packages/sklearn/linear_model/_logistic.py:460: ConvergenceWarning: lbfgs failed to converge (status=1):\n",
      "STOP: TOTAL NO. of ITERATIONS REACHED LIMIT.\n",
      "\n",
      "Increase the number of iterations (max_iter) or scale the data as shown in:\n",
      "    https://scikit-learn.org/stable/modules/preprocessing.html\n",
      "Please also refer to the documentation for alternative solver options:\n",
      "    https://scikit-learn.org/stable/modules/linear_model.html#logistic-regression\n",
      "  n_iter_i = _check_optimize_result(\n"
     ]
    },
    {
     "data": {
      "text/plain": [
       "0.9615384615384616"
      ]
     },
     "execution_count": 428,
     "metadata": {},
     "output_type": "execute_result"
    }
   ],
   "source": [
    "wine_df_shuffle_1 = wine_df.sample(frac = 1).reset_index(drop = True)\n",
    "X_train1, X_test1, y_train1, y_test1 = train_test_split(wine_X_1, wine_Y_1, test_size=0.2, random_state=42)\n",
    "\n",
    "classifier_tuned = LogisticRegression(C = 1, class_weight = 'balanced')\n",
    "classifier_tuned.fit(X_train1, y_train1)\n",
    "classifier_tuned.score(X_test1, y_test1)"
   ]
  },
  {
   "cell_type": "code",
   "execution_count": 666,
   "id": "eeceafa2",
   "metadata": {},
   "outputs": [
    {
     "data": {
      "text/plain": [
       "0.9711538461538461"
      ]
     },
     "execution_count": 666,
     "metadata": {},
     "output_type": "execute_result"
    }
   ],
   "source": [
    "classifier_tuned.score(X_train1, y_train1)"
   ]
  },
  {
   "cell_type": "code",
   "execution_count": 429,
   "id": "990cf555",
   "metadata": {
    "scrolled": true
   },
   "outputs": [
    {
     "name": "stderr",
     "output_type": "stream",
     "text": [
      "/Users/shreyamusini/opt/anaconda3/lib/python3.9/site-packages/sklearn/linear_model/_logistic.py:460: ConvergenceWarning: lbfgs failed to converge (status=1):\n",
      "STOP: TOTAL NO. of ITERATIONS REACHED LIMIT.\n",
      "\n",
      "Increase the number of iterations (max_iter) or scale the data as shown in:\n",
      "    https://scikit-learn.org/stable/modules/preprocessing.html\n",
      "Please also refer to the documentation for alternative solver options:\n",
      "    https://scikit-learn.org/stable/modules/linear_model.html#logistic-regression\n",
      "  n_iter_i = _check_optimize_result(\n"
     ]
    },
    {
     "data": {
      "text/plain": [
       "0.9166666666666666"
      ]
     },
     "execution_count": 429,
     "metadata": {},
     "output_type": "execute_result"
    }
   ],
   "source": [
    "wine_df_shuffle_2 = wine_df.sample(frac = 1).reset_index(drop = True)\n",
    "wine_X_2 = wine_df_shuffle_2[wine_df_shuffle_2.columns[1:]].to_numpy()\n",
    "wine_Y_2 = wine_df_shuffle_2[wine_df_shuffle_2.columns[0]].to_numpy()\n",
    "X_train2, X_test2, y_train2, y_test2 = train_test_split(wine_X_2, wine_Y_2, test_size=0.2, random_state=42)\n",
    "classifier_tuned = LogisticRegression(C = 1, class_weight = 'balanced')\n",
    "classifier_tuned.fit(X_train2, y_train2)\n",
    "classifier_tuned.score(X_test2, y_test2)"
   ]
  },
  {
   "cell_type": "code",
   "execution_count": 668,
   "id": "53370b37",
   "metadata": {},
   "outputs": [
    {
     "data": {
      "text/plain": [
       "0.9788732394366197"
      ]
     },
     "execution_count": 668,
     "metadata": {},
     "output_type": "execute_result"
    }
   ],
   "source": [
    "classifier_tuned.score(X_train2, y_train2)"
   ]
  },
  {
   "cell_type": "code",
   "execution_count": 660,
   "id": "ed1469c5",
   "metadata": {
    "scrolled": true
   },
   "outputs": [
    {
     "data": {
      "text/plain": [
       "0.9594017094017094"
      ]
     },
     "execution_count": 660,
     "metadata": {},
     "output_type": "execute_result"
    }
   ],
   "source": [
    "(0.9166666666666666 + 0.9615384615384616 + 1.0) / 3"
   ]
  },
  {
   "cell_type": "code",
   "execution_count": 715,
   "id": "09bb0543",
   "metadata": {},
   "outputs": [
    {
     "data": {
      "text/plain": [
       "0.9673167208378475"
      ]
     },
     "execution_count": 715,
     "metadata": {},
     "output_type": "execute_result"
    }
   ],
   "source": [
    "(0.9788732394366197 + 0.9711538461538461 + 0.9519230769230769\n",
    ") / 3"
   ]
  },
  {
   "cell_type": "markdown",
   "id": "592fff2e",
   "metadata": {},
   "source": [
    "## Round 2 - 50/50 Split for Wine Data"
   ]
  },
  {
   "cell_type": "code",
   "execution_count": 317,
   "id": "80d97ba5",
   "metadata": {
    "scrolled": false
   },
   "outputs": [
    {
     "data": {
      "text/html": [
       "<div>\n",
       "<style scoped>\n",
       "    .dataframe tbody tr th:only-of-type {\n",
       "        vertical-align: middle;\n",
       "    }\n",
       "\n",
       "    .dataframe tbody tr th {\n",
       "        vertical-align: top;\n",
       "    }\n",
       "\n",
       "    .dataframe thead th {\n",
       "        text-align: right;\n",
       "    }\n",
       "</style>\n",
       "<table border=\"1\" class=\"dataframe\">\n",
       "  <thead>\n",
       "    <tr style=\"text-align: right;\">\n",
       "      <th></th>\n",
       "      <th>class</th>\n",
       "      <th>alcohol</th>\n",
       "      <th>malic acid</th>\n",
       "      <th>ash</th>\n",
       "      <th>alcalinity of ash</th>\n",
       "      <th>magnesium</th>\n",
       "      <th>total phenols</th>\n",
       "      <th>flavanoids</th>\n",
       "      <th>nonflavanoid phenols</th>\n",
       "      <th>proanthocyanins</th>\n",
       "      <th>color intensity</th>\n",
       "      <th>hue</th>\n",
       "      <th>OD280/OD315 of diluted wines</th>\n",
       "      <th>proline</th>\n",
       "    </tr>\n",
       "  </thead>\n",
       "  <tbody>\n",
       "    <tr>\n",
       "      <th>0</th>\n",
       "      <td>1</td>\n",
       "      <td>13.05</td>\n",
       "      <td>2.05</td>\n",
       "      <td>3.22</td>\n",
       "      <td>25.0</td>\n",
       "      <td>124</td>\n",
       "      <td>2.63</td>\n",
       "      <td>2.68</td>\n",
       "      <td>0.47</td>\n",
       "      <td>1.92</td>\n",
       "      <td>3.58</td>\n",
       "      <td>1.13</td>\n",
       "      <td>3.20</td>\n",
       "      <td>830</td>\n",
       "    </tr>\n",
       "    <tr>\n",
       "      <th>1</th>\n",
       "      <td>2</td>\n",
       "      <td>11.82</td>\n",
       "      <td>1.47</td>\n",
       "      <td>1.99</td>\n",
       "      <td>20.8</td>\n",
       "      <td>86</td>\n",
       "      <td>1.98</td>\n",
       "      <td>1.60</td>\n",
       "      <td>0.30</td>\n",
       "      <td>1.53</td>\n",
       "      <td>1.95</td>\n",
       "      <td>0.95</td>\n",
       "      <td>3.33</td>\n",
       "      <td>495</td>\n",
       "    </tr>\n",
       "    <tr>\n",
       "      <th>2</th>\n",
       "      <td>2</td>\n",
       "      <td>12.43</td>\n",
       "      <td>1.53</td>\n",
       "      <td>2.29</td>\n",
       "      <td>21.5</td>\n",
       "      <td>86</td>\n",
       "      <td>2.74</td>\n",
       "      <td>3.15</td>\n",
       "      <td>0.39</td>\n",
       "      <td>1.77</td>\n",
       "      <td>3.94</td>\n",
       "      <td>0.69</td>\n",
       "      <td>2.84</td>\n",
       "      <td>352</td>\n",
       "    </tr>\n",
       "    <tr>\n",
       "      <th>3</th>\n",
       "      <td>1</td>\n",
       "      <td>13.39</td>\n",
       "      <td>1.77</td>\n",
       "      <td>2.62</td>\n",
       "      <td>16.1</td>\n",
       "      <td>93</td>\n",
       "      <td>2.85</td>\n",
       "      <td>2.94</td>\n",
       "      <td>0.34</td>\n",
       "      <td>1.45</td>\n",
       "      <td>4.80</td>\n",
       "      <td>0.92</td>\n",
       "      <td>3.22</td>\n",
       "      <td>1195</td>\n",
       "    </tr>\n",
       "    <tr>\n",
       "      <th>4</th>\n",
       "      <td>1</td>\n",
       "      <td>14.06</td>\n",
       "      <td>2.15</td>\n",
       "      <td>2.61</td>\n",
       "      <td>17.6</td>\n",
       "      <td>121</td>\n",
       "      <td>2.60</td>\n",
       "      <td>2.51</td>\n",
       "      <td>0.31</td>\n",
       "      <td>1.25</td>\n",
       "      <td>5.05</td>\n",
       "      <td>1.06</td>\n",
       "      <td>3.58</td>\n",
       "      <td>1295</td>\n",
       "    </tr>\n",
       "    <tr>\n",
       "      <th>...</th>\n",
       "      <td>...</td>\n",
       "      <td>...</td>\n",
       "      <td>...</td>\n",
       "      <td>...</td>\n",
       "      <td>...</td>\n",
       "      <td>...</td>\n",
       "      <td>...</td>\n",
       "      <td>...</td>\n",
       "      <td>...</td>\n",
       "      <td>...</td>\n",
       "      <td>...</td>\n",
       "      <td>...</td>\n",
       "      <td>...</td>\n",
       "      <td>...</td>\n",
       "    </tr>\n",
       "    <tr>\n",
       "      <th>125</th>\n",
       "      <td>2</td>\n",
       "      <td>12.33</td>\n",
       "      <td>0.99</td>\n",
       "      <td>1.95</td>\n",
       "      <td>14.8</td>\n",
       "      <td>136</td>\n",
       "      <td>1.90</td>\n",
       "      <td>1.85</td>\n",
       "      <td>0.35</td>\n",
       "      <td>2.76</td>\n",
       "      <td>3.40</td>\n",
       "      <td>1.06</td>\n",
       "      <td>2.31</td>\n",
       "      <td>750</td>\n",
       "    </tr>\n",
       "    <tr>\n",
       "      <th>126</th>\n",
       "      <td>2</td>\n",
       "      <td>12.42</td>\n",
       "      <td>2.55</td>\n",
       "      <td>2.27</td>\n",
       "      <td>22.0</td>\n",
       "      <td>90</td>\n",
       "      <td>1.68</td>\n",
       "      <td>1.84</td>\n",
       "      <td>0.66</td>\n",
       "      <td>1.42</td>\n",
       "      <td>2.70</td>\n",
       "      <td>0.86</td>\n",
       "      <td>3.30</td>\n",
       "      <td>315</td>\n",
       "    </tr>\n",
       "    <tr>\n",
       "      <th>127</th>\n",
       "      <td>2</td>\n",
       "      <td>12.60</td>\n",
       "      <td>1.34</td>\n",
       "      <td>1.90</td>\n",
       "      <td>18.5</td>\n",
       "      <td>88</td>\n",
       "      <td>1.45</td>\n",
       "      <td>1.36</td>\n",
       "      <td>0.29</td>\n",
       "      <td>1.35</td>\n",
       "      <td>2.45</td>\n",
       "      <td>1.04</td>\n",
       "      <td>2.77</td>\n",
       "      <td>562</td>\n",
       "    </tr>\n",
       "    <tr>\n",
       "      <th>128</th>\n",
       "      <td>1</td>\n",
       "      <td>13.83</td>\n",
       "      <td>1.57</td>\n",
       "      <td>2.62</td>\n",
       "      <td>20.0</td>\n",
       "      <td>115</td>\n",
       "      <td>2.95</td>\n",
       "      <td>3.40</td>\n",
       "      <td>0.40</td>\n",
       "      <td>1.72</td>\n",
       "      <td>6.60</td>\n",
       "      <td>1.13</td>\n",
       "      <td>2.57</td>\n",
       "      <td>1130</td>\n",
       "    </tr>\n",
       "    <tr>\n",
       "      <th>129</th>\n",
       "      <td>2</td>\n",
       "      <td>11.66</td>\n",
       "      <td>1.88</td>\n",
       "      <td>1.92</td>\n",
       "      <td>16.0</td>\n",
       "      <td>97</td>\n",
       "      <td>1.61</td>\n",
       "      <td>1.57</td>\n",
       "      <td>0.34</td>\n",
       "      <td>1.15</td>\n",
       "      <td>3.80</td>\n",
       "      <td>1.23</td>\n",
       "      <td>2.14</td>\n",
       "      <td>428</td>\n",
       "    </tr>\n",
       "  </tbody>\n",
       "</table>\n",
       "<p>130 rows × 14 columns</p>\n",
       "</div>"
      ],
      "text/plain": [
       "     class  alcohol  malic acid   ash  alcalinity of ash  magnesium  \\\n",
       "0        1    13.05        2.05  3.22               25.0        124   \n",
       "1        2    11.82        1.47  1.99               20.8         86   \n",
       "2        2    12.43        1.53  2.29               21.5         86   \n",
       "3        1    13.39        1.77  2.62               16.1         93   \n",
       "4        1    14.06        2.15  2.61               17.6        121   \n",
       "..     ...      ...         ...   ...                ...        ...   \n",
       "125      2    12.33        0.99  1.95               14.8        136   \n",
       "126      2    12.42        2.55  2.27               22.0         90   \n",
       "127      2    12.60        1.34  1.90               18.5         88   \n",
       "128      1    13.83        1.57  2.62               20.0        115   \n",
       "129      2    11.66        1.88  1.92               16.0         97   \n",
       "\n",
       "     total phenols  flavanoids  nonflavanoid phenols  proanthocyanins  \\\n",
       "0             2.63        2.68                  0.47             1.92   \n",
       "1             1.98        1.60                  0.30             1.53   \n",
       "2             2.74        3.15                  0.39             1.77   \n",
       "3             2.85        2.94                  0.34             1.45   \n",
       "4             2.60        2.51                  0.31             1.25   \n",
       "..             ...         ...                   ...              ...   \n",
       "125           1.90        1.85                  0.35             2.76   \n",
       "126           1.68        1.84                  0.66             1.42   \n",
       "127           1.45        1.36                  0.29             1.35   \n",
       "128           2.95        3.40                  0.40             1.72   \n",
       "129           1.61        1.57                  0.34             1.15   \n",
       "\n",
       "     color intensity   hue  OD280/OD315 of diluted wines  proline  \n",
       "0               3.58  1.13                          3.20      830  \n",
       "1               1.95  0.95                          3.33      495  \n",
       "2               3.94  0.69                          2.84      352  \n",
       "3               4.80  0.92                          3.22     1195  \n",
       "4               5.05  1.06                          3.58     1295  \n",
       "..               ...   ...                           ...      ...  \n",
       "125             3.40  1.06                          2.31      750  \n",
       "126             2.70  0.86                          3.30      315  \n",
       "127             2.45  1.04                          2.77      562  \n",
       "128             6.60  1.13                          2.57     1130  \n",
       "129             3.80  1.23                          2.14      428  \n",
       "\n",
       "[130 rows x 14 columns]"
      ]
     },
     "execution_count": 317,
     "metadata": {},
     "output_type": "execute_result"
    }
   ],
   "source": [
    "wine_df_shuffle_new = wine_df.sample(frac = 1).reset_index(drop = True)\n",
    "wine_df_shuffle_new"
   ]
  },
  {
   "cell_type": "code",
   "execution_count": 318,
   "id": "174274f2",
   "metadata": {},
   "outputs": [],
   "source": [
    "wine_X_new = wine_df_shuffle_new[wine_df_shuffle_new.columns[1:]].to_numpy()\n",
    "wine_Y_new = wine_df_shuffle_new[wine_df_shuffle_new.columns[0]].to_numpy()"
   ]
  },
  {
   "cell_type": "code",
   "execution_count": 321,
   "id": "7a6a38d4",
   "metadata": {},
   "outputs": [],
   "source": [
    "X_train_new, X_test_new, y_train_new, y_test_new = train_test_split(wine_X_new, wine_Y_new, test_size=0.5, random_state=42)"
   ]
  },
  {
   "cell_type": "code",
   "execution_count": 322,
   "id": "d444094e",
   "metadata": {
    "scrolled": false
   },
   "outputs": [
    {
     "name": "stdout",
     "output_type": "stream",
     "text": [
      "training score for best hyperparameter 0.9770965468639887\n",
      "test score for best hyperparameter 0.9696969696969697\n"
     ]
    },
    {
     "data": {
      "text/html": [
       "<style>#sk-container-id-23 {color: black;}#sk-container-id-23 pre{padding: 0;}#sk-container-id-23 div.sk-toggleable {background-color: white;}#sk-container-id-23 label.sk-toggleable__label {cursor: pointer;display: block;width: 100%;margin-bottom: 0;padding: 0.3em;box-sizing: border-box;text-align: center;}#sk-container-id-23 label.sk-toggleable__label-arrow:before {content: \"▸\";float: left;margin-right: 0.25em;color: #696969;}#sk-container-id-23 label.sk-toggleable__label-arrow:hover:before {color: black;}#sk-container-id-23 div.sk-estimator:hover label.sk-toggleable__label-arrow:before {color: black;}#sk-container-id-23 div.sk-toggleable__content {max-height: 0;max-width: 0;overflow: hidden;text-align: left;background-color: #f0f8ff;}#sk-container-id-23 div.sk-toggleable__content pre {margin: 0.2em;color: black;border-radius: 0.25em;background-color: #f0f8ff;}#sk-container-id-23 input.sk-toggleable__control:checked~div.sk-toggleable__content {max-height: 200px;max-width: 100%;overflow: auto;}#sk-container-id-23 input.sk-toggleable__control:checked~label.sk-toggleable__label-arrow:before {content: \"▾\";}#sk-container-id-23 div.sk-estimator input.sk-toggleable__control:checked~label.sk-toggleable__label {background-color: #d4ebff;}#sk-container-id-23 div.sk-label input.sk-toggleable__control:checked~label.sk-toggleable__label {background-color: #d4ebff;}#sk-container-id-23 input.sk-hidden--visually {border: 0;clip: rect(1px 1px 1px 1px);clip: rect(1px, 1px, 1px, 1px);height: 1px;margin: -1px;overflow: hidden;padding: 0;position: absolute;width: 1px;}#sk-container-id-23 div.sk-estimator {font-family: monospace;background-color: #f0f8ff;border: 1px dotted black;border-radius: 0.25em;box-sizing: border-box;margin-bottom: 0.5em;}#sk-container-id-23 div.sk-estimator:hover {background-color: #d4ebff;}#sk-container-id-23 div.sk-parallel-item::after {content: \"\";width: 100%;border-bottom: 1px solid gray;flex-grow: 1;}#sk-container-id-23 div.sk-label:hover label.sk-toggleable__label {background-color: #d4ebff;}#sk-container-id-23 div.sk-serial::before {content: \"\";position: absolute;border-left: 1px solid gray;box-sizing: border-box;top: 0;bottom: 0;left: 50%;z-index: 0;}#sk-container-id-23 div.sk-serial {display: flex;flex-direction: column;align-items: center;background-color: white;padding-right: 0.2em;padding-left: 0.2em;position: relative;}#sk-container-id-23 div.sk-item {position: relative;z-index: 1;}#sk-container-id-23 div.sk-parallel {display: flex;align-items: stretch;justify-content: center;background-color: white;position: relative;}#sk-container-id-23 div.sk-item::before, #sk-container-id-23 div.sk-parallel-item::before {content: \"\";position: absolute;border-left: 1px solid gray;box-sizing: border-box;top: 0;bottom: 0;left: 50%;z-index: -1;}#sk-container-id-23 div.sk-parallel-item {display: flex;flex-direction: column;z-index: 1;position: relative;background-color: white;}#sk-container-id-23 div.sk-parallel-item:first-child::after {align-self: flex-end;width: 50%;}#sk-container-id-23 div.sk-parallel-item:last-child::after {align-self: flex-start;width: 50%;}#sk-container-id-23 div.sk-parallel-item:only-child::after {width: 0;}#sk-container-id-23 div.sk-dashed-wrapped {border: 1px dashed gray;margin: 0 0.4em 0.5em 0.4em;box-sizing: border-box;padding-bottom: 0.4em;background-color: white;}#sk-container-id-23 div.sk-label label {font-family: monospace;font-weight: bold;display: inline-block;line-height: 1.2em;}#sk-container-id-23 div.sk-label-container {text-align: center;}#sk-container-id-23 div.sk-container {/* jupyter's `normalize.less` sets `[hidden] { display: none; }` but bootstrap.min.css set `[hidden] { display: none !important; }` so we also need the `!important` here to be able to override the default hidden behavior on the sphinx rendered scikit-learn.org. See: https://github.com/scikit-learn/scikit-learn/issues/21755 */display: inline-block !important;position: relative;}#sk-container-id-23 div.sk-text-repr-fallback {display: none;}</style><div id=\"sk-container-id-23\" class=\"sk-top-container\"><div class=\"sk-text-repr-fallback\"><pre>LogisticRegression(C=0.1, class_weight=&#x27;balanced&#x27;)</pre><b>In a Jupyter environment, please rerun this cell to show the HTML representation or trust the notebook. <br />On GitHub, the HTML representation is unable to render, please try loading this page with nbviewer.org.</b></div><div class=\"sk-container\" hidden><div class=\"sk-item\"><div class=\"sk-estimator sk-toggleable\"><input class=\"sk-toggleable__control sk-hidden--visually\" id=\"sk-estimator-id-27\" type=\"checkbox\" checked><label for=\"sk-estimator-id-27\" class=\"sk-toggleable__label sk-toggleable__label-arrow\">LogisticRegression</label><div class=\"sk-toggleable__content\"><pre>LogisticRegression(C=0.1, class_weight=&#x27;balanced&#x27;)</pre></div></div></div></div></div>"
      ],
      "text/plain": [
       "LogisticRegression(C=0.1, class_weight='balanced')"
      ]
     },
     "execution_count": 322,
     "metadata": {},
     "output_type": "execute_result"
    }
   ],
   "source": [
    "params = {'C' : [0.001, 0.01, 0.1, 1], 'solver' : ['lbfgs', 'liblinear', 'newton-cg']}\n",
    "\n",
    "# have to scale data you ran into an error\n",
    "scaler_new = StandardScaler()\n",
    "scaler_new.fit(X_train_new)\n",
    "X_train_new = scaler.transform(X_train_new)\n",
    "\n",
    "# call classifier and get the best hyper parameter for this case - combinations of above params\n",
    "classifier1 = LogisticRegression(class_weight = 'balanced')\n",
    "class_hyper_tune1 = GridSearchCV(classifier1, param_grid = params, cv = 3, return_train_score = True)\n",
    "class_hyper_tune1.fit(X_train_new, y_train_new)\n",
    "print(\"training score for best hyperparameter \" + str(class_hyper_tune1.cv_results_.get('mean_train_score')[0]))\n",
    "print(\"test score for best hyperparameter \" + str(class_hyper_tune1.cv_results_.get('mean_test_score')[0]))\n",
    "class_hyper_tune1.best_estimator_"
   ]
  },
  {
   "cell_type": "code",
   "execution_count": 323,
   "id": "5799a140",
   "metadata": {},
   "outputs": [
    {
     "data": {
      "text/plain": [
       "0.4153846153846154"
      ]
     },
     "execution_count": 323,
     "metadata": {},
     "output_type": "execute_result"
    }
   ],
   "source": [
    "classifier_tuned1 = LogisticRegression(C = 0.1, class_weight = 'balanced')\n",
    "classifier_tuned1.fit(X_train_new, y_train_new)\n",
    "classifier_tuned1.score(X_test_new, y_test_new)"
   ]
  },
  {
   "cell_type": "code",
   "execution_count": 324,
   "id": "da11f80e",
   "metadata": {},
   "outputs": [
    {
     "name": "stderr",
     "output_type": "stream",
     "text": [
      "/Users/shreyamusini/opt/anaconda3/lib/python3.9/site-packages/sklearn/linear_model/_logistic.py:460: ConvergenceWarning: lbfgs failed to converge (status=1):\n",
      "STOP: TOTAL NO. of ITERATIONS REACHED LIMIT.\n",
      "\n",
      "Increase the number of iterations (max_iter) or scale the data as shown in:\n",
      "    https://scikit-learn.org/stable/modules/preprocessing.html\n",
      "Please also refer to the documentation for alternative solver options:\n",
      "    https://scikit-learn.org/stable/modules/linear_model.html#logistic-regression\n",
      "  n_iter_i = _check_optimize_result(\n"
     ]
    },
    {
     "data": {
      "text/plain": [
       "0.9538461538461539"
      ]
     },
     "execution_count": 324,
     "metadata": {},
     "output_type": "execute_result"
    }
   ],
   "source": [
    "wine_df_shuffle_2 = wine_df.sample(frac = 1).reset_index(drop = True)\n",
    "wine_X_2 = wine_df_shuffle_2[wine_df_shuffle_2.columns[1:]].to_numpy()\n",
    "wine_Y_2 = wine_df_shuffle_2[wine_df_shuffle_2.columns[0]].to_numpy()\n",
    "X_train2, X_test2, y_train2, y_test2 = train_test_split(wine_X_2, wine_Y_2, test_size=0.5, random_state=42)\n",
    "classifier_tuned1.fit(X_train2, y_train2)\n",
    "classifier_tuned1.score(X_test2, y_test2)"
   ]
  },
  {
   "cell_type": "code",
   "execution_count": 325,
   "id": "c34035ea",
   "metadata": {
    "scrolled": true
   },
   "outputs": [
    {
     "name": "stderr",
     "output_type": "stream",
     "text": [
      "/Users/shreyamusini/opt/anaconda3/lib/python3.9/site-packages/sklearn/linear_model/_logistic.py:460: ConvergenceWarning: lbfgs failed to converge (status=1):\n",
      "STOP: TOTAL NO. of ITERATIONS REACHED LIMIT.\n",
      "\n",
      "Increase the number of iterations (max_iter) or scale the data as shown in:\n",
      "    https://scikit-learn.org/stable/modules/preprocessing.html\n",
      "Please also refer to the documentation for alternative solver options:\n",
      "    https://scikit-learn.org/stable/modules/linear_model.html#logistic-regression\n",
      "  n_iter_i = _check_optimize_result(\n"
     ]
    },
    {
     "data": {
      "text/plain": [
       "0.9692307692307692"
      ]
     },
     "execution_count": 325,
     "metadata": {},
     "output_type": "execute_result"
    }
   ],
   "source": [
    "wine_df_shuffle_3 = wine_df.sample(frac = 1).reset_index(drop = True)\n",
    "wine_X_3 = wine_df_shuffle_3[wine_df_shuffle_3.columns[1:]].to_numpy()\n",
    "wine_Y_3 = wine_df_shuffle_3[wine_df_shuffle_3.columns[0]].to_numpy()\n",
    "X_train3, X_test3, y_train3, y_test3 = train_test_split(wine_X_3, wine_Y_3, test_size=0.5, random_state=42)\n",
    "classifier_tuned1.fit(X_train3, y_train3)\n",
    "classifier_tuned1.score(X_test3, y_test3)"
   ]
  },
  {
   "cell_type": "code",
   "execution_count": 672,
   "id": "4c258a3e",
   "metadata": {},
   "outputs": [
    {
     "data": {
      "text/plain": [
       "0.7794871794871795"
      ]
     },
     "execution_count": 672,
     "metadata": {},
     "output_type": "execute_result"
    }
   ],
   "source": [
    "((0.4153846153846154) + (0.9692307692307692) + (0.9538461538461539)) / 3"
   ]
  },
  {
   "cell_type": "code",
   "execution_count": 716,
   "id": "e998f8a5",
   "metadata": {},
   "outputs": [
    {
     "data": {
      "text/plain": [
       "0.7298302636330805"
      ]
     },
     "execution_count": 716,
     "metadata": {},
     "output_type": "execute_result"
    }
   ],
   "source": [
    "(classifier_tuned1.score(X_train_new, y_train_new) + classifier_tuned1.score(X_train2, y_train2) + classifier_tuned1.score(X_train3, y_train3)) / 3"
   ]
  },
  {
   "cell_type": "markdown",
   "id": "9350b17f",
   "metadata": {},
   "source": [
    "## Round 3 - 80/20 Split for Wine Data"
   ]
  },
  {
   "cell_type": "markdown",
   "id": "0cbd31e1",
   "metadata": {},
   "source": [
    "#### Trial 1"
   ]
  },
  {
   "cell_type": "code",
   "execution_count": 674,
   "id": "7b704dfa",
   "metadata": {},
   "outputs": [],
   "source": [
    "wine_df_shuffle_80 = wine_df.sample(frac = 1).reset_index(drop = True)\n",
    "wine_X_80 = wine_df_shuffle_80[wine_df_shuffle_80.columns[1:]].to_numpy()\n",
    "wine_Y_80 = wine_df_shuffle_80[wine_df_shuffle_80.columns[0]].to_numpy()\n",
    "X_train80, X_test80, y_train80, y_test80 = train_test_split(wine_X_80, wine_Y_80, test_size=0.8, random_state=42)"
   ]
  },
  {
   "cell_type": "code",
   "execution_count": 676,
   "id": "a5701e36",
   "metadata": {},
   "outputs": [
    {
     "name": "stderr",
     "output_type": "stream",
     "text": [
      "/Users/shreyamusini/opt/anaconda3/lib/python3.9/site-packages/sklearn/linear_model/_logistic.py:460: ConvergenceWarning: lbfgs failed to converge (status=1):\n",
      "STOP: TOTAL NO. of ITERATIONS REACHED LIMIT.\n",
      "\n",
      "Increase the number of iterations (max_iter) or scale the data as shown in:\n",
      "    https://scikit-learn.org/stable/modules/preprocessing.html\n",
      "Please also refer to the documentation for alternative solver options:\n",
      "    https://scikit-learn.org/stable/modules/linear_model.html#logistic-regression\n",
      "  n_iter_i = _check_optimize_result(\n",
      "/Users/shreyamusini/opt/anaconda3/lib/python3.9/site-packages/sklearn/linear_model/_logistic.py:460: ConvergenceWarning: lbfgs failed to converge (status=1):\n",
      "STOP: TOTAL NO. of ITERATIONS REACHED LIMIT.\n",
      "\n",
      "Increase the number of iterations (max_iter) or scale the data as shown in:\n",
      "    https://scikit-learn.org/stable/modules/preprocessing.html\n",
      "Please also refer to the documentation for alternative solver options:\n",
      "    https://scikit-learn.org/stable/modules/linear_model.html#logistic-regression\n",
      "  n_iter_i = _check_optimize_result(\n",
      "/Users/shreyamusini/opt/anaconda3/lib/python3.9/site-packages/sklearn/linear_model/_logistic.py:460: ConvergenceWarning: lbfgs failed to converge (status=1):\n",
      "STOP: TOTAL NO. of ITERATIONS REACHED LIMIT.\n",
      "\n",
      "Increase the number of iterations (max_iter) or scale the data as shown in:\n",
      "    https://scikit-learn.org/stable/modules/preprocessing.html\n",
      "Please also refer to the documentation for alternative solver options:\n",
      "    https://scikit-learn.org/stable/modules/linear_model.html#logistic-regression\n",
      "  n_iter_i = _check_optimize_result(\n",
      "/Users/shreyamusini/opt/anaconda3/lib/python3.9/site-packages/sklearn/linear_model/_logistic.py:460: ConvergenceWarning: lbfgs failed to converge (status=1):\n",
      "STOP: TOTAL NO. of ITERATIONS REACHED LIMIT.\n",
      "\n",
      "Increase the number of iterations (max_iter) or scale the data as shown in:\n",
      "    https://scikit-learn.org/stable/modules/preprocessing.html\n",
      "Please also refer to the documentation for alternative solver options:\n",
      "    https://scikit-learn.org/stable/modules/linear_model.html#logistic-regression\n",
      "  n_iter_i = _check_optimize_result(\n",
      "/Users/shreyamusini/opt/anaconda3/lib/python3.9/site-packages/sklearn/linear_model/_logistic.py:460: ConvergenceWarning: lbfgs failed to converge (status=1):\n",
      "STOP: TOTAL NO. of ITERATIONS REACHED LIMIT.\n",
      "\n",
      "Increase the number of iterations (max_iter) or scale the data as shown in:\n",
      "    https://scikit-learn.org/stable/modules/preprocessing.html\n",
      "Please also refer to the documentation for alternative solver options:\n",
      "    https://scikit-learn.org/stable/modules/linear_model.html#logistic-regression\n",
      "  n_iter_i = _check_optimize_result(\n",
      "/Users/shreyamusini/opt/anaconda3/lib/python3.9/site-packages/sklearn/linear_model/_logistic.py:460: ConvergenceWarning: lbfgs failed to converge (status=1):\n",
      "STOP: TOTAL NO. of ITERATIONS REACHED LIMIT.\n",
      "\n",
      "Increase the number of iterations (max_iter) or scale the data as shown in:\n",
      "    https://scikit-learn.org/stable/modules/preprocessing.html\n",
      "Please also refer to the documentation for alternative solver options:\n",
      "    https://scikit-learn.org/stable/modules/linear_model.html#logistic-regression\n",
      "  n_iter_i = _check_optimize_result(\n",
      "/Users/shreyamusini/opt/anaconda3/lib/python3.9/site-packages/sklearn/linear_model/_logistic.py:460: ConvergenceWarning: lbfgs failed to converge (status=1):\n",
      "STOP: TOTAL NO. of ITERATIONS REACHED LIMIT.\n",
      "\n",
      "Increase the number of iterations (max_iter) or scale the data as shown in:\n",
      "    https://scikit-learn.org/stable/modules/preprocessing.html\n",
      "Please also refer to the documentation for alternative solver options:\n",
      "    https://scikit-learn.org/stable/modules/linear_model.html#logistic-regression\n",
      "  n_iter_i = _check_optimize_result(\n",
      "/Users/shreyamusini/opt/anaconda3/lib/python3.9/site-packages/sklearn/linear_model/_logistic.py:460: ConvergenceWarning: lbfgs failed to converge (status=1):\n",
      "STOP: TOTAL NO. of ITERATIONS REACHED LIMIT.\n",
      "\n",
      "Increase the number of iterations (max_iter) or scale the data as shown in:\n",
      "    https://scikit-learn.org/stable/modules/preprocessing.html\n",
      "Please also refer to the documentation for alternative solver options:\n",
      "    https://scikit-learn.org/stable/modules/linear_model.html#logistic-regression\n",
      "  n_iter_i = _check_optimize_result(\n",
      "/Users/shreyamusini/opt/anaconda3/lib/python3.9/site-packages/sklearn/linear_model/_logistic.py:460: ConvergenceWarning: lbfgs failed to converge (status=1):\n",
      "STOP: TOTAL NO. of ITERATIONS REACHED LIMIT.\n",
      "\n",
      "Increase the number of iterations (max_iter) or scale the data as shown in:\n",
      "    https://scikit-learn.org/stable/modules/preprocessing.html\n",
      "Please also refer to the documentation for alternative solver options:\n",
      "    https://scikit-learn.org/stable/modules/linear_model.html#logistic-regression\n",
      "  n_iter_i = _check_optimize_result(\n",
      "/Users/shreyamusini/opt/anaconda3/lib/python3.9/site-packages/sklearn/utils/optimize.py:211: ConvergenceWarning: newton-cg failed to converge. Increase the number of iterations.\n",
      "  warnings.warn(\n",
      "/Users/shreyamusini/opt/anaconda3/lib/python3.9/site-packages/sklearn/linear_model/_logistic.py:460: ConvergenceWarning: lbfgs failed to converge (status=1):\n",
      "STOP: TOTAL NO. of ITERATIONS REACHED LIMIT.\n",
      "\n",
      "Increase the number of iterations (max_iter) or scale the data as shown in:\n",
      "    https://scikit-learn.org/stable/modules/preprocessing.html\n",
      "Please also refer to the documentation for alternative solver options:\n",
      "    https://scikit-learn.org/stable/modules/linear_model.html#logistic-regression\n",
      "  n_iter_i = _check_optimize_result(\n",
      "/Users/shreyamusini/opt/anaconda3/lib/python3.9/site-packages/sklearn/linear_model/_logistic.py:460: ConvergenceWarning: lbfgs failed to converge (status=1):\n",
      "STOP: TOTAL NO. of ITERATIONS REACHED LIMIT.\n",
      "\n",
      "Increase the number of iterations (max_iter) or scale the data as shown in:\n",
      "    https://scikit-learn.org/stable/modules/preprocessing.html\n",
      "Please also refer to the documentation for alternative solver options:\n",
      "    https://scikit-learn.org/stable/modules/linear_model.html#logistic-regression\n",
      "  n_iter_i = _check_optimize_result(\n",
      "/Users/shreyamusini/opt/anaconda3/lib/python3.9/site-packages/sklearn/linear_model/_logistic.py:460: ConvergenceWarning: lbfgs failed to converge (status=1):\n",
      "STOP: TOTAL NO. of ITERATIONS REACHED LIMIT.\n",
      "\n",
      "Increase the number of iterations (max_iter) or scale the data as shown in:\n",
      "    https://scikit-learn.org/stable/modules/preprocessing.html\n",
      "Please also refer to the documentation for alternative solver options:\n",
      "    https://scikit-learn.org/stable/modules/linear_model.html#logistic-regression\n",
      "  n_iter_i = _check_optimize_result(\n"
     ]
    },
    {
     "name": "stdout",
     "output_type": "stream",
     "text": [
      "training score for best hyperparameter 0.8852657004830918\n",
      "test score for best hyperparameter 0.8308080808080809\n"
     ]
    },
    {
     "name": "stderr",
     "output_type": "stream",
     "text": [
      "/Users/shreyamusini/opt/anaconda3/lib/python3.9/site-packages/sklearn/utils/optimize.py:211: ConvergenceWarning: newton-cg failed to converge. Increase the number of iterations.\n",
      "  warnings.warn(\n",
      "/Users/shreyamusini/opt/anaconda3/lib/python3.9/site-packages/sklearn/linear_model/_logistic.py:460: ConvergenceWarning: lbfgs failed to converge (status=1):\n",
      "STOP: TOTAL NO. of ITERATIONS REACHED LIMIT.\n",
      "\n",
      "Increase the number of iterations (max_iter) or scale the data as shown in:\n",
      "    https://scikit-learn.org/stable/modules/preprocessing.html\n",
      "Please also refer to the documentation for alternative solver options:\n",
      "    https://scikit-learn.org/stable/modules/linear_model.html#logistic-regression\n",
      "  n_iter_i = _check_optimize_result(\n"
     ]
    },
    {
     "data": {
      "text/html": [
       "<style>#sk-container-id-82 {color: black;}#sk-container-id-82 pre{padding: 0;}#sk-container-id-82 div.sk-toggleable {background-color: white;}#sk-container-id-82 label.sk-toggleable__label {cursor: pointer;display: block;width: 100%;margin-bottom: 0;padding: 0.3em;box-sizing: border-box;text-align: center;}#sk-container-id-82 label.sk-toggleable__label-arrow:before {content: \"▸\";float: left;margin-right: 0.25em;color: #696969;}#sk-container-id-82 label.sk-toggleable__label-arrow:hover:before {color: black;}#sk-container-id-82 div.sk-estimator:hover label.sk-toggleable__label-arrow:before {color: black;}#sk-container-id-82 div.sk-toggleable__content {max-height: 0;max-width: 0;overflow: hidden;text-align: left;background-color: #f0f8ff;}#sk-container-id-82 div.sk-toggleable__content pre {margin: 0.2em;color: black;border-radius: 0.25em;background-color: #f0f8ff;}#sk-container-id-82 input.sk-toggleable__control:checked~div.sk-toggleable__content {max-height: 200px;max-width: 100%;overflow: auto;}#sk-container-id-82 input.sk-toggleable__control:checked~label.sk-toggleable__label-arrow:before {content: \"▾\";}#sk-container-id-82 div.sk-estimator input.sk-toggleable__control:checked~label.sk-toggleable__label {background-color: #d4ebff;}#sk-container-id-82 div.sk-label input.sk-toggleable__control:checked~label.sk-toggleable__label {background-color: #d4ebff;}#sk-container-id-82 input.sk-hidden--visually {border: 0;clip: rect(1px 1px 1px 1px);clip: rect(1px, 1px, 1px, 1px);height: 1px;margin: -1px;overflow: hidden;padding: 0;position: absolute;width: 1px;}#sk-container-id-82 div.sk-estimator {font-family: monospace;background-color: #f0f8ff;border: 1px dotted black;border-radius: 0.25em;box-sizing: border-box;margin-bottom: 0.5em;}#sk-container-id-82 div.sk-estimator:hover {background-color: #d4ebff;}#sk-container-id-82 div.sk-parallel-item::after {content: \"\";width: 100%;border-bottom: 1px solid gray;flex-grow: 1;}#sk-container-id-82 div.sk-label:hover label.sk-toggleable__label {background-color: #d4ebff;}#sk-container-id-82 div.sk-serial::before {content: \"\";position: absolute;border-left: 1px solid gray;box-sizing: border-box;top: 0;bottom: 0;left: 50%;z-index: 0;}#sk-container-id-82 div.sk-serial {display: flex;flex-direction: column;align-items: center;background-color: white;padding-right: 0.2em;padding-left: 0.2em;position: relative;}#sk-container-id-82 div.sk-item {position: relative;z-index: 1;}#sk-container-id-82 div.sk-parallel {display: flex;align-items: stretch;justify-content: center;background-color: white;position: relative;}#sk-container-id-82 div.sk-item::before, #sk-container-id-82 div.sk-parallel-item::before {content: \"\";position: absolute;border-left: 1px solid gray;box-sizing: border-box;top: 0;bottom: 0;left: 50%;z-index: -1;}#sk-container-id-82 div.sk-parallel-item {display: flex;flex-direction: column;z-index: 1;position: relative;background-color: white;}#sk-container-id-82 div.sk-parallel-item:first-child::after {align-self: flex-end;width: 50%;}#sk-container-id-82 div.sk-parallel-item:last-child::after {align-self: flex-start;width: 50%;}#sk-container-id-82 div.sk-parallel-item:only-child::after {width: 0;}#sk-container-id-82 div.sk-dashed-wrapped {border: 1px dashed gray;margin: 0 0.4em 0.5em 0.4em;box-sizing: border-box;padding-bottom: 0.4em;background-color: white;}#sk-container-id-82 div.sk-label label {font-family: monospace;font-weight: bold;display: inline-block;line-height: 1.2em;}#sk-container-id-82 div.sk-label-container {text-align: center;}#sk-container-id-82 div.sk-container {/* jupyter's `normalize.less` sets `[hidden] { display: none; }` but bootstrap.min.css set `[hidden] { display: none !important; }` so we also need the `!important` here to be able to override the default hidden behavior on the sphinx rendered scikit-learn.org. See: https://github.com/scikit-learn/scikit-learn/issues/21755 */display: inline-block !important;position: relative;}#sk-container-id-82 div.sk-text-repr-fallback {display: none;}</style><div id=\"sk-container-id-82\" class=\"sk-top-container\"><div class=\"sk-text-repr-fallback\"><pre>LogisticRegression(C=0.1, class_weight=&#x27;balanced&#x27;)</pre><b>In a Jupyter environment, please rerun this cell to show the HTML representation or trust the notebook. <br />On GitHub, the HTML representation is unable to render, please try loading this page with nbviewer.org.</b></div><div class=\"sk-container\" hidden><div class=\"sk-item\"><div class=\"sk-estimator sk-toggleable\"><input class=\"sk-toggleable__control sk-hidden--visually\" id=\"sk-estimator-id-94\" type=\"checkbox\" checked><label for=\"sk-estimator-id-94\" class=\"sk-toggleable__label sk-toggleable__label-arrow\">LogisticRegression</label><div class=\"sk-toggleable__content\"><pre>LogisticRegression(C=0.1, class_weight=&#x27;balanced&#x27;)</pre></div></div></div></div></div>"
      ],
      "text/plain": [
       "LogisticRegression(C=0.1, class_weight='balanced')"
      ]
     },
     "execution_count": 676,
     "metadata": {},
     "output_type": "execute_result"
    }
   ],
   "source": [
    "params = {'C' : [0.001, 0.01, 0.1, 1], 'solver' : ['lbfgs', 'liblinear', 'newton-cg']}\n",
    "\n",
    "# have to scale data you ran into an error\n",
    "# scaler_new80 = StandardScaler()\n",
    "# scaler_new80.fit(X_train80)\n",
    "# X_train80_new = scaler.transform(X_train80)\n",
    "\n",
    "# call classifier and get the best hyper parameter for this case - combinations of above params\n",
    "classifier8 = LogisticRegression(class_weight = 'balanced')\n",
    "class_hyper_tune8 = GridSearchCV(classifier8, param_grid = params, cv = 3, return_train_score = True)\n",
    "class_hyper_tune8.fit(X_train80, y_train80)\n",
    "print(\"training score for best hyperparameter \" + str(class_hyper_tune8.cv_results_.get('mean_train_score')[0]))\n",
    "print(\"test score for best hyperparameter \" + str(class_hyper_tune8.cv_results_.get('mean_test_score')[0]))\n",
    "class_hyper_tune8.best_estimator_"
   ]
  },
  {
   "cell_type": "code",
   "execution_count": 677,
   "id": "7fc7204f",
   "metadata": {},
   "outputs": [
    {
     "name": "stderr",
     "output_type": "stream",
     "text": [
      "/Users/shreyamusini/opt/anaconda3/lib/python3.9/site-packages/sklearn/linear_model/_logistic.py:460: ConvergenceWarning: lbfgs failed to converge (status=1):\n",
      "STOP: TOTAL NO. of ITERATIONS REACHED LIMIT.\n",
      "\n",
      "Increase the number of iterations (max_iter) or scale the data as shown in:\n",
      "    https://scikit-learn.org/stable/modules/preprocessing.html\n",
      "Please also refer to the documentation for alternative solver options:\n",
      "    https://scikit-learn.org/stable/modules/linear_model.html#logistic-regression\n",
      "  n_iter_i = _check_optimize_result(\n"
     ]
    },
    {
     "data": {
      "text/plain": [
       "0.7832167832167832"
      ]
     },
     "execution_count": 677,
     "metadata": {},
     "output_type": "execute_result"
    }
   ],
   "source": [
    "classifier_tuned8 = LogisticRegression(C = 0.1, class_weight = 'balanced')\n",
    "classifier_tuned8.fit(X_train80, y_train80)\n",
    "classifier_tuned8.score(X_test80, y_test80)"
   ]
  },
  {
   "cell_type": "code",
   "execution_count": 671,
   "id": "d3689129",
   "metadata": {},
   "outputs": [
    {
     "data": {
      "text/plain": [
       "0.7714285714285715"
      ]
     },
     "execution_count": 671,
     "metadata": {},
     "output_type": "execute_result"
    }
   ],
   "source": [
    "classifier_tuned8.score(X_train80, y_train80)"
   ]
  },
  {
   "cell_type": "markdown",
   "id": "3ec36486",
   "metadata": {},
   "source": [
    "#### Trial 2 "
   ]
  },
  {
   "cell_type": "code",
   "execution_count": 678,
   "id": "6ceb63be",
   "metadata": {},
   "outputs": [
    {
     "name": "stderr",
     "output_type": "stream",
     "text": [
      "/Users/shreyamusini/opt/anaconda3/lib/python3.9/site-packages/sklearn/linear_model/_logistic.py:460: ConvergenceWarning: lbfgs failed to converge (status=1):\n",
      "STOP: TOTAL NO. of ITERATIONS REACHED LIMIT.\n",
      "\n",
      "Increase the number of iterations (max_iter) or scale the data as shown in:\n",
      "    https://scikit-learn.org/stable/modules/preprocessing.html\n",
      "Please also refer to the documentation for alternative solver options:\n",
      "    https://scikit-learn.org/stable/modules/linear_model.html#logistic-regression\n",
      "  n_iter_i = _check_optimize_result(\n"
     ]
    },
    {
     "data": {
      "text/plain": [
       "0.916083916083916"
      ]
     },
     "execution_count": 678,
     "metadata": {},
     "output_type": "execute_result"
    }
   ],
   "source": [
    "wine_df_shuffle_ = wine_df.sample(frac = 1).reset_index(drop = True)\n",
    "wine_X_ = wine_df_shuffle_[wine_df_shuffle_.columns[1:]].to_numpy()\n",
    "wine_Y_ = wine_df_shuffle_[wine_df_shuffle_.columns[0]].to_numpy()\n",
    "X_train_, X_test_, y_train_, y_test_ = train_test_split(wine_X_, wine_Y_, test_size=0.8, random_state=42)\n",
    "classifier_tuned8.fit(X_train_, y_train_)\n",
    "classifier_tuned8.score(X_test_, y_test_)"
   ]
  },
  {
   "cell_type": "markdown",
   "id": "041de241",
   "metadata": {},
   "source": [
    "#### Trial 3"
   ]
  },
  {
   "cell_type": "code",
   "execution_count": 679,
   "id": "b7d848b8",
   "metadata": {
    "scrolled": true
   },
   "outputs": [
    {
     "name": "stderr",
     "output_type": "stream",
     "text": [
      "/Users/shreyamusini/opt/anaconda3/lib/python3.9/site-packages/sklearn/linear_model/_logistic.py:460: ConvergenceWarning: lbfgs failed to converge (status=1):\n",
      "STOP: TOTAL NO. of ITERATIONS REACHED LIMIT.\n",
      "\n",
      "Increase the number of iterations (max_iter) or scale the data as shown in:\n",
      "    https://scikit-learn.org/stable/modules/preprocessing.html\n",
      "Please also refer to the documentation for alternative solver options:\n",
      "    https://scikit-learn.org/stable/modules/linear_model.html#logistic-regression\n",
      "  n_iter_i = _check_optimize_result(\n"
     ]
    },
    {
     "data": {
      "text/plain": [
       "0.9300699300699301"
      ]
     },
     "execution_count": 679,
     "metadata": {},
     "output_type": "execute_result"
    }
   ],
   "source": [
    "wine_df_shuffle1 = wine_df.sample(frac = 1).reset_index(drop = True)\n",
    "wine_X1 = wine_df_shuffle1[wine_df_shuffle_.columns[1:]].to_numpy()\n",
    "wine_Y1 = wine_df_shuffle1[wine_df_shuffle_.columns[0]].to_numpy()\n",
    "X_train1, X_test1, y_train1, y_test1 = train_test_split(wine_X1, wine_Y1, test_size=0.8, random_state=42)\n",
    "classifier_tuned8.fit(X_train1, y_train1)\n",
    "classifier_tuned8.score(X_test1, y_test1)"
   ]
  },
  {
   "cell_type": "code",
   "execution_count": 680,
   "id": "004932e8",
   "metadata": {},
   "outputs": [
    {
     "data": {
      "text/plain": [
       "0.8725274725274725"
      ]
     },
     "execution_count": 680,
     "metadata": {},
     "output_type": "execute_result"
    }
   ],
   "source": [
    "(0.7714285714285715 + 0.916083916083916 + 0.9300699300699301) / 3"
   ]
  },
  {
   "cell_type": "code",
   "execution_count": 717,
   "id": "103b0d80",
   "metadata": {},
   "outputs": [
    {
     "data": {
      "text/plain": [
       "0.980952380952381"
      ]
     },
     "execution_count": 717,
     "metadata": {},
     "output_type": "execute_result"
    }
   ],
   "source": [
    "(classifier_tuned8.score(X_train80, y_train80) + classifier_tuned8.score(X_train1, y_train1) + classifier_tuned8.score(X_train_, y_train_)) / 3"
   ]
  },
  {
   "cell_type": "markdown",
   "id": "4f9d940e",
   "metadata": {},
   "source": [
    "# KNN - Wine Data Set - 20/80, 50/50, 80/20"
   ]
  },
  {
   "cell_type": "markdown",
   "id": "ba21aba4",
   "metadata": {},
   "source": [
    "## KNN - 80/20"
   ]
  },
  {
   "cell_type": "code",
   "execution_count": 337,
   "id": "b63b09aa",
   "metadata": {},
   "outputs": [
    {
     "name": "stdout",
     "output_type": "stream",
     "text": [
      "training score for best hyperparameter 0.9567287784679089\n",
      "test score for best hyperparameter 0.884313725490196\n"
     ]
    },
    {
     "data": {
      "text/html": [
       "<style>#sk-container-id-25 {color: black;}#sk-container-id-25 pre{padding: 0;}#sk-container-id-25 div.sk-toggleable {background-color: white;}#sk-container-id-25 label.sk-toggleable__label {cursor: pointer;display: block;width: 100%;margin-bottom: 0;padding: 0.3em;box-sizing: border-box;text-align: center;}#sk-container-id-25 label.sk-toggleable__label-arrow:before {content: \"▸\";float: left;margin-right: 0.25em;color: #696969;}#sk-container-id-25 label.sk-toggleable__label-arrow:hover:before {color: black;}#sk-container-id-25 div.sk-estimator:hover label.sk-toggleable__label-arrow:before {color: black;}#sk-container-id-25 div.sk-toggleable__content {max-height: 0;max-width: 0;overflow: hidden;text-align: left;background-color: #f0f8ff;}#sk-container-id-25 div.sk-toggleable__content pre {margin: 0.2em;color: black;border-radius: 0.25em;background-color: #f0f8ff;}#sk-container-id-25 input.sk-toggleable__control:checked~div.sk-toggleable__content {max-height: 200px;max-width: 100%;overflow: auto;}#sk-container-id-25 input.sk-toggleable__control:checked~label.sk-toggleable__label-arrow:before {content: \"▾\";}#sk-container-id-25 div.sk-estimator input.sk-toggleable__control:checked~label.sk-toggleable__label {background-color: #d4ebff;}#sk-container-id-25 div.sk-label input.sk-toggleable__control:checked~label.sk-toggleable__label {background-color: #d4ebff;}#sk-container-id-25 input.sk-hidden--visually {border: 0;clip: rect(1px 1px 1px 1px);clip: rect(1px, 1px, 1px, 1px);height: 1px;margin: -1px;overflow: hidden;padding: 0;position: absolute;width: 1px;}#sk-container-id-25 div.sk-estimator {font-family: monospace;background-color: #f0f8ff;border: 1px dotted black;border-radius: 0.25em;box-sizing: border-box;margin-bottom: 0.5em;}#sk-container-id-25 div.sk-estimator:hover {background-color: #d4ebff;}#sk-container-id-25 div.sk-parallel-item::after {content: \"\";width: 100%;border-bottom: 1px solid gray;flex-grow: 1;}#sk-container-id-25 div.sk-label:hover label.sk-toggleable__label {background-color: #d4ebff;}#sk-container-id-25 div.sk-serial::before {content: \"\";position: absolute;border-left: 1px solid gray;box-sizing: border-box;top: 0;bottom: 0;left: 50%;z-index: 0;}#sk-container-id-25 div.sk-serial {display: flex;flex-direction: column;align-items: center;background-color: white;padding-right: 0.2em;padding-left: 0.2em;position: relative;}#sk-container-id-25 div.sk-item {position: relative;z-index: 1;}#sk-container-id-25 div.sk-parallel {display: flex;align-items: stretch;justify-content: center;background-color: white;position: relative;}#sk-container-id-25 div.sk-item::before, #sk-container-id-25 div.sk-parallel-item::before {content: \"\";position: absolute;border-left: 1px solid gray;box-sizing: border-box;top: 0;bottom: 0;left: 50%;z-index: -1;}#sk-container-id-25 div.sk-parallel-item {display: flex;flex-direction: column;z-index: 1;position: relative;background-color: white;}#sk-container-id-25 div.sk-parallel-item:first-child::after {align-self: flex-end;width: 50%;}#sk-container-id-25 div.sk-parallel-item:last-child::after {align-self: flex-start;width: 50%;}#sk-container-id-25 div.sk-parallel-item:only-child::after {width: 0;}#sk-container-id-25 div.sk-dashed-wrapped {border: 1px dashed gray;margin: 0 0.4em 0.5em 0.4em;box-sizing: border-box;padding-bottom: 0.4em;background-color: white;}#sk-container-id-25 div.sk-label label {font-family: monospace;font-weight: bold;display: inline-block;line-height: 1.2em;}#sk-container-id-25 div.sk-label-container {text-align: center;}#sk-container-id-25 div.sk-container {/* jupyter's `normalize.less` sets `[hidden] { display: none; }` but bootstrap.min.css set `[hidden] { display: none !important; }` so we also need the `!important` here to be able to override the default hidden behavior on the sphinx rendered scikit-learn.org. See: https://github.com/scikit-learn/scikit-learn/issues/21755 */display: inline-block !important;position: relative;}#sk-container-id-25 div.sk-text-repr-fallback {display: none;}</style><div id=\"sk-container-id-25\" class=\"sk-top-container\"><div class=\"sk-text-repr-fallback\"><pre>KNeighborsClassifier(n_neighbors=10)</pre><b>In a Jupyter environment, please rerun this cell to show the HTML representation or trust the notebook. <br />On GitHub, the HTML representation is unable to render, please try loading this page with nbviewer.org.</b></div><div class=\"sk-container\" hidden><div class=\"sk-item\"><div class=\"sk-estimator sk-toggleable\"><input class=\"sk-toggleable__control sk-hidden--visually\" id=\"sk-estimator-id-29\" type=\"checkbox\" checked><label for=\"sk-estimator-id-29\" class=\"sk-toggleable__label sk-toggleable__label-arrow\">KNeighborsClassifier</label><div class=\"sk-toggleable__content\"><pre>KNeighborsClassifier(n_neighbors=10)</pre></div></div></div></div></div>"
      ],
      "text/plain": [
       "KNeighborsClassifier(n_neighbors=10)"
      ]
     },
     "execution_count": 337,
     "metadata": {},
     "output_type": "execute_result"
    }
   ],
   "source": [
    "#Train and Test Splits \n",
    "from sklearn.neighbors import KNeighborsClassifier\n",
    "wine_df_shuffled = wine_df.sample(frac = 1).reset_index(drop = True)\n",
    "wine_Xs = wine_df_shuffled[wine_df_shuffled.columns[1:]].to_numpy()\n",
    "wine_Ys = wine_df_shuffled[wine_df_shuffled.columns[0]].to_numpy()\n",
    "X_trains, X_tests, y_trains, y_tests = train_test_split(wine_Xs, wine_Ys, test_size=0.2, random_state=42)\n",
    "\n",
    "params = {'n_neighbors' : [3, 5, 7, 10]}\n",
    "\n",
    "# have to scale data you ran into an error\n",
    "\n",
    "# call classifier and get the best hyper parameter for this case - combinations of above params\n",
    "classifiers = KNeighborsClassifier(weights = 'uniform')\n",
    "class_hyper_tunes = GridSearchCV(classifiers, param_grid = params, cv = 3, return_train_score = True)\n",
    "class_hyper_tunes.fit(X_trains, y_trains)\n",
    "print(\"training score for best hyperparameter \" + str(class_hyper_tunes.cv_results_.get('mean_train_score')[0]))\n",
    "print(\"test score for best hyperparameter \" + str(class_hyper_tunes.cv_results_.get('mean_test_score')[0]))\n",
    "class_hyper_tunes.best_estimator_\n",
    "\n"
   ]
  },
  {
   "cell_type": "code",
   "execution_count": 338,
   "id": "5172af18",
   "metadata": {},
   "outputs": [
    {
     "data": {
      "text/plain": [
       "0.9615384615384616"
      ]
     },
     "execution_count": 338,
     "metadata": {},
     "output_type": "execute_result"
    }
   ],
   "source": [
    "tuned_KNN = KNeighborsClassifier(n_neighbors = 10)\n",
    "tuned_KNN.fit(X_trains, y_trains)\n",
    "tuned_KNN.score(X_tests, y_tests)"
   ]
  },
  {
   "cell_type": "markdown",
   "id": "591a767d",
   "metadata": {},
   "source": [
    "#### Trial 2"
   ]
  },
  {
   "cell_type": "code",
   "execution_count": 339,
   "id": "5fdbf9f5",
   "metadata": {},
   "outputs": [
    {
     "data": {
      "text/plain": [
       "0.8461538461538461"
      ]
     },
     "execution_count": 339,
     "metadata": {},
     "output_type": "execute_result"
    }
   ],
   "source": [
    "wine_df_shuffleds = wine_df.sample(frac = 1).reset_index(drop = True)\n",
    "wine_Xss = wine_df_shuffleds[wine_df_shuffleds.columns[1:]].to_numpy()\n",
    "wine_Yss = wine_df_shuffleds[wine_df_shuffleds.columns[0]].to_numpy()\n",
    "X_trainss, X_testss, y_trainss, y_testss = train_test_split(wine_Xss, wine_Yss, test_size=0.2, random_state=42)\n",
    "tuned_KNN.fit(X_trainss, y_trainss)\n",
    "tuned_KNN.score(X_testss, y_testss)"
   ]
  },
  {
   "cell_type": "markdown",
   "id": "6d1af347",
   "metadata": {},
   "source": [
    "#### Trial 3"
   ]
  },
  {
   "cell_type": "code",
   "execution_count": 719,
   "id": "e766d4fa",
   "metadata": {},
   "outputs": [
    {
     "data": {
      "text/plain": [
       "0.6944444444444444"
      ]
     },
     "execution_count": 719,
     "metadata": {},
     "output_type": "execute_result"
    }
   ],
   "source": [
    "wine_df_shuffledsw = wine_df.sample(frac = 1).reset_index(drop = True)\n",
    "wine_Xssw = wine_df_shuffledsw[wine_df_shuffledsw.columns[1:]].to_numpy()\n",
    "wine_Yssw = wine_df_shuffledsw[wine_df_shuffledsw.columns[0]].to_numpy()\n",
    "X_trainssw, X_testssw, y_trainssw, y_testssw = train_test_split(wine_Xssw, wine_Yssw, test_size=0.2, random_state=42)\n",
    "tuned_KNN.fit(X_trainssw, y_trainssw)\n",
    "tuned_KNN.score(X_testssw, y_testssw)"
   ]
  },
  {
   "cell_type": "code",
   "execution_count": 720,
   "id": "b74277eb",
   "metadata": {},
   "outputs": [
    {
     "data": {
      "text/plain": [
       "0.9102564102564102"
      ]
     },
     "execution_count": 720,
     "metadata": {},
     "output_type": "execute_result"
    }
   ],
   "source": [
    "(0.9615384615384616 + 0.8461538461538461 + 0.9230769230769231) / 3"
   ]
  },
  {
   "cell_type": "code",
   "execution_count": 721,
   "id": "f3dc2842",
   "metadata": {},
   "outputs": [
    {
     "data": {
      "text/plain": [
       "0.8280516431924884"
      ]
     },
     "execution_count": 721,
     "metadata": {},
     "output_type": "execute_result"
    }
   ],
   "source": [
    "(tuned_KNN.score(X_trainssw, y_trainssw) + \n",
    "tuned_KNN.score(X_trainss, y_trainss) + \n",
    "tuned_KNN.score(X_trains, y_trains)) / 3"
   ]
  },
  {
   "cell_type": "markdown",
   "id": "a2ebf625",
   "metadata": {},
   "source": [
    "## KNN 20/80"
   ]
  },
  {
   "cell_type": "code",
   "execution_count": 344,
   "id": "00117a46",
   "metadata": {
    "scrolled": true
   },
   "outputs": [
    {
     "name": "stdout",
     "output_type": "stream",
     "text": [
      "training score for best hyperparameter 0.9041394335511983\n",
      "test score for best hyperparameter 0.8888888888888888\n"
     ]
    },
    {
     "data": {
      "text/html": [
       "<style>#sk-container-id-26 {color: black;}#sk-container-id-26 pre{padding: 0;}#sk-container-id-26 div.sk-toggleable {background-color: white;}#sk-container-id-26 label.sk-toggleable__label {cursor: pointer;display: block;width: 100%;margin-bottom: 0;padding: 0.3em;box-sizing: border-box;text-align: center;}#sk-container-id-26 label.sk-toggleable__label-arrow:before {content: \"▸\";float: left;margin-right: 0.25em;color: #696969;}#sk-container-id-26 label.sk-toggleable__label-arrow:hover:before {color: black;}#sk-container-id-26 div.sk-estimator:hover label.sk-toggleable__label-arrow:before {color: black;}#sk-container-id-26 div.sk-toggleable__content {max-height: 0;max-width: 0;overflow: hidden;text-align: left;background-color: #f0f8ff;}#sk-container-id-26 div.sk-toggleable__content pre {margin: 0.2em;color: black;border-radius: 0.25em;background-color: #f0f8ff;}#sk-container-id-26 input.sk-toggleable__control:checked~div.sk-toggleable__content {max-height: 200px;max-width: 100%;overflow: auto;}#sk-container-id-26 input.sk-toggleable__control:checked~label.sk-toggleable__label-arrow:before {content: \"▾\";}#sk-container-id-26 div.sk-estimator input.sk-toggleable__control:checked~label.sk-toggleable__label {background-color: #d4ebff;}#sk-container-id-26 div.sk-label input.sk-toggleable__control:checked~label.sk-toggleable__label {background-color: #d4ebff;}#sk-container-id-26 input.sk-hidden--visually {border: 0;clip: rect(1px 1px 1px 1px);clip: rect(1px, 1px, 1px, 1px);height: 1px;margin: -1px;overflow: hidden;padding: 0;position: absolute;width: 1px;}#sk-container-id-26 div.sk-estimator {font-family: monospace;background-color: #f0f8ff;border: 1px dotted black;border-radius: 0.25em;box-sizing: border-box;margin-bottom: 0.5em;}#sk-container-id-26 div.sk-estimator:hover {background-color: #d4ebff;}#sk-container-id-26 div.sk-parallel-item::after {content: \"\";width: 100%;border-bottom: 1px solid gray;flex-grow: 1;}#sk-container-id-26 div.sk-label:hover label.sk-toggleable__label {background-color: #d4ebff;}#sk-container-id-26 div.sk-serial::before {content: \"\";position: absolute;border-left: 1px solid gray;box-sizing: border-box;top: 0;bottom: 0;left: 50%;z-index: 0;}#sk-container-id-26 div.sk-serial {display: flex;flex-direction: column;align-items: center;background-color: white;padding-right: 0.2em;padding-left: 0.2em;position: relative;}#sk-container-id-26 div.sk-item {position: relative;z-index: 1;}#sk-container-id-26 div.sk-parallel {display: flex;align-items: stretch;justify-content: center;background-color: white;position: relative;}#sk-container-id-26 div.sk-item::before, #sk-container-id-26 div.sk-parallel-item::before {content: \"\";position: absolute;border-left: 1px solid gray;box-sizing: border-box;top: 0;bottom: 0;left: 50%;z-index: -1;}#sk-container-id-26 div.sk-parallel-item {display: flex;flex-direction: column;z-index: 1;position: relative;background-color: white;}#sk-container-id-26 div.sk-parallel-item:first-child::after {align-self: flex-end;width: 50%;}#sk-container-id-26 div.sk-parallel-item:last-child::after {align-self: flex-start;width: 50%;}#sk-container-id-26 div.sk-parallel-item:only-child::after {width: 0;}#sk-container-id-26 div.sk-dashed-wrapped {border: 1px dashed gray;margin: 0 0.4em 0.5em 0.4em;box-sizing: border-box;padding-bottom: 0.4em;background-color: white;}#sk-container-id-26 div.sk-label label {font-family: monospace;font-weight: bold;display: inline-block;line-height: 1.2em;}#sk-container-id-26 div.sk-label-container {text-align: center;}#sk-container-id-26 div.sk-container {/* jupyter's `normalize.less` sets `[hidden] { display: none; }` but bootstrap.min.css set `[hidden] { display: none !important; }` so we also need the `!important` here to be able to override the default hidden behavior on the sphinx rendered scikit-learn.org. See: https://github.com/scikit-learn/scikit-learn/issues/21755 */display: inline-block !important;position: relative;}#sk-container-id-26 div.sk-text-repr-fallback {display: none;}</style><div id=\"sk-container-id-26\" class=\"sk-top-container\"><div class=\"sk-text-repr-fallback\"><pre>KNeighborsClassifier(n_neighbors=3)</pre><b>In a Jupyter environment, please rerun this cell to show the HTML representation or trust the notebook. <br />On GitHub, the HTML representation is unable to render, please try loading this page with nbviewer.org.</b></div><div class=\"sk-container\" hidden><div class=\"sk-item\"><div class=\"sk-estimator sk-toggleable\"><input class=\"sk-toggleable__control sk-hidden--visually\" id=\"sk-estimator-id-30\" type=\"checkbox\" checked><label for=\"sk-estimator-id-30\" class=\"sk-toggleable__label sk-toggleable__label-arrow\">KNeighborsClassifier</label><div class=\"sk-toggleable__content\"><pre>KNeighborsClassifier(n_neighbors=3)</pre></div></div></div></div></div>"
      ],
      "text/plain": [
       "KNeighborsClassifier(n_neighbors=3)"
      ]
     },
     "execution_count": 344,
     "metadata": {},
     "output_type": "execute_result"
    }
   ],
   "source": [
    "wine_df_shuff = wine_df.sample(frac = 1).reset_index(drop = True)\n",
    "wine_Xf = wine_df_shuff[wine_df_shuff.columns[1:]].to_numpy()\n",
    "wine_Ysf = wine_df_shuff[wine_df_shuff.columns[0]].to_numpy()\n",
    "X_trainsf, X_testsf, y_trainsf, y_testsf = train_test_split(wine_Xf, wine_Ysf, test_size=0.8, random_state=42)\n",
    "\n",
    "params = {'n_neighbors' : [3, 5, 7, 10]}\n",
    "\n",
    "# call classifier and get the best hyper parameter for this case - combinations of above params\n",
    "classifiersf = KNeighborsClassifier(weights = 'uniform')\n",
    "class_hyper_tunesf = GridSearchCV(classifiersf, param_grid = params, cv = 3, return_train_score = True)\n",
    "class_hyper_tunesf.fit(X_trainsf, y_trainsf)\n",
    "print(\"training score for best hyperparameter \" + str(class_hyper_tunesf.cv_results_.get('mean_train_score')[0]))\n",
    "print(\"test score for best hyperparameter \" + str(class_hyper_tunesf.cv_results_.get('mean_test_score')[0]))\n",
    "class_hyper_tunesf.best_estimator_\n"
   ]
  },
  {
   "cell_type": "markdown",
   "id": "d2ca5b40",
   "metadata": {},
   "source": [
    "#### Trial 1"
   ]
  },
  {
   "cell_type": "code",
   "execution_count": 345,
   "id": "47038e54",
   "metadata": {},
   "outputs": [
    {
     "data": {
      "text/plain": [
       "0.8653846153846154"
      ]
     },
     "execution_count": 345,
     "metadata": {},
     "output_type": "execute_result"
    }
   ],
   "source": [
    "tuned_KNN80 = KNeighborsClassifier(n_neighbors = 3)\n",
    "tuned_KNN80.fit(X_trainsf, y_trainsf)\n",
    "tuned_KNN80.score(X_testsf, y_testsf)"
   ]
  },
  {
   "cell_type": "markdown",
   "id": "4ef07d1b",
   "metadata": {},
   "source": [
    "#### Trial 2"
   ]
  },
  {
   "cell_type": "code",
   "execution_count": 346,
   "id": "5adb847c",
   "metadata": {},
   "outputs": [
    {
     "data": {
      "text/plain": [
       "0.9038461538461539"
      ]
     },
     "execution_count": 346,
     "metadata": {},
     "output_type": "execute_result"
    }
   ],
   "source": [
    "wine_df_shuffs = wine_df.sample(frac = 1).reset_index(drop = True)\n",
    "wine_Xe = wine_df_shuffs[wine_df_shuffs.columns[1:]].to_numpy()\n",
    "wine_Ye = wine_df_shuffs[wine_df_shuffs.columns[0]].to_numpy()\n",
    "X_trainse, X_testse, y_trainse, y_testse = train_test_split(wine_Xe, wine_Ye, test_size=0.8, random_state=42)\n",
    "tuned_KNN80.fit(X_trainse, y_trainse)\n",
    "tuned_KNN80.score(X_testse, y_testse)"
   ]
  },
  {
   "cell_type": "markdown",
   "id": "ba0f1502",
   "metadata": {},
   "source": [
    "#### Trial 3"
   ]
  },
  {
   "cell_type": "code",
   "execution_count": 347,
   "id": "4d75ab4c",
   "metadata": {},
   "outputs": [
    {
     "data": {
      "text/plain": [
       "0.9134615384615384"
      ]
     },
     "execution_count": 347,
     "metadata": {},
     "output_type": "execute_result"
    }
   ],
   "source": [
    "wine_df_shuffss = wine_df.sample(frac = 1).reset_index(drop = True)\n",
    "wine_Xes = wine_df_shuffss[wine_df_shuffss.columns[1:]].to_numpy()\n",
    "wine_Yes = wine_df_shuffss[wine_df_shuffss.columns[0]].to_numpy()\n",
    "X_trainses, X_testses, y_trainses, y_testses = train_test_split(wine_Xes, wine_Yes, test_size=0.8, random_state=42)\n",
    "tuned_KNN80.fit(X_trainses, y_trainses)\n",
    "tuned_KNN80.score(X_testses, y_testses)"
   ]
  },
  {
   "cell_type": "code",
   "execution_count": 682,
   "id": "5fe6ff43",
   "metadata": {
    "scrolled": true
   },
   "outputs": [
    {
     "data": {
      "text/plain": [
       "0.8942307692307692"
      ]
     },
     "execution_count": 682,
     "metadata": {},
     "output_type": "execute_result"
    }
   ],
   "source": [
    "(0.9134615384615384 + 0.9038461538461539 + 0.8653846153846154) / 3"
   ]
  },
  {
   "cell_type": "code",
   "execution_count": 722,
   "id": "1269e4c8",
   "metadata": {},
   "outputs": [
    {
     "data": {
      "text/plain": [
       "0.935897435897436"
      ]
     },
     "execution_count": 722,
     "metadata": {},
     "output_type": "execute_result"
    }
   ],
   "source": [
    "(tuned_KNN80.score(X_trainsf, y_trainsf) + \n",
    " tuned_KNN80.score(X_trainse, y_trainse) + \n",
    " tuned_KNN80.score(X_trainses, y_trainses)) / 3"
   ]
  },
  {
   "cell_type": "markdown",
   "id": "c8789b29",
   "metadata": {},
   "source": [
    "## KNN 50/50"
   ]
  },
  {
   "cell_type": "markdown",
   "id": "42da4ccd",
   "metadata": {},
   "source": [
    "#### Trial 1"
   ]
  },
  {
   "cell_type": "code",
   "execution_count": 350,
   "id": "de7ab470",
   "metadata": {
    "scrolled": true
   },
   "outputs": [
    {
     "name": "stdout",
     "output_type": "stream",
     "text": [
      "training score for best hyperparameter 0.9460887949260043\n",
      "test score for best hyperparameter 0.937950937950938\n"
     ]
    },
    {
     "data": {
      "text/html": [
       "<style>#sk-container-id-28 {color: black;}#sk-container-id-28 pre{padding: 0;}#sk-container-id-28 div.sk-toggleable {background-color: white;}#sk-container-id-28 label.sk-toggleable__label {cursor: pointer;display: block;width: 100%;margin-bottom: 0;padding: 0.3em;box-sizing: border-box;text-align: center;}#sk-container-id-28 label.sk-toggleable__label-arrow:before {content: \"▸\";float: left;margin-right: 0.25em;color: #696969;}#sk-container-id-28 label.sk-toggleable__label-arrow:hover:before {color: black;}#sk-container-id-28 div.sk-estimator:hover label.sk-toggleable__label-arrow:before {color: black;}#sk-container-id-28 div.sk-toggleable__content {max-height: 0;max-width: 0;overflow: hidden;text-align: left;background-color: #f0f8ff;}#sk-container-id-28 div.sk-toggleable__content pre {margin: 0.2em;color: black;border-radius: 0.25em;background-color: #f0f8ff;}#sk-container-id-28 input.sk-toggleable__control:checked~div.sk-toggleable__content {max-height: 200px;max-width: 100%;overflow: auto;}#sk-container-id-28 input.sk-toggleable__control:checked~label.sk-toggleable__label-arrow:before {content: \"▾\";}#sk-container-id-28 div.sk-estimator input.sk-toggleable__control:checked~label.sk-toggleable__label {background-color: #d4ebff;}#sk-container-id-28 div.sk-label input.sk-toggleable__control:checked~label.sk-toggleable__label {background-color: #d4ebff;}#sk-container-id-28 input.sk-hidden--visually {border: 0;clip: rect(1px 1px 1px 1px);clip: rect(1px, 1px, 1px, 1px);height: 1px;margin: -1px;overflow: hidden;padding: 0;position: absolute;width: 1px;}#sk-container-id-28 div.sk-estimator {font-family: monospace;background-color: #f0f8ff;border: 1px dotted black;border-radius: 0.25em;box-sizing: border-box;margin-bottom: 0.5em;}#sk-container-id-28 div.sk-estimator:hover {background-color: #d4ebff;}#sk-container-id-28 div.sk-parallel-item::after {content: \"\";width: 100%;border-bottom: 1px solid gray;flex-grow: 1;}#sk-container-id-28 div.sk-label:hover label.sk-toggleable__label {background-color: #d4ebff;}#sk-container-id-28 div.sk-serial::before {content: \"\";position: absolute;border-left: 1px solid gray;box-sizing: border-box;top: 0;bottom: 0;left: 50%;z-index: 0;}#sk-container-id-28 div.sk-serial {display: flex;flex-direction: column;align-items: center;background-color: white;padding-right: 0.2em;padding-left: 0.2em;position: relative;}#sk-container-id-28 div.sk-item {position: relative;z-index: 1;}#sk-container-id-28 div.sk-parallel {display: flex;align-items: stretch;justify-content: center;background-color: white;position: relative;}#sk-container-id-28 div.sk-item::before, #sk-container-id-28 div.sk-parallel-item::before {content: \"\";position: absolute;border-left: 1px solid gray;box-sizing: border-box;top: 0;bottom: 0;left: 50%;z-index: -1;}#sk-container-id-28 div.sk-parallel-item {display: flex;flex-direction: column;z-index: 1;position: relative;background-color: white;}#sk-container-id-28 div.sk-parallel-item:first-child::after {align-self: flex-end;width: 50%;}#sk-container-id-28 div.sk-parallel-item:last-child::after {align-self: flex-start;width: 50%;}#sk-container-id-28 div.sk-parallel-item:only-child::after {width: 0;}#sk-container-id-28 div.sk-dashed-wrapped {border: 1px dashed gray;margin: 0 0.4em 0.5em 0.4em;box-sizing: border-box;padding-bottom: 0.4em;background-color: white;}#sk-container-id-28 div.sk-label label {font-family: monospace;font-weight: bold;display: inline-block;line-height: 1.2em;}#sk-container-id-28 div.sk-label-container {text-align: center;}#sk-container-id-28 div.sk-container {/* jupyter's `normalize.less` sets `[hidden] { display: none; }` but bootstrap.min.css set `[hidden] { display: none !important; }` so we also need the `!important` here to be able to override the default hidden behavior on the sphinx rendered scikit-learn.org. See: https://github.com/scikit-learn/scikit-learn/issues/21755 */display: inline-block !important;position: relative;}#sk-container-id-28 div.sk-text-repr-fallback {display: none;}</style><div id=\"sk-container-id-28\" class=\"sk-top-container\"><div class=\"sk-text-repr-fallback\"><pre>KNeighborsClassifier(n_neighbors=3)</pre><b>In a Jupyter environment, please rerun this cell to show the HTML representation or trust the notebook. <br />On GitHub, the HTML representation is unable to render, please try loading this page with nbviewer.org.</b></div><div class=\"sk-container\" hidden><div class=\"sk-item\"><div class=\"sk-estimator sk-toggleable\"><input class=\"sk-toggleable__control sk-hidden--visually\" id=\"sk-estimator-id-32\" type=\"checkbox\" checked><label for=\"sk-estimator-id-32\" class=\"sk-toggleable__label sk-toggleable__label-arrow\">KNeighborsClassifier</label><div class=\"sk-toggleable__content\"><pre>KNeighborsClassifier(n_neighbors=3)</pre></div></div></div></div></div>"
      ],
      "text/plain": [
       "KNeighborsClassifier(n_neighbors=3)"
      ]
     },
     "execution_count": 350,
     "metadata": {},
     "output_type": "execute_result"
    }
   ],
   "source": [
    "wine_df_shuf = wine_df.sample(frac = 1).reset_index(drop = True)\n",
    "wine_Xu = wine_df_shuf[wine_df_shuf.columns[1:]].to_numpy()\n",
    "wine_Yu = wine_df_shuf[wine_df_shuf.columns[0]].to_numpy()\n",
    "X_trainu, X_testu, y_trainu, y_testu = train_test_split(wine_Xu, wine_Yu, test_size=0.5, random_state=42)\n",
    "\n",
    "params = {'n_neighbors' : [3, 5, 7, 10]}\n",
    "\n",
    "# call classifier and get the best hyper parameter for this case - combinations of above params\n",
    "classifiersu = KNeighborsClassifier(weights = 'uniform')\n",
    "class_hyper_tunesu = GridSearchCV(classifiersf, param_grid = params, cv = 3, return_train_score = True)\n",
    "class_hyper_tunesu.fit(X_trainu, y_trainu)\n",
    "print(\"training score for best hyperparameter \" + str(class_hyper_tunesu.cv_results_.get('mean_train_score')[0]))\n",
    "print(\"test score for best hyperparameter \" + str(class_hyper_tunesu.cv_results_.get('mean_test_score')[0]))\n",
    "class_hyper_tunesu.best_estimator_"
   ]
  },
  {
   "cell_type": "markdown",
   "id": "a52627bb",
   "metadata": {},
   "source": [
    "#### Trial 1"
   ]
  },
  {
   "cell_type": "code",
   "execution_count": 724,
   "id": "f3a5a377",
   "metadata": {
    "scrolled": false
   },
   "outputs": [
    {
     "data": {
      "text/plain": [
       "0.9230769230769231"
      ]
     },
     "execution_count": 724,
     "metadata": {},
     "output_type": "execute_result"
    }
   ],
   "source": [
    "tuned_50 = KNeighborsClassifier(n_neighbors = 3)\n",
    "tuned_50.fit(X_trainu, y_trainu)\n",
    "tuned_50.score(X_testu, y_testu)"
   ]
  },
  {
   "cell_type": "markdown",
   "id": "7cb59a6a",
   "metadata": {},
   "source": [
    "#### Trial 2"
   ]
  },
  {
   "cell_type": "code",
   "execution_count": 725,
   "id": "f68edd5c",
   "metadata": {},
   "outputs": [
    {
     "data": {
      "text/plain": [
       "0.6741573033707865"
      ]
     },
     "execution_count": 725,
     "metadata": {},
     "output_type": "execute_result"
    }
   ],
   "source": [
    "wine_df_shufl = wine_df.sample(frac = 1).reset_index(drop = True)\n",
    "wine_Xul = wine_df_shufl[wine_df_shufl.columns[1:]].to_numpy()\n",
    "wine_Yul = wine_df_shufl[wine_df_shufl.columns[0]].to_numpy()\n",
    "X_trainul, X_testul, y_trainul, y_testul = train_test_split(wine_Xul, wine_Yul, test_size=0.5, random_state=42)\n",
    "tuned_50.fit(X_trainul, y_trainul)\n",
    "tuned_50.score(X_testul, y_testul)"
   ]
  },
  {
   "cell_type": "markdown",
   "id": "a7659995",
   "metadata": {},
   "source": [
    "#### Trial 3"
   ]
  },
  {
   "cell_type": "code",
   "execution_count": 726,
   "id": "f33203e4",
   "metadata": {},
   "outputs": [
    {
     "data": {
      "text/plain": [
       "0.6404494382022472"
      ]
     },
     "execution_count": 726,
     "metadata": {},
     "output_type": "execute_result"
    }
   ],
   "source": [
    "wine_df_shufle = wine_df.sample(frac = 1).reset_index(drop = True)\n",
    "wine_Xule = wine_df_shufle[wine_df_shufle.columns[1:]].to_numpy()\n",
    "wine_Yule = wine_df_shufle[wine_df_shufle.columns[0]].to_numpy()\n",
    "X_trainule, X_testule, y_trainule, y_testule = train_test_split(wine_Xule, wine_Yule, test_size=0.5, random_state=42)\n",
    "tuned_50.fit(X_trainule, y_trainule)\n",
    "tuned_50.score(X_testule, y_testule)"
   ]
  },
  {
   "cell_type": "code",
   "execution_count": 727,
   "id": "4886d773",
   "metadata": {},
   "outputs": [
    {
     "data": {
      "text/plain": [
       "0.923076923076923"
      ]
     },
     "execution_count": 727,
     "metadata": {},
     "output_type": "execute_result"
    }
   ],
   "source": [
    "(0.9230769230769231 + 0.9076923076923077 + 0.9384615384615385) /3"
   ]
  },
  {
   "cell_type": "code",
   "execution_count": 728,
   "id": "bde34bb6",
   "metadata": {},
   "outputs": [
    {
     "data": {
      "text/plain": [
       "0.7882454624027657"
      ]
     },
     "execution_count": 728,
     "metadata": {},
     "output_type": "execute_result"
    }
   ],
   "source": [
    "(tuned_50.score(X_trainul, y_trainul) + \n",
    "tuned_50.score(X_trainule, y_trainule) + \n",
    "tuned_50.score(X_trainu, y_trainu)) / 3"
   ]
  },
  {
   "cell_type": "markdown",
   "id": "389ec3bd",
   "metadata": {},
   "source": [
    "# SVM on Wine Dataset - 20/80, 50/50, 80/20"
   ]
  },
  {
   "cell_type": "markdown",
   "id": "fa65ca5d",
   "metadata": {},
   "source": [
    "## 20/80 Split"
   ]
  },
  {
   "cell_type": "code",
   "execution_count": 686,
   "id": "53d9af91",
   "metadata": {
    "scrolled": false
   },
   "outputs": [
    {
     "name": "stdout",
     "output_type": "stream",
     "text": [
      "training score for best hyperparameter 0.7294685990338164\n",
      "test score for best hyperparameter 0.48484848484848486\n"
     ]
    },
    {
     "data": {
      "text/html": [
       "<style>#sk-container-id-83 {color: black;}#sk-container-id-83 pre{padding: 0;}#sk-container-id-83 div.sk-toggleable {background-color: white;}#sk-container-id-83 label.sk-toggleable__label {cursor: pointer;display: block;width: 100%;margin-bottom: 0;padding: 0.3em;box-sizing: border-box;text-align: center;}#sk-container-id-83 label.sk-toggleable__label-arrow:before {content: \"▸\";float: left;margin-right: 0.25em;color: #696969;}#sk-container-id-83 label.sk-toggleable__label-arrow:hover:before {color: black;}#sk-container-id-83 div.sk-estimator:hover label.sk-toggleable__label-arrow:before {color: black;}#sk-container-id-83 div.sk-toggleable__content {max-height: 0;max-width: 0;overflow: hidden;text-align: left;background-color: #f0f8ff;}#sk-container-id-83 div.sk-toggleable__content pre {margin: 0.2em;color: black;border-radius: 0.25em;background-color: #f0f8ff;}#sk-container-id-83 input.sk-toggleable__control:checked~div.sk-toggleable__content {max-height: 200px;max-width: 100%;overflow: auto;}#sk-container-id-83 input.sk-toggleable__control:checked~label.sk-toggleable__label-arrow:before {content: \"▾\";}#sk-container-id-83 div.sk-estimator input.sk-toggleable__control:checked~label.sk-toggleable__label {background-color: #d4ebff;}#sk-container-id-83 div.sk-label input.sk-toggleable__control:checked~label.sk-toggleable__label {background-color: #d4ebff;}#sk-container-id-83 input.sk-hidden--visually {border: 0;clip: rect(1px 1px 1px 1px);clip: rect(1px, 1px, 1px, 1px);height: 1px;margin: -1px;overflow: hidden;padding: 0;position: absolute;width: 1px;}#sk-container-id-83 div.sk-estimator {font-family: monospace;background-color: #f0f8ff;border: 1px dotted black;border-radius: 0.25em;box-sizing: border-box;margin-bottom: 0.5em;}#sk-container-id-83 div.sk-estimator:hover {background-color: #d4ebff;}#sk-container-id-83 div.sk-parallel-item::after {content: \"\";width: 100%;border-bottom: 1px solid gray;flex-grow: 1;}#sk-container-id-83 div.sk-label:hover label.sk-toggleable__label {background-color: #d4ebff;}#sk-container-id-83 div.sk-serial::before {content: \"\";position: absolute;border-left: 1px solid gray;box-sizing: border-box;top: 0;bottom: 0;left: 50%;z-index: 0;}#sk-container-id-83 div.sk-serial {display: flex;flex-direction: column;align-items: center;background-color: white;padding-right: 0.2em;padding-left: 0.2em;position: relative;}#sk-container-id-83 div.sk-item {position: relative;z-index: 1;}#sk-container-id-83 div.sk-parallel {display: flex;align-items: stretch;justify-content: center;background-color: white;position: relative;}#sk-container-id-83 div.sk-item::before, #sk-container-id-83 div.sk-parallel-item::before {content: \"\";position: absolute;border-left: 1px solid gray;box-sizing: border-box;top: 0;bottom: 0;left: 50%;z-index: -1;}#sk-container-id-83 div.sk-parallel-item {display: flex;flex-direction: column;z-index: 1;position: relative;background-color: white;}#sk-container-id-83 div.sk-parallel-item:first-child::after {align-self: flex-end;width: 50%;}#sk-container-id-83 div.sk-parallel-item:last-child::after {align-self: flex-start;width: 50%;}#sk-container-id-83 div.sk-parallel-item:only-child::after {width: 0;}#sk-container-id-83 div.sk-dashed-wrapped {border: 1px dashed gray;margin: 0 0.4em 0.5em 0.4em;box-sizing: border-box;padding-bottom: 0.4em;background-color: white;}#sk-container-id-83 div.sk-label label {font-family: monospace;font-weight: bold;display: inline-block;line-height: 1.2em;}#sk-container-id-83 div.sk-label-container {text-align: center;}#sk-container-id-83 div.sk-container {/* jupyter's `normalize.less` sets `[hidden] { display: none; }` but bootstrap.min.css set `[hidden] { display: none !important; }` so we also need the `!important` here to be able to override the default hidden behavior on the sphinx rendered scikit-learn.org. See: https://github.com/scikit-learn/scikit-learn/issues/21755 */display: inline-block !important;position: relative;}#sk-container-id-83 div.sk-text-repr-fallback {display: none;}</style><div id=\"sk-container-id-83\" class=\"sk-top-container\"><div class=\"sk-text-repr-fallback\"><pre>SVC(C=0.1, class_weight=&#x27;balanced&#x27;, kernel=&#x27;linear&#x27;)</pre><b>In a Jupyter environment, please rerun this cell to show the HTML representation or trust the notebook. <br />On GitHub, the HTML representation is unable to render, please try loading this page with nbviewer.org.</b></div><div class=\"sk-container\" hidden><div class=\"sk-item\"><div class=\"sk-estimator sk-toggleable\"><input class=\"sk-toggleable__control sk-hidden--visually\" id=\"sk-estimator-id-95\" type=\"checkbox\" checked><label for=\"sk-estimator-id-95\" class=\"sk-toggleable__label sk-toggleable__label-arrow\">SVC</label><div class=\"sk-toggleable__content\"><pre>SVC(C=0.1, class_weight=&#x27;balanced&#x27;, kernel=&#x27;linear&#x27;)</pre></div></div></div></div></div>"
      ],
      "text/plain": [
       "SVC(C=0.1, class_weight='balanced', kernel='linear')"
      ]
     },
     "execution_count": 686,
     "metadata": {},
     "output_type": "execute_result"
    }
   ],
   "source": [
    "from sklearn.svm import SVC\n",
    "wine_df_SVM = wine_df.sample(frac = 1).reset_index(drop = True)\n",
    "wine_XS = wine_df_SVM[wine_df_SVM.columns[1:]].to_numpy()\n",
    "wine_YS = wine_df_SVM[wine_df_SVM.columns[0]].to_numpy()\n",
    "X_trainS, X_testS, y_trainS, y_testS = train_test_split(wine_XS, wine_YS, test_size=0.8, random_state=42)\n",
    "\n",
    "params = {'C': [0.001, 0.01, 0.1, 1], 'kernel':['linear', 'poly', 'sigmoid', \"rbf\"]}\n",
    "# scaler_newSVM = StandardScaler()\n",
    "# scaler_newSVM.fit(X_trainS)\n",
    "# X_train_SVM = scaler.transform(X_trainS)\n",
    "\n",
    "\n",
    "# call classifier and get the best hyper parameter for this case - combinations of above params\n",
    "classifiere = SVC(class_weight = 'balanced')\n",
    "class_hyper_tunee = GridSearchCV(classifiere, param_grid = params, cv = 3, return_train_score = True)\n",
    "class_hyper_tunee.fit(X_trainS, y_trainS)\n",
    "print(\"training score for best hyperparameter \" + str(class_hyper_tunee.cv_results_.get('mean_train_score')[0]))\n",
    "print(\"test score for best hyperparameter \" + str(class_hyper_tunee.cv_results_.get('mean_test_score')[0]))\n",
    "class_hyper_tunee.best_estimator_"
   ]
  },
  {
   "cell_type": "markdown",
   "id": "4e76fee7",
   "metadata": {},
   "source": [
    "#### Trial 1"
   ]
  },
  {
   "cell_type": "code",
   "execution_count": 687,
   "id": "c102ebd1",
   "metadata": {},
   "outputs": [
    {
     "data": {
      "text/plain": [
       "0.9020979020979021"
      ]
     },
     "execution_count": 687,
     "metadata": {},
     "output_type": "execute_result"
    }
   ],
   "source": [
    "tuned_SVM = SVC(C = 0.1, kernel = \"linear\", class_weight = 'balanced')\n",
    "tuned_SVM.fit(X_trainS, y_trainS)\n",
    "tuned_SVM.score(X_testS, y_testS)"
   ]
  },
  {
   "cell_type": "markdown",
   "id": "74f4a110",
   "metadata": {},
   "source": [
    "#### Trial 2"
   ]
  },
  {
   "cell_type": "code",
   "execution_count": 688,
   "id": "fc84f41e",
   "metadata": {},
   "outputs": [
    {
     "data": {
      "text/plain": [
       "0.7062937062937062"
      ]
     },
     "execution_count": 688,
     "metadata": {},
     "output_type": "execute_result"
    }
   ],
   "source": [
    "wine_df_SVM1 = wine_df.sample(frac = 1).reset_index(drop = True)\n",
    "wine_XS1 = wine_df_SVM1[wine_df_SVM1.columns[1:]].to_numpy()\n",
    "wine_YS1 = wine_df_SVM1[wine_df_SVM1.columns[0]].to_numpy()\n",
    "X_trainS1, X_testS1, y_trainS1, y_testS1 = train_test_split(wine_XS1, wine_YS1, test_size=0.8, random_state=42)\n",
    "\n",
    "tuned_SVM.fit(X_trainS1, y_trainS1)\n",
    "tuned_SVM.score(X_testS1, y_testS1)"
   ]
  },
  {
   "cell_type": "markdown",
   "id": "509ccd85",
   "metadata": {},
   "source": [
    "#### Trial 3"
   ]
  },
  {
   "cell_type": "code",
   "execution_count": 689,
   "id": "d8b84673",
   "metadata": {},
   "outputs": [
    {
     "data": {
      "text/plain": [
       "0.916083916083916"
      ]
     },
     "execution_count": 689,
     "metadata": {},
     "output_type": "execute_result"
    }
   ],
   "source": [
    "wine_df_SVM2 = wine_df.sample(frac = 1).reset_index(drop = True)\n",
    "wine_XS2 = wine_df_SVM2[wine_df_SVM2.columns[1:]].to_numpy()\n",
    "wine_YS2 = wine_df_SVM2[wine_df_SVM2.columns[0]].to_numpy()\n",
    "X_trainS2, X_testS2, y_trainS2, y_testS2 = train_test_split(wine_XS2, wine_YS2, test_size=0.8, random_state=42)\n",
    "\n",
    "tuned_SVM.fit(X_trainS2, y_trainS2)\n",
    "tuned_SVM.score(X_testS2, y_testS2)"
   ]
  },
  {
   "cell_type": "code",
   "execution_count": 690,
   "id": "ab21b843",
   "metadata": {},
   "outputs": [
    {
     "data": {
      "text/plain": [
       "0.8414918414918414"
      ]
     },
     "execution_count": 690,
     "metadata": {},
     "output_type": "execute_result"
    }
   ],
   "source": [
    "(0.9020979020979021 + 0.7062937062937062 + 0.916083916083916) /3"
   ]
  },
  {
   "cell_type": "code",
   "execution_count": 729,
   "id": "5a9b5b0b",
   "metadata": {},
   "outputs": [
    {
     "data": {
      "text/plain": [
       "0.9428571428571427"
      ]
     },
     "execution_count": 729,
     "metadata": {},
     "output_type": "execute_result"
    }
   ],
   "source": [
    "(tuned_SVM.score(X_trainS2, y_trainS2) + \n",
    "tuned_SVM.score(X_trainS1, y_trainS1) + \n",
    "tuned_SVM.score(X_trainS, y_trainS)) / 3"
   ]
  },
  {
   "cell_type": "markdown",
   "id": "5be4e191",
   "metadata": {},
   "source": [
    "## 50/50 Split"
   ]
  },
  {
   "cell_type": "markdown",
   "id": "a342bedc",
   "metadata": {},
   "source": [
    "## Hyper Parameter Tuning"
   ]
  },
  {
   "cell_type": "code",
   "execution_count": 403,
   "id": "2be5a724",
   "metadata": {
    "scrolled": true
   },
   "outputs": [
    {
     "name": "stdout",
     "output_type": "stream",
     "text": [
      "training score for best hyperparameter 0.797834274952919\n",
      "test score for best hyperparameter 0.7524904214559386\n"
     ]
    },
    {
     "data": {
      "text/html": [
       "<style>#sk-container-id-36 {color: black;}#sk-container-id-36 pre{padding: 0;}#sk-container-id-36 div.sk-toggleable {background-color: white;}#sk-container-id-36 label.sk-toggleable__label {cursor: pointer;display: block;width: 100%;margin-bottom: 0;padding: 0.3em;box-sizing: border-box;text-align: center;}#sk-container-id-36 label.sk-toggleable__label-arrow:before {content: \"▸\";float: left;margin-right: 0.25em;color: #696969;}#sk-container-id-36 label.sk-toggleable__label-arrow:hover:before {color: black;}#sk-container-id-36 div.sk-estimator:hover label.sk-toggleable__label-arrow:before {color: black;}#sk-container-id-36 div.sk-toggleable__content {max-height: 0;max-width: 0;overflow: hidden;text-align: left;background-color: #f0f8ff;}#sk-container-id-36 div.sk-toggleable__content pre {margin: 0.2em;color: black;border-radius: 0.25em;background-color: #f0f8ff;}#sk-container-id-36 input.sk-toggleable__control:checked~div.sk-toggleable__content {max-height: 200px;max-width: 100%;overflow: auto;}#sk-container-id-36 input.sk-toggleable__control:checked~label.sk-toggleable__label-arrow:before {content: \"▾\";}#sk-container-id-36 div.sk-estimator input.sk-toggleable__control:checked~label.sk-toggleable__label {background-color: #d4ebff;}#sk-container-id-36 div.sk-label input.sk-toggleable__control:checked~label.sk-toggleable__label {background-color: #d4ebff;}#sk-container-id-36 input.sk-hidden--visually {border: 0;clip: rect(1px 1px 1px 1px);clip: rect(1px, 1px, 1px, 1px);height: 1px;margin: -1px;overflow: hidden;padding: 0;position: absolute;width: 1px;}#sk-container-id-36 div.sk-estimator {font-family: monospace;background-color: #f0f8ff;border: 1px dotted black;border-radius: 0.25em;box-sizing: border-box;margin-bottom: 0.5em;}#sk-container-id-36 div.sk-estimator:hover {background-color: #d4ebff;}#sk-container-id-36 div.sk-parallel-item::after {content: \"\";width: 100%;border-bottom: 1px solid gray;flex-grow: 1;}#sk-container-id-36 div.sk-label:hover label.sk-toggleable__label {background-color: #d4ebff;}#sk-container-id-36 div.sk-serial::before {content: \"\";position: absolute;border-left: 1px solid gray;box-sizing: border-box;top: 0;bottom: 0;left: 50%;z-index: 0;}#sk-container-id-36 div.sk-serial {display: flex;flex-direction: column;align-items: center;background-color: white;padding-right: 0.2em;padding-left: 0.2em;position: relative;}#sk-container-id-36 div.sk-item {position: relative;z-index: 1;}#sk-container-id-36 div.sk-parallel {display: flex;align-items: stretch;justify-content: center;background-color: white;position: relative;}#sk-container-id-36 div.sk-item::before, #sk-container-id-36 div.sk-parallel-item::before {content: \"\";position: absolute;border-left: 1px solid gray;box-sizing: border-box;top: 0;bottom: 0;left: 50%;z-index: -1;}#sk-container-id-36 div.sk-parallel-item {display: flex;flex-direction: column;z-index: 1;position: relative;background-color: white;}#sk-container-id-36 div.sk-parallel-item:first-child::after {align-self: flex-end;width: 50%;}#sk-container-id-36 div.sk-parallel-item:last-child::after {align-self: flex-start;width: 50%;}#sk-container-id-36 div.sk-parallel-item:only-child::after {width: 0;}#sk-container-id-36 div.sk-dashed-wrapped {border: 1px dashed gray;margin: 0 0.4em 0.5em 0.4em;box-sizing: border-box;padding-bottom: 0.4em;background-color: white;}#sk-container-id-36 div.sk-label label {font-family: monospace;font-weight: bold;display: inline-block;line-height: 1.2em;}#sk-container-id-36 div.sk-label-container {text-align: center;}#sk-container-id-36 div.sk-container {/* jupyter's `normalize.less` sets `[hidden] { display: none; }` but bootstrap.min.css set `[hidden] { display: none !important; }` so we also need the `!important` here to be able to override the default hidden behavior on the sphinx rendered scikit-learn.org. See: https://github.com/scikit-learn/scikit-learn/issues/21755 */display: inline-block !important;position: relative;}#sk-container-id-36 div.sk-text-repr-fallback {display: none;}</style><div id=\"sk-container-id-36\" class=\"sk-top-container\"><div class=\"sk-text-repr-fallback\"><pre>SVC(C=1, class_weight=&#x27;balanced&#x27;, kernel=&#x27;linear&#x27;)</pre><b>In a Jupyter environment, please rerun this cell to show the HTML representation or trust the notebook. <br />On GitHub, the HTML representation is unable to render, please try loading this page with nbviewer.org.</b></div><div class=\"sk-container\" hidden><div class=\"sk-item\"><div class=\"sk-estimator sk-toggleable\"><input class=\"sk-toggleable__control sk-hidden--visually\" id=\"sk-estimator-id-48\" type=\"checkbox\" checked><label for=\"sk-estimator-id-48\" class=\"sk-toggleable__label sk-toggleable__label-arrow\">SVC</label><div class=\"sk-toggleable__content\"><pre>SVC(C=1, class_weight=&#x27;balanced&#x27;, kernel=&#x27;linear&#x27;)</pre></div></div></div></div></div>"
      ],
      "text/plain": [
       "SVC(C=1, class_weight='balanced', kernel='linear')"
      ]
     },
     "execution_count": 403,
     "metadata": {},
     "output_type": "execute_result"
    }
   ],
   "source": [
    "wine_df_S = wine_df.sample(frac = 1).reset_index(drop = True)\n",
    "wine_XSS = wine_df_S[wine_df_S.columns[1:]].to_numpy()\n",
    "wine_YSS = wine_df_S[wine_df_S.columns[0]].to_numpy()\n",
    "X_trainSS, X_testSS, y_trainSS, y_testSS = train_test_split(wine_XSS, wine_YSS, test_size=0.5, random_state=42)\n",
    "\n",
    "params = {'C': [0.001, 0.01, 0.1, 1], 'kernel':['linear', 'poly', 'sigmoid', \"rbf\"]}\n",
    "# scaler_newSVM = StandardScaler()\n",
    "# scaler_newSVM.fit(X_trainS)\n",
    "# X_train_SVM = scaler.transform(X_trainS)\n",
    "\n",
    "\n",
    "# call classifier and get the best hyper parameter for this case - combinations of above params\n",
    "classifiers = SVC(class_weight = 'balanced')\n",
    "class_hyper_tunes = GridSearchCV(classifiers, param_grid = params, cv = 3, return_train_score = True)\n",
    "class_hyper_tunes.fit(X_trainSS, y_trainSS)\n",
    "print(\"training score for best hyperparameter \" + str(class_hyper_tunes.cv_results_.get('mean_train_score')[0]))\n",
    "print(\"test score for best hyperparameter \" + str(class_hyper_tunes.cv_results_.get('mean_test_score')[0]))\n",
    "class_hyper_tunes.best_estimator_"
   ]
  },
  {
   "cell_type": "markdown",
   "id": "e7d0d59d",
   "metadata": {},
   "source": [
    "#### Trial 1"
   ]
  },
  {
   "cell_type": "code",
   "execution_count": 404,
   "id": "654bd4f2",
   "metadata": {},
   "outputs": [
    {
     "data": {
      "text/plain": [
       "0.9213483146067416"
      ]
     },
     "execution_count": 404,
     "metadata": {},
     "output_type": "execute_result"
    }
   ],
   "source": [
    "tuned_50 = SVC(class_weight = 'balanced', C = 1, kernel = 'linear')\n",
    "tuned_50.fit(X_trainSS, y_trainSS)\n",
    "tuned_50.score(X_testSS, y_testSS)"
   ]
  },
  {
   "cell_type": "markdown",
   "id": "278b00e4",
   "metadata": {},
   "source": [
    "#### Trial 2"
   ]
  },
  {
   "cell_type": "code",
   "execution_count": 406,
   "id": "3ffe1a1f",
   "metadata": {},
   "outputs": [
    {
     "data": {
      "text/plain": [
       "0.9550561797752809"
      ]
     },
     "execution_count": 406,
     "metadata": {},
     "output_type": "execute_result"
    }
   ],
   "source": [
    "wine_df_T = wine_df.sample(frac = 1).reset_index(drop = True)\n",
    "wine_XST = wine_df_T[wine_df_T.columns[1:]].to_numpy()\n",
    "wine_YST = wine_df_T[wine_df_T.columns[0]].to_numpy()\n",
    "X_trainST, X_testST, y_trainST, y_testST = train_test_split(wine_XST, wine_YST, test_size=0.5, random_state=42)\n",
    "\n",
    "tuned_50.fit(X_trainST, y_trainST)\n",
    "tuned_50.score(X_testST, y_testST)"
   ]
  },
  {
   "cell_type": "markdown",
   "id": "73b36738",
   "metadata": {},
   "source": [
    "#### Trial 3"
   ]
  },
  {
   "cell_type": "code",
   "execution_count": 407,
   "id": "97f49805",
   "metadata": {},
   "outputs": [
    {
     "data": {
      "text/plain": [
       "0.9887640449438202"
      ]
     },
     "execution_count": 407,
     "metadata": {},
     "output_type": "execute_result"
    }
   ],
   "source": [
    "wine_df_U = wine_df.sample(frac = 1).reset_index(drop = True)\n",
    "wine_XSU = wine_df_U[wine_df_U.columns[1:]].to_numpy()\n",
    "wine_YSU = wine_df_U[wine_df_U.columns[0]].to_numpy()\n",
    "X_trainSU, X_testSU, y_trainSU, y_testSU = train_test_split(wine_XSU, wine_YSU, test_size=0.5, random_state=42)\n",
    "\n",
    "tuned_50.fit(X_trainSU, y_trainSU)\n",
    "tuned_50.score(X_testSU, y_testSU)"
   ]
  },
  {
   "cell_type": "code",
   "execution_count": 692,
   "id": "25fd0b2a",
   "metadata": {},
   "outputs": [
    {
     "data": {
      "text/plain": [
       "0.9550561797752809"
      ]
     },
     "execution_count": 692,
     "metadata": {},
     "output_type": "execute_result"
    }
   ],
   "source": [
    "(0.9887640449438202 + 0.9550561797752809 + 0.9213483146067416) / 3"
   ]
  },
  {
   "cell_type": "code",
   "execution_count": 730,
   "id": "3b76db38",
   "metadata": {},
   "outputs": [
    {
     "data": {
      "text/plain": [
       "0.7228464419475656"
      ]
     },
     "execution_count": 730,
     "metadata": {},
     "output_type": "execute_result"
    }
   ],
   "source": [
    "(tuned_50.score(X_trainSU, y_trainSU) + \n",
    " tuned_50.score(X_trainST, y_trainST) + \n",
    "tuned_50.score(X_trainSS, y_trainSS)) / 3"
   ]
  },
  {
   "cell_type": "markdown",
   "id": "d0d6dd9f",
   "metadata": {},
   "source": [
    "## 80/20 Split"
   ]
  },
  {
   "cell_type": "markdown",
   "id": "ecee7f6d",
   "metadata": {},
   "source": [
    "## Hyperparameter Tuning"
   ]
  },
  {
   "cell_type": "code",
   "execution_count": 408,
   "id": "0bad15ae",
   "metadata": {},
   "outputs": [
    {
     "name": "stdout",
     "output_type": "stream",
     "text": [
      "training score for best hyperparameter 0.3346024636058231\n",
      "test score for best hyperparameter 0.30289598108747046\n"
     ]
    },
    {
     "data": {
      "text/html": [
       "<style>#sk-container-id-37 {color: black;}#sk-container-id-37 pre{padding: 0;}#sk-container-id-37 div.sk-toggleable {background-color: white;}#sk-container-id-37 label.sk-toggleable__label {cursor: pointer;display: block;width: 100%;margin-bottom: 0;padding: 0.3em;box-sizing: border-box;text-align: center;}#sk-container-id-37 label.sk-toggleable__label-arrow:before {content: \"▸\";float: left;margin-right: 0.25em;color: #696969;}#sk-container-id-37 label.sk-toggleable__label-arrow:hover:before {color: black;}#sk-container-id-37 div.sk-estimator:hover label.sk-toggleable__label-arrow:before {color: black;}#sk-container-id-37 div.sk-toggleable__content {max-height: 0;max-width: 0;overflow: hidden;text-align: left;background-color: #f0f8ff;}#sk-container-id-37 div.sk-toggleable__content pre {margin: 0.2em;color: black;border-radius: 0.25em;background-color: #f0f8ff;}#sk-container-id-37 input.sk-toggleable__control:checked~div.sk-toggleable__content {max-height: 200px;max-width: 100%;overflow: auto;}#sk-container-id-37 input.sk-toggleable__control:checked~label.sk-toggleable__label-arrow:before {content: \"▾\";}#sk-container-id-37 div.sk-estimator input.sk-toggleable__control:checked~label.sk-toggleable__label {background-color: #d4ebff;}#sk-container-id-37 div.sk-label input.sk-toggleable__control:checked~label.sk-toggleable__label {background-color: #d4ebff;}#sk-container-id-37 input.sk-hidden--visually {border: 0;clip: rect(1px 1px 1px 1px);clip: rect(1px, 1px, 1px, 1px);height: 1px;margin: -1px;overflow: hidden;padding: 0;position: absolute;width: 1px;}#sk-container-id-37 div.sk-estimator {font-family: monospace;background-color: #f0f8ff;border: 1px dotted black;border-radius: 0.25em;box-sizing: border-box;margin-bottom: 0.5em;}#sk-container-id-37 div.sk-estimator:hover {background-color: #d4ebff;}#sk-container-id-37 div.sk-parallel-item::after {content: \"\";width: 100%;border-bottom: 1px solid gray;flex-grow: 1;}#sk-container-id-37 div.sk-label:hover label.sk-toggleable__label {background-color: #d4ebff;}#sk-container-id-37 div.sk-serial::before {content: \"\";position: absolute;border-left: 1px solid gray;box-sizing: border-box;top: 0;bottom: 0;left: 50%;z-index: 0;}#sk-container-id-37 div.sk-serial {display: flex;flex-direction: column;align-items: center;background-color: white;padding-right: 0.2em;padding-left: 0.2em;position: relative;}#sk-container-id-37 div.sk-item {position: relative;z-index: 1;}#sk-container-id-37 div.sk-parallel {display: flex;align-items: stretch;justify-content: center;background-color: white;position: relative;}#sk-container-id-37 div.sk-item::before, #sk-container-id-37 div.sk-parallel-item::before {content: \"\";position: absolute;border-left: 1px solid gray;box-sizing: border-box;top: 0;bottom: 0;left: 50%;z-index: -1;}#sk-container-id-37 div.sk-parallel-item {display: flex;flex-direction: column;z-index: 1;position: relative;background-color: white;}#sk-container-id-37 div.sk-parallel-item:first-child::after {align-self: flex-end;width: 50%;}#sk-container-id-37 div.sk-parallel-item:last-child::after {align-self: flex-start;width: 50%;}#sk-container-id-37 div.sk-parallel-item:only-child::after {width: 0;}#sk-container-id-37 div.sk-dashed-wrapped {border: 1px dashed gray;margin: 0 0.4em 0.5em 0.4em;box-sizing: border-box;padding-bottom: 0.4em;background-color: white;}#sk-container-id-37 div.sk-label label {font-family: monospace;font-weight: bold;display: inline-block;line-height: 1.2em;}#sk-container-id-37 div.sk-label-container {text-align: center;}#sk-container-id-37 div.sk-container {/* jupyter's `normalize.less` sets `[hidden] { display: none; }` but bootstrap.min.css set `[hidden] { display: none !important; }` so we also need the `!important` here to be able to override the default hidden behavior on the sphinx rendered scikit-learn.org. See: https://github.com/scikit-learn/scikit-learn/issues/21755 */display: inline-block !important;position: relative;}#sk-container-id-37 div.sk-text-repr-fallback {display: none;}</style><div id=\"sk-container-id-37\" class=\"sk-top-container\"><div class=\"sk-text-repr-fallback\"><pre>SVC(C=0.01, class_weight=&#x27;balanced&#x27;, kernel=&#x27;linear&#x27;)</pre><b>In a Jupyter environment, please rerun this cell to show the HTML representation or trust the notebook. <br />On GitHub, the HTML representation is unable to render, please try loading this page with nbviewer.org.</b></div><div class=\"sk-container\" hidden><div class=\"sk-item\"><div class=\"sk-estimator sk-toggleable\"><input class=\"sk-toggleable__control sk-hidden--visually\" id=\"sk-estimator-id-49\" type=\"checkbox\" checked><label for=\"sk-estimator-id-49\" class=\"sk-toggleable__label sk-toggleable__label-arrow\">SVC</label><div class=\"sk-toggleable__content\"><pre>SVC(C=0.01, class_weight=&#x27;balanced&#x27;, kernel=&#x27;linear&#x27;)</pre></div></div></div></div></div>"
      ],
      "text/plain": [
       "SVC(C=0.01, class_weight='balanced', kernel='linear')"
      ]
     },
     "execution_count": 408,
     "metadata": {},
     "output_type": "execute_result"
    }
   ],
   "source": [
    "wine_df_80 = wine_df.sample(frac = 1).reset_index(drop = True)\n",
    "wine_X80 = wine_df_80[wine_df_80.columns[1:]].to_numpy()\n",
    "wine_Y80 = wine_df_S[wine_df_80.columns[0]].to_numpy()\n",
    "X_train80, X_test80, y_train80, y_test80 = train_test_split(wine_X80, wine_Y80, test_size=0.2, random_state=42)\n",
    "\n",
    "params = {'C': [0.001, 0.01, 0.1, 1], 'kernel':['linear', 'poly', 'sigmoid', \"rbf\"]}\n",
    "# scaler_newSVM = StandardScaler()\n",
    "# scaler_newSVM.fit(X_trainS)\n",
    "# X_train_SVM = scaler.transform(X_trainS)\n",
    "\n",
    "\n",
    "# call classifier and get the best hyper parameter for this case - combinations of above params\n",
    "classifiers80 = SVC(class_weight = 'balanced')\n",
    "class_hyper_tune80 = GridSearchCV(classifiers80, param_grid = params, cv = 3, return_train_score = True)\n",
    "class_hyper_tune80.fit(X_train80, y_train80)\n",
    "print(\"training score for best hyperparameter \" + str(class_hyper_tune80.cv_results_.get('mean_train_score')[0]))\n",
    "print(\"test score for best hyperparameter \" + str(class_hyper_tune80.cv_results_.get('mean_test_score')[0]))\n",
    "class_hyper_tune80.best_estimator_"
   ]
  },
  {
   "cell_type": "markdown",
   "id": "77d9acba",
   "metadata": {},
   "source": [
    "#### Trial 1"
   ]
  },
  {
   "cell_type": "code",
   "execution_count": 733,
   "id": "722ca064",
   "metadata": {},
   "outputs": [
    {
     "name": "stdout",
     "output_type": "stream",
     "text": [
      "training score for best hyperparameter 0.8204180664427025\n",
      "test score for best hyperparameter 0.7752659574468085\n"
     ]
    },
    {
     "data": {
      "text/html": [
       "<style>#sk-container-id-84 {color: black;}#sk-container-id-84 pre{padding: 0;}#sk-container-id-84 div.sk-toggleable {background-color: white;}#sk-container-id-84 label.sk-toggleable__label {cursor: pointer;display: block;width: 100%;margin-bottom: 0;padding: 0.3em;box-sizing: border-box;text-align: center;}#sk-container-id-84 label.sk-toggleable__label-arrow:before {content: \"▸\";float: left;margin-right: 0.25em;color: #696969;}#sk-container-id-84 label.sk-toggleable__label-arrow:hover:before {color: black;}#sk-container-id-84 div.sk-estimator:hover label.sk-toggleable__label-arrow:before {color: black;}#sk-container-id-84 div.sk-toggleable__content {max-height: 0;max-width: 0;overflow: hidden;text-align: left;background-color: #f0f8ff;}#sk-container-id-84 div.sk-toggleable__content pre {margin: 0.2em;color: black;border-radius: 0.25em;background-color: #f0f8ff;}#sk-container-id-84 input.sk-toggleable__control:checked~div.sk-toggleable__content {max-height: 200px;max-width: 100%;overflow: auto;}#sk-container-id-84 input.sk-toggleable__control:checked~label.sk-toggleable__label-arrow:before {content: \"▾\";}#sk-container-id-84 div.sk-estimator input.sk-toggleable__control:checked~label.sk-toggleable__label {background-color: #d4ebff;}#sk-container-id-84 div.sk-label input.sk-toggleable__control:checked~label.sk-toggleable__label {background-color: #d4ebff;}#sk-container-id-84 input.sk-hidden--visually {border: 0;clip: rect(1px 1px 1px 1px);clip: rect(1px, 1px, 1px, 1px);height: 1px;margin: -1px;overflow: hidden;padding: 0;position: absolute;width: 1px;}#sk-container-id-84 div.sk-estimator {font-family: monospace;background-color: #f0f8ff;border: 1px dotted black;border-radius: 0.25em;box-sizing: border-box;margin-bottom: 0.5em;}#sk-container-id-84 div.sk-estimator:hover {background-color: #d4ebff;}#sk-container-id-84 div.sk-parallel-item::after {content: \"\";width: 100%;border-bottom: 1px solid gray;flex-grow: 1;}#sk-container-id-84 div.sk-label:hover label.sk-toggleable__label {background-color: #d4ebff;}#sk-container-id-84 div.sk-serial::before {content: \"\";position: absolute;border-left: 1px solid gray;box-sizing: border-box;top: 0;bottom: 0;left: 50%;z-index: 0;}#sk-container-id-84 div.sk-serial {display: flex;flex-direction: column;align-items: center;background-color: white;padding-right: 0.2em;padding-left: 0.2em;position: relative;}#sk-container-id-84 div.sk-item {position: relative;z-index: 1;}#sk-container-id-84 div.sk-parallel {display: flex;align-items: stretch;justify-content: center;background-color: white;position: relative;}#sk-container-id-84 div.sk-item::before, #sk-container-id-84 div.sk-parallel-item::before {content: \"\";position: absolute;border-left: 1px solid gray;box-sizing: border-box;top: 0;bottom: 0;left: 50%;z-index: -1;}#sk-container-id-84 div.sk-parallel-item {display: flex;flex-direction: column;z-index: 1;position: relative;background-color: white;}#sk-container-id-84 div.sk-parallel-item:first-child::after {align-self: flex-end;width: 50%;}#sk-container-id-84 div.sk-parallel-item:last-child::after {align-self: flex-start;width: 50%;}#sk-container-id-84 div.sk-parallel-item:only-child::after {width: 0;}#sk-container-id-84 div.sk-dashed-wrapped {border: 1px dashed gray;margin: 0 0.4em 0.5em 0.4em;box-sizing: border-box;padding-bottom: 0.4em;background-color: white;}#sk-container-id-84 div.sk-label label {font-family: monospace;font-weight: bold;display: inline-block;line-height: 1.2em;}#sk-container-id-84 div.sk-label-container {text-align: center;}#sk-container-id-84 div.sk-container {/* jupyter's `normalize.less` sets `[hidden] { display: none; }` but bootstrap.min.css set `[hidden] { display: none !important; }` so we also need the `!important` here to be able to override the default hidden behavior on the sphinx rendered scikit-learn.org. See: https://github.com/scikit-learn/scikit-learn/issues/21755 */display: inline-block !important;position: relative;}#sk-container-id-84 div.sk-text-repr-fallback {display: none;}</style><div id=\"sk-container-id-84\" class=\"sk-top-container\"><div class=\"sk-text-repr-fallback\"><pre>SVC(C=0.1, class_weight=&#x27;balanced&#x27;, kernel=&#x27;linear&#x27;)</pre><b>In a Jupyter environment, please rerun this cell to show the HTML representation or trust the notebook. <br />On GitHub, the HTML representation is unable to render, please try loading this page with nbviewer.org.</b></div><div class=\"sk-container\" hidden><div class=\"sk-item\"><div class=\"sk-estimator sk-toggleable\"><input class=\"sk-toggleable__control sk-hidden--visually\" id=\"sk-estimator-id-96\" type=\"checkbox\" checked><label for=\"sk-estimator-id-96\" class=\"sk-toggleable__label sk-toggleable__label-arrow\">SVC</label><div class=\"sk-toggleable__content\"><pre>SVC(C=0.1, class_weight=&#x27;balanced&#x27;, kernel=&#x27;linear&#x27;)</pre></div></div></div></div></div>"
      ],
      "text/plain": [
       "SVC(C=0.1, class_weight='balanced', kernel='linear')"
      ]
     },
     "execution_count": 733,
     "metadata": {},
     "output_type": "execute_result"
    }
   ],
   "source": [
    "wine_df_801 = wine_df.sample(frac = 1).reset_index(drop = True)\n",
    "wine_X801 = wine_df_801[wine_df_801.columns[1:]].to_numpy()\n",
    "wine_Y801 = wine_df_801[wine_df_801.columns[0]].to_numpy()\n",
    "X_train801, X_test801, y_train801, y_test801 = train_test_split(wine_X801, wine_Y801, test_size=0.2, random_state=42)\n",
    "\n",
    "classifiers801 = SVC(class_weight = 'balanced')\n",
    "class_hyper_tune801 = GridSearchCV(classifiers801, param_grid = params, cv = 3, return_train_score = True)\n",
    "class_hyper_tune801.fit(X_train801, y_train801)\n",
    "print(\"training score for best hyperparameter \" + str(class_hyper_tune801.cv_results_.get('mean_train_score')[0]))\n",
    "print(\"test score for best hyperparameter \" + str(class_hyper_tune801.cv_results_.get('mean_test_score')[0]))\n",
    "class_hyper_tune801.best_estimator_"
   ]
  },
  {
   "cell_type": "code",
   "execution_count": 734,
   "id": "19161b2a",
   "metadata": {},
   "outputs": [
    {
     "data": {
      "text/plain": [
       "0.9722222222222222"
      ]
     },
     "execution_count": 734,
     "metadata": {},
     "output_type": "execute_result"
    }
   ],
   "source": [
    "tuned_8020 = SVC(class_weight = 'balanced', kernel = 'linear', C = 1)\n",
    "tuned_8020.fit(X_train801, y_train801)\n",
    "tuned_8020.score(X_test801, y_test801)"
   ]
  },
  {
   "cell_type": "markdown",
   "id": "83c51024",
   "metadata": {},
   "source": [
    "#### Trial 2"
   ]
  },
  {
   "cell_type": "code",
   "execution_count": 735,
   "id": "8baf046e",
   "metadata": {},
   "outputs": [
    {
     "data": {
      "text/plain": [
       "0.9722222222222222"
      ]
     },
     "execution_count": 735,
     "metadata": {},
     "output_type": "execute_result"
    }
   ],
   "source": [
    "wine_df_802 = wine_df.sample(frac = 1).reset_index(drop = True)\n",
    "wine_X802 = wine_df_802[wine_df_802.columns[1:]].to_numpy()\n",
    "wine_Y802 = wine_df_802[wine_df_802.columns[0]].to_numpy()\n",
    "X_train802, X_test802, y_train802, y_test802 = train_test_split(wine_X802, wine_Y802, test_size=0.2, random_state=42)\n",
    "\n",
    "tuned_8020.fit(X_train802, y_train802)\n",
    "tuned_8020.score(X_test802, y_test802)"
   ]
  },
  {
   "cell_type": "markdown",
   "id": "4f3483c1",
   "metadata": {},
   "source": [
    "#### Trial 3"
   ]
  },
  {
   "cell_type": "code",
   "execution_count": 736,
   "id": "c6510cb8",
   "metadata": {},
   "outputs": [
    {
     "data": {
      "text/plain": [
       "0.9444444444444444"
      ]
     },
     "execution_count": 736,
     "metadata": {},
     "output_type": "execute_result"
    }
   ],
   "source": [
    "wine_df_803 = wine_df.sample(frac = 1).reset_index(drop = True)\n",
    "wine_X803 = wine_df_803[wine_df_803.columns[1:]].to_numpy()\n",
    "wine_Y803 = wine_df_803[wine_df_803.columns[0]].to_numpy()\n",
    "X_train803, X_test803, y_train803, y_test803 = train_test_split(wine_X803, wine_Y803, test_size=0.2, random_state=42)\n",
    "\n",
    "tuned_8020.fit(X_train803, y_train803)\n",
    "tuned_8020.score(X_test803, y_test803)"
   ]
  },
  {
   "cell_type": "code",
   "execution_count": 737,
   "id": "22a1e597",
   "metadata": {},
   "outputs": [
    {
     "data": {
      "text/plain": [
       "0.9444444444444443"
      ]
     },
     "execution_count": 737,
     "metadata": {},
     "output_type": "execute_result"
    }
   ],
   "source": [
    "(0.9444444444444444 + 0.9722222222222222 + 0.9166666666666666) / 3"
   ]
  },
  {
   "cell_type": "code",
   "execution_count": 738,
   "id": "bbbfa1ca",
   "metadata": {},
   "outputs": [
    {
     "data": {
      "text/plain": [
       "0.9906103286384976"
      ]
     },
     "execution_count": 738,
     "metadata": {},
     "output_type": "execute_result"
    }
   ],
   "source": [
    "(tuned_8020.score(X_train803, y_train803) + \n",
    " tuned_8020.score(X_train802, y_train802) + \n",
    " tuned_8020.score(X_train801, y_train801)) / 3"
   ]
  },
  {
   "cell_type": "markdown",
   "id": "aff8a674",
   "metadata": {},
   "source": [
    "# Logistic Regression with Breast Cancer data"
   ]
  },
  {
   "cell_type": "code",
   "execution_count": 491,
   "id": "3341a6c3",
   "metadata": {},
   "outputs": [
    {
     "data": {
      "text/html": [
       "<div>\n",
       "<style scoped>\n",
       "    .dataframe tbody tr th:only-of-type {\n",
       "        vertical-align: middle;\n",
       "    }\n",
       "\n",
       "    .dataframe tbody tr th {\n",
       "        vertical-align: top;\n",
       "    }\n",
       "\n",
       "    .dataframe thead th {\n",
       "        text-align: right;\n",
       "    }\n",
       "</style>\n",
       "<table border=\"1\" class=\"dataframe\">\n",
       "  <thead>\n",
       "    <tr style=\"text-align: right;\">\n",
       "      <th></th>\n",
       "      <th>Sample code number</th>\n",
       "      <th>Clump Thickness</th>\n",
       "      <th>Uniformity of Cell Size</th>\n",
       "      <th>Uniformity of Cell Shape</th>\n",
       "      <th>Marginal Adhesion</th>\n",
       "      <th>Single Epithelial Cell Size</th>\n",
       "      <th>Bare Nuclei</th>\n",
       "      <th>Bland Chromatin</th>\n",
       "      <th>Normal Nucleoli</th>\n",
       "      <th>Mitoses</th>\n",
       "      <th>Class</th>\n",
       "    </tr>\n",
       "  </thead>\n",
       "  <tbody>\n",
       "    <tr>\n",
       "      <th>0</th>\n",
       "      <td>1000025</td>\n",
       "      <td>5</td>\n",
       "      <td>1</td>\n",
       "      <td>1</td>\n",
       "      <td>1</td>\n",
       "      <td>2</td>\n",
       "      <td>1</td>\n",
       "      <td>3</td>\n",
       "      <td>1</td>\n",
       "      <td>1</td>\n",
       "      <td>2</td>\n",
       "    </tr>\n",
       "    <tr>\n",
       "      <th>1</th>\n",
       "      <td>1002945</td>\n",
       "      <td>5</td>\n",
       "      <td>4</td>\n",
       "      <td>4</td>\n",
       "      <td>5</td>\n",
       "      <td>7</td>\n",
       "      <td>10</td>\n",
       "      <td>3</td>\n",
       "      <td>2</td>\n",
       "      <td>1</td>\n",
       "      <td>2</td>\n",
       "    </tr>\n",
       "    <tr>\n",
       "      <th>2</th>\n",
       "      <td>1015425</td>\n",
       "      <td>3</td>\n",
       "      <td>1</td>\n",
       "      <td>1</td>\n",
       "      <td>1</td>\n",
       "      <td>2</td>\n",
       "      <td>2</td>\n",
       "      <td>3</td>\n",
       "      <td>1</td>\n",
       "      <td>1</td>\n",
       "      <td>2</td>\n",
       "    </tr>\n",
       "    <tr>\n",
       "      <th>3</th>\n",
       "      <td>1016277</td>\n",
       "      <td>6</td>\n",
       "      <td>8</td>\n",
       "      <td>8</td>\n",
       "      <td>1</td>\n",
       "      <td>3</td>\n",
       "      <td>4</td>\n",
       "      <td>3</td>\n",
       "      <td>7</td>\n",
       "      <td>1</td>\n",
       "      <td>2</td>\n",
       "    </tr>\n",
       "    <tr>\n",
       "      <th>4</th>\n",
       "      <td>1017023</td>\n",
       "      <td>4</td>\n",
       "      <td>1</td>\n",
       "      <td>1</td>\n",
       "      <td>3</td>\n",
       "      <td>2</td>\n",
       "      <td>1</td>\n",
       "      <td>3</td>\n",
       "      <td>1</td>\n",
       "      <td>1</td>\n",
       "      <td>2</td>\n",
       "    </tr>\n",
       "    <tr>\n",
       "      <th>...</th>\n",
       "      <td>...</td>\n",
       "      <td>...</td>\n",
       "      <td>...</td>\n",
       "      <td>...</td>\n",
       "      <td>...</td>\n",
       "      <td>...</td>\n",
       "      <td>...</td>\n",
       "      <td>...</td>\n",
       "      <td>...</td>\n",
       "      <td>...</td>\n",
       "      <td>...</td>\n",
       "    </tr>\n",
       "    <tr>\n",
       "      <th>694</th>\n",
       "      <td>776715</td>\n",
       "      <td>3</td>\n",
       "      <td>1</td>\n",
       "      <td>1</td>\n",
       "      <td>1</td>\n",
       "      <td>3</td>\n",
       "      <td>2</td>\n",
       "      <td>1</td>\n",
       "      <td>1</td>\n",
       "      <td>1</td>\n",
       "      <td>2</td>\n",
       "    </tr>\n",
       "    <tr>\n",
       "      <th>695</th>\n",
       "      <td>841769</td>\n",
       "      <td>2</td>\n",
       "      <td>1</td>\n",
       "      <td>1</td>\n",
       "      <td>1</td>\n",
       "      <td>2</td>\n",
       "      <td>1</td>\n",
       "      <td>1</td>\n",
       "      <td>1</td>\n",
       "      <td>1</td>\n",
       "      <td>2</td>\n",
       "    </tr>\n",
       "    <tr>\n",
       "      <th>696</th>\n",
       "      <td>888820</td>\n",
       "      <td>5</td>\n",
       "      <td>10</td>\n",
       "      <td>10</td>\n",
       "      <td>3</td>\n",
       "      <td>7</td>\n",
       "      <td>3</td>\n",
       "      <td>8</td>\n",
       "      <td>10</td>\n",
       "      <td>2</td>\n",
       "      <td>4</td>\n",
       "    </tr>\n",
       "    <tr>\n",
       "      <th>697</th>\n",
       "      <td>897471</td>\n",
       "      <td>4</td>\n",
       "      <td>8</td>\n",
       "      <td>6</td>\n",
       "      <td>4</td>\n",
       "      <td>3</td>\n",
       "      <td>4</td>\n",
       "      <td>10</td>\n",
       "      <td>6</td>\n",
       "      <td>1</td>\n",
       "      <td>4</td>\n",
       "    </tr>\n",
       "    <tr>\n",
       "      <th>698</th>\n",
       "      <td>897471</td>\n",
       "      <td>4</td>\n",
       "      <td>8</td>\n",
       "      <td>8</td>\n",
       "      <td>5</td>\n",
       "      <td>4</td>\n",
       "      <td>5</td>\n",
       "      <td>10</td>\n",
       "      <td>4</td>\n",
       "      <td>1</td>\n",
       "      <td>4</td>\n",
       "    </tr>\n",
       "  </tbody>\n",
       "</table>\n",
       "<p>683 rows × 11 columns</p>\n",
       "</div>"
      ],
      "text/plain": [
       "     Sample code number  Clump Thickness  Uniformity of Cell Size  \\\n",
       "0               1000025                5                        1   \n",
       "1               1002945                5                        4   \n",
       "2               1015425                3                        1   \n",
       "3               1016277                6                        8   \n",
       "4               1017023                4                        1   \n",
       "..                  ...              ...                      ...   \n",
       "694              776715                3                        1   \n",
       "695              841769                2                        1   \n",
       "696              888820                5                       10   \n",
       "697              897471                4                        8   \n",
       "698              897471                4                        8   \n",
       "\n",
       "     Uniformity of Cell Shape  Marginal Adhesion  Single Epithelial Cell Size  \\\n",
       "0                           1                  1                            2   \n",
       "1                           4                  5                            7   \n",
       "2                           1                  1                            2   \n",
       "3                           8                  1                            3   \n",
       "4                           1                  3                            2   \n",
       "..                        ...                ...                          ...   \n",
       "694                         1                  1                            3   \n",
       "695                         1                  1                            2   \n",
       "696                        10                  3                            7   \n",
       "697                         6                  4                            3   \n",
       "698                         8                  5                            4   \n",
       "\n",
       "    Bare Nuclei  Bland Chromatin  Normal Nucleoli  Mitoses  Class  \n",
       "0             1                3                1        1      2  \n",
       "1            10                3                2        1      2  \n",
       "2             2                3                1        1      2  \n",
       "3             4                3                7        1      2  \n",
       "4             1                3                1        1      2  \n",
       "..          ...              ...              ...      ...    ...  \n",
       "694           2                1                1        1      2  \n",
       "695           1                1                1        1      2  \n",
       "696           3                8               10        2      4  \n",
       "697           4               10                6        1      4  \n",
       "698           5               10                4        1      4  \n",
       "\n",
       "[683 rows x 11 columns]"
      ]
     },
     "execution_count": 491,
     "metadata": {},
     "output_type": "execute_result"
    }
   ],
   "source": [
    "breast_cancer_df = breast_cancer_df[breast_cancer_df[breast_cancer_df.columns[6]] != '?']\n",
    "breast_cancer_df"
   ]
  },
  {
   "cell_type": "code",
   "execution_count": 459,
   "id": "9412a6a8",
   "metadata": {},
   "outputs": [
    {
     "data": {
      "text/plain": [
       "(683, 11)"
      ]
     },
     "execution_count": 459,
     "metadata": {},
     "output_type": "execute_result"
    }
   ],
   "source": [
    "breast_cancer_df.shape"
   ]
  },
  {
   "cell_type": "code",
   "execution_count": 418,
   "id": "d60f40da",
   "metadata": {},
   "outputs": [],
   "source": [
    "#Initial code for splitting\n",
    "cancer_shuffle = breast_cancer_df.sample(frac = 1).reset_index(drop = True)\n",
    "bc_X = cancer_shuffle[cancer_shuffle.columns[1:10]].to_numpy()\n",
    "bc_Y = cancer_shuffle[cancer_shuffle.columns[10]].to_numpy()"
   ]
  },
  {
   "cell_type": "markdown",
   "id": "9a764b10",
   "metadata": {},
   "source": [
    "## 20/80 Split"
   ]
  },
  {
   "cell_type": "code",
   "execution_count": 419,
   "id": "b76d6a7a",
   "metadata": {},
   "outputs": [
    {
     "name": "stdout",
     "output_type": "stream",
     "text": [
      "training score for best hyperparameter 0.9595441595441595\n",
      "test score for best hyperparameter 0.9631239935587761\n"
     ]
    },
    {
     "data": {
      "text/html": [
       "<style>#sk-container-id-40 {color: black;}#sk-container-id-40 pre{padding: 0;}#sk-container-id-40 div.sk-toggleable {background-color: white;}#sk-container-id-40 label.sk-toggleable__label {cursor: pointer;display: block;width: 100%;margin-bottom: 0;padding: 0.3em;box-sizing: border-box;text-align: center;}#sk-container-id-40 label.sk-toggleable__label-arrow:before {content: \"▸\";float: left;margin-right: 0.25em;color: #696969;}#sk-container-id-40 label.sk-toggleable__label-arrow:hover:before {color: black;}#sk-container-id-40 div.sk-estimator:hover label.sk-toggleable__label-arrow:before {color: black;}#sk-container-id-40 div.sk-toggleable__content {max-height: 0;max-width: 0;overflow: hidden;text-align: left;background-color: #f0f8ff;}#sk-container-id-40 div.sk-toggleable__content pre {margin: 0.2em;color: black;border-radius: 0.25em;background-color: #f0f8ff;}#sk-container-id-40 input.sk-toggleable__control:checked~div.sk-toggleable__content {max-height: 200px;max-width: 100%;overflow: auto;}#sk-container-id-40 input.sk-toggleable__control:checked~label.sk-toggleable__label-arrow:before {content: \"▾\";}#sk-container-id-40 div.sk-estimator input.sk-toggleable__control:checked~label.sk-toggleable__label {background-color: #d4ebff;}#sk-container-id-40 div.sk-label input.sk-toggleable__control:checked~label.sk-toggleable__label {background-color: #d4ebff;}#sk-container-id-40 input.sk-hidden--visually {border: 0;clip: rect(1px 1px 1px 1px);clip: rect(1px, 1px, 1px, 1px);height: 1px;margin: -1px;overflow: hidden;padding: 0;position: absolute;width: 1px;}#sk-container-id-40 div.sk-estimator {font-family: monospace;background-color: #f0f8ff;border: 1px dotted black;border-radius: 0.25em;box-sizing: border-box;margin-bottom: 0.5em;}#sk-container-id-40 div.sk-estimator:hover {background-color: #d4ebff;}#sk-container-id-40 div.sk-parallel-item::after {content: \"\";width: 100%;border-bottom: 1px solid gray;flex-grow: 1;}#sk-container-id-40 div.sk-label:hover label.sk-toggleable__label {background-color: #d4ebff;}#sk-container-id-40 div.sk-serial::before {content: \"\";position: absolute;border-left: 1px solid gray;box-sizing: border-box;top: 0;bottom: 0;left: 50%;z-index: 0;}#sk-container-id-40 div.sk-serial {display: flex;flex-direction: column;align-items: center;background-color: white;padding-right: 0.2em;padding-left: 0.2em;position: relative;}#sk-container-id-40 div.sk-item {position: relative;z-index: 1;}#sk-container-id-40 div.sk-parallel {display: flex;align-items: stretch;justify-content: center;background-color: white;position: relative;}#sk-container-id-40 div.sk-item::before, #sk-container-id-40 div.sk-parallel-item::before {content: \"\";position: absolute;border-left: 1px solid gray;box-sizing: border-box;top: 0;bottom: 0;left: 50%;z-index: -1;}#sk-container-id-40 div.sk-parallel-item {display: flex;flex-direction: column;z-index: 1;position: relative;background-color: white;}#sk-container-id-40 div.sk-parallel-item:first-child::after {align-self: flex-end;width: 50%;}#sk-container-id-40 div.sk-parallel-item:last-child::after {align-self: flex-start;width: 50%;}#sk-container-id-40 div.sk-parallel-item:only-child::after {width: 0;}#sk-container-id-40 div.sk-dashed-wrapped {border: 1px dashed gray;margin: 0 0.4em 0.5em 0.4em;box-sizing: border-box;padding-bottom: 0.4em;background-color: white;}#sk-container-id-40 div.sk-label label {font-family: monospace;font-weight: bold;display: inline-block;line-height: 1.2em;}#sk-container-id-40 div.sk-label-container {text-align: center;}#sk-container-id-40 div.sk-container {/* jupyter's `normalize.less` sets `[hidden] { display: none; }` but bootstrap.min.css set `[hidden] { display: none !important; }` so we also need the `!important` here to be able to override the default hidden behavior on the sphinx rendered scikit-learn.org. See: https://github.com/scikit-learn/scikit-learn/issues/21755 */display: inline-block !important;position: relative;}#sk-container-id-40 div.sk-text-repr-fallback {display: none;}</style><div id=\"sk-container-id-40\" class=\"sk-top-container\"><div class=\"sk-text-repr-fallback\"><pre>LogisticRegression(C=1, class_weight=&#x27;balanced&#x27;, solver=&#x27;liblinear&#x27;)</pre><b>In a Jupyter environment, please rerun this cell to show the HTML representation or trust the notebook. <br />On GitHub, the HTML representation is unable to render, please try loading this page with nbviewer.org.</b></div><div class=\"sk-container\" hidden><div class=\"sk-item\"><div class=\"sk-estimator sk-toggleable\"><input class=\"sk-toggleable__control sk-hidden--visually\" id=\"sk-estimator-id-52\" type=\"checkbox\" checked><label for=\"sk-estimator-id-52\" class=\"sk-toggleable__label sk-toggleable__label-arrow\">LogisticRegression</label><div class=\"sk-toggleable__content\"><pre>LogisticRegression(C=1, class_weight=&#x27;balanced&#x27;, solver=&#x27;liblinear&#x27;)</pre></div></div></div></div></div>"
      ],
      "text/plain": [
       "LogisticRegression(C=1, class_weight='balanced', solver='liblinear')"
      ]
     },
     "execution_count": 419,
     "metadata": {},
     "output_type": "execute_result"
    }
   ],
   "source": [
    "X_trainbc, X_testbc, y_trainbc, y_testbc = train_test_split(bc_X, bc_Y, test_size = 0.8, random_state = 42)\n",
    "params = {'C' : [0.001, 0.01, 0.1, 1], 'solver' : ['lbfgs', 'liblinear', 'newton-cg']}\n",
    "\n",
    "# have to scale data you ran into an error\n",
    "scaler = StandardScaler()\n",
    "scaler.fit(X_trainbc)\n",
    "X_train_newbc = scaler.transform(X_trainbc)\n",
    "\n",
    "# call classifier and get the best hyper parameter for this case - combinations of above params\n",
    "classi = LogisticRegression(class_weight = 'balanced')\n",
    "class_hyper_tunei = GridSearchCV(classi, param_grid = params, cv = 3, return_train_score = True)\n",
    "class_hyper_tunei.fit(X_train_newbc, y_trainbc)\n",
    "print(\"training score for best hyperparameter \" + str(class_hyper_tunei.cv_results_.get('mean_train_score')[0]))\n",
    "print(\"test score for best hyperparameter \" + str(class_hyper_tunei.cv_results_.get('mean_test_score')[0]))\n",
    "class_hyper_tunei.best_estimator_"
   ]
  },
  {
   "cell_type": "markdown",
   "id": "2aacab97",
   "metadata": {},
   "source": [
    "#### Trial 1"
   ]
  },
  {
   "cell_type": "code",
   "execution_count": 694,
   "id": "e66c1f29",
   "metadata": {},
   "outputs": [
    {
     "data": {
      "text/plain": [
       "0.34186471663619744"
      ]
     },
     "execution_count": 694,
     "metadata": {},
     "output_type": "execute_result"
    }
   ],
   "source": [
    "tuned_LR_BC = LogisticRegression(C = 1, class_weight = 'balanced', solver = 'liblinear')\n",
    "tuned_LR_BC.fit(X_train_newbc, y_trainbc)\n",
    "tuned_LR_BC.score(X_testbc, y_testbc)"
   ]
  },
  {
   "cell_type": "markdown",
   "id": "44099f4c",
   "metadata": {},
   "source": [
    "#### Trial 2"
   ]
  },
  {
   "cell_type": "code",
   "execution_count": 695,
   "id": "5556b83e",
   "metadata": {},
   "outputs": [
    {
     "data": {
      "text/plain": [
       "0.3473491773308958"
      ]
     },
     "execution_count": 695,
     "metadata": {},
     "output_type": "execute_result"
    }
   ],
   "source": [
    "cancer_shuffle1 = breast_cancer_df.sample(frac = 1).reset_index(drop = True)\n",
    "bc_X1 = cancer_shuffle1[cancer_shuffle1.columns[1:10]].to_numpy()\n",
    "bc_Y1 = cancer_shuffle1[cancer_shuffle1.columns[10]].to_numpy()\n",
    "X_trainbc1, X_testbc1, y_trainbc1, y_testbc1 = train_test_split(bc_X1, bc_Y1, test_size = 0.8, random_state = 42)\n",
    "\n",
    "scaler1 = StandardScaler()\n",
    "scaler.fit(X_trainbc1)\n",
    "X_train_newbc1 = scaler.transform(X_trainbc1)\n",
    "\n",
    "tuned_LR_BC.fit(X_train_newbc1, y_trainbc1)\n",
    "tuned_LR_BC.score(X_testbc1, y_testbc1)"
   ]
  },
  {
   "cell_type": "markdown",
   "id": "faf1ee2c",
   "metadata": {},
   "source": [
    "#### Trial 3"
   ]
  },
  {
   "cell_type": "code",
   "execution_count": 696,
   "id": "3e64eece",
   "metadata": {
    "scrolled": true
   },
   "outputs": [
    {
     "data": {
      "text/plain": [
       "0.33638025594149906"
      ]
     },
     "execution_count": 696,
     "metadata": {},
     "output_type": "execute_result"
    }
   ],
   "source": [
    "cancer_shuffle2 = breast_cancer_df.sample(frac = 1).reset_index(drop = True)\n",
    "bc_X2 = cancer_shuffle2[cancer_shuffle2.columns[1:10]].to_numpy()\n",
    "bc_Y2 = cancer_shuffle2[cancer_shuffle2.columns[10]].to_numpy()\n",
    "X_trainbc2, X_testbc2, y_trainbc2, y_testbc2 = train_test_split(bc_X2, bc_Y2, test_size = 0.8, random_state = 42)\n",
    "\n",
    "scaler2 = StandardScaler()\n",
    "scaler.fit(X_trainbc2)\n",
    "X_train_newbc2 = scaler.transform(X_trainbc2)\n",
    "\n",
    "tuned_LR_BC.fit(X_train_newbc2, y_trainbc2)\n",
    "tuned_LR_BC.score(X_testbc2, y_testbc2)"
   ]
  },
  {
   "cell_type": "code",
   "execution_count": 697,
   "id": "d3655cd2",
   "metadata": {},
   "outputs": [
    {
     "data": {
      "text/plain": [
       "0.34186471663619744"
      ]
     },
     "execution_count": 697,
     "metadata": {},
     "output_type": "execute_result"
    }
   ],
   "source": [
    "(0.34186471663619744 + 0.3473491773308958 + 0.33638025594149906) / 3"
   ]
  },
  {
   "cell_type": "code",
   "execution_count": 739,
   "id": "8510aa06",
   "metadata": {},
   "outputs": [
    {
     "data": {
      "text/plain": [
       "0.9681372549019608"
      ]
     },
     "execution_count": 739,
     "metadata": {},
     "output_type": "execute_result"
    }
   ],
   "source": [
    "(tuned_LR_BC.score(X_train_newbc2, y_trainbc2) + \n",
    "tuned_LR_BC.score(X_train_newbc1, y_trainbc1) + \n",
    "tuned_LR_BC.score(X_train_newbc, y_trainbc)) / 3"
   ]
  },
  {
   "cell_type": "markdown",
   "id": "5ed59734",
   "metadata": {},
   "source": [
    "## 50/50 Split"
   ]
  },
  {
   "cell_type": "code",
   "execution_count": 448,
   "id": "ec699cf0",
   "metadata": {},
   "outputs": [
    {
     "name": "stdout",
     "output_type": "stream",
     "text": [
      "training score for best hyperparameter 0.9692080789344875\n",
      "test score for best hyperparameter 0.9618589245976298\n"
     ]
    },
    {
     "data": {
      "text/html": [
       "<style>#sk-container-id-45 {color: black;}#sk-container-id-45 pre{padding: 0;}#sk-container-id-45 div.sk-toggleable {background-color: white;}#sk-container-id-45 label.sk-toggleable__label {cursor: pointer;display: block;width: 100%;margin-bottom: 0;padding: 0.3em;box-sizing: border-box;text-align: center;}#sk-container-id-45 label.sk-toggleable__label-arrow:before {content: \"▸\";float: left;margin-right: 0.25em;color: #696969;}#sk-container-id-45 label.sk-toggleable__label-arrow:hover:before {color: black;}#sk-container-id-45 div.sk-estimator:hover label.sk-toggleable__label-arrow:before {color: black;}#sk-container-id-45 div.sk-toggleable__content {max-height: 0;max-width: 0;overflow: hidden;text-align: left;background-color: #f0f8ff;}#sk-container-id-45 div.sk-toggleable__content pre {margin: 0.2em;color: black;border-radius: 0.25em;background-color: #f0f8ff;}#sk-container-id-45 input.sk-toggleable__control:checked~div.sk-toggleable__content {max-height: 200px;max-width: 100%;overflow: auto;}#sk-container-id-45 input.sk-toggleable__control:checked~label.sk-toggleable__label-arrow:before {content: \"▾\";}#sk-container-id-45 div.sk-estimator input.sk-toggleable__control:checked~label.sk-toggleable__label {background-color: #d4ebff;}#sk-container-id-45 div.sk-label input.sk-toggleable__control:checked~label.sk-toggleable__label {background-color: #d4ebff;}#sk-container-id-45 input.sk-hidden--visually {border: 0;clip: rect(1px 1px 1px 1px);clip: rect(1px, 1px, 1px, 1px);height: 1px;margin: -1px;overflow: hidden;padding: 0;position: absolute;width: 1px;}#sk-container-id-45 div.sk-estimator {font-family: monospace;background-color: #f0f8ff;border: 1px dotted black;border-radius: 0.25em;box-sizing: border-box;margin-bottom: 0.5em;}#sk-container-id-45 div.sk-estimator:hover {background-color: #d4ebff;}#sk-container-id-45 div.sk-parallel-item::after {content: \"\";width: 100%;border-bottom: 1px solid gray;flex-grow: 1;}#sk-container-id-45 div.sk-label:hover label.sk-toggleable__label {background-color: #d4ebff;}#sk-container-id-45 div.sk-serial::before {content: \"\";position: absolute;border-left: 1px solid gray;box-sizing: border-box;top: 0;bottom: 0;left: 50%;z-index: 0;}#sk-container-id-45 div.sk-serial {display: flex;flex-direction: column;align-items: center;background-color: white;padding-right: 0.2em;padding-left: 0.2em;position: relative;}#sk-container-id-45 div.sk-item {position: relative;z-index: 1;}#sk-container-id-45 div.sk-parallel {display: flex;align-items: stretch;justify-content: center;background-color: white;position: relative;}#sk-container-id-45 div.sk-item::before, #sk-container-id-45 div.sk-parallel-item::before {content: \"\";position: absolute;border-left: 1px solid gray;box-sizing: border-box;top: 0;bottom: 0;left: 50%;z-index: -1;}#sk-container-id-45 div.sk-parallel-item {display: flex;flex-direction: column;z-index: 1;position: relative;background-color: white;}#sk-container-id-45 div.sk-parallel-item:first-child::after {align-self: flex-end;width: 50%;}#sk-container-id-45 div.sk-parallel-item:last-child::after {align-self: flex-start;width: 50%;}#sk-container-id-45 div.sk-parallel-item:only-child::after {width: 0;}#sk-container-id-45 div.sk-dashed-wrapped {border: 1px dashed gray;margin: 0 0.4em 0.5em 0.4em;box-sizing: border-box;padding-bottom: 0.4em;background-color: white;}#sk-container-id-45 div.sk-label label {font-family: monospace;font-weight: bold;display: inline-block;line-height: 1.2em;}#sk-container-id-45 div.sk-label-container {text-align: center;}#sk-container-id-45 div.sk-container {/* jupyter's `normalize.less` sets `[hidden] { display: none; }` but bootstrap.min.css set `[hidden] { display: none !important; }` so we also need the `!important` here to be able to override the default hidden behavior on the sphinx rendered scikit-learn.org. See: https://github.com/scikit-learn/scikit-learn/issues/21755 */display: inline-block !important;position: relative;}#sk-container-id-45 div.sk-text-repr-fallback {display: none;}</style><div id=\"sk-container-id-45\" class=\"sk-top-container\"><div class=\"sk-text-repr-fallback\"><pre>LogisticRegression(C=0.01, class_weight=&#x27;balanced&#x27;)</pre><b>In a Jupyter environment, please rerun this cell to show the HTML representation or trust the notebook. <br />On GitHub, the HTML representation is unable to render, please try loading this page with nbviewer.org.</b></div><div class=\"sk-container\" hidden><div class=\"sk-item\"><div class=\"sk-estimator sk-toggleable\"><input class=\"sk-toggleable__control sk-hidden--visually\" id=\"sk-estimator-id-57\" type=\"checkbox\" checked><label for=\"sk-estimator-id-57\" class=\"sk-toggleable__label sk-toggleable__label-arrow\">LogisticRegression</label><div class=\"sk-toggleable__content\"><pre>LogisticRegression(C=0.01, class_weight=&#x27;balanced&#x27;)</pre></div></div></div></div></div>"
      ],
      "text/plain": [
       "LogisticRegression(C=0.01, class_weight='balanced')"
      ]
     },
     "execution_count": 448,
     "metadata": {},
     "output_type": "execute_result"
    }
   ],
   "source": [
    "cancer_shuffleds = breast_cancer_df.sample(frac = 1).reset_index(drop = True)\n",
    "bc_Xds = cancer_shuffleds[cancer_shuffleds.columns[1:10]].to_numpy()\n",
    "bc_Yds = cancer_shuffleds[cancer_shuffleds.columns[10]].to_numpy()\n",
    "X_trainbcds, X_testbcds, y_trainbcds, y_testbcds = train_test_split(bc_Xds, bc_Yds, test_size = 0.5, random_state = 42)\n",
    "params = {'C' : [0.001, 0.01, 0.1, 1], 'solver' : ['lbfgs', 'liblinear', 'newton-cg']}\n",
    "\n",
    "# have to scale data you ran into an error\n",
    "scaler50 = StandardScaler()\n",
    "scaler50.fit(X_trainbcds)\n",
    "X_train_newbcds = scaler.transform(X_trainbcds)\n",
    "\n",
    "# call classifier and get the best hyper parameter for this case - combinations of above params\n",
    "classier = LogisticRegression(class_weight = 'balanced')\n",
    "classier_hyper_tune = GridSearchCV(classier, param_grid = params, cv = 3, return_train_score = True)\n",
    "classier_hyper_tune.fit(X_trainbcds, y_trainbcds)\n",
    "print(\"training score for best hyperparameter \" + str(classier_hyper_tune.cv_results_.get('mean_train_score')[0]))\n",
    "print(\"test score for best hyperparameter \" + str(classier_hyper_tune.cv_results_.get('mean_test_score')[0]))\n",
    "classier_hyper_tune.best_estimator_"
   ]
  },
  {
   "cell_type": "markdown",
   "id": "cdfe58c5",
   "metadata": {},
   "source": [
    "#### Trial 1"
   ]
  },
  {
   "cell_type": "code",
   "execution_count": 449,
   "id": "b7a192ac",
   "metadata": {},
   "outputs": [
    {
     "data": {
      "text/plain": [
       "0.9678362573099415"
      ]
     },
     "execution_count": 449,
     "metadata": {},
     "output_type": "execute_result"
    }
   ],
   "source": [
    "tuned_50_LR = LogisticRegression(C = 0.01, class_weight = 'balanced', solver = 'lbfgs')\n",
    "tuned_50_LR.fit(X_trainbcds, y_trainbcds)\n",
    "tuned_50_LR.score(X_testbcds, y_testbcds)"
   ]
  },
  {
   "cell_type": "markdown",
   "id": "9cdcb00b",
   "metadata": {},
   "source": [
    "#### Trial 2"
   ]
  },
  {
   "cell_type": "code",
   "execution_count": 457,
   "id": "f501a25d",
   "metadata": {},
   "outputs": [
    {
     "data": {
      "text/plain": [
       "0.9824561403508771"
      ]
     },
     "execution_count": 457,
     "metadata": {},
     "output_type": "execute_result"
    }
   ],
   "source": [
    "cancer_shuffled50s = breast_cancer_df.sample(frac = 1).reset_index(drop = True)\n",
    "bc_Xd50s = cancer_shuffled50s[cancer_shuffled50s.columns[1:10]].to_numpy()\n",
    "bc_Yd50s = cancer_shuffled50s[cancer_shuffled50s.columns[10]].to_numpy()\n",
    "X_train50s, X_test50s, y_train50s, y_test50s = train_test_split(bc_Xd50s, bc_Yd50s, test_size = 0.5, random_state = 42)\n",
    "\n",
    "tuned_50_LR.fit(X_train50s, y_train50s)\n",
    "tuned_50_LR.score(X_test50s, y_test50s)"
   ]
  },
  {
   "cell_type": "markdown",
   "id": "6e2a2869",
   "metadata": {},
   "source": [
    "#### Trial 3"
   ]
  },
  {
   "cell_type": "code",
   "execution_count": 458,
   "id": "02b94f48",
   "metadata": {},
   "outputs": [
    {
     "data": {
      "text/plain": [
       "0.9707602339181286"
      ]
     },
     "execution_count": 458,
     "metadata": {},
     "output_type": "execute_result"
    }
   ],
   "source": [
    "cancer_shuffle5s = breast_cancer_df.sample(frac = 1).reset_index(drop = True)\n",
    "bc_X5s = cancer_shuffle5s[cancer_shuffle5s.columns[1:10]].to_numpy()\n",
    "bc_Y5s = cancer_shuffle5s[cancer_shuffle5s.columns[10]].to_numpy()\n",
    "X_train5s, X_test5s, y_train5s, y_test5s = train_test_split(bc_X5s, bc_Y5s, test_size = 0.5, random_state = 42)\n",
    "\n",
    "tuned_50_LR.fit(X_train5s, y_train5s)\n",
    "tuned_50_LR.score(X_test5s, y_test5s)"
   ]
  },
  {
   "cell_type": "code",
   "execution_count": 698,
   "id": "5952597e",
   "metadata": {},
   "outputs": [
    {
     "data": {
      "text/plain": [
       "0.9736842105263158"
      ]
     },
     "execution_count": 698,
     "metadata": {},
     "output_type": "execute_result"
    }
   ],
   "source": [
    "(0.9707602339181286 + 0.9824561403508771 + 0.9678362573099415) / 3"
   ]
  },
  {
   "cell_type": "code",
   "execution_count": 740,
   "id": "2ebb8cda",
   "metadata": {},
   "outputs": [
    {
     "data": {
      "text/plain": [
       "0.9736070381231672"
      ]
     },
     "execution_count": 740,
     "metadata": {},
     "output_type": "execute_result"
    }
   ],
   "source": [
    "(tuned_50_LR.score(X_train5s, y_train5s) + \n",
    "tuned_50_LR.score(X_train50s, y_train50s) + \n",
    "tuned_50_LR.score(X_trainbcds, y_trainbcds)) / 3"
   ]
  },
  {
   "cell_type": "markdown",
   "id": "4a037534",
   "metadata": {},
   "source": [
    "## 80/20 Split"
   ]
  },
  {
   "cell_type": "code",
   "execution_count": 451,
   "id": "953c2e6c",
   "metadata": {},
   "outputs": [
    {
     "name": "stdout",
     "output_type": "stream",
     "text": [
      "training score for best hyperparameter 0.9752747252747253\n",
      "test score for best hyperparameter 0.9743589743589745\n"
     ]
    },
    {
     "data": {
      "text/html": [
       "<style>#sk-container-id-47 {color: black;}#sk-container-id-47 pre{padding: 0;}#sk-container-id-47 div.sk-toggleable {background-color: white;}#sk-container-id-47 label.sk-toggleable__label {cursor: pointer;display: block;width: 100%;margin-bottom: 0;padding: 0.3em;box-sizing: border-box;text-align: center;}#sk-container-id-47 label.sk-toggleable__label-arrow:before {content: \"▸\";float: left;margin-right: 0.25em;color: #696969;}#sk-container-id-47 label.sk-toggleable__label-arrow:hover:before {color: black;}#sk-container-id-47 div.sk-estimator:hover label.sk-toggleable__label-arrow:before {color: black;}#sk-container-id-47 div.sk-toggleable__content {max-height: 0;max-width: 0;overflow: hidden;text-align: left;background-color: #f0f8ff;}#sk-container-id-47 div.sk-toggleable__content pre {margin: 0.2em;color: black;border-radius: 0.25em;background-color: #f0f8ff;}#sk-container-id-47 input.sk-toggleable__control:checked~div.sk-toggleable__content {max-height: 200px;max-width: 100%;overflow: auto;}#sk-container-id-47 input.sk-toggleable__control:checked~label.sk-toggleable__label-arrow:before {content: \"▾\";}#sk-container-id-47 div.sk-estimator input.sk-toggleable__control:checked~label.sk-toggleable__label {background-color: #d4ebff;}#sk-container-id-47 div.sk-label input.sk-toggleable__control:checked~label.sk-toggleable__label {background-color: #d4ebff;}#sk-container-id-47 input.sk-hidden--visually {border: 0;clip: rect(1px 1px 1px 1px);clip: rect(1px, 1px, 1px, 1px);height: 1px;margin: -1px;overflow: hidden;padding: 0;position: absolute;width: 1px;}#sk-container-id-47 div.sk-estimator {font-family: monospace;background-color: #f0f8ff;border: 1px dotted black;border-radius: 0.25em;box-sizing: border-box;margin-bottom: 0.5em;}#sk-container-id-47 div.sk-estimator:hover {background-color: #d4ebff;}#sk-container-id-47 div.sk-parallel-item::after {content: \"\";width: 100%;border-bottom: 1px solid gray;flex-grow: 1;}#sk-container-id-47 div.sk-label:hover label.sk-toggleable__label {background-color: #d4ebff;}#sk-container-id-47 div.sk-serial::before {content: \"\";position: absolute;border-left: 1px solid gray;box-sizing: border-box;top: 0;bottom: 0;left: 50%;z-index: 0;}#sk-container-id-47 div.sk-serial {display: flex;flex-direction: column;align-items: center;background-color: white;padding-right: 0.2em;padding-left: 0.2em;position: relative;}#sk-container-id-47 div.sk-item {position: relative;z-index: 1;}#sk-container-id-47 div.sk-parallel {display: flex;align-items: stretch;justify-content: center;background-color: white;position: relative;}#sk-container-id-47 div.sk-item::before, #sk-container-id-47 div.sk-parallel-item::before {content: \"\";position: absolute;border-left: 1px solid gray;box-sizing: border-box;top: 0;bottom: 0;left: 50%;z-index: -1;}#sk-container-id-47 div.sk-parallel-item {display: flex;flex-direction: column;z-index: 1;position: relative;background-color: white;}#sk-container-id-47 div.sk-parallel-item:first-child::after {align-self: flex-end;width: 50%;}#sk-container-id-47 div.sk-parallel-item:last-child::after {align-self: flex-start;width: 50%;}#sk-container-id-47 div.sk-parallel-item:only-child::after {width: 0;}#sk-container-id-47 div.sk-dashed-wrapped {border: 1px dashed gray;margin: 0 0.4em 0.5em 0.4em;box-sizing: border-box;padding-bottom: 0.4em;background-color: white;}#sk-container-id-47 div.sk-label label {font-family: monospace;font-weight: bold;display: inline-block;line-height: 1.2em;}#sk-container-id-47 div.sk-label-container {text-align: center;}#sk-container-id-47 div.sk-container {/* jupyter's `normalize.less` sets `[hidden] { display: none; }` but bootstrap.min.css set `[hidden] { display: none !important; }` so we also need the `!important` here to be able to override the default hidden behavior on the sphinx rendered scikit-learn.org. See: https://github.com/scikit-learn/scikit-learn/issues/21755 */display: inline-block !important;position: relative;}#sk-container-id-47 div.sk-text-repr-fallback {display: none;}</style><div id=\"sk-container-id-47\" class=\"sk-top-container\"><div class=\"sk-text-repr-fallback\"><pre>LogisticRegression(C=0.1, class_weight=&#x27;balanced&#x27;)</pre><b>In a Jupyter environment, please rerun this cell to show the HTML representation or trust the notebook. <br />On GitHub, the HTML representation is unable to render, please try loading this page with nbviewer.org.</b></div><div class=\"sk-container\" hidden><div class=\"sk-item\"><div class=\"sk-estimator sk-toggleable\"><input class=\"sk-toggleable__control sk-hidden--visually\" id=\"sk-estimator-id-59\" type=\"checkbox\" checked><label for=\"sk-estimator-id-59\" class=\"sk-toggleable__label sk-toggleable__label-arrow\">LogisticRegression</label><div class=\"sk-toggleable__content\"><pre>LogisticRegression(C=0.1, class_weight=&#x27;balanced&#x27;)</pre></div></div></div></div></div>"
      ],
      "text/plain": [
       "LogisticRegression(C=0.1, class_weight='balanced')"
      ]
     },
     "execution_count": 451,
     "metadata": {},
     "output_type": "execute_result"
    }
   ],
   "source": [
    "cancer_shuffle20 = breast_cancer_df.sample(frac = 1).reset_index(drop = True)\n",
    "bc_X20 = cancer_shuffle20[cancer_shuffle20.columns[1:10]].to_numpy()\n",
    "bc_Y20 = cancer_shuffle20[cancer_shuffle20.columns[10]].to_numpy()\n",
    "X_train20, X_test20, y_train20, y_test20 = train_test_split(bc_X20, bc_Y20, test_size = 0.2, random_state = 42)\n",
    "params = {'C' : [0.001, 0.01, 0.1, 1], 'solver' : ['lbfgs', 'liblinear', 'newton-cg']}\n",
    "\n",
    "# have to scale data you ran into an error\n",
    "scaler20 = StandardScaler()\n",
    "scaler20.fit(X_train20)\n",
    "X_train_new20 = scaler.transform(X_train20)\n",
    "\n",
    "# call classifier and get the best hyper parameter for this case - combinations of above params\n",
    "classier20 = LogisticRegression(class_weight = 'balanced')\n",
    "classier20_hyper_tune = GridSearchCV(classier20, param_grid = params, cv = 3, return_train_score = True)\n",
    "classier20_hyper_tune.fit(X_train20, y_train20)\n",
    "print(\"training score for best hyperparameter \" + str(classier20_hyper_tune.cv_results_.get('mean_train_score')[0]))\n",
    "print(\"test score for best hyperparameter \" + str(classier20_hyper_tune.cv_results_.get('mean_test_score')[0]))\n",
    "classier20_hyper_tune.best_estimator_"
   ]
  },
  {
   "cell_type": "markdown",
   "id": "d2a025e9",
   "metadata": {},
   "source": [
    "#### Trial 1"
   ]
  },
  {
   "cell_type": "code",
   "execution_count": 452,
   "id": "e80b9d54",
   "metadata": {},
   "outputs": [
    {
     "data": {
      "text/plain": [
       "0.9562043795620438"
      ]
     },
     "execution_count": 452,
     "metadata": {},
     "output_type": "execute_result"
    }
   ],
   "source": [
    "tuned_20_LR = LogisticRegression(C = 0.1, class_weight = 'balanced', solver = 'lbfgs')\n",
    "tuned_20_LR.fit(X_train20, y_train20)\n",
    "tuned_20_LR.score(X_test20, y_test20)"
   ]
  },
  {
   "cell_type": "markdown",
   "id": "d27372bf",
   "metadata": {},
   "source": [
    "#### Trial 2"
   ]
  },
  {
   "cell_type": "code",
   "execution_count": 454,
   "id": "aa9a23c6",
   "metadata": {},
   "outputs": [
    {
     "data": {
      "text/plain": [
       "0.9854014598540146"
      ]
     },
     "execution_count": 454,
     "metadata": {},
     "output_type": "execute_result"
    }
   ],
   "source": [
    "cancer_shuffle21 = breast_cancer_df.sample(frac = 1).reset_index(drop = True)\n",
    "bc_X21 = cancer_shuffle21[cancer_shuffle21.columns[1:10]].to_numpy()\n",
    "bc_Y21 = cancer_shuffle21[cancer_shuffle21.columns[10]].to_numpy()\n",
    "X_train21, X_test21, y_train21, y_test21 = train_test_split(bc_X21, bc_Y21, test_size = 0.2, random_state = 42)\n",
    "\n",
    "tuned_20_LR.fit(X_train21, y_train21)\n",
    "tuned_20_LR.score(X_test21, y_test21)"
   ]
  },
  {
   "cell_type": "markdown",
   "id": "da462bb7",
   "metadata": {},
   "source": [
    "#### Trial 3"
   ]
  },
  {
   "cell_type": "code",
   "execution_count": 456,
   "id": "cbd4820f",
   "metadata": {},
   "outputs": [
    {
     "data": {
      "text/plain": [
       "0.948905109489051"
      ]
     },
     "execution_count": 456,
     "metadata": {},
     "output_type": "execute_result"
    }
   ],
   "source": [
    "cancer_shuffle22 = breast_cancer_df.sample(frac = 1).reset_index(drop = True)\n",
    "bc_X22 = cancer_shuffle22[cancer_shuffle22.columns[1:10]].to_numpy()\n",
    "bc_Y22 = cancer_shuffle22[cancer_shuffle22.columns[10]].to_numpy()\n",
    "X_train22, X_test22, y_train22, y_test22 = train_test_split(bc_X22, bc_Y22, test_size = 0.2, random_state = 42)\n",
    "\n",
    "tuned_20_LR.fit(X_train22, y_train22)\n",
    "tuned_20_LR.score(X_test22, y_test22)"
   ]
  },
  {
   "cell_type": "code",
   "execution_count": 699,
   "id": "85ed5ad3",
   "metadata": {},
   "outputs": [
    {
     "data": {
      "text/plain": [
       "0.9635036496350365"
      ]
     },
     "execution_count": 699,
     "metadata": {},
     "output_type": "execute_result"
    }
   ],
   "source": [
    "(0.9562043795620438 + 0.9854014598540146 + 0.948905109489051) / 3"
   ]
  },
  {
   "cell_type": "code",
   "execution_count": 741,
   "id": "a55e242d",
   "metadata": {},
   "outputs": [
    {
     "data": {
      "text/plain": [
       "0.9774114774114774"
      ]
     },
     "execution_count": 741,
     "metadata": {},
     "output_type": "execute_result"
    }
   ],
   "source": [
    "(tuned_20_LR.score(X_train22, y_train22) + \n",
    " tuned_20_LR.score(X_train21, y_train21) + \n",
    "tuned_20_LR.score(X_train20, y_train20)) / 3"
   ]
  },
  {
   "cell_type": "markdown",
   "id": "550154c2",
   "metadata": {},
   "source": [
    "# KNN with Breast Cancer Data"
   ]
  },
  {
   "cell_type": "markdown",
   "id": "1358c6e3",
   "metadata": {},
   "source": [
    "## 20/80 Split"
   ]
  },
  {
   "cell_type": "code",
   "execution_count": 743,
   "id": "5193f9ba",
   "metadata": {},
   "outputs": [
    {
     "name": "stdout",
     "output_type": "stream",
     "text": [
      "training score for best hyperparameter 0.9669108669108669\n",
      "test score for best hyperparameter 0.9484702093397747\n"
     ]
    },
    {
     "data": {
      "text/html": [
       "<style>#sk-container-id-85 {color: black;}#sk-container-id-85 pre{padding: 0;}#sk-container-id-85 div.sk-toggleable {background-color: white;}#sk-container-id-85 label.sk-toggleable__label {cursor: pointer;display: block;width: 100%;margin-bottom: 0;padding: 0.3em;box-sizing: border-box;text-align: center;}#sk-container-id-85 label.sk-toggleable__label-arrow:before {content: \"▸\";float: left;margin-right: 0.25em;color: #696969;}#sk-container-id-85 label.sk-toggleable__label-arrow:hover:before {color: black;}#sk-container-id-85 div.sk-estimator:hover label.sk-toggleable__label-arrow:before {color: black;}#sk-container-id-85 div.sk-toggleable__content {max-height: 0;max-width: 0;overflow: hidden;text-align: left;background-color: #f0f8ff;}#sk-container-id-85 div.sk-toggleable__content pre {margin: 0.2em;color: black;border-radius: 0.25em;background-color: #f0f8ff;}#sk-container-id-85 input.sk-toggleable__control:checked~div.sk-toggleable__content {max-height: 200px;max-width: 100%;overflow: auto;}#sk-container-id-85 input.sk-toggleable__control:checked~label.sk-toggleable__label-arrow:before {content: \"▾\";}#sk-container-id-85 div.sk-estimator input.sk-toggleable__control:checked~label.sk-toggleable__label {background-color: #d4ebff;}#sk-container-id-85 div.sk-label input.sk-toggleable__control:checked~label.sk-toggleable__label {background-color: #d4ebff;}#sk-container-id-85 input.sk-hidden--visually {border: 0;clip: rect(1px 1px 1px 1px);clip: rect(1px, 1px, 1px, 1px);height: 1px;margin: -1px;overflow: hidden;padding: 0;position: absolute;width: 1px;}#sk-container-id-85 div.sk-estimator {font-family: monospace;background-color: #f0f8ff;border: 1px dotted black;border-radius: 0.25em;box-sizing: border-box;margin-bottom: 0.5em;}#sk-container-id-85 div.sk-estimator:hover {background-color: #d4ebff;}#sk-container-id-85 div.sk-parallel-item::after {content: \"\";width: 100%;border-bottom: 1px solid gray;flex-grow: 1;}#sk-container-id-85 div.sk-label:hover label.sk-toggleable__label {background-color: #d4ebff;}#sk-container-id-85 div.sk-serial::before {content: \"\";position: absolute;border-left: 1px solid gray;box-sizing: border-box;top: 0;bottom: 0;left: 50%;z-index: 0;}#sk-container-id-85 div.sk-serial {display: flex;flex-direction: column;align-items: center;background-color: white;padding-right: 0.2em;padding-left: 0.2em;position: relative;}#sk-container-id-85 div.sk-item {position: relative;z-index: 1;}#sk-container-id-85 div.sk-parallel {display: flex;align-items: stretch;justify-content: center;background-color: white;position: relative;}#sk-container-id-85 div.sk-item::before, #sk-container-id-85 div.sk-parallel-item::before {content: \"\";position: absolute;border-left: 1px solid gray;box-sizing: border-box;top: 0;bottom: 0;left: 50%;z-index: -1;}#sk-container-id-85 div.sk-parallel-item {display: flex;flex-direction: column;z-index: 1;position: relative;background-color: white;}#sk-container-id-85 div.sk-parallel-item:first-child::after {align-self: flex-end;width: 50%;}#sk-container-id-85 div.sk-parallel-item:last-child::after {align-self: flex-start;width: 50%;}#sk-container-id-85 div.sk-parallel-item:only-child::after {width: 0;}#sk-container-id-85 div.sk-dashed-wrapped {border: 1px dashed gray;margin: 0 0.4em 0.5em 0.4em;box-sizing: border-box;padding-bottom: 0.4em;background-color: white;}#sk-container-id-85 div.sk-label label {font-family: monospace;font-weight: bold;display: inline-block;line-height: 1.2em;}#sk-container-id-85 div.sk-label-container {text-align: center;}#sk-container-id-85 div.sk-container {/* jupyter's `normalize.less` sets `[hidden] { display: none; }` but bootstrap.min.css set `[hidden] { display: none !important; }` so we also need the `!important` here to be able to override the default hidden behavior on the sphinx rendered scikit-learn.org. See: https://github.com/scikit-learn/scikit-learn/issues/21755 */display: inline-block !important;position: relative;}#sk-container-id-85 div.sk-text-repr-fallback {display: none;}</style><div id=\"sk-container-id-85\" class=\"sk-top-container\"><div class=\"sk-text-repr-fallback\"><pre>KNeighborsClassifier()</pre><b>In a Jupyter environment, please rerun this cell to show the HTML representation or trust the notebook. <br />On GitHub, the HTML representation is unable to render, please try loading this page with nbviewer.org.</b></div><div class=\"sk-container\" hidden><div class=\"sk-item\"><div class=\"sk-estimator sk-toggleable\"><input class=\"sk-toggleable__control sk-hidden--visually\" id=\"sk-estimator-id-97\" type=\"checkbox\" checked><label for=\"sk-estimator-id-97\" class=\"sk-toggleable__label sk-toggleable__label-arrow\">KNeighborsClassifier</label><div class=\"sk-toggleable__content\"><pre>KNeighborsClassifier()</pre></div></div></div></div></div>"
      ],
      "text/plain": [
       "KNeighborsClassifier()"
      ]
     },
     "execution_count": 743,
     "metadata": {},
     "output_type": "execute_result"
    }
   ],
   "source": [
    "#KNN \n",
    "cancer_shuffled = breast_cancer_df.sample(frac = 1).reset_index(drop = True)\n",
    "bc_Xd = cancer_shuffled[cancer_shuffled.columns[1:10]].to_numpy()\n",
    "bc_Yd = cancer_shuffled[cancer_shuffled.columns[10]].to_numpy()\n",
    "X_traind, X_testd, y_traind, y_testd = train_test_split(bc_Xd, bc_Yd, test_size = 0.8, random_state = 42)\n",
    "\n",
    "params = {'n_neighbors' : [3, 5, 7, 10]}\n",
    "\n",
    "# have to scale data you ran into an error\n",
    "\n",
    "# call classifier and get the best hyper parameter for this case - combinations of above params\n",
    "classifierd = KNeighborsClassifier(weights = 'uniform')\n",
    "class_hyper_tuned = GridSearchCV(classifierd, param_grid = params, cv = 3, return_train_score = True)\n",
    "class_hyper_tuned.fit(X_traind, y_traind)\n",
    "print(\"training score for best hyperparameter \" + str(class_hyper_tuned.cv_results_.get('mean_train_score')[0]))\n",
    "print(\"test score for best hyperparameter \" + str(class_hyper_tuned.cv_results_.get('mean_test_score')[0]))\n",
    "class_hyper_tuned.best_estimator_"
   ]
  },
  {
   "cell_type": "markdown",
   "id": "dd50487a",
   "metadata": {},
   "source": [
    "#### Trial 1"
   ]
  },
  {
   "cell_type": "code",
   "execution_count": 744,
   "id": "86e35b38",
   "metadata": {},
   "outputs": [
    {
     "data": {
      "text/plain": [
       "0.9689213893967094"
      ]
     },
     "execution_count": 744,
     "metadata": {},
     "output_type": "execute_result"
    }
   ],
   "source": [
    "tuned_KNN = KNeighborsClassifier(n_neighbors = 3, weights = 'uniform')\n",
    "tuned_KNN.fit(X_traind, y_traind)\n",
    "tuned_KNN.score(X_testd, y_testd)"
   ]
  },
  {
   "cell_type": "markdown",
   "id": "0f0f4a6d",
   "metadata": {},
   "source": [
    "#### Trial 2"
   ]
  },
  {
   "cell_type": "code",
   "execution_count": 432,
   "id": "a2d9eedc",
   "metadata": {},
   "outputs": [
    {
     "data": {
      "text/plain": [
       "0.9579524680073126"
      ]
     },
     "execution_count": 432,
     "metadata": {},
     "output_type": "execute_result"
    }
   ],
   "source": [
    "cancer_shuffled3 = breast_cancer_df.sample(frac = 1).reset_index(drop = True)\n",
    "bc_Xd3 = cancer_shuffled3[cancer_shuffled3.columns[1:10]].to_numpy()\n",
    "bc_Yd3 = cancer_shuffled3[cancer_shuffled3.columns[10]].to_numpy()\n",
    "X_traind3, X_testd3, y_traind3, y_testd3 = train_test_split(bc_Xd3, bc_Yd3, test_size = 0.8, random_state = 42)\n",
    "\n",
    "tuned_KNN.fit(X_traind3, y_traind3)\n",
    "tuned_KNN.score(X_testd3, y_testd3)"
   ]
  },
  {
   "cell_type": "markdown",
   "id": "0eb43bf8",
   "metadata": {},
   "source": [
    "#### Trial 3"
   ]
  },
  {
   "cell_type": "code",
   "execution_count": 434,
   "id": "fb8074d5",
   "metadata": {},
   "outputs": [
    {
     "data": {
      "text/plain": [
       "0.9670932358318098"
      ]
     },
     "execution_count": 434,
     "metadata": {},
     "output_type": "execute_result"
    }
   ],
   "source": [
    "cancer_shuffled4 = breast_cancer_df.sample(frac = 1).reset_index(drop = True)\n",
    "bc_Xd4 = cancer_shuffled4[cancer_shuffled4.columns[1:10]].to_numpy()\n",
    "bc_Yd4 = cancer_shuffled4[cancer_shuffled4.columns[10]].to_numpy()\n",
    "X_traind4, X_testd4, y_traind4, y_testd4 = train_test_split(bc_Xd4, bc_Yd4, test_size = 0.8, random_state = 42)\n",
    "\n",
    "tuned_KNN.fit(X_traind4, y_traind4)\n",
    "tuned_KNN.score(X_testd4, y_testd4)"
   ]
  },
  {
   "cell_type": "code",
   "execution_count": 701,
   "id": "d18f8b43",
   "metadata": {},
   "outputs": [
    {
     "data": {
      "text/plain": [
       "0.9683120048750761"
      ]
     },
     "execution_count": 701,
     "metadata": {},
     "output_type": "execute_result"
    }
   ],
   "source": [
    "(0.979890310786106 + 0.9579524680073126 + 0.9670932358318098) / 3"
   ]
  },
  {
   "cell_type": "code",
   "execution_count": 745,
   "id": "acf5deac",
   "metadata": {},
   "outputs": [
    {
     "data": {
      "text/plain": [
       "0.9622865275142316"
      ]
     },
     "execution_count": 745,
     "metadata": {},
     "output_type": "execute_result"
    }
   ],
   "source": [
    "(tuned_KNN.score(X_traind4, y_traind4) + \n",
    "tuned_KNN.score(X_traind3, y_traind3) + \n",
    "tuned_KNN.score(X_traind, y_traind)) / 3"
   ]
  },
  {
   "cell_type": "markdown",
   "id": "a64b3137",
   "metadata": {},
   "source": [
    "## 50/50 Split"
   ]
  },
  {
   "cell_type": "markdown",
   "id": "9adcf8f0",
   "metadata": {},
   "source": [
    "### Trial 1"
   ]
  },
  {
   "cell_type": "code",
   "execution_count": 747,
   "id": "dc55beb2",
   "metadata": {},
   "outputs": [
    {
     "name": "stdout",
     "output_type": "stream",
     "text": [
      "training score for best hyperparameter 0.9867905814462735\n",
      "test score for best hyperparameter 0.9706049785230036\n"
     ]
    },
    {
     "data": {
      "text/html": [
       "<style>#sk-container-id-86 {color: black;}#sk-container-id-86 pre{padding: 0;}#sk-container-id-86 div.sk-toggleable {background-color: white;}#sk-container-id-86 label.sk-toggleable__label {cursor: pointer;display: block;width: 100%;margin-bottom: 0;padding: 0.3em;box-sizing: border-box;text-align: center;}#sk-container-id-86 label.sk-toggleable__label-arrow:before {content: \"▸\";float: left;margin-right: 0.25em;color: #696969;}#sk-container-id-86 label.sk-toggleable__label-arrow:hover:before {color: black;}#sk-container-id-86 div.sk-estimator:hover label.sk-toggleable__label-arrow:before {color: black;}#sk-container-id-86 div.sk-toggleable__content {max-height: 0;max-width: 0;overflow: hidden;text-align: left;background-color: #f0f8ff;}#sk-container-id-86 div.sk-toggleable__content pre {margin: 0.2em;color: black;border-radius: 0.25em;background-color: #f0f8ff;}#sk-container-id-86 input.sk-toggleable__control:checked~div.sk-toggleable__content {max-height: 200px;max-width: 100%;overflow: auto;}#sk-container-id-86 input.sk-toggleable__control:checked~label.sk-toggleable__label-arrow:before {content: \"▾\";}#sk-container-id-86 div.sk-estimator input.sk-toggleable__control:checked~label.sk-toggleable__label {background-color: #d4ebff;}#sk-container-id-86 div.sk-label input.sk-toggleable__control:checked~label.sk-toggleable__label {background-color: #d4ebff;}#sk-container-id-86 input.sk-hidden--visually {border: 0;clip: rect(1px 1px 1px 1px);clip: rect(1px, 1px, 1px, 1px);height: 1px;margin: -1px;overflow: hidden;padding: 0;position: absolute;width: 1px;}#sk-container-id-86 div.sk-estimator {font-family: monospace;background-color: #f0f8ff;border: 1px dotted black;border-radius: 0.25em;box-sizing: border-box;margin-bottom: 0.5em;}#sk-container-id-86 div.sk-estimator:hover {background-color: #d4ebff;}#sk-container-id-86 div.sk-parallel-item::after {content: \"\";width: 100%;border-bottom: 1px solid gray;flex-grow: 1;}#sk-container-id-86 div.sk-label:hover label.sk-toggleable__label {background-color: #d4ebff;}#sk-container-id-86 div.sk-serial::before {content: \"\";position: absolute;border-left: 1px solid gray;box-sizing: border-box;top: 0;bottom: 0;left: 50%;z-index: 0;}#sk-container-id-86 div.sk-serial {display: flex;flex-direction: column;align-items: center;background-color: white;padding-right: 0.2em;padding-left: 0.2em;position: relative;}#sk-container-id-86 div.sk-item {position: relative;z-index: 1;}#sk-container-id-86 div.sk-parallel {display: flex;align-items: stretch;justify-content: center;background-color: white;position: relative;}#sk-container-id-86 div.sk-item::before, #sk-container-id-86 div.sk-parallel-item::before {content: \"\";position: absolute;border-left: 1px solid gray;box-sizing: border-box;top: 0;bottom: 0;left: 50%;z-index: -1;}#sk-container-id-86 div.sk-parallel-item {display: flex;flex-direction: column;z-index: 1;position: relative;background-color: white;}#sk-container-id-86 div.sk-parallel-item:first-child::after {align-self: flex-end;width: 50%;}#sk-container-id-86 div.sk-parallel-item:last-child::after {align-self: flex-start;width: 50%;}#sk-container-id-86 div.sk-parallel-item:only-child::after {width: 0;}#sk-container-id-86 div.sk-dashed-wrapped {border: 1px dashed gray;margin: 0 0.4em 0.5em 0.4em;box-sizing: border-box;padding-bottom: 0.4em;background-color: white;}#sk-container-id-86 div.sk-label label {font-family: monospace;font-weight: bold;display: inline-block;line-height: 1.2em;}#sk-container-id-86 div.sk-label-container {text-align: center;}#sk-container-id-86 div.sk-container {/* jupyter's `normalize.less` sets `[hidden] { display: none; }` but bootstrap.min.css set `[hidden] { display: none !important; }` so we also need the `!important` here to be able to override the default hidden behavior on the sphinx rendered scikit-learn.org. See: https://github.com/scikit-learn/scikit-learn/issues/21755 */display: inline-block !important;position: relative;}#sk-container-id-86 div.sk-text-repr-fallback {display: none;}</style><div id=\"sk-container-id-86\" class=\"sk-top-container\"><div class=\"sk-text-repr-fallback\"><pre>KNeighborsClassifier(n_neighbors=10)</pre><b>In a Jupyter environment, please rerun this cell to show the HTML representation or trust the notebook. <br />On GitHub, the HTML representation is unable to render, please try loading this page with nbviewer.org.</b></div><div class=\"sk-container\" hidden><div class=\"sk-item\"><div class=\"sk-estimator sk-toggleable\"><input class=\"sk-toggleable__control sk-hidden--visually\" id=\"sk-estimator-id-98\" type=\"checkbox\" checked><label for=\"sk-estimator-id-98\" class=\"sk-toggleable__label sk-toggleable__label-arrow\">KNeighborsClassifier</label><div class=\"sk-toggleable__content\"><pre>KNeighborsClassifier(n_neighbors=10)</pre></div></div></div></div></div>"
      ],
      "text/plain": [
       "KNeighborsClassifier(n_neighbors=10)"
      ]
     },
     "execution_count": 747,
     "metadata": {},
     "output_type": "execute_result"
    }
   ],
   "source": [
    "cancer_shuffled4 = breast_cancer_df.sample(frac = 1).reset_index(drop = True)\n",
    "bc_Xd4 = cancer_shuffled4[cancer_shuffled4.columns[1:10]].to_numpy()\n",
    "bc_Yd4 = cancer_shuffled4[cancer_shuffled4.columns[10]].to_numpy()\n",
    "X_traind4, X_testd4, y_traind4, y_testd4 = train_test_split(bc_Xd4, bc_Yd4, test_size = 0.5, random_state = 42)\n",
    "\n",
    "params = {'n_neighbors' : [3, 5, 7, 10]}\n",
    "\n",
    "# have to scale data you ran into an error\n",
    "\n",
    "# call classifier and get the best hyper parameter for this case - combinations of above params\n",
    "classifier4 = KNeighborsClassifier(weights = 'uniform')\n",
    "class_hyper_tuned4 = GridSearchCV(classifier4, param_grid = params, cv = 3, return_train_score = True)\n",
    "class_hyper_tuned4.fit(X_traind4, y_traind4)\n",
    "print(\"training score for best hyperparameter \" + str(class_hyper_tuned4.cv_results_.get('mean_train_score')[0]))\n",
    "print(\"test score for best hyperparameter \" + str(class_hyper_tuned4.cv_results_.get('mean_test_score')[0]))\n",
    "class_hyper_tuned4.best_estimator_"
   ]
  },
  {
   "cell_type": "code",
   "execution_count": 748,
   "id": "d1d72a78",
   "metadata": {},
   "outputs": [
    {
     "data": {
      "text/plain": [
       "0.9707602339181286"
      ]
     },
     "execution_count": 748,
     "metadata": {},
     "output_type": "execute_result"
    }
   ],
   "source": [
    "tuned_50 = KNeighborsClassifier(n_neighbors = 3, weights ='uniform')\n",
    "tuned_50.fit(X_traind4, y_traind4)\n",
    "tuned_50.score(X_testd4, y_testd4)"
   ]
  },
  {
   "cell_type": "markdown",
   "id": "15bcb80e",
   "metadata": {},
   "source": [
    "#### Trial 2"
   ]
  },
  {
   "cell_type": "code",
   "execution_count": 438,
   "id": "37153751",
   "metadata": {},
   "outputs": [
    {
     "data": {
      "text/plain": [
       "0.9766081871345029"
      ]
     },
     "execution_count": 438,
     "metadata": {},
     "output_type": "execute_result"
    }
   ],
   "source": [
    "cancer_shuffled5 = breast_cancer_df.sample(frac = 1).reset_index(drop = True)\n",
    "bc_Xd5 = cancer_shuffled5[cancer_shuffled5.columns[1:10]].to_numpy()\n",
    "bc_Yd5 = cancer_shuffled5[cancer_shuffled5.columns[10]].to_numpy()\n",
    "X_traind5, X_testd5, y_traind5, y_testd5 = train_test_split(bc_Xd5, bc_Yd5, test_size = 0.5, random_state = 42)\n",
    "\n",
    "tuned_50.fit(X_traind5, y_traind5)\n",
    "tuned_50.score(X_testd5, y_testd5)"
   ]
  },
  {
   "cell_type": "code",
   "execution_count": 440,
   "id": "a980e54c",
   "metadata": {},
   "outputs": [
    {
     "data": {
      "text/plain": [
       "0.9649122807017544"
      ]
     },
     "execution_count": 440,
     "metadata": {},
     "output_type": "execute_result"
    }
   ],
   "source": [
    "cancer_shuffled6 = breast_cancer_df.sample(frac = 1).reset_index(drop = True)\n",
    "bc_Xd6 = cancer_shuffled6[cancer_shuffled6.columns[1:10]].to_numpy()\n",
    "bc_Yd6 = cancer_shuffled6[cancer_shuffled6.columns[10]].to_numpy()\n",
    "X_traind6, X_testd6, y_traind6, y_testd6 = train_test_split(bc_Xd6, bc_Yd6, test_size = 0.5, random_state = 42)\n",
    "\n",
    "tuned_50.fit(X_traind6, y_traind6)\n",
    "tuned_50.score(X_testd6, y_testd6)"
   ]
  },
  {
   "cell_type": "code",
   "execution_count": 702,
   "id": "e0b0420d",
   "metadata": {},
   "outputs": [
    {
     "data": {
      "text/plain": [
       "0.9707602339181286"
      ]
     },
     "execution_count": 702,
     "metadata": {},
     "output_type": "execute_result"
    }
   ],
   "source": [
    "(0.9707602339181286 + 0.9766081871345029 + 0.9649122807017544) / 3"
   ]
  },
  {
   "cell_type": "code",
   "execution_count": 749,
   "id": "1f1cc4bd",
   "metadata": {},
   "outputs": [
    {
     "data": {
      "text/plain": [
       "0.9804496578690127"
      ]
     },
     "execution_count": 749,
     "metadata": {},
     "output_type": "execute_result"
    }
   ],
   "source": [
    "(tuned_50.score(X_traind6, y_traind6) + \n",
    "tuned_50.score(X_traind5, y_traind5) + \n",
    "tuned_50.score(X_traind4, y_traind4)) / 3"
   ]
  },
  {
   "cell_type": "markdown",
   "id": "26e445ce",
   "metadata": {},
   "source": [
    "#### Trial 3"
   ]
  },
  {
   "cell_type": "code",
   "execution_count": 441,
   "id": "2d2050dc",
   "metadata": {
    "scrolled": true
   },
   "outputs": [
    {
     "data": {
      "text/plain": [
       "0.9619883040935673"
      ]
     },
     "execution_count": 441,
     "metadata": {},
     "output_type": "execute_result"
    }
   ],
   "source": [
    "cancer_shuffled7 = breast_cancer_df.sample(frac = 1).reset_index(drop = True)\n",
    "bc_Xd7 = cancer_shuffled7[cancer_shuffled7.columns[1:10]].to_numpy()\n",
    "bc_Yd7 = cancer_shuffled7[cancer_shuffled7.columns[10]].to_numpy()\n",
    "X_traind7, X_testd7, y_traind7, y_testd7 = train_test_split(bc_Xd7, bc_Yd7, test_size = 0.5, random_state = 42)\n",
    "\n",
    "tuned_50.fit(X_traind7, y_traind7)\n",
    "tuned_50.score(X_testd7, y_testd7)"
   ]
  },
  {
   "cell_type": "markdown",
   "id": "b0eeabc4",
   "metadata": {},
   "source": [
    "## 80/20 Split"
   ]
  },
  {
   "cell_type": "code",
   "execution_count": 442,
   "id": "4d88b6f0",
   "metadata": {
    "scrolled": true
   },
   "outputs": [
    {
     "name": "stdout",
     "output_type": "stream",
     "text": [
      "training score for best hyperparameter 0.9835164835164836\n",
      "test score for best hyperparameter 0.9597069597069597\n"
     ]
    },
    {
     "data": {
      "text/html": [
       "<style>#sk-container-id-43 {color: black;}#sk-container-id-43 pre{padding: 0;}#sk-container-id-43 div.sk-toggleable {background-color: white;}#sk-container-id-43 label.sk-toggleable__label {cursor: pointer;display: block;width: 100%;margin-bottom: 0;padding: 0.3em;box-sizing: border-box;text-align: center;}#sk-container-id-43 label.sk-toggleable__label-arrow:before {content: \"▸\";float: left;margin-right: 0.25em;color: #696969;}#sk-container-id-43 label.sk-toggleable__label-arrow:hover:before {color: black;}#sk-container-id-43 div.sk-estimator:hover label.sk-toggleable__label-arrow:before {color: black;}#sk-container-id-43 div.sk-toggleable__content {max-height: 0;max-width: 0;overflow: hidden;text-align: left;background-color: #f0f8ff;}#sk-container-id-43 div.sk-toggleable__content pre {margin: 0.2em;color: black;border-radius: 0.25em;background-color: #f0f8ff;}#sk-container-id-43 input.sk-toggleable__control:checked~div.sk-toggleable__content {max-height: 200px;max-width: 100%;overflow: auto;}#sk-container-id-43 input.sk-toggleable__control:checked~label.sk-toggleable__label-arrow:before {content: \"▾\";}#sk-container-id-43 div.sk-estimator input.sk-toggleable__control:checked~label.sk-toggleable__label {background-color: #d4ebff;}#sk-container-id-43 div.sk-label input.sk-toggleable__control:checked~label.sk-toggleable__label {background-color: #d4ebff;}#sk-container-id-43 input.sk-hidden--visually {border: 0;clip: rect(1px 1px 1px 1px);clip: rect(1px, 1px, 1px, 1px);height: 1px;margin: -1px;overflow: hidden;padding: 0;position: absolute;width: 1px;}#sk-container-id-43 div.sk-estimator {font-family: monospace;background-color: #f0f8ff;border: 1px dotted black;border-radius: 0.25em;box-sizing: border-box;margin-bottom: 0.5em;}#sk-container-id-43 div.sk-estimator:hover {background-color: #d4ebff;}#sk-container-id-43 div.sk-parallel-item::after {content: \"\";width: 100%;border-bottom: 1px solid gray;flex-grow: 1;}#sk-container-id-43 div.sk-label:hover label.sk-toggleable__label {background-color: #d4ebff;}#sk-container-id-43 div.sk-serial::before {content: \"\";position: absolute;border-left: 1px solid gray;box-sizing: border-box;top: 0;bottom: 0;left: 50%;z-index: 0;}#sk-container-id-43 div.sk-serial {display: flex;flex-direction: column;align-items: center;background-color: white;padding-right: 0.2em;padding-left: 0.2em;position: relative;}#sk-container-id-43 div.sk-item {position: relative;z-index: 1;}#sk-container-id-43 div.sk-parallel {display: flex;align-items: stretch;justify-content: center;background-color: white;position: relative;}#sk-container-id-43 div.sk-item::before, #sk-container-id-43 div.sk-parallel-item::before {content: \"\";position: absolute;border-left: 1px solid gray;box-sizing: border-box;top: 0;bottom: 0;left: 50%;z-index: -1;}#sk-container-id-43 div.sk-parallel-item {display: flex;flex-direction: column;z-index: 1;position: relative;background-color: white;}#sk-container-id-43 div.sk-parallel-item:first-child::after {align-self: flex-end;width: 50%;}#sk-container-id-43 div.sk-parallel-item:last-child::after {align-self: flex-start;width: 50%;}#sk-container-id-43 div.sk-parallel-item:only-child::after {width: 0;}#sk-container-id-43 div.sk-dashed-wrapped {border: 1px dashed gray;margin: 0 0.4em 0.5em 0.4em;box-sizing: border-box;padding-bottom: 0.4em;background-color: white;}#sk-container-id-43 div.sk-label label {font-family: monospace;font-weight: bold;display: inline-block;line-height: 1.2em;}#sk-container-id-43 div.sk-label-container {text-align: center;}#sk-container-id-43 div.sk-container {/* jupyter's `normalize.less` sets `[hidden] { display: none; }` but bootstrap.min.css set `[hidden] { display: none !important; }` so we also need the `!important` here to be able to override the default hidden behavior on the sphinx rendered scikit-learn.org. See: https://github.com/scikit-learn/scikit-learn/issues/21755 */display: inline-block !important;position: relative;}#sk-container-id-43 div.sk-text-repr-fallback {display: none;}</style><div id=\"sk-container-id-43\" class=\"sk-top-container\"><div class=\"sk-text-repr-fallback\"><pre>KNeighborsClassifier()</pre><b>In a Jupyter environment, please rerun this cell to show the HTML representation or trust the notebook. <br />On GitHub, the HTML representation is unable to render, please try loading this page with nbviewer.org.</b></div><div class=\"sk-container\" hidden><div class=\"sk-item\"><div class=\"sk-estimator sk-toggleable\"><input class=\"sk-toggleable__control sk-hidden--visually\" id=\"sk-estimator-id-55\" type=\"checkbox\" checked><label for=\"sk-estimator-id-55\" class=\"sk-toggleable__label sk-toggleable__label-arrow\">KNeighborsClassifier</label><div class=\"sk-toggleable__content\"><pre>KNeighborsClassifier()</pre></div></div></div></div></div>"
      ],
      "text/plain": [
       "KNeighborsClassifier()"
      ]
     },
     "execution_count": 442,
     "metadata": {},
     "output_type": "execute_result"
    }
   ],
   "source": [
    "cancer_shuffled8 = breast_cancer_df.sample(frac = 1).reset_index(drop = True)\n",
    "bc_Xd8 = cancer_shuffled8[cancer_shuffled8.columns[1:10]].to_numpy()\n",
    "bc_Yd8 = cancer_shuffled8[cancer_shuffled8.columns[10]].to_numpy()\n",
    "X_traind8, X_testd8, y_traind8, y_testd8 = train_test_split(bc_Xd8, bc_Yd8, test_size = 0.2, random_state = 42)\n",
    "\n",
    "params = {'n_neighbors' : [3, 5, 7, 10]}\n",
    "\n",
    "# have to scale data you ran into an error\n",
    "\n",
    "# call classifier and get the best hyper parameter for this case - combinations of above params\n",
    "classifier8 = KNeighborsClassifier(weights = 'uniform')\n",
    "class_hyper_tuned8 = GridSearchCV(classifier8, param_grid = params, cv = 3, return_train_score = True)\n",
    "class_hyper_tuned8.fit(X_traind8, y_traind8)\n",
    "print(\"training score for best hyperparameter \" + str(class_hyper_tuned8.cv_results_.get('mean_train_score')[0]))\n",
    "print(\"test score for best hyperparameter \" + str(class_hyper_tuned8.cv_results_.get('mean_test_score')[0]))\n",
    "class_hyper_tuned8.best_estimator_"
   ]
  },
  {
   "cell_type": "markdown",
   "id": "353e5995",
   "metadata": {},
   "source": [
    "#### Trial 1"
   ]
  },
  {
   "cell_type": "code",
   "execution_count": 751,
   "id": "83f6b891",
   "metadata": {},
   "outputs": [
    {
     "data": {
      "text/plain": [
       "0.8793103448275862"
      ]
     },
     "execution_count": 751,
     "metadata": {},
     "output_type": "execute_result"
    }
   ],
   "source": [
    "tuned_20 = KNeighborsClassifier(n_neighbors = 5, weights = 'uniform')\n",
    "tuned_20.fit(X_traind8, y_traind8)\n",
    "tuned_20.score(X_testd8, y_testd8)"
   ]
  },
  {
   "cell_type": "markdown",
   "id": "1f33ed89",
   "metadata": {},
   "source": [
    "#### Trial 2"
   ]
  },
  {
   "cell_type": "code",
   "execution_count": 444,
   "id": "d275a75c",
   "metadata": {},
   "outputs": [
    {
     "data": {
      "text/plain": [
       "0.9781021897810219"
      ]
     },
     "execution_count": 444,
     "metadata": {},
     "output_type": "execute_result"
    }
   ],
   "source": [
    "cancer_shuffled9 = breast_cancer_df.sample(frac = 1).reset_index(drop = True)\n",
    "bc_Xd9 = cancer_shuffled9[cancer_shuffled9.columns[1:10]].to_numpy()\n",
    "bc_Yd9 = cancer_shuffled9[cancer_shuffled9.columns[10]].to_numpy()\n",
    "X_traind9, X_testd9, y_traind9, y_testd9 = train_test_split(bc_Xd9, bc_Yd9, test_size = 0.2, random_state = 42)\n",
    "\n",
    "tuned_20.fit(X_traind9, y_traind9)\n",
    "tuned_20.score(X_testd9, y_testd9)"
   ]
  },
  {
   "cell_type": "markdown",
   "id": "ea27d87a",
   "metadata": {},
   "source": [
    "#### Trial 3"
   ]
  },
  {
   "cell_type": "code",
   "execution_count": 445,
   "id": "24e0808e",
   "metadata": {},
   "outputs": [
    {
     "data": {
      "text/plain": [
       "0.9708029197080292"
      ]
     },
     "execution_count": 445,
     "metadata": {},
     "output_type": "execute_result"
    }
   ],
   "source": [
    "cancer_shuffled10 = breast_cancer_df.sample(frac = 1).reset_index(drop = True)\n",
    "bc_Xd10 = cancer_shuffled10[cancer_shuffled10.columns[1:10]].to_numpy()\n",
    "bc_Yd10 = cancer_shuffled10[cancer_shuffled10.columns[10]].to_numpy()\n",
    "X_traind10, X_testd10, y_traind10, y_testd10 = train_test_split(bc_Xd10, bc_Yd10, test_size = 0.2, random_state = 42)\n",
    "\n",
    "tuned_20.fit(X_traind10, y_traind10)\n",
    "tuned_20.score(X_testd10, y_testd10)"
   ]
  },
  {
   "cell_type": "code",
   "execution_count": 703,
   "id": "6f1614f0",
   "metadata": {},
   "outputs": [
    {
     "data": {
      "text/plain": [
       "0.9683698296836983"
      ]
     },
     "execution_count": 703,
     "metadata": {},
     "output_type": "execute_result"
    }
   ],
   "source": [
    "(0.9708029197080292 + 0.9781021897810219 + 0.9562043795620438) / 3"
   ]
  },
  {
   "cell_type": "code",
   "execution_count": 752,
   "id": "e65a1cc2",
   "metadata": {},
   "outputs": [
    {
     "data": {
      "text/plain": [
       "0.9047619047619048"
      ]
     },
     "execution_count": 752,
     "metadata": {},
     "output_type": "execute_result"
    }
   ],
   "source": [
    "(tuned_20.score(X_traind10, y_traind10) + \n",
    "tuned_20.score(X_traind9, y_traind9) + \n",
    "tuned_20.score(X_traind8, y_traind8)) / 3"
   ]
  },
  {
   "cell_type": "markdown",
   "id": "a1a62456",
   "metadata": {},
   "source": [
    "# SVM with Breast Cancer Data"
   ]
  },
  {
   "cell_type": "markdown",
   "id": "8a2a6af3",
   "metadata": {},
   "source": [
    "## 80/20 Split"
   ]
  },
  {
   "cell_type": "code",
   "execution_count": 631,
   "id": "b0fae808",
   "metadata": {},
   "outputs": [
    {
     "name": "stdout",
     "output_type": "stream",
     "text": [
      "training score for best hyperparameter 0.9725274725274725\n",
      "test score for best hyperparameter 0.9725274725274725\n"
     ]
    },
    {
     "data": {
      "text/html": [
       "<style>#sk-container-id-74 {color: black;}#sk-container-id-74 pre{padding: 0;}#sk-container-id-74 div.sk-toggleable {background-color: white;}#sk-container-id-74 label.sk-toggleable__label {cursor: pointer;display: block;width: 100%;margin-bottom: 0;padding: 0.3em;box-sizing: border-box;text-align: center;}#sk-container-id-74 label.sk-toggleable__label-arrow:before {content: \"▸\";float: left;margin-right: 0.25em;color: #696969;}#sk-container-id-74 label.sk-toggleable__label-arrow:hover:before {color: black;}#sk-container-id-74 div.sk-estimator:hover label.sk-toggleable__label-arrow:before {color: black;}#sk-container-id-74 div.sk-toggleable__content {max-height: 0;max-width: 0;overflow: hidden;text-align: left;background-color: #f0f8ff;}#sk-container-id-74 div.sk-toggleable__content pre {margin: 0.2em;color: black;border-radius: 0.25em;background-color: #f0f8ff;}#sk-container-id-74 input.sk-toggleable__control:checked~div.sk-toggleable__content {max-height: 200px;max-width: 100%;overflow: auto;}#sk-container-id-74 input.sk-toggleable__control:checked~label.sk-toggleable__label-arrow:before {content: \"▾\";}#sk-container-id-74 div.sk-estimator input.sk-toggleable__control:checked~label.sk-toggleable__label {background-color: #d4ebff;}#sk-container-id-74 div.sk-label input.sk-toggleable__control:checked~label.sk-toggleable__label {background-color: #d4ebff;}#sk-container-id-74 input.sk-hidden--visually {border: 0;clip: rect(1px 1px 1px 1px);clip: rect(1px, 1px, 1px, 1px);height: 1px;margin: -1px;overflow: hidden;padding: 0;position: absolute;width: 1px;}#sk-container-id-74 div.sk-estimator {font-family: monospace;background-color: #f0f8ff;border: 1px dotted black;border-radius: 0.25em;box-sizing: border-box;margin-bottom: 0.5em;}#sk-container-id-74 div.sk-estimator:hover {background-color: #d4ebff;}#sk-container-id-74 div.sk-parallel-item::after {content: \"\";width: 100%;border-bottom: 1px solid gray;flex-grow: 1;}#sk-container-id-74 div.sk-label:hover label.sk-toggleable__label {background-color: #d4ebff;}#sk-container-id-74 div.sk-serial::before {content: \"\";position: absolute;border-left: 1px solid gray;box-sizing: border-box;top: 0;bottom: 0;left: 50%;z-index: 0;}#sk-container-id-74 div.sk-serial {display: flex;flex-direction: column;align-items: center;background-color: white;padding-right: 0.2em;padding-left: 0.2em;position: relative;}#sk-container-id-74 div.sk-item {position: relative;z-index: 1;}#sk-container-id-74 div.sk-parallel {display: flex;align-items: stretch;justify-content: center;background-color: white;position: relative;}#sk-container-id-74 div.sk-item::before, #sk-container-id-74 div.sk-parallel-item::before {content: \"\";position: absolute;border-left: 1px solid gray;box-sizing: border-box;top: 0;bottom: 0;left: 50%;z-index: -1;}#sk-container-id-74 div.sk-parallel-item {display: flex;flex-direction: column;z-index: 1;position: relative;background-color: white;}#sk-container-id-74 div.sk-parallel-item:first-child::after {align-self: flex-end;width: 50%;}#sk-container-id-74 div.sk-parallel-item:last-child::after {align-self: flex-start;width: 50%;}#sk-container-id-74 div.sk-parallel-item:only-child::after {width: 0;}#sk-container-id-74 div.sk-dashed-wrapped {border: 1px dashed gray;margin: 0 0.4em 0.5em 0.4em;box-sizing: border-box;padding-bottom: 0.4em;background-color: white;}#sk-container-id-74 div.sk-label label {font-family: monospace;font-weight: bold;display: inline-block;line-height: 1.2em;}#sk-container-id-74 div.sk-label-container {text-align: center;}#sk-container-id-74 div.sk-container {/* jupyter's `normalize.less` sets `[hidden] { display: none; }` but bootstrap.min.css set `[hidden] { display: none !important; }` so we also need the `!important` here to be able to override the default hidden behavior on the sphinx rendered scikit-learn.org. See: https://github.com/scikit-learn/scikit-learn/issues/21755 */display: inline-block !important;position: relative;}#sk-container-id-74 div.sk-text-repr-fallback {display: none;}</style><div id=\"sk-container-id-74\" class=\"sk-top-container\"><div class=\"sk-text-repr-fallback\"><pre>SVC(C=0.01, class_weight=&#x27;balanced&#x27;, kernel=&#x27;linear&#x27;)</pre><b>In a Jupyter environment, please rerun this cell to show the HTML representation or trust the notebook. <br />On GitHub, the HTML representation is unable to render, please try loading this page with nbviewer.org.</b></div><div class=\"sk-container\" hidden><div class=\"sk-item\"><div class=\"sk-estimator sk-toggleable\"><input class=\"sk-toggleable__control sk-hidden--visually\" id=\"sk-estimator-id-86\" type=\"checkbox\" checked><label for=\"sk-estimator-id-86\" class=\"sk-toggleable__label sk-toggleable__label-arrow\">SVC</label><div class=\"sk-toggleable__content\"><pre>SVC(C=0.01, class_weight=&#x27;balanced&#x27;, kernel=&#x27;linear&#x27;)</pre></div></div></div></div></div>"
      ],
      "text/plain": [
       "SVC(C=0.01, class_weight='balanced', kernel='linear')"
      ]
     },
     "execution_count": 631,
     "metadata": {},
     "output_type": "execute_result"
    }
   ],
   "source": [
    "breast_cancer_df80 = breast_cancer_df.sample(frac = 1).reset_index(drop = True)\n",
    "breast_X80 = breast_cancer_df80[breast_cancer_df80.columns[1:10]].to_numpy()\n",
    "breast_Y80 = breast_cancer_df80[breast_cancer_df80.columns[10]].to_numpy()\n",
    "X_trainb80, X_testb80, y_trainb80, y_testb80 = train_test_split(breast_X80, breast_Y80, test_size=0.2, random_state=42)\n",
    "\n",
    "params = {'C': [0.001, 0.01, 0.1, 1], 'kernel':['linear', 'poly', 'sigmoid', \"rbf\"]}\n",
    "# scaler_newSVM = StandardScaler()\n",
    "# scaler_newSVM.fit(X_trainS)\n",
    "# X_train_SVM = scaler.transform(X_trainS)\n",
    "\n",
    "\n",
    "# call classifier and get the best hyper parameter for this case - combinations of above params\n",
    "classifierb80 = SVC(class_weight = 'balanced')\n",
    "class_hyper_tuneb80 = GridSearchCV(classifierb80, param_grid = params, cv = 3, return_train_score = True)\n",
    "class_hyper_tuneb80.fit(X_trainb80, y_trainb80)\n",
    "print(\"training score for best hyperparameter \" + str(class_hyper_tuneb80.cv_results_.get('mean_train_score')[0]))\n",
    "print(\"test score for best hyperparameter \" + str(class_hyper_tuneb80.cv_results_.get('mean_test_score')[0]))\n",
    "class_hyper_tuneb80.best_estimator_"
   ]
  },
  {
   "cell_type": "code",
   "execution_count": 632,
   "id": "d4a2b520",
   "metadata": {},
   "outputs": [
    {
     "data": {
      "text/plain": [
       "0.9708029197080292"
      ]
     },
     "execution_count": 632,
     "metadata": {},
     "output_type": "execute_result"
    }
   ],
   "source": [
    "#classifier\n",
    "tuned_SVC80 = SVC(C = 0.01, class_weight = 'balanced', kernel = 'linear')\n",
    "tuned_SVC80.fit(X_trainb80, y_trainb80)\n",
    "tuned_SVC80.score(X_testb80, y_testb80)"
   ]
  },
  {
   "cell_type": "markdown",
   "id": "bedc4cb2",
   "metadata": {},
   "source": [
    "#### Trial 2"
   ]
  },
  {
   "cell_type": "code",
   "execution_count": 633,
   "id": "4d776ad3",
   "metadata": {},
   "outputs": [
    {
     "data": {
      "text/plain": [
       "0.9854014598540146"
      ]
     },
     "execution_count": 633,
     "metadata": {},
     "output_type": "execute_result"
    }
   ],
   "source": [
    "breast_cancer_df801 = breast_cancer_df.sample(frac = 1).reset_index(drop = True)\n",
    "breast_X801 = breast_cancer_df801[breast_cancer_df801.columns[1:10]].to_numpy()\n",
    "breast_Y801 = breast_cancer_df801[breast_cancer_df801.columns[10]].to_numpy()\n",
    "X_trainb801, X_testb801, y_trainb801, y_testb801 = train_test_split(breast_X801, breast_Y801, test_size=0.2, random_state=42)\n",
    "tuned_SVC80.fit(X_trainb801, y_trainb801)\n",
    "tuned_SVC80.score(X_testb801, y_testb801)"
   ]
  },
  {
   "cell_type": "markdown",
   "id": "e4b1a631",
   "metadata": {},
   "source": [
    "#### Trial 3"
   ]
  },
  {
   "cell_type": "code",
   "execution_count": 634,
   "id": "899e7622",
   "metadata": {},
   "outputs": [
    {
     "data": {
      "text/plain": [
       "0.948905109489051"
      ]
     },
     "execution_count": 634,
     "metadata": {},
     "output_type": "execute_result"
    }
   ],
   "source": [
    "breast_cancer_df802 = breast_cancer_df.sample(frac = 1).reset_index(drop = True)\n",
    "breast_X802 = breast_cancer_df802[breast_cancer_df802.columns[1:10]].to_numpy()\n",
    "breast_Y802 = breast_cancer_df802[breast_cancer_df802.columns[10]].to_numpy()\n",
    "X_trainb802, X_testb802, y_trainb802, y_testb802 = train_test_split(breast_X802, breast_Y802, test_size=0.2, random_state=42)\n",
    "tuned_SVC80.fit(X_trainb802, y_trainb802)\n",
    "tuned_SVC80.score(X_testb802, y_testb802)"
   ]
  },
  {
   "cell_type": "code",
   "execution_count": 704,
   "id": "3dfa85b6",
   "metadata": {},
   "outputs": [
    {
     "data": {
      "text/plain": [
       "0.9683698296836983"
      ]
     },
     "execution_count": 704,
     "metadata": {},
     "output_type": "execute_result"
    }
   ],
   "source": [
    "(0.948905109489051 + 0.9854014598540146 + 0.9708029197080292) / 3"
   ]
  },
  {
   "cell_type": "code",
   "execution_count": 753,
   "id": "f7c22f04",
   "metadata": {},
   "outputs": [
    {
     "data": {
      "text/plain": [
       "0.9713064713064713"
      ]
     },
     "execution_count": 753,
     "metadata": {},
     "output_type": "execute_result"
    }
   ],
   "source": [
    "(tuned_SVC80.score(X_trainb802, y_trainb802) + \n",
    "tuned_SVC80.score(X_trainb801, y_trainb801) + \n",
    "tuned_SVC80.score(X_trainb80, y_trainb80)) / 3"
   ]
  },
  {
   "cell_type": "markdown",
   "id": "47dc2322",
   "metadata": {},
   "source": [
    "## 50/50 Split"
   ]
  },
  {
   "cell_type": "code",
   "execution_count": 635,
   "id": "ddf49f85",
   "metadata": {},
   "outputs": [
    {
     "name": "stdout",
     "output_type": "stream",
     "text": [
      "training score for best hyperparameter 0.9692145194115981\n",
      "test score for best hyperparameter 0.9618589245976298\n"
     ]
    },
    {
     "data": {
      "text/html": [
       "<style>#sk-container-id-75 {color: black;}#sk-container-id-75 pre{padding: 0;}#sk-container-id-75 div.sk-toggleable {background-color: white;}#sk-container-id-75 label.sk-toggleable__label {cursor: pointer;display: block;width: 100%;margin-bottom: 0;padding: 0.3em;box-sizing: border-box;text-align: center;}#sk-container-id-75 label.sk-toggleable__label-arrow:before {content: \"▸\";float: left;margin-right: 0.25em;color: #696969;}#sk-container-id-75 label.sk-toggleable__label-arrow:hover:before {color: black;}#sk-container-id-75 div.sk-estimator:hover label.sk-toggleable__label-arrow:before {color: black;}#sk-container-id-75 div.sk-toggleable__content {max-height: 0;max-width: 0;overflow: hidden;text-align: left;background-color: #f0f8ff;}#sk-container-id-75 div.sk-toggleable__content pre {margin: 0.2em;color: black;border-radius: 0.25em;background-color: #f0f8ff;}#sk-container-id-75 input.sk-toggleable__control:checked~div.sk-toggleable__content {max-height: 200px;max-width: 100%;overflow: auto;}#sk-container-id-75 input.sk-toggleable__control:checked~label.sk-toggleable__label-arrow:before {content: \"▾\";}#sk-container-id-75 div.sk-estimator input.sk-toggleable__control:checked~label.sk-toggleable__label {background-color: #d4ebff;}#sk-container-id-75 div.sk-label input.sk-toggleable__control:checked~label.sk-toggleable__label {background-color: #d4ebff;}#sk-container-id-75 input.sk-hidden--visually {border: 0;clip: rect(1px 1px 1px 1px);clip: rect(1px, 1px, 1px, 1px);height: 1px;margin: -1px;overflow: hidden;padding: 0;position: absolute;width: 1px;}#sk-container-id-75 div.sk-estimator {font-family: monospace;background-color: #f0f8ff;border: 1px dotted black;border-radius: 0.25em;box-sizing: border-box;margin-bottom: 0.5em;}#sk-container-id-75 div.sk-estimator:hover {background-color: #d4ebff;}#sk-container-id-75 div.sk-parallel-item::after {content: \"\";width: 100%;border-bottom: 1px solid gray;flex-grow: 1;}#sk-container-id-75 div.sk-label:hover label.sk-toggleable__label {background-color: #d4ebff;}#sk-container-id-75 div.sk-serial::before {content: \"\";position: absolute;border-left: 1px solid gray;box-sizing: border-box;top: 0;bottom: 0;left: 50%;z-index: 0;}#sk-container-id-75 div.sk-serial {display: flex;flex-direction: column;align-items: center;background-color: white;padding-right: 0.2em;padding-left: 0.2em;position: relative;}#sk-container-id-75 div.sk-item {position: relative;z-index: 1;}#sk-container-id-75 div.sk-parallel {display: flex;align-items: stretch;justify-content: center;background-color: white;position: relative;}#sk-container-id-75 div.sk-item::before, #sk-container-id-75 div.sk-parallel-item::before {content: \"\";position: absolute;border-left: 1px solid gray;box-sizing: border-box;top: 0;bottom: 0;left: 50%;z-index: -1;}#sk-container-id-75 div.sk-parallel-item {display: flex;flex-direction: column;z-index: 1;position: relative;background-color: white;}#sk-container-id-75 div.sk-parallel-item:first-child::after {align-self: flex-end;width: 50%;}#sk-container-id-75 div.sk-parallel-item:last-child::after {align-self: flex-start;width: 50%;}#sk-container-id-75 div.sk-parallel-item:only-child::after {width: 0;}#sk-container-id-75 div.sk-dashed-wrapped {border: 1px dashed gray;margin: 0 0.4em 0.5em 0.4em;box-sizing: border-box;padding-bottom: 0.4em;background-color: white;}#sk-container-id-75 div.sk-label label {font-family: monospace;font-weight: bold;display: inline-block;line-height: 1.2em;}#sk-container-id-75 div.sk-label-container {text-align: center;}#sk-container-id-75 div.sk-container {/* jupyter's `normalize.less` sets `[hidden] { display: none; }` but bootstrap.min.css set `[hidden] { display: none !important; }` so we also need the `!important` here to be able to override the default hidden behavior on the sphinx rendered scikit-learn.org. See: https://github.com/scikit-learn/scikit-learn/issues/21755 */display: inline-block !important;position: relative;}#sk-container-id-75 div.sk-text-repr-fallback {display: none;}</style><div id=\"sk-container-id-75\" class=\"sk-top-container\"><div class=\"sk-text-repr-fallback\"><pre>SVC(C=1, class_weight=&#x27;balanced&#x27;)</pre><b>In a Jupyter environment, please rerun this cell to show the HTML representation or trust the notebook. <br />On GitHub, the HTML representation is unable to render, please try loading this page with nbviewer.org.</b></div><div class=\"sk-container\" hidden><div class=\"sk-item\"><div class=\"sk-estimator sk-toggleable\"><input class=\"sk-toggleable__control sk-hidden--visually\" id=\"sk-estimator-id-87\" type=\"checkbox\" checked><label for=\"sk-estimator-id-87\" class=\"sk-toggleable__label sk-toggleable__label-arrow\">SVC</label><div class=\"sk-toggleable__content\"><pre>SVC(C=1, class_weight=&#x27;balanced&#x27;)</pre></div></div></div></div></div>"
      ],
      "text/plain": [
       "SVC(C=1, class_weight='balanced')"
      ]
     },
     "execution_count": 635,
     "metadata": {},
     "output_type": "execute_result"
    }
   ],
   "source": [
    "breast_cancer_df805 = breast_cancer_df.sample(frac = 1).reset_index(drop = True)\n",
    "breast_X805 = breast_cancer_df805[breast_cancer_df805.columns[1:10]].to_numpy()\n",
    "breast_Y805 = breast_cancer_df805[breast_cancer_df805.columns[10]].to_numpy()\n",
    "X_trainb805, X_testb805, y_trainb805, y_testb805 = train_test_split(breast_X805, breast_Y805, test_size=0.5, random_state=42)\n",
    "\n",
    "params = {'C': [0.001, 0.01, 0.1, 1], 'kernel':['linear', 'poly', 'sigmoid', \"rbf\"]}\n",
    "# scaler_newSVM = StandardScaler()\n",
    "# scaler_newSVM.fit(X_trainS)\n",
    "# X_train_SVM = scaler.transform(X_trainS)\n",
    "\n",
    "\n",
    "# call classifier and get the best hyper parameter for this case - combinations of above params\n",
    "classifierb805 = SVC(class_weight = 'balanced')\n",
    "class_hyper_tuneb805 = GridSearchCV(classifierb805, param_grid = params, cv = 3, return_train_score = True)\n",
    "class_hyper_tuneb805.fit(X_trainb805, y_trainb805)\n",
    "print(\"training score for best hyperparameter \" + str(class_hyper_tuneb805.cv_results_.get('mean_train_score')[0]))\n",
    "print(\"test score for best hyperparameter \" + str(class_hyper_tuneb805.cv_results_.get('mean_test_score')[0]))\n",
    "class_hyper_tuneb805.best_estimator_"
   ]
  },
  {
   "cell_type": "code",
   "execution_count": 637,
   "id": "978380e6",
   "metadata": {},
   "outputs": [
    {
     "data": {
      "text/plain": [
       "0.9649122807017544"
      ]
     },
     "execution_count": 637,
     "metadata": {},
     "output_type": "execute_result"
    }
   ],
   "source": [
    "#classifier\n",
    "tuned_SVC801 = SVC(C = 1, class_weight = 'balanced', kernel = 'rbf')\n",
    "tuned_SVC801.fit(X_trainb805, y_trainb805)\n",
    "tuned_SVC801.score(X_testb805, y_testb805)"
   ]
  },
  {
   "cell_type": "markdown",
   "id": "50631939",
   "metadata": {},
   "source": [
    "#### Trial 2"
   ]
  },
  {
   "cell_type": "code",
   "execution_count": 638,
   "id": "e6493883",
   "metadata": {},
   "outputs": [
    {
     "data": {
      "text/plain": [
       "0.9824561403508771"
      ]
     },
     "execution_count": 638,
     "metadata": {},
     "output_type": "execute_result"
    }
   ],
   "source": [
    "breast_cancer_df806 = breast_cancer_df.sample(frac = 1).reset_index(drop = True)\n",
    "breast_X806 = breast_cancer_df806[breast_cancer_df806.columns[1:10]].to_numpy()\n",
    "breast_Y806 = breast_cancer_df806[breast_cancer_df806.columns[10]].to_numpy()\n",
    "X_trainb806, X_testb806, y_trainb806, y_testb806 = train_test_split(breast_X806, breast_Y806, test_size=0.5, random_state=42)\n",
    "\n",
    "tuned_SVC801.fit(X_trainb806, y_trainb806)\n",
    "tuned_SVC801.score(X_testb806, y_testb806)"
   ]
  },
  {
   "cell_type": "markdown",
   "id": "31b4b020",
   "metadata": {},
   "source": [
    "#### Trial 3"
   ]
  },
  {
   "cell_type": "code",
   "execution_count": 639,
   "id": "d62a6d84",
   "metadata": {
    "scrolled": true
   },
   "outputs": [
    {
     "data": {
      "text/plain": [
       "0.9619883040935673"
      ]
     },
     "execution_count": 639,
     "metadata": {},
     "output_type": "execute_result"
    }
   ],
   "source": [
    "breast_cancer_df807 = breast_cancer_df.sample(frac = 1).reset_index(drop = True)\n",
    "breast_X807 = breast_cancer_df807[breast_cancer_df807.columns[1:10]].to_numpy()\n",
    "breast_Y807 = breast_cancer_df807[breast_cancer_df807.columns[10]].to_numpy()\n",
    "X_trainb807, X_testb807, y_trainb807, y_testb807 = train_test_split(breast_X807, breast_Y807, test_size=0.5, random_state=42)\n",
    "\n",
    "tuned_SVC801.fit(X_trainb807, y_trainb807)\n",
    "tuned_SVC801.score(X_testb807, y_testb807)"
   ]
  },
  {
   "cell_type": "code",
   "execution_count": 705,
   "id": "92e7f32f",
   "metadata": {},
   "outputs": [
    {
     "data": {
      "text/plain": [
       "0.969785575048733"
      ]
     },
     "execution_count": 705,
     "metadata": {},
     "output_type": "execute_result"
    }
   ],
   "source": [
    "(0.9619883040935673 + 0.9824561403508771 + 0.9649122807017544) / 3"
   ]
  },
  {
   "cell_type": "code",
   "execution_count": 754,
   "id": "5fe798d6",
   "metadata": {},
   "outputs": [
    {
     "data": {
      "text/plain": [
       "0.9726295210166178"
      ]
     },
     "execution_count": 754,
     "metadata": {},
     "output_type": "execute_result"
    }
   ],
   "source": [
    "(tuned_SVC801.score(X_trainb807, y_trainb807) +\n",
    "tuned_SVC801.score(X_trainb806, y_trainb806) + \n",
    "tuned_SVC801.score(X_trainb805, y_trainb805)\n",
    ") / 3"
   ]
  },
  {
   "cell_type": "markdown",
   "id": "baa1e822",
   "metadata": {},
   "source": [
    "## 20/80 Split"
   ]
  },
  {
   "cell_type": "code",
   "execution_count": 640,
   "id": "61baec3b",
   "metadata": {},
   "outputs": [
    {
     "name": "stdout",
     "output_type": "stream",
     "text": [
      "training score for best hyperparameter 0.9779411764705883\n",
      "test score for best hyperparameter 0.9705882352941178\n"
     ]
    },
    {
     "data": {
      "text/html": [
       "<style>#sk-container-id-76 {color: black;}#sk-container-id-76 pre{padding: 0;}#sk-container-id-76 div.sk-toggleable {background-color: white;}#sk-container-id-76 label.sk-toggleable__label {cursor: pointer;display: block;width: 100%;margin-bottom: 0;padding: 0.3em;box-sizing: border-box;text-align: center;}#sk-container-id-76 label.sk-toggleable__label-arrow:before {content: \"▸\";float: left;margin-right: 0.25em;color: #696969;}#sk-container-id-76 label.sk-toggleable__label-arrow:hover:before {color: black;}#sk-container-id-76 div.sk-estimator:hover label.sk-toggleable__label-arrow:before {color: black;}#sk-container-id-76 div.sk-toggleable__content {max-height: 0;max-width: 0;overflow: hidden;text-align: left;background-color: #f0f8ff;}#sk-container-id-76 div.sk-toggleable__content pre {margin: 0.2em;color: black;border-radius: 0.25em;background-color: #f0f8ff;}#sk-container-id-76 input.sk-toggleable__control:checked~div.sk-toggleable__content {max-height: 200px;max-width: 100%;overflow: auto;}#sk-container-id-76 input.sk-toggleable__control:checked~label.sk-toggleable__label-arrow:before {content: \"▾\";}#sk-container-id-76 div.sk-estimator input.sk-toggleable__control:checked~label.sk-toggleable__label {background-color: #d4ebff;}#sk-container-id-76 div.sk-label input.sk-toggleable__control:checked~label.sk-toggleable__label {background-color: #d4ebff;}#sk-container-id-76 input.sk-hidden--visually {border: 0;clip: rect(1px 1px 1px 1px);clip: rect(1px, 1px, 1px, 1px);height: 1px;margin: -1px;overflow: hidden;padding: 0;position: absolute;width: 1px;}#sk-container-id-76 div.sk-estimator {font-family: monospace;background-color: #f0f8ff;border: 1px dotted black;border-radius: 0.25em;box-sizing: border-box;margin-bottom: 0.5em;}#sk-container-id-76 div.sk-estimator:hover {background-color: #d4ebff;}#sk-container-id-76 div.sk-parallel-item::after {content: \"\";width: 100%;border-bottom: 1px solid gray;flex-grow: 1;}#sk-container-id-76 div.sk-label:hover label.sk-toggleable__label {background-color: #d4ebff;}#sk-container-id-76 div.sk-serial::before {content: \"\";position: absolute;border-left: 1px solid gray;box-sizing: border-box;top: 0;bottom: 0;left: 50%;z-index: 0;}#sk-container-id-76 div.sk-serial {display: flex;flex-direction: column;align-items: center;background-color: white;padding-right: 0.2em;padding-left: 0.2em;position: relative;}#sk-container-id-76 div.sk-item {position: relative;z-index: 1;}#sk-container-id-76 div.sk-parallel {display: flex;align-items: stretch;justify-content: center;background-color: white;position: relative;}#sk-container-id-76 div.sk-item::before, #sk-container-id-76 div.sk-parallel-item::before {content: \"\";position: absolute;border-left: 1px solid gray;box-sizing: border-box;top: 0;bottom: 0;left: 50%;z-index: -1;}#sk-container-id-76 div.sk-parallel-item {display: flex;flex-direction: column;z-index: 1;position: relative;background-color: white;}#sk-container-id-76 div.sk-parallel-item:first-child::after {align-self: flex-end;width: 50%;}#sk-container-id-76 div.sk-parallel-item:last-child::after {align-self: flex-start;width: 50%;}#sk-container-id-76 div.sk-parallel-item:only-child::after {width: 0;}#sk-container-id-76 div.sk-dashed-wrapped {border: 1px dashed gray;margin: 0 0.4em 0.5em 0.4em;box-sizing: border-box;padding-bottom: 0.4em;background-color: white;}#sk-container-id-76 div.sk-label label {font-family: monospace;font-weight: bold;display: inline-block;line-height: 1.2em;}#sk-container-id-76 div.sk-label-container {text-align: center;}#sk-container-id-76 div.sk-container {/* jupyter's `normalize.less` sets `[hidden] { display: none; }` but bootstrap.min.css set `[hidden] { display: none !important; }` so we also need the `!important` here to be able to override the default hidden behavior on the sphinx rendered scikit-learn.org. See: https://github.com/scikit-learn/scikit-learn/issues/21755 */display: inline-block !important;position: relative;}#sk-container-id-76 div.sk-text-repr-fallback {display: none;}</style><div id=\"sk-container-id-76\" class=\"sk-top-container\"><div class=\"sk-text-repr-fallback\"><pre>SVC(C=0.001, class_weight=&#x27;balanced&#x27;, kernel=&#x27;linear&#x27;)</pre><b>In a Jupyter environment, please rerun this cell to show the HTML representation or trust the notebook. <br />On GitHub, the HTML representation is unable to render, please try loading this page with nbviewer.org.</b></div><div class=\"sk-container\" hidden><div class=\"sk-item\"><div class=\"sk-estimator sk-toggleable\"><input class=\"sk-toggleable__control sk-hidden--visually\" id=\"sk-estimator-id-88\" type=\"checkbox\" checked><label for=\"sk-estimator-id-88\" class=\"sk-toggleable__label sk-toggleable__label-arrow\">SVC</label><div class=\"sk-toggleable__content\"><pre>SVC(C=0.001, class_weight=&#x27;balanced&#x27;, kernel=&#x27;linear&#x27;)</pre></div></div></div></div></div>"
      ],
      "text/plain": [
       "SVC(C=0.001, class_weight='balanced', kernel='linear')"
      ]
     },
     "execution_count": 640,
     "metadata": {},
     "output_type": "execute_result"
    }
   ],
   "source": [
    "breast_cancer_df808 = breast_cancer_df.sample(frac = 1).reset_index(drop = True)\n",
    "breast_X808 = breast_cancer_df808[breast_cancer_df808.columns[1:10]].to_numpy()\n",
    "breast_Y808 = breast_cancer_df808[breast_cancer_df808.columns[10]].to_numpy()\n",
    "X_trainb808, X_testb808, y_trainb808, y_testb808 = train_test_split(breast_X808, breast_Y808, test_size=0.8, random_state=42)\n",
    "\n",
    "params = {'C': [0.001, 0.01, 0.1, 1], 'kernel':['linear', 'poly', 'sigmoid', \"rbf\"]}\n",
    "# scaler_newSVM = StandardScaler()\n",
    "# scaler_newSVM.fit(X_trainS)\n",
    "# X_train_SVM = scaler.transform(X_trainS)\n",
    "\n",
    "\n",
    "# call classifier and get the best hyper parameter for this case - combinations of above params\n",
    "classifierb808 = SVC(class_weight = 'balanced')\n",
    "class_hyper_tuneb808 = GridSearchCV(classifierb808, param_grid = params, cv = 2, return_train_score = True)\n",
    "class_hyper_tuneb808.fit(X_trainb808, y_trainb808)\n",
    "print(\"training score for best hyperparameter \" + str(class_hyper_tuneb808.cv_results_.get('mean_train_score')[0]))\n",
    "print(\"test score for best hyperparameter \" + str(class_hyper_tuneb808.cv_results_.get('mean_test_score')[0]))\n",
    "class_hyper_tuneb808.best_estimator_"
   ]
  },
  {
   "cell_type": "code",
   "execution_count": 641,
   "id": "26686656",
   "metadata": {},
   "outputs": [
    {
     "data": {
      "text/plain": [
       "0.9652650822669104"
      ]
     },
     "execution_count": 641,
     "metadata": {},
     "output_type": "execute_result"
    }
   ],
   "source": [
    "#classifier\n",
    "tuned_SVC808 = SVC(C = 0.001, class_weight = 'balanced', kernel = 'linear')\n",
    "tuned_SVC808.fit(X_trainb808, y_trainb808)\n",
    "tuned_SVC808.score(X_testb808, y_testb808)"
   ]
  },
  {
   "cell_type": "markdown",
   "id": "c9fc955a",
   "metadata": {},
   "source": [
    "#### Trial 2"
   ]
  },
  {
   "cell_type": "code",
   "execution_count": 642,
   "id": "9c9107f1",
   "metadata": {},
   "outputs": [
    {
     "data": {
      "text/plain": [
       "0.9670932358318098"
      ]
     },
     "execution_count": 642,
     "metadata": {},
     "output_type": "execute_result"
    }
   ],
   "source": [
    "breast_cancer_df809 = breast_cancer_df.sample(frac = 1).reset_index(drop = True)\n",
    "breast_X809 = breast_cancer_df809[breast_cancer_df809.columns[1:10]].to_numpy()\n",
    "breast_Y809 = breast_cancer_df809[breast_cancer_df809.columns[10]].to_numpy()\n",
    "X_trainb809, X_testb809, y_trainb809, y_testb809 = train_test_split(breast_X809, breast_Y809, test_size=0.8, random_state=42)\n",
    "\n",
    "tuned_SVC808.fit(X_trainb809, y_trainb809)\n",
    "tuned_SVC808.score(X_testb809, y_testb809)"
   ]
  },
  {
   "cell_type": "markdown",
   "id": "71114ca0",
   "metadata": {},
   "source": [
    "#### Trial 3"
   ]
  },
  {
   "cell_type": "code",
   "execution_count": 643,
   "id": "dd51fc3d",
   "metadata": {},
   "outputs": [
    {
     "data": {
      "text/plain": [
       "0.9597806215722121"
      ]
     },
     "execution_count": 643,
     "metadata": {},
     "output_type": "execute_result"
    }
   ],
   "source": [
    "breast_cancer_df810 = breast_cancer_df.sample(frac = 1).reset_index(drop = True)\n",
    "breast_X810 = breast_cancer_df810[breast_cancer_df810.columns[1:10]].to_numpy()\n",
    "breast_Y810 = breast_cancer_df810[breast_cancer_df810.columns[10]].to_numpy()\n",
    "X_trainb810, X_testb810, y_trainb810, y_testb810 = train_test_split(breast_X810, breast_Y810, test_size=0.8, random_state=42)\n",
    "\n",
    "tuned_SVC808.fit(X_trainb810, y_trainb810)\n",
    "tuned_SVC808.score(X_testb810, y_testb810)"
   ]
  },
  {
   "cell_type": "code",
   "execution_count": 706,
   "id": "af166e26",
   "metadata": {},
   "outputs": [
    {
     "data": {
      "text/plain": [
       "0.9640463132236441"
      ]
     },
     "execution_count": 706,
     "metadata": {},
     "output_type": "execute_result"
    }
   ],
   "source": [
    "(0.9597806215722121 + 0.9670932358318098 + 0.9652650822669104) / 3"
   ]
  },
  {
   "cell_type": "code",
   "execution_count": 755,
   "id": "5fff061b",
   "metadata": {},
   "outputs": [
    {
     "data": {
      "text/plain": [
       "0.9583333333333334"
      ]
     },
     "execution_count": 755,
     "metadata": {},
     "output_type": "execute_result"
    }
   ],
   "source": [
    "(tuned_SVC808.score(X_trainb809, y_trainb809) + \n",
    "tuned_SVC808.score(X_trainb810, y_trainb810) + \n",
    "tuned_SVC808.score(X_trainb808, y_trainb808)) / 3"
   ]
  },
  {
   "cell_type": "markdown",
   "id": "907e78d7",
   "metadata": {},
   "source": [
    "# Logistic Regression with Cervical Data"
   ]
  },
  {
   "cell_type": "markdown",
   "id": "f579af4f",
   "metadata": {},
   "source": [
    "## Cleaning Data"
   ]
  },
  {
   "cell_type": "code",
   "execution_count": 490,
   "id": "4975bca0",
   "metadata": {},
   "outputs": [
    {
     "data": {
      "text/plain": [
       "20"
      ]
     },
     "execution_count": 490,
     "metadata": {},
     "output_type": "execute_result"
    }
   ],
   "source": [
    "cervical_cancer.isnull().sum()\n",
    "cervical_cancer.shape[1]"
   ]
  },
  {
   "cell_type": "code",
   "execution_count": 492,
   "id": "b02b06b4",
   "metadata": {},
   "outputs": [
    {
     "data": {
      "text/html": [
       "<div>\n",
       "<style scoped>\n",
       "    .dataframe tbody tr th:only-of-type {\n",
       "        vertical-align: middle;\n",
       "    }\n",
       "\n",
       "    .dataframe tbody tr th {\n",
       "        vertical-align: top;\n",
       "    }\n",
       "\n",
       "    .dataframe thead th {\n",
       "        text-align: right;\n",
       "    }\n",
       "</style>\n",
       "<table border=\"1\" class=\"dataframe\">\n",
       "  <thead>\n",
       "    <tr style=\"text-align: right;\">\n",
       "      <th></th>\n",
       "      <th>behavior_sexualRisk</th>\n",
       "      <th>behavior_eating</th>\n",
       "      <th>behavior_personalHygine</th>\n",
       "      <th>intention_aggregation</th>\n",
       "      <th>intention_commitment</th>\n",
       "      <th>attitude_consistency</th>\n",
       "      <th>attitude_spontaneity</th>\n",
       "      <th>norm_significantPerson</th>\n",
       "      <th>norm_fulfillment</th>\n",
       "      <th>perception_vulnerability</th>\n",
       "      <th>perception_severity</th>\n",
       "      <th>motivation_strength</th>\n",
       "      <th>motivation_willingness</th>\n",
       "      <th>socialSupport_emotionality</th>\n",
       "      <th>socialSupport_appreciation</th>\n",
       "      <th>socialSupport_instrumental</th>\n",
       "      <th>empowerment_knowledge</th>\n",
       "      <th>empowerment_abilities</th>\n",
       "      <th>empowerment_desires</th>\n",
       "      <th>ca_cervix</th>\n",
       "    </tr>\n",
       "  </thead>\n",
       "  <tbody>\n",
       "    <tr>\n",
       "      <th>0</th>\n",
       "      <td>10</td>\n",
       "      <td>13</td>\n",
       "      <td>12</td>\n",
       "      <td>4</td>\n",
       "      <td>7</td>\n",
       "      <td>9</td>\n",
       "      <td>10</td>\n",
       "      <td>1</td>\n",
       "      <td>8</td>\n",
       "      <td>7</td>\n",
       "      <td>3</td>\n",
       "      <td>14</td>\n",
       "      <td>8</td>\n",
       "      <td>5</td>\n",
       "      <td>7</td>\n",
       "      <td>12</td>\n",
       "      <td>12</td>\n",
       "      <td>11</td>\n",
       "      <td>8</td>\n",
       "      <td>1</td>\n",
       "    </tr>\n",
       "    <tr>\n",
       "      <th>1</th>\n",
       "      <td>10</td>\n",
       "      <td>11</td>\n",
       "      <td>11</td>\n",
       "      <td>10</td>\n",
       "      <td>14</td>\n",
       "      <td>7</td>\n",
       "      <td>7</td>\n",
       "      <td>5</td>\n",
       "      <td>5</td>\n",
       "      <td>4</td>\n",
       "      <td>2</td>\n",
       "      <td>15</td>\n",
       "      <td>13</td>\n",
       "      <td>7</td>\n",
       "      <td>6</td>\n",
       "      <td>5</td>\n",
       "      <td>5</td>\n",
       "      <td>4</td>\n",
       "      <td>4</td>\n",
       "      <td>1</td>\n",
       "    </tr>\n",
       "    <tr>\n",
       "      <th>2</th>\n",
       "      <td>10</td>\n",
       "      <td>15</td>\n",
       "      <td>3</td>\n",
       "      <td>2</td>\n",
       "      <td>14</td>\n",
       "      <td>8</td>\n",
       "      <td>10</td>\n",
       "      <td>1</td>\n",
       "      <td>4</td>\n",
       "      <td>7</td>\n",
       "      <td>2</td>\n",
       "      <td>7</td>\n",
       "      <td>3</td>\n",
       "      <td>3</td>\n",
       "      <td>6</td>\n",
       "      <td>11</td>\n",
       "      <td>3</td>\n",
       "      <td>3</td>\n",
       "      <td>15</td>\n",
       "      <td>1</td>\n",
       "    </tr>\n",
       "    <tr>\n",
       "      <th>3</th>\n",
       "      <td>10</td>\n",
       "      <td>11</td>\n",
       "      <td>10</td>\n",
       "      <td>10</td>\n",
       "      <td>15</td>\n",
       "      <td>7</td>\n",
       "      <td>7</td>\n",
       "      <td>1</td>\n",
       "      <td>5</td>\n",
       "      <td>4</td>\n",
       "      <td>2</td>\n",
       "      <td>15</td>\n",
       "      <td>13</td>\n",
       "      <td>7</td>\n",
       "      <td>4</td>\n",
       "      <td>4</td>\n",
       "      <td>4</td>\n",
       "      <td>4</td>\n",
       "      <td>4</td>\n",
       "      <td>1</td>\n",
       "    </tr>\n",
       "    <tr>\n",
       "      <th>4</th>\n",
       "      <td>8</td>\n",
       "      <td>11</td>\n",
       "      <td>7</td>\n",
       "      <td>8</td>\n",
       "      <td>10</td>\n",
       "      <td>7</td>\n",
       "      <td>8</td>\n",
       "      <td>1</td>\n",
       "      <td>5</td>\n",
       "      <td>3</td>\n",
       "      <td>2</td>\n",
       "      <td>15</td>\n",
       "      <td>5</td>\n",
       "      <td>3</td>\n",
       "      <td>6</td>\n",
       "      <td>12</td>\n",
       "      <td>5</td>\n",
       "      <td>4</td>\n",
       "      <td>7</td>\n",
       "      <td>1</td>\n",
       "    </tr>\n",
       "    <tr>\n",
       "      <th>...</th>\n",
       "      <td>...</td>\n",
       "      <td>...</td>\n",
       "      <td>...</td>\n",
       "      <td>...</td>\n",
       "      <td>...</td>\n",
       "      <td>...</td>\n",
       "      <td>...</td>\n",
       "      <td>...</td>\n",
       "      <td>...</td>\n",
       "      <td>...</td>\n",
       "      <td>...</td>\n",
       "      <td>...</td>\n",
       "      <td>...</td>\n",
       "      <td>...</td>\n",
       "      <td>...</td>\n",
       "      <td>...</td>\n",
       "      <td>...</td>\n",
       "      <td>...</td>\n",
       "      <td>...</td>\n",
       "      <td>...</td>\n",
       "    </tr>\n",
       "    <tr>\n",
       "      <th>67</th>\n",
       "      <td>10</td>\n",
       "      <td>14</td>\n",
       "      <td>14</td>\n",
       "      <td>10</td>\n",
       "      <td>15</td>\n",
       "      <td>6</td>\n",
       "      <td>7</td>\n",
       "      <td>5</td>\n",
       "      <td>15</td>\n",
       "      <td>14</td>\n",
       "      <td>10</td>\n",
       "      <td>15</td>\n",
       "      <td>13</td>\n",
       "      <td>9</td>\n",
       "      <td>8</td>\n",
       "      <td>12</td>\n",
       "      <td>12</td>\n",
       "      <td>11</td>\n",
       "      <td>9</td>\n",
       "      <td>0</td>\n",
       "    </tr>\n",
       "    <tr>\n",
       "      <th>68</th>\n",
       "      <td>10</td>\n",
       "      <td>12</td>\n",
       "      <td>15</td>\n",
       "      <td>10</td>\n",
       "      <td>15</td>\n",
       "      <td>8</td>\n",
       "      <td>8</td>\n",
       "      <td>5</td>\n",
       "      <td>15</td>\n",
       "      <td>14</td>\n",
       "      <td>8</td>\n",
       "      <td>12</td>\n",
       "      <td>14</td>\n",
       "      <td>11</td>\n",
       "      <td>7</td>\n",
       "      <td>13</td>\n",
       "      <td>15</td>\n",
       "      <td>11</td>\n",
       "      <td>14</td>\n",
       "      <td>0</td>\n",
       "    </tr>\n",
       "    <tr>\n",
       "      <th>69</th>\n",
       "      <td>10</td>\n",
       "      <td>8</td>\n",
       "      <td>11</td>\n",
       "      <td>6</td>\n",
       "      <td>10</td>\n",
       "      <td>6</td>\n",
       "      <td>4</td>\n",
       "      <td>3</td>\n",
       "      <td>13</td>\n",
       "      <td>9</td>\n",
       "      <td>8</td>\n",
       "      <td>14</td>\n",
       "      <td>12</td>\n",
       "      <td>9</td>\n",
       "      <td>7</td>\n",
       "      <td>11</td>\n",
       "      <td>12</td>\n",
       "      <td>10</td>\n",
       "      <td>10</td>\n",
       "      <td>0</td>\n",
       "    </tr>\n",
       "    <tr>\n",
       "      <th>70</th>\n",
       "      <td>9</td>\n",
       "      <td>12</td>\n",
       "      <td>13</td>\n",
       "      <td>10</td>\n",
       "      <td>13</td>\n",
       "      <td>6</td>\n",
       "      <td>6</td>\n",
       "      <td>5</td>\n",
       "      <td>14</td>\n",
       "      <td>13</td>\n",
       "      <td>10</td>\n",
       "      <td>13</td>\n",
       "      <td>12</td>\n",
       "      <td>11</td>\n",
       "      <td>8</td>\n",
       "      <td>12</td>\n",
       "      <td>11</td>\n",
       "      <td>13</td>\n",
       "      <td>15</td>\n",
       "      <td>0</td>\n",
       "    </tr>\n",
       "    <tr>\n",
       "      <th>71</th>\n",
       "      <td>10</td>\n",
       "      <td>14</td>\n",
       "      <td>14</td>\n",
       "      <td>6</td>\n",
       "      <td>12</td>\n",
       "      <td>7</td>\n",
       "      <td>8</td>\n",
       "      <td>5</td>\n",
       "      <td>15</td>\n",
       "      <td>12</td>\n",
       "      <td>10</td>\n",
       "      <td>10</td>\n",
       "      <td>13</td>\n",
       "      <td>11</td>\n",
       "      <td>9</td>\n",
       "      <td>14</td>\n",
       "      <td>13</td>\n",
       "      <td>15</td>\n",
       "      <td>15</td>\n",
       "      <td>0</td>\n",
       "    </tr>\n",
       "  </tbody>\n",
       "</table>\n",
       "<p>72 rows × 20 columns</p>\n",
       "</div>"
      ],
      "text/plain": [
       "    behavior_sexualRisk  behavior_eating  behavior_personalHygine  \\\n",
       "0                    10               13                       12   \n",
       "1                    10               11                       11   \n",
       "2                    10               15                        3   \n",
       "3                    10               11                       10   \n",
       "4                     8               11                        7   \n",
       "..                  ...              ...                      ...   \n",
       "67                   10               14                       14   \n",
       "68                   10               12                       15   \n",
       "69                   10                8                       11   \n",
       "70                    9               12                       13   \n",
       "71                   10               14                       14   \n",
       "\n",
       "    intention_aggregation  intention_commitment  attitude_consistency  \\\n",
       "0                       4                     7                     9   \n",
       "1                      10                    14                     7   \n",
       "2                       2                    14                     8   \n",
       "3                      10                    15                     7   \n",
       "4                       8                    10                     7   \n",
       "..                    ...                   ...                   ...   \n",
       "67                     10                    15                     6   \n",
       "68                     10                    15                     8   \n",
       "69                      6                    10                     6   \n",
       "70                     10                    13                     6   \n",
       "71                      6                    12                     7   \n",
       "\n",
       "    attitude_spontaneity  norm_significantPerson  norm_fulfillment  \\\n",
       "0                     10                       1                 8   \n",
       "1                      7                       5                 5   \n",
       "2                     10                       1                 4   \n",
       "3                      7                       1                 5   \n",
       "4                      8                       1                 5   \n",
       "..                   ...                     ...               ...   \n",
       "67                     7                       5                15   \n",
       "68                     8                       5                15   \n",
       "69                     4                       3                13   \n",
       "70                     6                       5                14   \n",
       "71                     8                       5                15   \n",
       "\n",
       "    perception_vulnerability  perception_severity  motivation_strength  \\\n",
       "0                          7                    3                   14   \n",
       "1                          4                    2                   15   \n",
       "2                          7                    2                    7   \n",
       "3                          4                    2                   15   \n",
       "4                          3                    2                   15   \n",
       "..                       ...                  ...                  ...   \n",
       "67                        14                   10                   15   \n",
       "68                        14                    8                   12   \n",
       "69                         9                    8                   14   \n",
       "70                        13                   10                   13   \n",
       "71                        12                   10                   10   \n",
       "\n",
       "    motivation_willingness  socialSupport_emotionality  \\\n",
       "0                        8                           5   \n",
       "1                       13                           7   \n",
       "2                        3                           3   \n",
       "3                       13                           7   \n",
       "4                        5                           3   \n",
       "..                     ...                         ...   \n",
       "67                      13                           9   \n",
       "68                      14                          11   \n",
       "69                      12                           9   \n",
       "70                      12                          11   \n",
       "71                      13                          11   \n",
       "\n",
       "    socialSupport_appreciation  socialSupport_instrumental  \\\n",
       "0                            7                          12   \n",
       "1                            6                           5   \n",
       "2                            6                          11   \n",
       "3                            4                           4   \n",
       "4                            6                          12   \n",
       "..                         ...                         ...   \n",
       "67                           8                          12   \n",
       "68                           7                          13   \n",
       "69                           7                          11   \n",
       "70                           8                          12   \n",
       "71                           9                          14   \n",
       "\n",
       "    empowerment_knowledge  empowerment_abilities  empowerment_desires  \\\n",
       "0                      12                     11                    8   \n",
       "1                       5                      4                    4   \n",
       "2                       3                      3                   15   \n",
       "3                       4                      4                    4   \n",
       "4                       5                      4                    7   \n",
       "..                    ...                    ...                  ...   \n",
       "67                     12                     11                    9   \n",
       "68                     15                     11                   14   \n",
       "69                     12                     10                   10   \n",
       "70                     11                     13                   15   \n",
       "71                     13                     15                   15   \n",
       "\n",
       "    ca_cervix  \n",
       "0           1  \n",
       "1           1  \n",
       "2           1  \n",
       "3           1  \n",
       "4           1  \n",
       "..        ...  \n",
       "67          0  \n",
       "68          0  \n",
       "69          0  \n",
       "70          0  \n",
       "71          0  \n",
       "\n",
       "[72 rows x 20 columns]"
      ]
     },
     "execution_count": 492,
     "metadata": {},
     "output_type": "execute_result"
    }
   ],
   "source": [
    "cervical_cancer"
   ]
  },
  {
   "cell_type": "markdown",
   "id": "70722b48",
   "metadata": {},
   "source": [
    "## 80/20 Split"
   ]
  },
  {
   "cell_type": "code",
   "execution_count": 501,
   "id": "9452147c",
   "metadata": {
    "scrolled": true
   },
   "outputs": [
    {
     "name": "stdout",
     "output_type": "stream",
     "text": [
      "training score for best hyperparameter 0.8508771929824562\n",
      "test score for best hyperparameter 0.8421052631578947\n"
     ]
    },
    {
     "data": {
      "text/html": [
       "<style>#sk-container-id-55 {color: black;}#sk-container-id-55 pre{padding: 0;}#sk-container-id-55 div.sk-toggleable {background-color: white;}#sk-container-id-55 label.sk-toggleable__label {cursor: pointer;display: block;width: 100%;margin-bottom: 0;padding: 0.3em;box-sizing: border-box;text-align: center;}#sk-container-id-55 label.sk-toggleable__label-arrow:before {content: \"▸\";float: left;margin-right: 0.25em;color: #696969;}#sk-container-id-55 label.sk-toggleable__label-arrow:hover:before {color: black;}#sk-container-id-55 div.sk-estimator:hover label.sk-toggleable__label-arrow:before {color: black;}#sk-container-id-55 div.sk-toggleable__content {max-height: 0;max-width: 0;overflow: hidden;text-align: left;background-color: #f0f8ff;}#sk-container-id-55 div.sk-toggleable__content pre {margin: 0.2em;color: black;border-radius: 0.25em;background-color: #f0f8ff;}#sk-container-id-55 input.sk-toggleable__control:checked~div.sk-toggleable__content {max-height: 200px;max-width: 100%;overflow: auto;}#sk-container-id-55 input.sk-toggleable__control:checked~label.sk-toggleable__label-arrow:before {content: \"▾\";}#sk-container-id-55 div.sk-estimator input.sk-toggleable__control:checked~label.sk-toggleable__label {background-color: #d4ebff;}#sk-container-id-55 div.sk-label input.sk-toggleable__control:checked~label.sk-toggleable__label {background-color: #d4ebff;}#sk-container-id-55 input.sk-hidden--visually {border: 0;clip: rect(1px 1px 1px 1px);clip: rect(1px, 1px, 1px, 1px);height: 1px;margin: -1px;overflow: hidden;padding: 0;position: absolute;width: 1px;}#sk-container-id-55 div.sk-estimator {font-family: monospace;background-color: #f0f8ff;border: 1px dotted black;border-radius: 0.25em;box-sizing: border-box;margin-bottom: 0.5em;}#sk-container-id-55 div.sk-estimator:hover {background-color: #d4ebff;}#sk-container-id-55 div.sk-parallel-item::after {content: \"\";width: 100%;border-bottom: 1px solid gray;flex-grow: 1;}#sk-container-id-55 div.sk-label:hover label.sk-toggleable__label {background-color: #d4ebff;}#sk-container-id-55 div.sk-serial::before {content: \"\";position: absolute;border-left: 1px solid gray;box-sizing: border-box;top: 0;bottom: 0;left: 50%;z-index: 0;}#sk-container-id-55 div.sk-serial {display: flex;flex-direction: column;align-items: center;background-color: white;padding-right: 0.2em;padding-left: 0.2em;position: relative;}#sk-container-id-55 div.sk-item {position: relative;z-index: 1;}#sk-container-id-55 div.sk-parallel {display: flex;align-items: stretch;justify-content: center;background-color: white;position: relative;}#sk-container-id-55 div.sk-item::before, #sk-container-id-55 div.sk-parallel-item::before {content: \"\";position: absolute;border-left: 1px solid gray;box-sizing: border-box;top: 0;bottom: 0;left: 50%;z-index: -1;}#sk-container-id-55 div.sk-parallel-item {display: flex;flex-direction: column;z-index: 1;position: relative;background-color: white;}#sk-container-id-55 div.sk-parallel-item:first-child::after {align-self: flex-end;width: 50%;}#sk-container-id-55 div.sk-parallel-item:last-child::after {align-self: flex-start;width: 50%;}#sk-container-id-55 div.sk-parallel-item:only-child::after {width: 0;}#sk-container-id-55 div.sk-dashed-wrapped {border: 1px dashed gray;margin: 0 0.4em 0.5em 0.4em;box-sizing: border-box;padding-bottom: 0.4em;background-color: white;}#sk-container-id-55 div.sk-label label {font-family: monospace;font-weight: bold;display: inline-block;line-height: 1.2em;}#sk-container-id-55 div.sk-label-container {text-align: center;}#sk-container-id-55 div.sk-container {/* jupyter's `normalize.less` sets `[hidden] { display: none; }` but bootstrap.min.css set `[hidden] { display: none !important; }` so we also need the `!important` here to be able to override the default hidden behavior on the sphinx rendered scikit-learn.org. See: https://github.com/scikit-learn/scikit-learn/issues/21755 */display: inline-block !important;position: relative;}#sk-container-id-55 div.sk-text-repr-fallback {display: none;}</style><div id=\"sk-container-id-55\" class=\"sk-top-container\"><div class=\"sk-text-repr-fallback\"><pre>LogisticRegression(C=0.1, class_weight=&#x27;balanced&#x27;, max_iter=1000)</pre><b>In a Jupyter environment, please rerun this cell to show the HTML representation or trust the notebook. <br />On GitHub, the HTML representation is unable to render, please try loading this page with nbviewer.org.</b></div><div class=\"sk-container\" hidden><div class=\"sk-item\"><div class=\"sk-estimator sk-toggleable\"><input class=\"sk-toggleable__control sk-hidden--visually\" id=\"sk-estimator-id-67\" type=\"checkbox\" checked><label for=\"sk-estimator-id-67\" class=\"sk-toggleable__label sk-toggleable__label-arrow\">LogisticRegression</label><div class=\"sk-toggleable__content\"><pre>LogisticRegression(C=0.1, class_weight=&#x27;balanced&#x27;, max_iter=1000)</pre></div></div></div></div></div>"
      ],
      "text/plain": [
       "LogisticRegression(C=0.1, class_weight='balanced', max_iter=1000)"
      ]
     },
     "execution_count": 501,
     "metadata": {},
     "output_type": "execute_result"
    }
   ],
   "source": [
    "cc_shuffled = cervical_cancer.sample(frac = 1).reset_index(drop = True)\n",
    "cc_X = cc_shuffled[cc_shuffled.columns[:19]].to_numpy()\n",
    "cc_Y = cc_shuffled[cc_shuffled.columns[19]].to_numpy()\n",
    "X_traincc, X_testcc, y_traincc, y_testcc = train_test_split(cc_X, cc_Y, test_size = 0.2, random_state = 42)\n",
    "params = {'C' : [0.001, 0.01, 0.1, 1], 'solver' : ['lbfgs', 'liblinear', 'newton-cg']}\n",
    "\n",
    "# have to scale data you ran into an error\n",
    "scalercc = StandardScaler()\n",
    "scalercc.fit(X_traincc)\n",
    "X_train_newcc = scalercc.transform(X_traincc)\n",
    "\n",
    "# call classifier and get the best hyper parameter for this case - combinations of above params\n",
    "classier_cc = LogisticRegression(class_weight = 'balanced', max_iter = 1000)\n",
    "classier_hyper_tunecc = GridSearchCV(classier_cc, param_grid = params, cv = 3, return_train_score = True)\n",
    "classier_hyper_tunecc.fit(X_traincc, y_traincc)\n",
    "print(\"training score for best hyperparameter \" + str(classier_hyper_tunecc.cv_results_.get('mean_train_score')[0]))\n",
    "print(\"test score for best hyperparameter \" + str(classier_hyper_tunecc.cv_results_.get('mean_test_score')[0]))\n",
    "classier_hyper_tunecc.best_estimator_"
   ]
  },
  {
   "cell_type": "code",
   "execution_count": 593,
   "id": "54b473f3",
   "metadata": {},
   "outputs": [
    {
     "data": {
      "text/plain": [
       "array([0, 0, 0, 0, 0, 0, 0, 0, 0, 0, 0, 0, 0, 0, 0, 0, 1, 0, 1, 1, 0, 0,\n",
       "       0, 1, 0, 0, 0, 0, 1, 1, 1, 0, 1, 0, 0, 0, 0, 1, 0, 1, 0, 0, 0, 0,\n",
       "       1, 0, 0, 0, 1, 0, 0, 1, 0, 1, 1, 0, 0])"
      ]
     },
     "execution_count": 593,
     "metadata": {},
     "output_type": "execute_result"
    }
   ],
   "source": [
    "y_traincc"
   ]
  },
  {
   "cell_type": "markdown",
   "id": "8fe03b8d",
   "metadata": {},
   "source": [
    "#### Trial 1"
   ]
  },
  {
   "cell_type": "code",
   "execution_count": 502,
   "id": "271bbfbf",
   "metadata": {},
   "outputs": [
    {
     "data": {
      "text/plain": [
       "0.9333333333333333"
      ]
     },
     "execution_count": 502,
     "metadata": {},
     "output_type": "execute_result"
    }
   ],
   "source": [
    "tuned_cc_LR = LogisticRegression(C = 0.1, class_weight = 'balanced', solver = 'lbfgs', max_iter = 1000)\n",
    "tuned_cc_LR.fit(X_traincc, y_traincc)\n",
    "tuned_cc_LR.score(X_testcc, y_testcc)"
   ]
  },
  {
   "cell_type": "markdown",
   "id": "51b4dbd5",
   "metadata": {},
   "source": [
    "#### Trial 2"
   ]
  },
  {
   "cell_type": "code",
   "execution_count": 503,
   "id": "f54892bf",
   "metadata": {
    "scrolled": true
   },
   "outputs": [
    {
     "data": {
      "text/plain": [
       "1.0"
      ]
     },
     "execution_count": 503,
     "metadata": {},
     "output_type": "execute_result"
    }
   ],
   "source": [
    "cc_shuffled1 = cervical_cancer.sample(frac = 1).reset_index(drop = True)\n",
    "cc_X1 = cc_shuffled1[cc_shuffled1.columns[:19]].to_numpy()\n",
    "cc_Y1 = cc_shuffled1[cc_shuffled1.columns[19]].to_numpy()\n",
    "X_traincc1, X_testcc1, y_traincc1, y_testcc1 = train_test_split(cc_X1, cc_Y1, test_size = 0.2, random_state = 42)\n",
    "\n",
    "tuned_cc_LR.fit(X_traincc1, y_traincc1)\n",
    "tuned_cc_LR.score(X_testcc1, y_testcc1)"
   ]
  },
  {
   "cell_type": "markdown",
   "id": "e296e2ca",
   "metadata": {},
   "source": [
    "#### Trial 3"
   ]
  },
  {
   "cell_type": "code",
   "execution_count": 504,
   "id": "2e9da901",
   "metadata": {},
   "outputs": [
    {
     "data": {
      "text/plain": [
       "0.8666666666666667"
      ]
     },
     "execution_count": 504,
     "metadata": {},
     "output_type": "execute_result"
    }
   ],
   "source": [
    "cc_shuffled2 = cervical_cancer.sample(frac = 1).reset_index(drop = True)\n",
    "cc_X2 = cc_shuffled2[cc_shuffled2.columns[:19]].to_numpy()\n",
    "cc_Y2 = cc_shuffled2[cc_shuffled2.columns[19]].to_numpy()\n",
    "X_traincc2, X_testcc2, y_traincc2, y_testcc2 = train_test_split(cc_X2, cc_Y2, test_size = 0.2, random_state = 42)\n",
    "\n",
    "tuned_cc_LR.fit(X_traincc2, y_traincc2)\n",
    "tuned_cc_LR.score(X_testcc2, y_testcc2)"
   ]
  },
  {
   "cell_type": "code",
   "execution_count": 707,
   "id": "032cafa5",
   "metadata": {
    "scrolled": true
   },
   "outputs": [
    {
     "data": {
      "text/plain": [
       "0.9333333333333332"
      ]
     },
     "execution_count": 707,
     "metadata": {},
     "output_type": "execute_result"
    }
   ],
   "source": [
    "(1.0 + 0.9333333333333333 + 0.8666666666666667) / 3"
   ]
  },
  {
   "cell_type": "code",
   "execution_count": 756,
   "id": "c0c41265",
   "metadata": {},
   "outputs": [
    {
     "data": {
      "text/plain": [
       "0.9824561403508771"
      ]
     },
     "execution_count": 756,
     "metadata": {},
     "output_type": "execute_result"
    }
   ],
   "source": [
    "(tuned_cc_LR.score(X_traincc2, y_traincc2) + \n",
    "tuned_cc_LR.score(X_traincc1, y_traincc1) + \n",
    "tuned_cc_LR.score(X_traincc, y_traincc)) / 3"
   ]
  },
  {
   "cell_type": "markdown",
   "id": "fa6fbe4e",
   "metadata": {},
   "source": [
    "## 50/50 Split"
   ]
  },
  {
   "cell_type": "code",
   "execution_count": 505,
   "id": "38f1fe7f",
   "metadata": {},
   "outputs": [
    {
     "name": "stdout",
     "output_type": "stream",
     "text": [
      "training score for best hyperparameter 0.8888888888888888\n",
      "test score for best hyperparameter 0.861111111111111\n"
     ]
    },
    {
     "data": {
      "text/html": [
       "<style>#sk-container-id-56 {color: black;}#sk-container-id-56 pre{padding: 0;}#sk-container-id-56 div.sk-toggleable {background-color: white;}#sk-container-id-56 label.sk-toggleable__label {cursor: pointer;display: block;width: 100%;margin-bottom: 0;padding: 0.3em;box-sizing: border-box;text-align: center;}#sk-container-id-56 label.sk-toggleable__label-arrow:before {content: \"▸\";float: left;margin-right: 0.25em;color: #696969;}#sk-container-id-56 label.sk-toggleable__label-arrow:hover:before {color: black;}#sk-container-id-56 div.sk-estimator:hover label.sk-toggleable__label-arrow:before {color: black;}#sk-container-id-56 div.sk-toggleable__content {max-height: 0;max-width: 0;overflow: hidden;text-align: left;background-color: #f0f8ff;}#sk-container-id-56 div.sk-toggleable__content pre {margin: 0.2em;color: black;border-radius: 0.25em;background-color: #f0f8ff;}#sk-container-id-56 input.sk-toggleable__control:checked~div.sk-toggleable__content {max-height: 200px;max-width: 100%;overflow: auto;}#sk-container-id-56 input.sk-toggleable__control:checked~label.sk-toggleable__label-arrow:before {content: \"▾\";}#sk-container-id-56 div.sk-estimator input.sk-toggleable__control:checked~label.sk-toggleable__label {background-color: #d4ebff;}#sk-container-id-56 div.sk-label input.sk-toggleable__control:checked~label.sk-toggleable__label {background-color: #d4ebff;}#sk-container-id-56 input.sk-hidden--visually {border: 0;clip: rect(1px 1px 1px 1px);clip: rect(1px, 1px, 1px, 1px);height: 1px;margin: -1px;overflow: hidden;padding: 0;position: absolute;width: 1px;}#sk-container-id-56 div.sk-estimator {font-family: monospace;background-color: #f0f8ff;border: 1px dotted black;border-radius: 0.25em;box-sizing: border-box;margin-bottom: 0.5em;}#sk-container-id-56 div.sk-estimator:hover {background-color: #d4ebff;}#sk-container-id-56 div.sk-parallel-item::after {content: \"\";width: 100%;border-bottom: 1px solid gray;flex-grow: 1;}#sk-container-id-56 div.sk-label:hover label.sk-toggleable__label {background-color: #d4ebff;}#sk-container-id-56 div.sk-serial::before {content: \"\";position: absolute;border-left: 1px solid gray;box-sizing: border-box;top: 0;bottom: 0;left: 50%;z-index: 0;}#sk-container-id-56 div.sk-serial {display: flex;flex-direction: column;align-items: center;background-color: white;padding-right: 0.2em;padding-left: 0.2em;position: relative;}#sk-container-id-56 div.sk-item {position: relative;z-index: 1;}#sk-container-id-56 div.sk-parallel {display: flex;align-items: stretch;justify-content: center;background-color: white;position: relative;}#sk-container-id-56 div.sk-item::before, #sk-container-id-56 div.sk-parallel-item::before {content: \"\";position: absolute;border-left: 1px solid gray;box-sizing: border-box;top: 0;bottom: 0;left: 50%;z-index: -1;}#sk-container-id-56 div.sk-parallel-item {display: flex;flex-direction: column;z-index: 1;position: relative;background-color: white;}#sk-container-id-56 div.sk-parallel-item:first-child::after {align-self: flex-end;width: 50%;}#sk-container-id-56 div.sk-parallel-item:last-child::after {align-self: flex-start;width: 50%;}#sk-container-id-56 div.sk-parallel-item:only-child::after {width: 0;}#sk-container-id-56 div.sk-dashed-wrapped {border: 1px dashed gray;margin: 0 0.4em 0.5em 0.4em;box-sizing: border-box;padding-bottom: 0.4em;background-color: white;}#sk-container-id-56 div.sk-label label {font-family: monospace;font-weight: bold;display: inline-block;line-height: 1.2em;}#sk-container-id-56 div.sk-label-container {text-align: center;}#sk-container-id-56 div.sk-container {/* jupyter's `normalize.less` sets `[hidden] { display: none; }` but bootstrap.min.css set `[hidden] { display: none !important; }` so we also need the `!important` here to be able to override the default hidden behavior on the sphinx rendered scikit-learn.org. See: https://github.com/scikit-learn/scikit-learn/issues/21755 */display: inline-block !important;position: relative;}#sk-container-id-56 div.sk-text-repr-fallback {display: none;}</style><div id=\"sk-container-id-56\" class=\"sk-top-container\"><div class=\"sk-text-repr-fallback\"><pre>LogisticRegression(C=1, class_weight=&#x27;balanced&#x27;, max_iter=1000)</pre><b>In a Jupyter environment, please rerun this cell to show the HTML representation or trust the notebook. <br />On GitHub, the HTML representation is unable to render, please try loading this page with nbviewer.org.</b></div><div class=\"sk-container\" hidden><div class=\"sk-item\"><div class=\"sk-estimator sk-toggleable\"><input class=\"sk-toggleable__control sk-hidden--visually\" id=\"sk-estimator-id-68\" type=\"checkbox\" checked><label for=\"sk-estimator-id-68\" class=\"sk-toggleable__label sk-toggleable__label-arrow\">LogisticRegression</label><div class=\"sk-toggleable__content\"><pre>LogisticRegression(C=1, class_weight=&#x27;balanced&#x27;, max_iter=1000)</pre></div></div></div></div></div>"
      ],
      "text/plain": [
       "LogisticRegression(C=1, class_weight='balanced', max_iter=1000)"
      ]
     },
     "execution_count": 505,
     "metadata": {},
     "output_type": "execute_result"
    }
   ],
   "source": [
    "cc_shuffled50 = cervical_cancer.sample(frac = 1).reset_index(drop = True)\n",
    "cc_X50 = cc_shuffled50[cc_shuffled50.columns[:19]].to_numpy()\n",
    "cc_Y50 = cc_shuffled50[cc_shuffled50.columns[19]].to_numpy()\n",
    "X_traincc50, X_testcc50, y_traincc50, y_testcc50 = train_test_split(cc_X50, cc_Y50, test_size = 0.5, random_state = 42)\n",
    "params = {'C' : [0.001, 0.01, 0.1, 1], 'solver' : ['lbfgs', 'liblinear', 'newton-cg']}\n",
    "\n",
    "# have to scale data you ran into an error\n",
    "# scalercc = StandardScaler()\n",
    "# scalercc.fit(X_traincc)\n",
    "# X_train_newcc = scalercc.transform(X_traincc)\n",
    "\n",
    "# call classifier and get the best hyper parameter for this case - combinations of above params\n",
    "classier_cc50 = LogisticRegression(class_weight = 'balanced', max_iter = 1000)\n",
    "classier_hyper_tunecc50 = GridSearchCV(classier_cc50, param_grid = params, cv = 3, return_train_score = True)\n",
    "classier_hyper_tunecc50.fit(X_traincc50, y_traincc50)\n",
    "print(\"training score for best hyperparameter \" + str(classier_hyper_tunecc50.cv_results_.get('mean_train_score')[0]))\n",
    "print(\"test score for best hyperparameter \" + str(classier_hyper_tunecc50.cv_results_.get('mean_test_score')[0]))\n",
    "classier_hyper_tunecc50.best_estimator_"
   ]
  },
  {
   "cell_type": "code",
   "execution_count": 594,
   "id": "0c987f22",
   "metadata": {},
   "outputs": [
    {
     "data": {
      "text/plain": [
       "array([0, 0, 0, 1, 0, 1, 0, 1, 0, 0, 0, 0, 1, 0, 0, 0, 0, 0, 0, 1, 0, 0,\n",
       "       0, 0, 1, 1, 0, 1, 0, 0, 0, 1, 0, 1, 0, 0])"
      ]
     },
     "execution_count": 594,
     "metadata": {},
     "output_type": "execute_result"
    }
   ],
   "source": [
    "y_traincc50"
   ]
  },
  {
   "cell_type": "markdown",
   "id": "e1ba9259",
   "metadata": {},
   "source": [
    "#### Trial 1"
   ]
  },
  {
   "cell_type": "code",
   "execution_count": 508,
   "id": "cfbbf807",
   "metadata": {},
   "outputs": [
    {
     "data": {
      "text/plain": [
       "0.8666666666666667"
      ]
     },
     "execution_count": 508,
     "metadata": {},
     "output_type": "execute_result"
    }
   ],
   "source": [
    "tuned_cc_LR1 = LogisticRegression(C = 1, class_weight = 'balanced', solver = 'lbfgs', max_iter = 1000)\n",
    "tuned_cc_LR1.fit(X_traincc, y_traincc)\n",
    "tuned_cc_LR1.score(X_testcc, y_testcc)"
   ]
  },
  {
   "cell_type": "markdown",
   "id": "667aeef5",
   "metadata": {},
   "source": [
    "#### Trial 2"
   ]
  },
  {
   "cell_type": "code",
   "execution_count": 510,
   "id": "d5a461da",
   "metadata": {},
   "outputs": [
    {
     "data": {
      "text/plain": [
       "0.8611111111111112"
      ]
     },
     "execution_count": 510,
     "metadata": {},
     "output_type": "execute_result"
    }
   ],
   "source": [
    "cc_shuffled51 = cervical_cancer.sample(frac = 1).reset_index(drop = True)\n",
    "cc_X51 = cc_shuffled51[cc_shuffled51.columns[:19]].to_numpy()\n",
    "cc_Y51 = cc_shuffled51[cc_shuffled51.columns[19]].to_numpy()\n",
    "X_traincc51, X_testcc51, y_traincc51, y_testcc51 = train_test_split(cc_X51, cc_Y51, test_size = 0.5, random_state = 42)\n",
    "\n",
    "tuned_cc_LR1.fit(X_traincc51, y_traincc51)\n",
    "tuned_cc_LR1.score(X_testcc51, y_testcc51)"
   ]
  },
  {
   "cell_type": "markdown",
   "id": "07a3ab7a",
   "metadata": {},
   "source": [
    "#### Trial 3"
   ]
  },
  {
   "cell_type": "code",
   "execution_count": 512,
   "id": "0f7f3cc8",
   "metadata": {},
   "outputs": [
    {
     "data": {
      "text/plain": [
       "0.9166666666666666"
      ]
     },
     "execution_count": 512,
     "metadata": {},
     "output_type": "execute_result"
    }
   ],
   "source": [
    "cc_shuffled52 = cervical_cancer.sample(frac = 1).reset_index(drop = True)\n",
    "cc_X52 = cc_shuffled52[cc_shuffled52.columns[:19]].to_numpy()\n",
    "cc_Y52 = cc_shuffled52[cc_shuffled52.columns[19]].to_numpy()\n",
    "X_traincc52, X_testcc52, y_traincc52, y_testcc52 = train_test_split(cc_X52, cc_Y52, test_size = 0.5, random_state = 42)\n",
    "\n",
    "tuned_cc_LR1.fit(X_traincc52, y_traincc52)\n",
    "tuned_cc_LR1.score(X_testcc52, y_testcc52)"
   ]
  },
  {
   "cell_type": "code",
   "execution_count": 708,
   "id": "d0ce331b",
   "metadata": {},
   "outputs": [
    {
     "data": {
      "text/plain": [
       "0.8814814814814814"
      ]
     },
     "execution_count": 708,
     "metadata": {},
     "output_type": "execute_result"
    }
   ],
   "source": [
    "(0.8666666666666667 + 0.8611111111111112 + 0.9166666666666666) / 3"
   ]
  },
  {
   "cell_type": "code",
   "execution_count": 757,
   "id": "065e17b6",
   "metadata": {},
   "outputs": [
    {
     "data": {
      "text/plain": [
       "0.9639376218323586"
      ]
     },
     "execution_count": 757,
     "metadata": {},
     "output_type": "execute_result"
    }
   ],
   "source": [
    "(tuned_cc_LR1.score(X_traincc52, y_traincc52) + \n",
    "tuned_cc_LR1.score(X_traincc51, y_traincc51) + \n",
    "tuned_cc_LR1.score(X_traincc, y_traincc)) / 3"
   ]
  },
  {
   "cell_type": "markdown",
   "id": "428fe090",
   "metadata": {},
   "source": [
    "## 20/80 Split"
   ]
  },
  {
   "cell_type": "code",
   "execution_count": 513,
   "id": "ae79c4c8",
   "metadata": {},
   "outputs": [
    {
     "name": "stdout",
     "output_type": "stream",
     "text": [
      "training score for best hyperparameter 0.9296296296296296\n",
      "test score for best hyperparameter 0.9333333333333332\n"
     ]
    },
    {
     "data": {
      "text/html": [
       "<style>#sk-container-id-57 {color: black;}#sk-container-id-57 pre{padding: 0;}#sk-container-id-57 div.sk-toggleable {background-color: white;}#sk-container-id-57 label.sk-toggleable__label {cursor: pointer;display: block;width: 100%;margin-bottom: 0;padding: 0.3em;box-sizing: border-box;text-align: center;}#sk-container-id-57 label.sk-toggleable__label-arrow:before {content: \"▸\";float: left;margin-right: 0.25em;color: #696969;}#sk-container-id-57 label.sk-toggleable__label-arrow:hover:before {color: black;}#sk-container-id-57 div.sk-estimator:hover label.sk-toggleable__label-arrow:before {color: black;}#sk-container-id-57 div.sk-toggleable__content {max-height: 0;max-width: 0;overflow: hidden;text-align: left;background-color: #f0f8ff;}#sk-container-id-57 div.sk-toggleable__content pre {margin: 0.2em;color: black;border-radius: 0.25em;background-color: #f0f8ff;}#sk-container-id-57 input.sk-toggleable__control:checked~div.sk-toggleable__content {max-height: 200px;max-width: 100%;overflow: auto;}#sk-container-id-57 input.sk-toggleable__control:checked~label.sk-toggleable__label-arrow:before {content: \"▾\";}#sk-container-id-57 div.sk-estimator input.sk-toggleable__control:checked~label.sk-toggleable__label {background-color: #d4ebff;}#sk-container-id-57 div.sk-label input.sk-toggleable__control:checked~label.sk-toggleable__label {background-color: #d4ebff;}#sk-container-id-57 input.sk-hidden--visually {border: 0;clip: rect(1px 1px 1px 1px);clip: rect(1px, 1px, 1px, 1px);height: 1px;margin: -1px;overflow: hidden;padding: 0;position: absolute;width: 1px;}#sk-container-id-57 div.sk-estimator {font-family: monospace;background-color: #f0f8ff;border: 1px dotted black;border-radius: 0.25em;box-sizing: border-box;margin-bottom: 0.5em;}#sk-container-id-57 div.sk-estimator:hover {background-color: #d4ebff;}#sk-container-id-57 div.sk-parallel-item::after {content: \"\";width: 100%;border-bottom: 1px solid gray;flex-grow: 1;}#sk-container-id-57 div.sk-label:hover label.sk-toggleable__label {background-color: #d4ebff;}#sk-container-id-57 div.sk-serial::before {content: \"\";position: absolute;border-left: 1px solid gray;box-sizing: border-box;top: 0;bottom: 0;left: 50%;z-index: 0;}#sk-container-id-57 div.sk-serial {display: flex;flex-direction: column;align-items: center;background-color: white;padding-right: 0.2em;padding-left: 0.2em;position: relative;}#sk-container-id-57 div.sk-item {position: relative;z-index: 1;}#sk-container-id-57 div.sk-parallel {display: flex;align-items: stretch;justify-content: center;background-color: white;position: relative;}#sk-container-id-57 div.sk-item::before, #sk-container-id-57 div.sk-parallel-item::before {content: \"\";position: absolute;border-left: 1px solid gray;box-sizing: border-box;top: 0;bottom: 0;left: 50%;z-index: -1;}#sk-container-id-57 div.sk-parallel-item {display: flex;flex-direction: column;z-index: 1;position: relative;background-color: white;}#sk-container-id-57 div.sk-parallel-item:first-child::after {align-self: flex-end;width: 50%;}#sk-container-id-57 div.sk-parallel-item:last-child::after {align-self: flex-start;width: 50%;}#sk-container-id-57 div.sk-parallel-item:only-child::after {width: 0;}#sk-container-id-57 div.sk-dashed-wrapped {border: 1px dashed gray;margin: 0 0.4em 0.5em 0.4em;box-sizing: border-box;padding-bottom: 0.4em;background-color: white;}#sk-container-id-57 div.sk-label label {font-family: monospace;font-weight: bold;display: inline-block;line-height: 1.2em;}#sk-container-id-57 div.sk-label-container {text-align: center;}#sk-container-id-57 div.sk-container {/* jupyter's `normalize.less` sets `[hidden] { display: none; }` but bootstrap.min.css set `[hidden] { display: none !important; }` so we also need the `!important` here to be able to override the default hidden behavior on the sphinx rendered scikit-learn.org. See: https://github.com/scikit-learn/scikit-learn/issues/21755 */display: inline-block !important;position: relative;}#sk-container-id-57 div.sk-text-repr-fallback {display: none;}</style><div id=\"sk-container-id-57\" class=\"sk-top-container\"><div class=\"sk-text-repr-fallback\"><pre>LogisticRegression(C=0.01, class_weight=&#x27;balanced&#x27;, max_iter=1000,\n",
       "                   solver=&#x27;liblinear&#x27;)</pre><b>In a Jupyter environment, please rerun this cell to show the HTML representation or trust the notebook. <br />On GitHub, the HTML representation is unable to render, please try loading this page with nbviewer.org.</b></div><div class=\"sk-container\" hidden><div class=\"sk-item\"><div class=\"sk-estimator sk-toggleable\"><input class=\"sk-toggleable__control sk-hidden--visually\" id=\"sk-estimator-id-69\" type=\"checkbox\" checked><label for=\"sk-estimator-id-69\" class=\"sk-toggleable__label sk-toggleable__label-arrow\">LogisticRegression</label><div class=\"sk-toggleable__content\"><pre>LogisticRegression(C=0.01, class_weight=&#x27;balanced&#x27;, max_iter=1000,\n",
       "                   solver=&#x27;liblinear&#x27;)</pre></div></div></div></div></div>"
      ],
      "text/plain": [
       "LogisticRegression(C=0.01, class_weight='balanced', max_iter=1000,\n",
       "                   solver='liblinear')"
      ]
     },
     "execution_count": 513,
     "metadata": {},
     "output_type": "execute_result"
    }
   ],
   "source": [
    "cc_shuffled20 = cervical_cancer.sample(frac = 1).reset_index(drop = True)\n",
    "cc_X20 = cc_shuffled20[cc_shuffled20.columns[:19]].to_numpy()\n",
    "cc_Y20 = cc_shuffled20[cc_shuffled20.columns[19]].to_numpy()\n",
    "X_traincc20, X_testcc20, y_traincc20, y_testcc20 = train_test_split(cc_X20, cc_Y20, test_size = 0.8, random_state = 42)\n",
    "params = {'C' : [0.001, 0.01, 0.1, 1], 'solver' : ['lbfgs', 'liblinear', 'newton-cg']}\n",
    "\n",
    "# have to scale data you ran into an error\n",
    "# scalercc = StandardScaler()\n",
    "# scalercc.fit(X_traincc)\n",
    "# X_train_newcc = scalercc.transform(X_traincc)\n",
    "\n",
    "# call classifier and get the best hyper parameter for this case - combinations of above params\n",
    "classier_cc20 = LogisticRegression(class_weight = 'balanced', max_iter = 1000)\n",
    "classier_hyper_tunecc20 = GridSearchCV(classier_cc20, param_grid = params, cv = 3, return_train_score = True)\n",
    "classier_hyper_tunecc20.fit(X_traincc20, y_traincc20)\n",
    "print(\"training score for best hyperparameter \" + str(classier_hyper_tunecc20.cv_results_.get('mean_train_score')[0]))\n",
    "print(\"test score for best hyperparameter \" + str(classier_hyper_tunecc20.cv_results_.get('mean_test_score')[0]))\n",
    "classier_hyper_tunecc20.best_estimator_"
   ]
  },
  {
   "cell_type": "code",
   "execution_count": 595,
   "id": "ed9d4e28",
   "metadata": {},
   "outputs": [
    {
     "data": {
      "text/plain": [
       "array([0, 0, 0, 0, 0, 0, 0, 1, 1, 0, 1, 0, 1, 0])"
      ]
     },
     "execution_count": 595,
     "metadata": {},
     "output_type": "execute_result"
    }
   ],
   "source": [
    "y_traincc20"
   ]
  },
  {
   "cell_type": "markdown",
   "id": "90f17384",
   "metadata": {},
   "source": [
    "#### Trial 1"
   ]
  },
  {
   "cell_type": "code",
   "execution_count": 514,
   "id": "e6448d62",
   "metadata": {},
   "outputs": [
    {
     "data": {
      "text/plain": [
       "0.7931034482758621"
      ]
     },
     "execution_count": 514,
     "metadata": {},
     "output_type": "execute_result"
    }
   ],
   "source": [
    "tuned_cc_LR2 = LogisticRegression(C = 0.01, class_weight = 'balanced', solver = 'liblinear', max_iter = 1000)\n",
    "tuned_cc_LR2.fit(X_traincc20, y_traincc20)\n",
    "tuned_cc_LR2.score(X_testcc20, y_testcc20)"
   ]
  },
  {
   "cell_type": "markdown",
   "id": "16e38313",
   "metadata": {},
   "source": [
    "#### Trial 2"
   ]
  },
  {
   "cell_type": "code",
   "execution_count": 515,
   "id": "e6008ad7",
   "metadata": {},
   "outputs": [
    {
     "data": {
      "text/plain": [
       "0.896551724137931"
      ]
     },
     "execution_count": 515,
     "metadata": {},
     "output_type": "execute_result"
    }
   ],
   "source": [
    "cc_shuffled21 = cervical_cancer.sample(frac = 1).reset_index(drop = True)\n",
    "cc_X21 = cc_shuffled21[cc_shuffled21.columns[:19]].to_numpy()\n",
    "cc_Y21 = cc_shuffled21[cc_shuffled21.columns[19]].to_numpy()\n",
    "X_traincc21, X_testcc21, y_traincc21, y_testcc21 = train_test_split(cc_X21, cc_Y21, test_size = 0.8, random_state = 42)\n",
    "\n",
    "tuned_cc_LR2.fit(X_traincc21, y_traincc21)\n",
    "tuned_cc_LR2.score(X_testcc21, y_testcc21)"
   ]
  },
  {
   "cell_type": "markdown",
   "id": "fedfc490",
   "metadata": {},
   "source": [
    "#### Trial 3"
   ]
  },
  {
   "cell_type": "code",
   "execution_count": 516,
   "id": "b8e32402",
   "metadata": {},
   "outputs": [
    {
     "data": {
      "text/plain": [
       "0.9655172413793104"
      ]
     },
     "execution_count": 516,
     "metadata": {},
     "output_type": "execute_result"
    }
   ],
   "source": [
    "cc_shuffled22 = cervical_cancer.sample(frac = 1).reset_index(drop = True)\n",
    "cc_X22 = cc_shuffled22[cc_shuffled22.columns[:19]].to_numpy()\n",
    "cc_Y22 = cc_shuffled22[cc_shuffled22.columns[19]].to_numpy()\n",
    "X_traincc22, X_testcc22, y_traincc22, y_testcc22 = train_test_split(cc_X22, cc_Y22, test_size = 0.8, random_state = 42)\n",
    "\n",
    "tuned_cc_LR2.fit(X_traincc22, y_traincc22)\n",
    "tuned_cc_LR.score(X_testcc22, y_testcc22)"
   ]
  },
  {
   "cell_type": "code",
   "execution_count": 709,
   "id": "c96a27bd",
   "metadata": {},
   "outputs": [
    {
     "data": {
      "text/plain": [
       "0.8850574712643678"
      ]
     },
     "execution_count": 709,
     "metadata": {},
     "output_type": "execute_result"
    }
   ],
   "source": [
    "(0.7931034482758621 + 0.896551724137931 + 0.9655172413793104) / 3"
   ]
  },
  {
   "cell_type": "code",
   "execution_count": 758,
   "id": "95b2e40c",
   "metadata": {},
   "outputs": [
    {
     "data": {
      "text/plain": [
       "0.880952380952381"
      ]
     },
     "execution_count": 758,
     "metadata": {},
     "output_type": "execute_result"
    }
   ],
   "source": [
    "(tuned_cc_LR2.score(X_traincc22, y_traincc22) + \n",
    "tuned_cc_LR2.score(X_traincc21, y_traincc21) + \n",
    "tuned_cc_LR2.score(X_traincc20, y_traincc20)) / 3"
   ]
  },
  {
   "cell_type": "markdown",
   "id": "387b0b45",
   "metadata": {},
   "source": [
    "# KNN Classifier with Cervical Cancer Data"
   ]
  },
  {
   "cell_type": "markdown",
   "id": "69258754",
   "metadata": {},
   "source": [
    "## 80/20 Split"
   ]
  },
  {
   "cell_type": "code",
   "execution_count": 646,
   "id": "703db028",
   "metadata": {},
   "outputs": [
    {
     "name": "stdout",
     "output_type": "stream",
     "text": [
      "training score for best hyperparameter 0.8592592592592592\n",
      "test score for best hyperparameter 0.7833333333333333\n"
     ]
    },
    {
     "data": {
      "text/html": [
       "<style>#sk-container-id-79 {color: black;}#sk-container-id-79 pre{padding: 0;}#sk-container-id-79 div.sk-toggleable {background-color: white;}#sk-container-id-79 label.sk-toggleable__label {cursor: pointer;display: block;width: 100%;margin-bottom: 0;padding: 0.3em;box-sizing: border-box;text-align: center;}#sk-container-id-79 label.sk-toggleable__label-arrow:before {content: \"▸\";float: left;margin-right: 0.25em;color: #696969;}#sk-container-id-79 label.sk-toggleable__label-arrow:hover:before {color: black;}#sk-container-id-79 div.sk-estimator:hover label.sk-toggleable__label-arrow:before {color: black;}#sk-container-id-79 div.sk-toggleable__content {max-height: 0;max-width: 0;overflow: hidden;text-align: left;background-color: #f0f8ff;}#sk-container-id-79 div.sk-toggleable__content pre {margin: 0.2em;color: black;border-radius: 0.25em;background-color: #f0f8ff;}#sk-container-id-79 input.sk-toggleable__control:checked~div.sk-toggleable__content {max-height: 200px;max-width: 100%;overflow: auto;}#sk-container-id-79 input.sk-toggleable__control:checked~label.sk-toggleable__label-arrow:before {content: \"▾\";}#sk-container-id-79 div.sk-estimator input.sk-toggleable__control:checked~label.sk-toggleable__label {background-color: #d4ebff;}#sk-container-id-79 div.sk-label input.sk-toggleable__control:checked~label.sk-toggleable__label {background-color: #d4ebff;}#sk-container-id-79 input.sk-hidden--visually {border: 0;clip: rect(1px 1px 1px 1px);clip: rect(1px, 1px, 1px, 1px);height: 1px;margin: -1px;overflow: hidden;padding: 0;position: absolute;width: 1px;}#sk-container-id-79 div.sk-estimator {font-family: monospace;background-color: #f0f8ff;border: 1px dotted black;border-radius: 0.25em;box-sizing: border-box;margin-bottom: 0.5em;}#sk-container-id-79 div.sk-estimator:hover {background-color: #d4ebff;}#sk-container-id-79 div.sk-parallel-item::after {content: \"\";width: 100%;border-bottom: 1px solid gray;flex-grow: 1;}#sk-container-id-79 div.sk-label:hover label.sk-toggleable__label {background-color: #d4ebff;}#sk-container-id-79 div.sk-serial::before {content: \"\";position: absolute;border-left: 1px solid gray;box-sizing: border-box;top: 0;bottom: 0;left: 50%;z-index: 0;}#sk-container-id-79 div.sk-serial {display: flex;flex-direction: column;align-items: center;background-color: white;padding-right: 0.2em;padding-left: 0.2em;position: relative;}#sk-container-id-79 div.sk-item {position: relative;z-index: 1;}#sk-container-id-79 div.sk-parallel {display: flex;align-items: stretch;justify-content: center;background-color: white;position: relative;}#sk-container-id-79 div.sk-item::before, #sk-container-id-79 div.sk-parallel-item::before {content: \"\";position: absolute;border-left: 1px solid gray;box-sizing: border-box;top: 0;bottom: 0;left: 50%;z-index: -1;}#sk-container-id-79 div.sk-parallel-item {display: flex;flex-direction: column;z-index: 1;position: relative;background-color: white;}#sk-container-id-79 div.sk-parallel-item:first-child::after {align-self: flex-end;width: 50%;}#sk-container-id-79 div.sk-parallel-item:last-child::after {align-self: flex-start;width: 50%;}#sk-container-id-79 div.sk-parallel-item:only-child::after {width: 0;}#sk-container-id-79 div.sk-dashed-wrapped {border: 1px dashed gray;margin: 0 0.4em 0.5em 0.4em;box-sizing: border-box;padding-bottom: 0.4em;background-color: white;}#sk-container-id-79 div.sk-label label {font-family: monospace;font-weight: bold;display: inline-block;line-height: 1.2em;}#sk-container-id-79 div.sk-label-container {text-align: center;}#sk-container-id-79 div.sk-container {/* jupyter's `normalize.less` sets `[hidden] { display: none; }` but bootstrap.min.css set `[hidden] { display: none !important; }` so we also need the `!important` here to be able to override the default hidden behavior on the sphinx rendered scikit-learn.org. See: https://github.com/scikit-learn/scikit-learn/issues/21755 */display: inline-block !important;position: relative;}#sk-container-id-79 div.sk-text-repr-fallback {display: none;}</style><div id=\"sk-container-id-79\" class=\"sk-top-container\"><div class=\"sk-text-repr-fallback\"><pre>KNeighborsClassifier(n_neighbors=3)</pre><b>In a Jupyter environment, please rerun this cell to show the HTML representation or trust the notebook. <br />On GitHub, the HTML representation is unable to render, please try loading this page with nbviewer.org.</b></div><div class=\"sk-container\" hidden><div class=\"sk-item\"><div class=\"sk-estimator sk-toggleable\"><input class=\"sk-toggleable__control sk-hidden--visually\" id=\"sk-estimator-id-91\" type=\"checkbox\" checked><label for=\"sk-estimator-id-91\" class=\"sk-toggleable__label sk-toggleable__label-arrow\">KNeighborsClassifier</label><div class=\"sk-toggleable__content\"><pre>KNeighborsClassifier(n_neighbors=3)</pre></div></div></div></div></div>"
      ],
      "text/plain": [
       "KNeighborsClassifier(n_neighbors=3)"
      ]
     },
     "execution_count": 646,
     "metadata": {},
     "output_type": "execute_result"
    }
   ],
   "source": [
    "cc_shuffled_3 = cervical_cancer.sample(frac = 1).reset_index(drop = True)\n",
    "cc_X8 = cc_shuffled_3[cc_shuffled_3.columns[:19]].to_numpy()\n",
    "cc_Y8 = cc_shuffled_3[cc_shuffled_3.columns[19]].to_numpy()\n",
    "X_traind8, X_testd8, y_traind8, y_testd8 = train_test_split(cc_X8, cc_Y8, test_size = 0.8, random_state = 42)\n",
    "\n",
    "params = {'n_neighbors' : [3, 5, 6, 7]}\n",
    "\n",
    "# have to scale data you ran into an error\n",
    "\n",
    "# call classifier and get the best hyper parameter for this case - combinations of above params\n",
    "classify = KNeighborsClassifier(weights = 'uniform')\n",
    "class_hyper_tunedy = GridSearchCV(classify, param_grid = params, cv = 3, return_train_score = True)\n",
    "class_hyper_tunedy.fit(X_traind8, y_traind8)\n",
    "print(\"training score for best hyperparameter \" + str(class_hyper_tunedy.cv_results_.get('mean_train_score')[0]))\n",
    "print(\"test score for best hyperparameter \" + str(class_hyper_tunedy.cv_results_.get('mean_test_score')[0]))\n",
    "class_hyper_tunedy.best_estimator_"
   ]
  },
  {
   "cell_type": "code",
   "execution_count": 647,
   "id": "52e0c10c",
   "metadata": {},
   "outputs": [
    {
     "data": {
      "text/plain": [
       "array([1, 0, 1, 0, 1, 1, 0, 0, 0, 0, 0, 1, 0, 1])"
      ]
     },
     "execution_count": 647,
     "metadata": {},
     "output_type": "execute_result"
    }
   ],
   "source": [
    "y_traind8"
   ]
  },
  {
   "cell_type": "markdown",
   "id": "38e33edb",
   "metadata": {},
   "source": [
    "#### Trial 1"
   ]
  },
  {
   "cell_type": "code",
   "execution_count": 648,
   "id": "dcd40188",
   "metadata": {},
   "outputs": [
    {
     "data": {
      "text/plain": [
       "0.8793103448275862"
      ]
     },
     "execution_count": 648,
     "metadata": {},
     "output_type": "execute_result"
    }
   ],
   "source": [
    "tuned_class = KNeighborsClassifier(n_neighbors = 3, weights = 'uniform')\n",
    "tuned_class.fit(X_traind8, y_traind8)\n",
    "tuned_class.score(X_testd8, y_testd8)"
   ]
  },
  {
   "cell_type": "markdown",
   "id": "0ff2bc16",
   "metadata": {},
   "source": [
    "#### Trial 2"
   ]
  },
  {
   "cell_type": "code",
   "execution_count": 649,
   "id": "04cba431",
   "metadata": {},
   "outputs": [
    {
     "data": {
      "text/plain": [
       "0.8103448275862069"
      ]
     },
     "execution_count": 649,
     "metadata": {},
     "output_type": "execute_result"
    }
   ],
   "source": [
    "cc_shuffled_4 = cervical_cancer.sample(frac = 1).reset_index(drop = True)\n",
    "cc_X9 = cc_shuffled_4[cc_shuffled_4.columns[:19]].to_numpy()\n",
    "cc_Y9 = cc_shuffled_4[cc_shuffled_4.columns[19]].to_numpy()\n",
    "X_traind9, X_testd9, y_traind9, y_testd9 = train_test_split(cc_X9, cc_Y9, test_size = 0.8, random_state = 42)\n",
    "\n",
    "tuned_class.fit(X_traind9, y_traind9)\n",
    "tuned_class.score(X_testd9, y_testd9)"
   ]
  },
  {
   "cell_type": "markdown",
   "id": "a862e566",
   "metadata": {},
   "source": [
    "#### Trial 3"
   ]
  },
  {
   "cell_type": "code",
   "execution_count": 650,
   "id": "8e24529d",
   "metadata": {},
   "outputs": [
    {
     "data": {
      "text/plain": [
       "0.9137931034482759"
      ]
     },
     "execution_count": 650,
     "metadata": {},
     "output_type": "execute_result"
    }
   ],
   "source": [
    "cc_shuffled_5 = cervical_cancer.sample(frac = 1).reset_index(drop = True)\n",
    "cc_X10 = cc_shuffled_5[cc_shuffled_5.columns[:19]].to_numpy()\n",
    "cc_Y10 = cc_shuffled_5[cc_shuffled_5.columns[19]].to_numpy()\n",
    "X_traind10, X_testd10, y_traind10, y_testd10 = train_test_split(cc_X10, cc_Y10, test_size = 0.8, random_state = 42)\n",
    "\n",
    "tuned_class.fit(X_traind10, y_traind10)\n",
    "tuned_class.score(X_testd10, y_testd10)"
   ]
  },
  {
   "cell_type": "code",
   "execution_count": 710,
   "id": "8a36300a",
   "metadata": {},
   "outputs": [
    {
     "data": {
      "text/plain": [
       "0.867816091954023"
      ]
     },
     "execution_count": 710,
     "metadata": {},
     "output_type": "execute_result"
    }
   ],
   "source": [
    "(0.9137931034482759 + 0.8103448275862069 + 0.8793103448275862) / 3"
   ]
  },
  {
   "cell_type": "code",
   "execution_count": 760,
   "id": "f80750da",
   "metadata": {},
   "outputs": [
    {
     "data": {
      "text/plain": [
       "0.8809523809523809"
      ]
     },
     "execution_count": 760,
     "metadata": {},
     "output_type": "execute_result"
    }
   ],
   "source": [
    "(tuned_class.score(X_traind10, y_traind10) + \n",
    "tuned_class.score(X_traind9, y_traind9) + \n",
    "tuned_class.score(X_traind8, y_traind8)) / 3"
   ]
  },
  {
   "cell_type": "markdown",
   "id": "a274f74a",
   "metadata": {},
   "source": [
    "## 50/50 Split"
   ]
  },
  {
   "cell_type": "code",
   "execution_count": 651,
   "id": "9182f04d",
   "metadata": {},
   "outputs": [
    {
     "name": "stdout",
     "output_type": "stream",
     "text": [
      "training score for best hyperparameter 0.9027777777777777\n",
      "test score for best hyperparameter 0.8611111111111112\n"
     ]
    },
    {
     "data": {
      "text/html": [
       "<style>#sk-container-id-80 {color: black;}#sk-container-id-80 pre{padding: 0;}#sk-container-id-80 div.sk-toggleable {background-color: white;}#sk-container-id-80 label.sk-toggleable__label {cursor: pointer;display: block;width: 100%;margin-bottom: 0;padding: 0.3em;box-sizing: border-box;text-align: center;}#sk-container-id-80 label.sk-toggleable__label-arrow:before {content: \"▸\";float: left;margin-right: 0.25em;color: #696969;}#sk-container-id-80 label.sk-toggleable__label-arrow:hover:before {color: black;}#sk-container-id-80 div.sk-estimator:hover label.sk-toggleable__label-arrow:before {color: black;}#sk-container-id-80 div.sk-toggleable__content {max-height: 0;max-width: 0;overflow: hidden;text-align: left;background-color: #f0f8ff;}#sk-container-id-80 div.sk-toggleable__content pre {margin: 0.2em;color: black;border-radius: 0.25em;background-color: #f0f8ff;}#sk-container-id-80 input.sk-toggleable__control:checked~div.sk-toggleable__content {max-height: 200px;max-width: 100%;overflow: auto;}#sk-container-id-80 input.sk-toggleable__control:checked~label.sk-toggleable__label-arrow:before {content: \"▾\";}#sk-container-id-80 div.sk-estimator input.sk-toggleable__control:checked~label.sk-toggleable__label {background-color: #d4ebff;}#sk-container-id-80 div.sk-label input.sk-toggleable__control:checked~label.sk-toggleable__label {background-color: #d4ebff;}#sk-container-id-80 input.sk-hidden--visually {border: 0;clip: rect(1px 1px 1px 1px);clip: rect(1px, 1px, 1px, 1px);height: 1px;margin: -1px;overflow: hidden;padding: 0;position: absolute;width: 1px;}#sk-container-id-80 div.sk-estimator {font-family: monospace;background-color: #f0f8ff;border: 1px dotted black;border-radius: 0.25em;box-sizing: border-box;margin-bottom: 0.5em;}#sk-container-id-80 div.sk-estimator:hover {background-color: #d4ebff;}#sk-container-id-80 div.sk-parallel-item::after {content: \"\";width: 100%;border-bottom: 1px solid gray;flex-grow: 1;}#sk-container-id-80 div.sk-label:hover label.sk-toggleable__label {background-color: #d4ebff;}#sk-container-id-80 div.sk-serial::before {content: \"\";position: absolute;border-left: 1px solid gray;box-sizing: border-box;top: 0;bottom: 0;left: 50%;z-index: 0;}#sk-container-id-80 div.sk-serial {display: flex;flex-direction: column;align-items: center;background-color: white;padding-right: 0.2em;padding-left: 0.2em;position: relative;}#sk-container-id-80 div.sk-item {position: relative;z-index: 1;}#sk-container-id-80 div.sk-parallel {display: flex;align-items: stretch;justify-content: center;background-color: white;position: relative;}#sk-container-id-80 div.sk-item::before, #sk-container-id-80 div.sk-parallel-item::before {content: \"\";position: absolute;border-left: 1px solid gray;box-sizing: border-box;top: 0;bottom: 0;left: 50%;z-index: -1;}#sk-container-id-80 div.sk-parallel-item {display: flex;flex-direction: column;z-index: 1;position: relative;background-color: white;}#sk-container-id-80 div.sk-parallel-item:first-child::after {align-self: flex-end;width: 50%;}#sk-container-id-80 div.sk-parallel-item:last-child::after {align-self: flex-start;width: 50%;}#sk-container-id-80 div.sk-parallel-item:only-child::after {width: 0;}#sk-container-id-80 div.sk-dashed-wrapped {border: 1px dashed gray;margin: 0 0.4em 0.5em 0.4em;box-sizing: border-box;padding-bottom: 0.4em;background-color: white;}#sk-container-id-80 div.sk-label label {font-family: monospace;font-weight: bold;display: inline-block;line-height: 1.2em;}#sk-container-id-80 div.sk-label-container {text-align: center;}#sk-container-id-80 div.sk-container {/* jupyter's `normalize.less` sets `[hidden] { display: none; }` but bootstrap.min.css set `[hidden] { display: none !important; }` so we also need the `!important` here to be able to override the default hidden behavior on the sphinx rendered scikit-learn.org. See: https://github.com/scikit-learn/scikit-learn/issues/21755 */display: inline-block !important;position: relative;}#sk-container-id-80 div.sk-text-repr-fallback {display: none;}</style><div id=\"sk-container-id-80\" class=\"sk-top-container\"><div class=\"sk-text-repr-fallback\"><pre>KNeighborsClassifier(n_neighbors=3)</pre><b>In a Jupyter environment, please rerun this cell to show the HTML representation or trust the notebook. <br />On GitHub, the HTML representation is unable to render, please try loading this page with nbviewer.org.</b></div><div class=\"sk-container\" hidden><div class=\"sk-item\"><div class=\"sk-estimator sk-toggleable\"><input class=\"sk-toggleable__control sk-hidden--visually\" id=\"sk-estimator-id-92\" type=\"checkbox\" checked><label for=\"sk-estimator-id-92\" class=\"sk-toggleable__label sk-toggleable__label-arrow\">KNeighborsClassifier</label><div class=\"sk-toggleable__content\"><pre>KNeighborsClassifier(n_neighbors=3)</pre></div></div></div></div></div>"
      ],
      "text/plain": [
       "KNeighborsClassifier(n_neighbors=3)"
      ]
     },
     "execution_count": 651,
     "metadata": {},
     "output_type": "execute_result"
    }
   ],
   "source": [
    "cc_shuffled_5 = cervical_cancer.sample(frac = 1).reset_index(drop = True)\n",
    "cc_X501 = cc_shuffled_5[cc_shuffled_5.columns[:19]].to_numpy()\n",
    "cc_Y501 = cc_shuffled_5[cc_shuffled_5.columns[19]].to_numpy()\n",
    "X_traind501, X_testd501, y_traind501, y_testd501 = train_test_split(cc_X501, cc_Y501, test_size = 0.5, random_state = 42)\n",
    "\n",
    "params = {'n_neighbors' : [3, 5, 6, 7]}\n",
    "\n",
    "# have to scale data you ran into an error\n",
    "\n",
    "# call classifier and get the best hyper parameter for this case - combinations of above params\n",
    "classify1 = KNeighborsClassifier(weights = 'uniform')\n",
    "class_hyper_tunedy1 = GridSearchCV(classify1, param_grid = params, cv = 3, return_train_score = True)\n",
    "class_hyper_tunedy1.fit(X_traind501, y_traind501)\n",
    "print(\"training score for best hyperparameter \" + str(class_hyper_tunedy1.cv_results_.get('mean_train_score')[0]))\n",
    "print(\"test score for best hyperparameter \" + str(class_hyper_tunedy1.cv_results_.get('mean_test_score')[0]))\n",
    "class_hyper_tunedy1.best_estimator_"
   ]
  },
  {
   "cell_type": "markdown",
   "id": "5db3e103",
   "metadata": {},
   "source": [
    "#### Trial 1"
   ]
  },
  {
   "cell_type": "code",
   "execution_count": 652,
   "id": "db6f0ed7",
   "metadata": {},
   "outputs": [
    {
     "data": {
      "text/plain": [
       "0.9166666666666666"
      ]
     },
     "execution_count": 652,
     "metadata": {},
     "output_type": "execute_result"
    }
   ],
   "source": [
    "tuned_class1 = KNeighborsClassifier(n_neighbors = 3, weights = 'uniform')\n",
    "tuned_class1.fit(X_traind501, y_traind501)\n",
    "tuned_class1.score(X_testd501, y_testd501)"
   ]
  },
  {
   "cell_type": "markdown",
   "id": "e0f2945a",
   "metadata": {},
   "source": [
    "#### Trial 2"
   ]
  },
  {
   "cell_type": "code",
   "execution_count": 653,
   "id": "b4cdba3c",
   "metadata": {},
   "outputs": [
    {
     "data": {
      "text/plain": [
       "0.8055555555555556"
      ]
     },
     "execution_count": 653,
     "metadata": {},
     "output_type": "execute_result"
    }
   ],
   "source": [
    "cc_shuffled_6 = cervical_cancer.sample(frac = 1).reset_index(drop = True)\n",
    "cc_X502 = cc_shuffled_6[cc_shuffled_6.columns[:19]].to_numpy()\n",
    "cc_Y502 = cc_shuffled_6[cc_shuffled_6.columns[19]].to_numpy()\n",
    "X_traind502, X_testd502, y_traind502, y_testd502 = train_test_split(cc_X502, cc_Y502, test_size = 0.5, random_state = 42)\n",
    "\n",
    "tuned_class1.fit(X_traind502, y_traind502)\n",
    "tuned_class1.score(X_testd502, y_testd502)"
   ]
  },
  {
   "cell_type": "markdown",
   "id": "5546021c",
   "metadata": {},
   "source": [
    "#### Trial 3"
   ]
  },
  {
   "cell_type": "code",
   "execution_count": 654,
   "id": "d0c34219",
   "metadata": {},
   "outputs": [
    {
     "data": {
      "text/plain": [
       "0.8611111111111112"
      ]
     },
     "execution_count": 654,
     "metadata": {},
     "output_type": "execute_result"
    }
   ],
   "source": [
    "cc_shuffled_7 = cervical_cancer.sample(frac = 1).reset_index(drop = True)\n",
    "cc_X503 = cc_shuffled_7[cc_shuffled_7.columns[:19]].to_numpy()\n",
    "cc_Y503 = cc_shuffled_7[cc_shuffled_7.columns[19]].to_numpy()\n",
    "X_traind503, X_testd503, y_traind503, y_testd503 = train_test_split(cc_X503, cc_Y503, test_size = 0.5, random_state = 42)\n",
    "\n",
    "tuned_class1.fit(X_traind503, y_traind503)\n",
    "tuned_class1.score(X_testd503, y_testd503)"
   ]
  },
  {
   "cell_type": "code",
   "execution_count": 711,
   "id": "9ed06e28",
   "metadata": {},
   "outputs": [
    {
     "data": {
      "text/plain": [
       "0.8611111111111112"
      ]
     },
     "execution_count": 711,
     "metadata": {},
     "output_type": "execute_result"
    }
   ],
   "source": [
    "(0.9166666666666666 + 0.8055555555555556 + 0.8611111111111112) / 3"
   ]
  },
  {
   "cell_type": "code",
   "execution_count": 761,
   "id": "f89c5386",
   "metadata": {},
   "outputs": [
    {
     "data": {
      "text/plain": [
       "0.9166666666666666"
      ]
     },
     "execution_count": 761,
     "metadata": {},
     "output_type": "execute_result"
    }
   ],
   "source": [
    "(tuned_class1.score(X_traind503, y_traind503) + \n",
    "tuned_class1.score(X_traind502, y_traind502) + \n",
    "tuned_class1.score(X_traind501, y_traind501)) / 3"
   ]
  },
  {
   "cell_type": "markdown",
   "id": "a8b8cb20",
   "metadata": {},
   "source": [
    "## 20/80 Split"
   ]
  },
  {
   "cell_type": "code",
   "execution_count": 655,
   "id": "4a0ec710",
   "metadata": {},
   "outputs": [
    {
     "name": "stdout",
     "output_type": "stream",
     "text": [
      "training score for best hyperparameter 1.0\n",
      "test score for best hyperparameter 0.9166666666666666\n"
     ]
    },
    {
     "data": {
      "text/html": [
       "<style>#sk-container-id-81 {color: black;}#sk-container-id-81 pre{padding: 0;}#sk-container-id-81 div.sk-toggleable {background-color: white;}#sk-container-id-81 label.sk-toggleable__label {cursor: pointer;display: block;width: 100%;margin-bottom: 0;padding: 0.3em;box-sizing: border-box;text-align: center;}#sk-container-id-81 label.sk-toggleable__label-arrow:before {content: \"▸\";float: left;margin-right: 0.25em;color: #696969;}#sk-container-id-81 label.sk-toggleable__label-arrow:hover:before {color: black;}#sk-container-id-81 div.sk-estimator:hover label.sk-toggleable__label-arrow:before {color: black;}#sk-container-id-81 div.sk-toggleable__content {max-height: 0;max-width: 0;overflow: hidden;text-align: left;background-color: #f0f8ff;}#sk-container-id-81 div.sk-toggleable__content pre {margin: 0.2em;color: black;border-radius: 0.25em;background-color: #f0f8ff;}#sk-container-id-81 input.sk-toggleable__control:checked~div.sk-toggleable__content {max-height: 200px;max-width: 100%;overflow: auto;}#sk-container-id-81 input.sk-toggleable__control:checked~label.sk-toggleable__label-arrow:before {content: \"▾\";}#sk-container-id-81 div.sk-estimator input.sk-toggleable__control:checked~label.sk-toggleable__label {background-color: #d4ebff;}#sk-container-id-81 div.sk-label input.sk-toggleable__control:checked~label.sk-toggleable__label {background-color: #d4ebff;}#sk-container-id-81 input.sk-hidden--visually {border: 0;clip: rect(1px 1px 1px 1px);clip: rect(1px, 1px, 1px, 1px);height: 1px;margin: -1px;overflow: hidden;padding: 0;position: absolute;width: 1px;}#sk-container-id-81 div.sk-estimator {font-family: monospace;background-color: #f0f8ff;border: 1px dotted black;border-radius: 0.25em;box-sizing: border-box;margin-bottom: 0.5em;}#sk-container-id-81 div.sk-estimator:hover {background-color: #d4ebff;}#sk-container-id-81 div.sk-parallel-item::after {content: \"\";width: 100%;border-bottom: 1px solid gray;flex-grow: 1;}#sk-container-id-81 div.sk-label:hover label.sk-toggleable__label {background-color: #d4ebff;}#sk-container-id-81 div.sk-serial::before {content: \"\";position: absolute;border-left: 1px solid gray;box-sizing: border-box;top: 0;bottom: 0;left: 50%;z-index: 0;}#sk-container-id-81 div.sk-serial {display: flex;flex-direction: column;align-items: center;background-color: white;padding-right: 0.2em;padding-left: 0.2em;position: relative;}#sk-container-id-81 div.sk-item {position: relative;z-index: 1;}#sk-container-id-81 div.sk-parallel {display: flex;align-items: stretch;justify-content: center;background-color: white;position: relative;}#sk-container-id-81 div.sk-item::before, #sk-container-id-81 div.sk-parallel-item::before {content: \"\";position: absolute;border-left: 1px solid gray;box-sizing: border-box;top: 0;bottom: 0;left: 50%;z-index: -1;}#sk-container-id-81 div.sk-parallel-item {display: flex;flex-direction: column;z-index: 1;position: relative;background-color: white;}#sk-container-id-81 div.sk-parallel-item:first-child::after {align-self: flex-end;width: 50%;}#sk-container-id-81 div.sk-parallel-item:last-child::after {align-self: flex-start;width: 50%;}#sk-container-id-81 div.sk-parallel-item:only-child::after {width: 0;}#sk-container-id-81 div.sk-dashed-wrapped {border: 1px dashed gray;margin: 0 0.4em 0.5em 0.4em;box-sizing: border-box;padding-bottom: 0.4em;background-color: white;}#sk-container-id-81 div.sk-label label {font-family: monospace;font-weight: bold;display: inline-block;line-height: 1.2em;}#sk-container-id-81 div.sk-label-container {text-align: center;}#sk-container-id-81 div.sk-container {/* jupyter's `normalize.less` sets `[hidden] { display: none; }` but bootstrap.min.css set `[hidden] { display: none !important; }` so we also need the `!important` here to be able to override the default hidden behavior on the sphinx rendered scikit-learn.org. See: https://github.com/scikit-learn/scikit-learn/issues/21755 */display: inline-block !important;position: relative;}#sk-container-id-81 div.sk-text-repr-fallback {display: none;}</style><div id=\"sk-container-id-81\" class=\"sk-top-container\"><div class=\"sk-text-repr-fallback\"><pre>KNeighborsClassifier(n_neighbors=3)</pre><b>In a Jupyter environment, please rerun this cell to show the HTML representation or trust the notebook. <br />On GitHub, the HTML representation is unable to render, please try loading this page with nbviewer.org.</b></div><div class=\"sk-container\" hidden><div class=\"sk-item\"><div class=\"sk-estimator sk-toggleable\"><input class=\"sk-toggleable__control sk-hidden--visually\" id=\"sk-estimator-id-93\" type=\"checkbox\" checked><label for=\"sk-estimator-id-93\" class=\"sk-toggleable__label sk-toggleable__label-arrow\">KNeighborsClassifier</label><div class=\"sk-toggleable__content\"><pre>KNeighborsClassifier(n_neighbors=3)</pre></div></div></div></div></div>"
      ],
      "text/plain": [
       "KNeighborsClassifier(n_neighbors=3)"
      ]
     },
     "execution_count": 655,
     "metadata": {},
     "output_type": "execute_result"
    }
   ],
   "source": [
    "cc_shuffled_8 = cervical_cancer.sample(frac = 1).reset_index(drop = True)\n",
    "cc_X2080 = cc_shuffled_8[cc_shuffled_8.columns[:19]].to_numpy()\n",
    "cc_Y2080 = cc_shuffled_8[cc_shuffled_8.columns[19]].to_numpy()\n",
    "X_traind2080, X_testd2080, y_traind2080, y_testd2080 = train_test_split(cc_X2080, cc_Y2080, test_size = 0.8, random_state = 42)\n",
    "\n",
    "params = {'n_neighbors' : [3, 5, 6, 7]}\n",
    "\n",
    "# have to scale data you ran into an error\n",
    "\n",
    "# call classifier and get the best hyper parameter for this case - combinations of above params\n",
    "classify2 = KNeighborsClassifier(weights = 'uniform')\n",
    "class_hyper_tunedy2 = GridSearchCV(classify2, param_grid = params, cv = 3, return_train_score = True)\n",
    "class_hyper_tunedy2.fit(X_traind2080, y_traind2080)\n",
    "print(\"training score for best hyperparameter \" + str(class_hyper_tunedy2.cv_results_.get('mean_train_score')[0]))\n",
    "print(\"test score for best hyperparameter \" + str(class_hyper_tunedy2.cv_results_.get('mean_test_score')[0]))\n",
    "class_hyper_tunedy2.best_estimator_"
   ]
  },
  {
   "cell_type": "markdown",
   "id": "d1b184a9",
   "metadata": {},
   "source": [
    "#### Trial 1"
   ]
  },
  {
   "cell_type": "code",
   "execution_count": 657,
   "id": "a2930316",
   "metadata": {},
   "outputs": [
    {
     "data": {
      "text/plain": [
       "0.8275862068965517"
      ]
     },
     "execution_count": 657,
     "metadata": {},
     "output_type": "execute_result"
    }
   ],
   "source": [
    "tuned_class2 = KNeighborsClassifier(n_neighbors = 3, weights = 'uniform')\n",
    "tuned_class2.fit(X_traind2080, y_traind2080)\n",
    "tuned_class2.score(X_testd2080, y_testd2080)"
   ]
  },
  {
   "cell_type": "markdown",
   "id": "d362575b",
   "metadata": {},
   "source": [
    "#### Trial 2"
   ]
  },
  {
   "cell_type": "code",
   "execution_count": 658,
   "id": "9a5f4091",
   "metadata": {},
   "outputs": [
    {
     "data": {
      "text/plain": [
       "0.8448275862068966"
      ]
     },
     "execution_count": 658,
     "metadata": {},
     "output_type": "execute_result"
    }
   ],
   "source": [
    "cc_shuffled_9 = cervical_cancer.sample(frac = 1).reset_index(drop = True)\n",
    "cc_X20801 = cc_shuffled_9[cc_shuffled_9.columns[:19]].to_numpy()\n",
    "cc_Y20801 = cc_shuffled_9[cc_shuffled_9.columns[19]].to_numpy()\n",
    "X_traind20801, X_testd20801, y_traind20801, y_testd20801 = train_test_split(cc_X20801, cc_Y20801, test_size = 0.8, random_state = 42)\n",
    "\n",
    "tuned_class2.fit(X_traind20801, y_traind20801)\n",
    "tuned_class2.score(X_testd20801, y_testd20801)"
   ]
  },
  {
   "cell_type": "markdown",
   "id": "126f68bb",
   "metadata": {},
   "source": [
    "#### Trial 3"
   ]
  },
  {
   "cell_type": "code",
   "execution_count": 659,
   "id": "5f147dc1",
   "metadata": {},
   "outputs": [
    {
     "data": {
      "text/plain": [
       "0.6379310344827587"
      ]
     },
     "execution_count": 659,
     "metadata": {},
     "output_type": "execute_result"
    }
   ],
   "source": [
    "cc_shuffled_10 = cervical_cancer.sample(frac = 1).reset_index(drop = True)\n",
    "cc_X20802 = cc_shuffled_10[cc_shuffled_10.columns[:19]].to_numpy()\n",
    "cc_Y20802 = cc_shuffled_10[cc_shuffled_10.columns[19]].to_numpy()\n",
    "X_traind20802, X_testd20802, y_traind20802, y_testd20802 = train_test_split(cc_X20802, cc_Y20802, test_size = 0.8, random_state = 42)\n",
    "\n",
    "tuned_class2.fit(X_traind20802, y_traind20802)\n",
    "tuned_class2.score(X_testd20802, y_testd20802)"
   ]
  },
  {
   "cell_type": "code",
   "execution_count": 712,
   "id": "724eadb4",
   "metadata": {
    "scrolled": true
   },
   "outputs": [
    {
     "data": {
      "text/plain": [
       "0.7701149425287358"
      ]
     },
     "execution_count": 712,
     "metadata": {},
     "output_type": "execute_result"
    }
   ],
   "source": [
    "(0.8275862068965517 + 0.8448275862068966 + 0.6379310344827587) / 3"
   ]
  },
  {
   "cell_type": "code",
   "execution_count": 762,
   "id": "f76519c8",
   "metadata": {},
   "outputs": [
    {
     "data": {
      "text/plain": [
       "0.880952380952381"
      ]
     },
     "execution_count": 762,
     "metadata": {},
     "output_type": "execute_result"
    }
   ],
   "source": [
    "(tuned_class2.score(X_traind20802, y_traind20802) + \n",
    "tuned_class2.score(X_traind20801, y_traind20801) + \n",
    "tuned_class2.score(X_traind2080, y_traind2080)) / 3"
   ]
  },
  {
   "cell_type": "markdown",
   "id": "99e93611",
   "metadata": {},
   "source": [
    "# SVM with Cervical Cancer Data "
   ]
  },
  {
   "cell_type": "markdown",
   "id": "3b3ef44b",
   "metadata": {},
   "source": [
    "## 80/20 Split"
   ]
  },
  {
   "cell_type": "code",
   "execution_count": 611,
   "id": "00fc31bb",
   "metadata": {},
   "outputs": [
    {
     "name": "stdout",
     "output_type": "stream",
     "text": [
      "training score for best hyperparameter 0.8508771929824562\n",
      "test score for best hyperparameter 0.7543859649122807\n"
     ]
    },
    {
     "data": {
      "text/html": [
       "<style>#sk-container-id-71 {color: black;}#sk-container-id-71 pre{padding: 0;}#sk-container-id-71 div.sk-toggleable {background-color: white;}#sk-container-id-71 label.sk-toggleable__label {cursor: pointer;display: block;width: 100%;margin-bottom: 0;padding: 0.3em;box-sizing: border-box;text-align: center;}#sk-container-id-71 label.sk-toggleable__label-arrow:before {content: \"▸\";float: left;margin-right: 0.25em;color: #696969;}#sk-container-id-71 label.sk-toggleable__label-arrow:hover:before {color: black;}#sk-container-id-71 div.sk-estimator:hover label.sk-toggleable__label-arrow:before {color: black;}#sk-container-id-71 div.sk-toggleable__content {max-height: 0;max-width: 0;overflow: hidden;text-align: left;background-color: #f0f8ff;}#sk-container-id-71 div.sk-toggleable__content pre {margin: 0.2em;color: black;border-radius: 0.25em;background-color: #f0f8ff;}#sk-container-id-71 input.sk-toggleable__control:checked~div.sk-toggleable__content {max-height: 200px;max-width: 100%;overflow: auto;}#sk-container-id-71 input.sk-toggleable__control:checked~label.sk-toggleable__label-arrow:before {content: \"▾\";}#sk-container-id-71 div.sk-estimator input.sk-toggleable__control:checked~label.sk-toggleable__label {background-color: #d4ebff;}#sk-container-id-71 div.sk-label input.sk-toggleable__control:checked~label.sk-toggleable__label {background-color: #d4ebff;}#sk-container-id-71 input.sk-hidden--visually {border: 0;clip: rect(1px 1px 1px 1px);clip: rect(1px, 1px, 1px, 1px);height: 1px;margin: -1px;overflow: hidden;padding: 0;position: absolute;width: 1px;}#sk-container-id-71 div.sk-estimator {font-family: monospace;background-color: #f0f8ff;border: 1px dotted black;border-radius: 0.25em;box-sizing: border-box;margin-bottom: 0.5em;}#sk-container-id-71 div.sk-estimator:hover {background-color: #d4ebff;}#sk-container-id-71 div.sk-parallel-item::after {content: \"\";width: 100%;border-bottom: 1px solid gray;flex-grow: 1;}#sk-container-id-71 div.sk-label:hover label.sk-toggleable__label {background-color: #d4ebff;}#sk-container-id-71 div.sk-serial::before {content: \"\";position: absolute;border-left: 1px solid gray;box-sizing: border-box;top: 0;bottom: 0;left: 50%;z-index: 0;}#sk-container-id-71 div.sk-serial {display: flex;flex-direction: column;align-items: center;background-color: white;padding-right: 0.2em;padding-left: 0.2em;position: relative;}#sk-container-id-71 div.sk-item {position: relative;z-index: 1;}#sk-container-id-71 div.sk-parallel {display: flex;align-items: stretch;justify-content: center;background-color: white;position: relative;}#sk-container-id-71 div.sk-item::before, #sk-container-id-71 div.sk-parallel-item::before {content: \"\";position: absolute;border-left: 1px solid gray;box-sizing: border-box;top: 0;bottom: 0;left: 50%;z-index: -1;}#sk-container-id-71 div.sk-parallel-item {display: flex;flex-direction: column;z-index: 1;position: relative;background-color: white;}#sk-container-id-71 div.sk-parallel-item:first-child::after {align-self: flex-end;width: 50%;}#sk-container-id-71 div.sk-parallel-item:last-child::after {align-self: flex-start;width: 50%;}#sk-container-id-71 div.sk-parallel-item:only-child::after {width: 0;}#sk-container-id-71 div.sk-dashed-wrapped {border: 1px dashed gray;margin: 0 0.4em 0.5em 0.4em;box-sizing: border-box;padding-bottom: 0.4em;background-color: white;}#sk-container-id-71 div.sk-label label {font-family: monospace;font-weight: bold;display: inline-block;line-height: 1.2em;}#sk-container-id-71 div.sk-label-container {text-align: center;}#sk-container-id-71 div.sk-container {/* jupyter's `normalize.less` sets `[hidden] { display: none; }` but bootstrap.min.css set `[hidden] { display: none !important; }` so we also need the `!important` here to be able to override the default hidden behavior on the sphinx rendered scikit-learn.org. See: https://github.com/scikit-learn/scikit-learn/issues/21755 */display: inline-block !important;position: relative;}#sk-container-id-71 div.sk-text-repr-fallback {display: none;}</style><div id=\"sk-container-id-71\" class=\"sk-top-container\"><div class=\"sk-text-repr-fallback\"><pre>SVC(C=0.1, class_weight=&#x27;balanced&#x27;, kernel=&#x27;linear&#x27;)</pre><b>In a Jupyter environment, please rerun this cell to show the HTML representation or trust the notebook. <br />On GitHub, the HTML representation is unable to render, please try loading this page with nbviewer.org.</b></div><div class=\"sk-container\" hidden><div class=\"sk-item\"><div class=\"sk-estimator sk-toggleable\"><input class=\"sk-toggleable__control sk-hidden--visually\" id=\"sk-estimator-id-83\" type=\"checkbox\" checked><label for=\"sk-estimator-id-83\" class=\"sk-toggleable__label sk-toggleable__label-arrow\">SVC</label><div class=\"sk-toggleable__content\"><pre>SVC(C=0.1, class_weight=&#x27;balanced&#x27;, kernel=&#x27;linear&#x27;)</pre></div></div></div></div></div>"
      ],
      "text/plain": [
       "SVC(C=0.1, class_weight='balanced', kernel='linear')"
      ]
     },
     "execution_count": 611,
     "metadata": {},
     "output_type": "execute_result"
    }
   ],
   "source": [
    "cc_SVM = cervical_cancer.sample(frac = 1).reset_index(drop = True)\n",
    "cc_XSVM = cc_SVM[cc_SVM.columns[:19]].to_numpy()\n",
    "cc_YSVM = cc_SVM[cc_SVM.columns[19]].to_numpy()\n",
    "X_trainsvm, X_testsvm, y_trainsvm, y_testsvm = train_test_split(cc_XSVM, cc_YSVM, test_size=0.2, random_state=42)\n",
    "\n",
    "params = {'C': [0.001, 0.01, 0.1, 1], 'kernel':['linear', 'poly', 'sigmoid', \"rbf\"]}\n",
    "\n",
    "classifierSVM = SVC(class_weight = 'balanced')\n",
    "class_hyper_tuneSVM = GridSearchCV(classifierSVM, param_grid = params, cv = 3, return_train_score = True)\n",
    "class_hyper_tuneSVM.fit(X_trainsvm, y_trainsvm)\n",
    "print(\"training score for best hyperparameter \" + str(class_hyper_tuneSVM.cv_results_.get('mean_train_score')[0]))\n",
    "print(\"test score for best hyperparameter \" + str(class_hyper_tuneSVM.cv_results_.get('mean_test_score')[0]))\n",
    "class_hyper_tuneSVM.best_estimator_"
   ]
  },
  {
   "cell_type": "code",
   "execution_count": 612,
   "id": "b1798191",
   "metadata": {},
   "outputs": [],
   "source": [
    "#### Trial 1"
   ]
  },
  {
   "cell_type": "code",
   "execution_count": 613,
   "id": "c267c4b4",
   "metadata": {},
   "outputs": [
    {
     "data": {
      "text/plain": [
       "0.9333333333333333"
      ]
     },
     "execution_count": 613,
     "metadata": {},
     "output_type": "execute_result"
    }
   ],
   "source": [
    "tuned_param = SVC(class_weight = 'balanced', C = 0.1, kernel = 'linear')\n",
    "tuned_param.fit(X_trainsvm, y_trainsvm)\n",
    "tuned_param.score(X_testsvm, y_testsvm)"
   ]
  },
  {
   "cell_type": "code",
   "execution_count": 614,
   "id": "28a8c22b",
   "metadata": {},
   "outputs": [],
   "source": [
    "#### Trial 2"
   ]
  },
  {
   "cell_type": "code",
   "execution_count": 615,
   "id": "a634d176",
   "metadata": {},
   "outputs": [
    {
     "data": {
      "text/plain": [
       "0.7333333333333333"
      ]
     },
     "execution_count": 615,
     "metadata": {},
     "output_type": "execute_result"
    }
   ],
   "source": [
    "cc_SVM1 = cervical_cancer.sample(frac = 1).reset_index(drop = True)\n",
    "cc_XSVM1 = cc_SVM1[cc_SVM1.columns[:19]].to_numpy()\n",
    "cc_YSVM1 = cc_SVM1[cc_SVM1.columns[19]].to_numpy()\n",
    "X_trainsvm1, X_testsvm1, y_trainsvm1, y_testsvm1 = train_test_split(cc_XSVM1, cc_YSVM1, test_size=0.2, random_state=42)\n",
    "\n",
    "tuned_param.fit(X_trainsvm1, y_trainsvm1)\n",
    "tuned_param.score(X_testsvm1, y_testsvm1)"
   ]
  },
  {
   "cell_type": "code",
   "execution_count": 616,
   "id": "bfe12162",
   "metadata": {},
   "outputs": [],
   "source": [
    "#### Trial 3"
   ]
  },
  {
   "cell_type": "code",
   "execution_count": 617,
   "id": "20e0c22e",
   "metadata": {},
   "outputs": [
    {
     "data": {
      "text/plain": [
       "0.9333333333333333"
      ]
     },
     "execution_count": 617,
     "metadata": {},
     "output_type": "execute_result"
    }
   ],
   "source": [
    "cc_SVM2 = cervical_cancer.sample(frac = 1).reset_index(drop = True)\n",
    "cc_XSVM2 = cc_SVM2[cc_SVM2.columns[:19]].to_numpy()\n",
    "cc_YSVM2 = cc_SVM2[cc_SVM2.columns[19]].to_numpy()\n",
    "X_trainsvm2, X_testsvm2, y_trainsvm2, y_testsvm2 = train_test_split(cc_XSVM2, cc_YSVM2, test_size=0.2, random_state=42)\n",
    "\n",
    "tuned_param.fit(X_trainsvm2, y_trainsvm2)\n",
    "tuned_param.score(X_testsvm2, y_testsvm2)"
   ]
  },
  {
   "cell_type": "code",
   "execution_count": 713,
   "id": "fb68d69e",
   "metadata": {},
   "outputs": [
    {
     "data": {
      "text/plain": [
       "0.8666666666666666"
      ]
     },
     "execution_count": 713,
     "metadata": {},
     "output_type": "execute_result"
    }
   ],
   "source": [
    "(0.9333333333333333 + 0.7333333333333333 + 0.9333333333333333) / 3"
   ]
  },
  {
   "cell_type": "code",
   "execution_count": 763,
   "id": "1c743ac4",
   "metadata": {},
   "outputs": [
    {
     "data": {
      "text/plain": [
       "0.9883040935672515"
      ]
     },
     "execution_count": 763,
     "metadata": {},
     "output_type": "execute_result"
    }
   ],
   "source": [
    "(tuned_param.score(X_trainsvm2, y_trainsvm2) + \n",
    "tuned_param.score(X_trainsvm1, y_trainsvm1) + \n",
    "tuned_param.score(X_trainsvm, y_trainsvm)) / 3"
   ]
  },
  {
   "cell_type": "markdown",
   "id": "e176a6a7",
   "metadata": {},
   "source": [
    "## 50/50 Split"
   ]
  },
  {
   "cell_type": "code",
   "execution_count": 618,
   "id": "74e0b81b",
   "metadata": {},
   "outputs": [
    {
     "name": "stdout",
     "output_type": "stream",
     "text": [
      "training score for best hyperparameter 0.8055555555555555\n",
      "test score for best hyperparameter 0.75\n"
     ]
    },
    {
     "data": {
      "text/html": [
       "<style>#sk-container-id-72 {color: black;}#sk-container-id-72 pre{padding: 0;}#sk-container-id-72 div.sk-toggleable {background-color: white;}#sk-container-id-72 label.sk-toggleable__label {cursor: pointer;display: block;width: 100%;margin-bottom: 0;padding: 0.3em;box-sizing: border-box;text-align: center;}#sk-container-id-72 label.sk-toggleable__label-arrow:before {content: \"▸\";float: left;margin-right: 0.25em;color: #696969;}#sk-container-id-72 label.sk-toggleable__label-arrow:hover:before {color: black;}#sk-container-id-72 div.sk-estimator:hover label.sk-toggleable__label-arrow:before {color: black;}#sk-container-id-72 div.sk-toggleable__content {max-height: 0;max-width: 0;overflow: hidden;text-align: left;background-color: #f0f8ff;}#sk-container-id-72 div.sk-toggleable__content pre {margin: 0.2em;color: black;border-radius: 0.25em;background-color: #f0f8ff;}#sk-container-id-72 input.sk-toggleable__control:checked~div.sk-toggleable__content {max-height: 200px;max-width: 100%;overflow: auto;}#sk-container-id-72 input.sk-toggleable__control:checked~label.sk-toggleable__label-arrow:before {content: \"▾\";}#sk-container-id-72 div.sk-estimator input.sk-toggleable__control:checked~label.sk-toggleable__label {background-color: #d4ebff;}#sk-container-id-72 div.sk-label input.sk-toggleable__control:checked~label.sk-toggleable__label {background-color: #d4ebff;}#sk-container-id-72 input.sk-hidden--visually {border: 0;clip: rect(1px 1px 1px 1px);clip: rect(1px, 1px, 1px, 1px);height: 1px;margin: -1px;overflow: hidden;padding: 0;position: absolute;width: 1px;}#sk-container-id-72 div.sk-estimator {font-family: monospace;background-color: #f0f8ff;border: 1px dotted black;border-radius: 0.25em;box-sizing: border-box;margin-bottom: 0.5em;}#sk-container-id-72 div.sk-estimator:hover {background-color: #d4ebff;}#sk-container-id-72 div.sk-parallel-item::after {content: \"\";width: 100%;border-bottom: 1px solid gray;flex-grow: 1;}#sk-container-id-72 div.sk-label:hover label.sk-toggleable__label {background-color: #d4ebff;}#sk-container-id-72 div.sk-serial::before {content: \"\";position: absolute;border-left: 1px solid gray;box-sizing: border-box;top: 0;bottom: 0;left: 50%;z-index: 0;}#sk-container-id-72 div.sk-serial {display: flex;flex-direction: column;align-items: center;background-color: white;padding-right: 0.2em;padding-left: 0.2em;position: relative;}#sk-container-id-72 div.sk-item {position: relative;z-index: 1;}#sk-container-id-72 div.sk-parallel {display: flex;align-items: stretch;justify-content: center;background-color: white;position: relative;}#sk-container-id-72 div.sk-item::before, #sk-container-id-72 div.sk-parallel-item::before {content: \"\";position: absolute;border-left: 1px solid gray;box-sizing: border-box;top: 0;bottom: 0;left: 50%;z-index: -1;}#sk-container-id-72 div.sk-parallel-item {display: flex;flex-direction: column;z-index: 1;position: relative;background-color: white;}#sk-container-id-72 div.sk-parallel-item:first-child::after {align-self: flex-end;width: 50%;}#sk-container-id-72 div.sk-parallel-item:last-child::after {align-self: flex-start;width: 50%;}#sk-container-id-72 div.sk-parallel-item:only-child::after {width: 0;}#sk-container-id-72 div.sk-dashed-wrapped {border: 1px dashed gray;margin: 0 0.4em 0.5em 0.4em;box-sizing: border-box;padding-bottom: 0.4em;background-color: white;}#sk-container-id-72 div.sk-label label {font-family: monospace;font-weight: bold;display: inline-block;line-height: 1.2em;}#sk-container-id-72 div.sk-label-container {text-align: center;}#sk-container-id-72 div.sk-container {/* jupyter's `normalize.less` sets `[hidden] { display: none; }` but bootstrap.min.css set `[hidden] { display: none !important; }` so we also need the `!important` here to be able to override the default hidden behavior on the sphinx rendered scikit-learn.org. See: https://github.com/scikit-learn/scikit-learn/issues/21755 */display: inline-block !important;position: relative;}#sk-container-id-72 div.sk-text-repr-fallback {display: none;}</style><div id=\"sk-container-id-72\" class=\"sk-top-container\"><div class=\"sk-text-repr-fallback\"><pre>SVC(C=0.01, class_weight=&#x27;balanced&#x27;, kernel=&#x27;linear&#x27;)</pre><b>In a Jupyter environment, please rerun this cell to show the HTML representation or trust the notebook. <br />On GitHub, the HTML representation is unable to render, please try loading this page with nbviewer.org.</b></div><div class=\"sk-container\" hidden><div class=\"sk-item\"><div class=\"sk-estimator sk-toggleable\"><input class=\"sk-toggleable__control sk-hidden--visually\" id=\"sk-estimator-id-84\" type=\"checkbox\" checked><label for=\"sk-estimator-id-84\" class=\"sk-toggleable__label sk-toggleable__label-arrow\">SVC</label><div class=\"sk-toggleable__content\"><pre>SVC(C=0.01, class_weight=&#x27;balanced&#x27;, kernel=&#x27;linear&#x27;)</pre></div></div></div></div></div>"
      ],
      "text/plain": [
       "SVC(C=0.01, class_weight='balanced', kernel='linear')"
      ]
     },
     "execution_count": 618,
     "metadata": {},
     "output_type": "execute_result"
    }
   ],
   "source": [
    "cc_SVM50 = cervical_cancer.sample(frac = 1).reset_index(drop = True)\n",
    "cc_XSVM50 = cc_SVM50[cc_SVM50.columns[:19]].to_numpy()\n",
    "cc_YSVM50 = cc_SVM50[cc_SVM50.columns[19]].to_numpy()\n",
    "X_trainsvm50, X_testsvm50, y_trainsvm50, y_testsvm50 = train_test_split(cc_XSVM50, cc_YSVM50, test_size=0.5, random_state=42)\n",
    "\n",
    "params = {'C': [0.001, 0.01, 0.1, 1], 'kernel':['linear', 'poly', 'sigmoid', \"rbf\"]}\n",
    "\n",
    "classifierSVM50 = SVC(class_weight = 'balanced')\n",
    "class_hyper_tuneSVM50 = GridSearchCV(classifierSVM50, param_grid = params, cv = 3, return_train_score = True)\n",
    "class_hyper_tuneSVM50.fit(X_trainsvm50, y_trainsvm50)\n",
    "print(\"training score for best hyperparameter \" + str(class_hyper_tuneSVM50.cv_results_.get('mean_train_score')[0]))\n",
    "print(\"test score for best hyperparameter \" + str(class_hyper_tuneSVM50.cv_results_.get('mean_test_score')[0]))\n",
    "class_hyper_tuneSVM50.best_estimator_"
   ]
  },
  {
   "cell_type": "code",
   "execution_count": 619,
   "id": "52d130e8",
   "metadata": {},
   "outputs": [],
   "source": [
    "#### Trial 1"
   ]
  },
  {
   "cell_type": "code",
   "execution_count": 620,
   "id": "27103492",
   "metadata": {},
   "outputs": [
    {
     "data": {
      "text/plain": [
       "0.8888888888888888"
      ]
     },
     "execution_count": 620,
     "metadata": {},
     "output_type": "execute_result"
    }
   ],
   "source": [
    "tuned_param1 = SVC(class_weight = 'balanced', C = 0.01, kernel = 'linear')\n",
    "tuned_param1.fit(X_trainsvm50, y_trainsvm50)\n",
    "scored = tuned_param1.score(X_testsvm50, y_testsvm50)\n",
    "scored"
   ]
  },
  {
   "cell_type": "code",
   "execution_count": 621,
   "id": "589e0ba1",
   "metadata": {},
   "outputs": [],
   "source": [
    "#### Trial 2"
   ]
  },
  {
   "cell_type": "code",
   "execution_count": 622,
   "id": "f3e74f7e",
   "metadata": {},
   "outputs": [
    {
     "data": {
      "text/plain": [
       "0.8888888888888888"
      ]
     },
     "execution_count": 622,
     "metadata": {},
     "output_type": "execute_result"
    }
   ],
   "source": [
    "cc_SVM501 = cervical_cancer.sample(frac = 1).reset_index(drop = True)\n",
    "cc_XSVM501 = cc_SVM501[cc_SVM501.columns[:19]].to_numpy()\n",
    "cc_YSVM501 = cc_SVM501[cc_SVM501.columns[19]].to_numpy()\n",
    "X_trainsvm501, X_testsvm501, y_trainsvm501, y_testsvm501 = train_test_split(cc_XSVM501, cc_YSVM501, test_size=0.5, random_state=42)\n",
    "\n",
    "tuned_param1.fit(X_trainsvm501, y_trainsvm501)\n",
    "scored1 = tuned_param1.score(X_testsvm501, y_testsvm501)\n",
    "scored1"
   ]
  },
  {
   "cell_type": "code",
   "execution_count": 623,
   "id": "cbe69b26",
   "metadata": {},
   "outputs": [],
   "source": [
    "#### Trial 3"
   ]
  },
  {
   "cell_type": "code",
   "execution_count": 624,
   "id": "c130de4a",
   "metadata": {},
   "outputs": [
    {
     "data": {
      "text/plain": [
       "0.8888888888888888"
      ]
     },
     "execution_count": 624,
     "metadata": {},
     "output_type": "execute_result"
    }
   ],
   "source": [
    "cc_SVM502 = cervical_cancer.sample(frac = 1).reset_index(drop = True)\n",
    "cc_XSVM502 = cc_SVM50[cc_SVM50.columns[:19]].to_numpy()\n",
    "cc_YSVM502 = cc_SVM50[cc_SVM50.columns[19]].to_numpy()\n",
    "X_trainsvm502, X_testsvm502, y_trainsvm502, y_testsvm502 = train_test_split(cc_XSVM502, cc_YSVM502, test_size=0.5, random_state=42)\n",
    "\n",
    "tuned_param1.fit(X_trainsvm502, y_trainsvm502)\n",
    "scored2 = tuned_param1.score(X_testsvm502, y_testsvm502)\n",
    "scored2"
   ]
  },
  {
   "cell_type": "code",
   "execution_count": 765,
   "id": "451dadc8",
   "metadata": {},
   "outputs": [
    {
     "data": {
      "text/plain": [
       "0.8888888888888888"
      ]
     },
     "execution_count": 765,
     "metadata": {},
     "output_type": "execute_result"
    }
   ],
   "source": [
    "(scored + scored1 + scored2) / 3"
   ]
  },
  {
   "cell_type": "code",
   "execution_count": 767,
   "id": "f6c6bb72",
   "metadata": {},
   "outputs": [
    {
     "name": "stdout",
     "output_type": "stream",
     "text": [
      "1.0\n",
      "0.9722222222222222\n",
      "1.0\n"
     ]
    }
   ],
   "source": [
    "tuned_param1.fit(X_trainsvm502, y_trainsvm502)\n",
    "print(tuned_param1.score(X_trainsvm502, y_trainsvm502))\n",
    "tuned_param1.fit(X_trainsvm501, y_trainsvm501)\n",
    "print(tuned_param1.score(X_trainsvm501, y_trainsvm501))\n",
    "tuned_param1.fit(X_trainsvm50, y_trainsvm50)\n",
    "print(tuned_param1.score(X_trainsvm50, y_trainsvm50))"
   ]
  },
  {
   "cell_type": "code",
   "execution_count": 764,
   "id": "dcb3983d",
   "metadata": {},
   "outputs": [
    {
     "data": {
      "text/plain": [
       "0.9814814814814815"
      ]
     },
     "execution_count": 764,
     "metadata": {},
     "output_type": "execute_result"
    }
   ],
   "source": [
    "(tuned_param1.score(X_trainsvm502, y_trainsvm502) + \n",
    "tuned_param1.score(X_trainsvm501, y_trainsvm501) + \n",
    "tuned_param1.score(X_trainsvm50, y_trainsvm50)\n",
    ") / 3"
   ]
  },
  {
   "cell_type": "markdown",
   "id": "79691dc0",
   "metadata": {},
   "source": [
    "## 20/80 Split"
   ]
  },
  {
   "cell_type": "code",
   "execution_count": 626,
   "id": "7631d1d9",
   "metadata": {},
   "outputs": [
    {
     "name": "stdout",
     "output_type": "stream",
     "text": [
      "training score for best hyperparameter 0.8925925925925925\n",
      "test score for best hyperparameter 0.6333333333333333\n"
     ]
    },
    {
     "data": {
      "text/html": [
       "<style>#sk-container-id-73 {color: black;}#sk-container-id-73 pre{padding: 0;}#sk-container-id-73 div.sk-toggleable {background-color: white;}#sk-container-id-73 label.sk-toggleable__label {cursor: pointer;display: block;width: 100%;margin-bottom: 0;padding: 0.3em;box-sizing: border-box;text-align: center;}#sk-container-id-73 label.sk-toggleable__label-arrow:before {content: \"▸\";float: left;margin-right: 0.25em;color: #696969;}#sk-container-id-73 label.sk-toggleable__label-arrow:hover:before {color: black;}#sk-container-id-73 div.sk-estimator:hover label.sk-toggleable__label-arrow:before {color: black;}#sk-container-id-73 div.sk-toggleable__content {max-height: 0;max-width: 0;overflow: hidden;text-align: left;background-color: #f0f8ff;}#sk-container-id-73 div.sk-toggleable__content pre {margin: 0.2em;color: black;border-radius: 0.25em;background-color: #f0f8ff;}#sk-container-id-73 input.sk-toggleable__control:checked~div.sk-toggleable__content {max-height: 200px;max-width: 100%;overflow: auto;}#sk-container-id-73 input.sk-toggleable__control:checked~label.sk-toggleable__label-arrow:before {content: \"▾\";}#sk-container-id-73 div.sk-estimator input.sk-toggleable__control:checked~label.sk-toggleable__label {background-color: #d4ebff;}#sk-container-id-73 div.sk-label input.sk-toggleable__control:checked~label.sk-toggleable__label {background-color: #d4ebff;}#sk-container-id-73 input.sk-hidden--visually {border: 0;clip: rect(1px 1px 1px 1px);clip: rect(1px, 1px, 1px, 1px);height: 1px;margin: -1px;overflow: hidden;padding: 0;position: absolute;width: 1px;}#sk-container-id-73 div.sk-estimator {font-family: monospace;background-color: #f0f8ff;border: 1px dotted black;border-radius: 0.25em;box-sizing: border-box;margin-bottom: 0.5em;}#sk-container-id-73 div.sk-estimator:hover {background-color: #d4ebff;}#sk-container-id-73 div.sk-parallel-item::after {content: \"\";width: 100%;border-bottom: 1px solid gray;flex-grow: 1;}#sk-container-id-73 div.sk-label:hover label.sk-toggleable__label {background-color: #d4ebff;}#sk-container-id-73 div.sk-serial::before {content: \"\";position: absolute;border-left: 1px solid gray;box-sizing: border-box;top: 0;bottom: 0;left: 50%;z-index: 0;}#sk-container-id-73 div.sk-serial {display: flex;flex-direction: column;align-items: center;background-color: white;padding-right: 0.2em;padding-left: 0.2em;position: relative;}#sk-container-id-73 div.sk-item {position: relative;z-index: 1;}#sk-container-id-73 div.sk-parallel {display: flex;align-items: stretch;justify-content: center;background-color: white;position: relative;}#sk-container-id-73 div.sk-item::before, #sk-container-id-73 div.sk-parallel-item::before {content: \"\";position: absolute;border-left: 1px solid gray;box-sizing: border-box;top: 0;bottom: 0;left: 50%;z-index: -1;}#sk-container-id-73 div.sk-parallel-item {display: flex;flex-direction: column;z-index: 1;position: relative;background-color: white;}#sk-container-id-73 div.sk-parallel-item:first-child::after {align-self: flex-end;width: 50%;}#sk-container-id-73 div.sk-parallel-item:last-child::after {align-self: flex-start;width: 50%;}#sk-container-id-73 div.sk-parallel-item:only-child::after {width: 0;}#sk-container-id-73 div.sk-dashed-wrapped {border: 1px dashed gray;margin: 0 0.4em 0.5em 0.4em;box-sizing: border-box;padding-bottom: 0.4em;background-color: white;}#sk-container-id-73 div.sk-label label {font-family: monospace;font-weight: bold;display: inline-block;line-height: 1.2em;}#sk-container-id-73 div.sk-label-container {text-align: center;}#sk-container-id-73 div.sk-container {/* jupyter's `normalize.less` sets `[hidden] { display: none; }` but bootstrap.min.css set `[hidden] { display: none !important; }` so we also need the `!important` here to be able to override the default hidden behavior on the sphinx rendered scikit-learn.org. See: https://github.com/scikit-learn/scikit-learn/issues/21755 */display: inline-block !important;position: relative;}#sk-container-id-73 div.sk-text-repr-fallback {display: none;}</style><div id=\"sk-container-id-73\" class=\"sk-top-container\"><div class=\"sk-text-repr-fallback\"><pre>SVC(C=0.01, class_weight=&#x27;balanced&#x27;, kernel=&#x27;poly&#x27;)</pre><b>In a Jupyter environment, please rerun this cell to show the HTML representation or trust the notebook. <br />On GitHub, the HTML representation is unable to render, please try loading this page with nbviewer.org.</b></div><div class=\"sk-container\" hidden><div class=\"sk-item\"><div class=\"sk-estimator sk-toggleable\"><input class=\"sk-toggleable__control sk-hidden--visually\" id=\"sk-estimator-id-85\" type=\"checkbox\" checked><label for=\"sk-estimator-id-85\" class=\"sk-toggleable__label sk-toggleable__label-arrow\">SVC</label><div class=\"sk-toggleable__content\"><pre>SVC(C=0.01, class_weight=&#x27;balanced&#x27;, kernel=&#x27;poly&#x27;)</pre></div></div></div></div></div>"
      ],
      "text/plain": [
       "SVC(C=0.01, class_weight='balanced', kernel='poly')"
      ]
     },
     "execution_count": 626,
     "metadata": {},
     "output_type": "execute_result"
    }
   ],
   "source": [
    "cc_SVM80 = cervical_cancer.sample(frac = 1).reset_index(drop = True)\n",
    "cc_XSVM80 = cc_SVM80[cc_SVM80.columns[:19]].to_numpy()\n",
    "cc_YSVM80 = cc_SVM80[cc_SVM80.columns[19]].to_numpy()\n",
    "X_trainsvm80, X_testsvm80, y_trainsvm80, y_testsvm80 = train_test_split(cc_XSVM80, cc_YSVM80, test_size=0.8, random_state=42)\n",
    "\n",
    "params = {'C': [0.001, 0.01, 0.1, 1], 'kernel':['linear', 'poly', 'sigmoid', \"rbf\"]}\n",
    "\n",
    "classifierSVM80 = SVC(class_weight = 'balanced')\n",
    "class_hyper_tuneSVM80 = GridSearchCV(classifierSVM80, param_grid = params, cv = 3, return_train_score = True)\n",
    "class_hyper_tuneSVM80.fit(X_trainsvm80, y_trainsvm80)\n",
    "print(\"training score for best hyperparameter \" + str(class_hyper_tuneSVM80.cv_results_.get('mean_train_score')[0]))\n",
    "print(\"test score for best hyperparameter \" + str(class_hyper_tuneSVM80.cv_results_.get('mean_test_score')[0]))\n",
    "class_hyper_tuneSVM80.best_estimator_"
   ]
  },
  {
   "cell_type": "code",
   "execution_count": null,
   "id": "58755745",
   "metadata": {},
   "outputs": [],
   "source": [
    "#### Trial 1"
   ]
  },
  {
   "cell_type": "code",
   "execution_count": 627,
   "id": "1b2dad44",
   "metadata": {},
   "outputs": [
    {
     "data": {
      "text/plain": [
       "0.8103448275862069"
      ]
     },
     "execution_count": 627,
     "metadata": {},
     "output_type": "execute_result"
    }
   ],
   "source": [
    "tuned_8020 = SVC(class_weight = 'balanced', C = 0.01, kernel = 'poly')\n",
    "tuned_8020.fit(X_trainsvm80, y_trainsvm80)\n",
    "tuned_8020.score(X_testsvm80, y_testsvm80)"
   ]
  },
  {
   "cell_type": "code",
   "execution_count": 628,
   "id": "570d567a",
   "metadata": {},
   "outputs": [],
   "source": [
    "#### Trial 2"
   ]
  },
  {
   "cell_type": "code",
   "execution_count": 629,
   "id": "22f676d1",
   "metadata": {},
   "outputs": [
    {
     "data": {
      "text/plain": [
       "0.6724137931034483"
      ]
     },
     "execution_count": 629,
     "metadata": {},
     "output_type": "execute_result"
    }
   ],
   "source": [
    "cc_SVM801 = cervical_cancer.sample(frac = 1).reset_index(drop = True)\n",
    "cc_XSVM801 = cc_SVM801[cc_SVM801.columns[:19]].to_numpy()\n",
    "cc_YSVM801 = cc_SVM801[cc_SVM801.columns[19]].to_numpy()\n",
    "X_trainsvm801, X_testsvm801, y_trainsvm801, y_testsvm801 = train_test_split(cc_XSVM801, cc_YSVM801, test_size=0.8, random_state=42)\n",
    "\n",
    "tuned_8020.fit(X_trainsvm801, y_trainsvm801)\n",
    "tuned_8020.score(X_testsvm801, y_testsvm801)"
   ]
  },
  {
   "cell_type": "code",
   "execution_count": null,
   "id": "4995ce40",
   "metadata": {},
   "outputs": [],
   "source": [
    "#### Trial 3"
   ]
  },
  {
   "cell_type": "code",
   "execution_count": 769,
   "id": "28b5eac5",
   "metadata": {},
   "outputs": [
    {
     "data": {
      "text/plain": [
       "0.7068965517241379"
      ]
     },
     "execution_count": 769,
     "metadata": {},
     "output_type": "execute_result"
    }
   ],
   "source": [
    "cc_SVM802 = cervical_cancer.sample(frac = 1).reset_index(drop = True)\n",
    "cc_XSVM802 = cc_SVM802[cc_SVM802.columns[:19]].to_numpy()\n",
    "cc_YSVM802 = cc_SVM802[cc_SVM802.columns[19]].to_numpy()\n",
    "X_trainsvm802, X_testsvm802, y_trainsvm802, y_testsvm802 = train_test_split(cc_XSVM802, cc_YSVM802, test_size=0.8, random_state=42)\n",
    "\n",
    "tuned_8020.fit(X_trainsvm802, y_trainsvm802)\n",
    "tuned_8020.score(X_testsvm802, y_testsvm802)"
   ]
  },
  {
   "cell_type": "code",
   "execution_count": 770,
   "id": "401ccfd2",
   "metadata": {},
   "outputs": [
    {
     "data": {
      "text/plain": [
       "0.7011494252873564"
      ]
     },
     "execution_count": 770,
     "metadata": {},
     "output_type": "execute_result"
    }
   ],
   "source": [
    "(0.8103448275862069 + 0.6724137931034483 + 0.6206896551724138) / 3"
   ]
  },
  {
   "cell_type": "code",
   "execution_count": 772,
   "id": "9c759549",
   "metadata": {},
   "outputs": [
    {
     "data": {
      "text/plain": [
       "0.9761904761904763"
      ]
     },
     "execution_count": 772,
     "metadata": {},
     "output_type": "execute_result"
    }
   ],
   "source": [
    "(tuned_8020.score(X_trainsvm802, y_trainsvm802) + \n",
    "tuned_8020.score(X_trainsvm80, y_trainsvm80) + \n",
    "tuned_8020.score(X_trainsvm801, y_trainsvm801)) / 3"
   ]
  },
  {
   "cell_type": "code",
   "execution_count": null,
   "id": "5e77c1bb",
   "metadata": {},
   "outputs": [],
   "source": []
  }
 ],
 "metadata": {
  "kernelspec": {
   "display_name": "Python 3 (ipykernel)",
   "language": "python",
   "name": "python3"
  },
  "language_info": {
   "codemirror_mode": {
    "name": "ipython",
    "version": 3
   },
   "file_extension": ".py",
   "mimetype": "text/x-python",
   "name": "python",
   "nbconvert_exporter": "python",
   "pygments_lexer": "ipython3",
   "version": "3.9.12"
  }
 },
 "nbformat": 4,
 "nbformat_minor": 5
}
